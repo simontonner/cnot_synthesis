{
 "cells": [
  {
   "cell_type": "markdown",
   "metadata": {
    "pycharm": {
     "name": "#%% md\n"
    }
   },
   "source": [
    "# BENCHMARK ALGORITHMS"
   ]
  },
  {
   "cell_type": "markdown",
   "source": [
    "### PARAMETERS"
   ],
   "metadata": {
    "collapsed": false,
    "pycharm": {
     "name": "#%% md\n"
    }
   }
  },
  {
   "cell_type": "code",
   "execution_count": 8,
   "outputs": [],
   "source": [
    "num_mat = 5\n",
    "mat_size = 500\n",
    "input_directory = \"resources\\input_matrices\"\n",
    "file_prefix = \"SingMat\"\n",
    "benchmark_run = 1"
   ],
   "metadata": {
    "collapsed": false,
    "pycharm": {
     "name": "#%%\n"
    }
   }
  },
  {
   "cell_type": "markdown",
   "source": [
    "Generate some matrices and save them to files."
   ],
   "metadata": {
    "collapsed": false,
    "pycharm": {
     "name": "#%% md\n"
    }
   }
  },
  {
   "cell_type": "code",
   "execution_count": 12,
   "metadata": {
    "pycharm": {
     "name": "#%%\n"
    }
   },
   "outputs": [
    {
     "name": "stdout",
     "output_type": "stream",
     "text": [
      "Generating 5 singular matrices of size 500 ...\n",
      "Saved 5 matrices of size 500 in 'resources\\input_matrices'.\n"
     ]
    }
   ],
   "source": [
    "import time as ti\n",
    "import src.input.matrix_gen as gen\n",
    "\n",
    "print(f\"Generating {num_mat} singular matrices of size {mat_size} ...\")\n",
    "\n",
    "for i in range(1, num_mat+1):\n",
    "\n",
    "    start_time = ti.time()\n",
    "    mat = gen.non_singular_matrix(mat_size)\n",
    "    end_time = ti.time()\n",
    "\n",
    "    generation_time = end_time - start_time\n",
    "\n",
    "    input_file_name = f\"..\\{input_directory}\\{file_prefix}_{mat_size}_{i}.txt\"\n",
    "\n",
    "    file = open(input_file_name, \"w\")\n",
    "\n",
    "    file.write(f\"Matrix size: {mat_size}\\n\")\n",
    "    file.write(f\"Generation time (seconds): {generation_time}\\n\")\n",
    "\n",
    "    for row in mat:\n",
    "        file.write(f\"{row}\\n\")\n",
    "\n",
    "    file.close()\n",
    "\n",
    "print(f\"Saved {num_mat} matrices of size {mat_size} in '{input_directory}'.\")"
   ]
  },
  {
   "cell_type": "markdown",
   "source": [
    "Get relevant files and sort them."
   ],
   "metadata": {
    "collapsed": false,
    "pycharm": {
     "name": "#%% md\n"
    }
   }
  },
  {
   "cell_type": "code",
   "execution_count": 14,
   "outputs": [
    {
     "name": "stdout",
     "output_type": "stream",
     "text": [
      "['SingMat_500_1.txt', 'SingMat_500_2.txt', 'SingMat_500_3.txt', 'SingMat_500_4.txt', 'SingMat_500_5.txt']\n"
     ]
    }
   ],
   "source": [
    "import src.benchmarking.data_import as imp\n",
    "\n",
    "files = imp.get_txt_files(f\"..\\{input_directory}\", f\"{file_prefix}_\")\n",
    "files.sort(key = lambda file_name: imp.extract_numbers(file_name, r'_\\d+_', r'_\\d+\\.'))\n",
    "\n",
    "print(files)"
   ],
   "metadata": {
    "collapsed": false,
    "pycharm": {
     "name": "#%%\n"
    }
   }
  },
  {
   "cell_type": "markdown",
   "source": [
    "Read each file into a matrix, perform a benchmark and add the result to a file.\n"
   ],
   "metadata": {
    "collapsed": false,
    "pycharm": {
     "name": "#%% md\n"
    }
   }
  },
  {
   "cell_type": "code",
   "execution_count": 15,
   "outputs": [
    {
     "name": "stdout",
     "output_type": "stream",
     "text": [
      "Benchmarking for section size 5\n",
      "Benchmarking for section size 6\n",
      "Benchmarking for section size 5\n",
      "Benchmarking for section size 6\n",
      "Benchmarking for section size 5\n",
      "Benchmarking for section size 6\n",
      "Benchmarking for section size 5\n",
      "Benchmarking for section size 6\n",
      "Benchmarking for section size 5\n",
      "Benchmarking for section size 6\n",
      "benchmark done\n"
     ]
    }
   ],
   "source": [
    "import src.input.bitfields as bitf\n",
    "import src.algorithm.vanilla.cnot_synthesis_vanilla as vanilla\n",
    "from copy import deepcopy\n",
    "\n",
    "import csv\n",
    "\n",
    "fieldnames = ['size', 'run', 'normal_time', 'optimized_time']\n",
    "\n",
    "with open(rf'..\\resources\\benchmark_vanilla_{benchmark_run}.csv', mode='w', newline='') as benchmark_file:\n",
    "    writer = csv.DictWriter(benchmark_file, fieldnames=fieldnames)\n",
    "    writer.writeheader()\n",
    "\n",
    "for file in files:\n",
    "\n",
    "    size, run = imp.extract_numbers(file, r'_\\d+_', r'_\\d+\\.')\n",
    "\n",
    "    with open(rf\"..\\{input_directory}\\{files[0]}\", 'r') as input_file:\n",
    "        lines = input_file.read().splitlines()\n",
    "\n",
    "    matrix_norm = []\n",
    "    for line in lines[2:]:\n",
    "        row = bitf.to_bitfield(int(line), size)\n",
    "        matrix_norm.append(row)\n",
    "\n",
    "    matrix_opt = deepcopy(matrix_norm)\n",
    "\n",
    "    print(\"Benchmarking for section size 5\")\n",
    "    start_time_norm = ti.time()\n",
    "    _, circuit = vanilla.cnot_synthesis(matrix_norm, size, 5)\n",
    "    end_time_norm = ti.time()\n",
    "    benchmark_time_norm = end_time_norm - start_time_norm\n",
    "\n",
    "    print(\"Benchmarking for section size 6\")\n",
    "    start_time_opt = ti.time()\n",
    "    _, circuit = vanilla.cnot_synthesis(matrix_opt, size, 6)\n",
    "    end_time_opt = ti.time()\n",
    "    benchmark_time_opt = end_time_opt - start_time_opt\n",
    "\n",
    "    with open(rf'..\\resources\\benchmark_vanilla_{benchmark_run}.csv', mode='a', newline='') as benchmark_file:\n",
    "        writer = csv.DictWriter(benchmark_file, fieldnames=fieldnames)\n",
    "        writer.writerow({'size': size, 'run': run, 'normal_time': benchmark_time_norm, 'optimized_time': benchmark_time_opt})\n",
    "\n",
    "    #output_file_name = rf\"..\\resources\\benchmark_vanilla_{benchmark_run}.txt\"\n",
    "\n",
    "    #file = open(output_file_name, \"a\")\n",
    "    #file.write(f\"size: {size}, run: {run}, normal_time: {benchmark_time_norm}, optimized_time: {benchmark_time_opt}\\n\")\n",
    "    #file.close()\n",
    "\n",
    "print(\"benchmark done\")\n"
   ],
   "metadata": {
    "collapsed": false,
    "pycharm": {
     "name": "#%%\n"
    }
   }
  },
  {
   "cell_type": "code",
   "execution_count": null,
   "metadata": {},
   "outputs": [],
   "source": []
  }
 ],
 "metadata": {
  "kernelspec": {
   "display_name": "Python 3",
   "language": "python",
   "name": "python3"
  },
  "language_info": {
   "codemirror_mode": {
    "name": "ipython",
    "version": 3
   },
   "file_extension": ".py",
   "mimetype": "text/x-python",
   "name": "python",
   "nbconvert_exporter": "python",
   "pygments_lexer": "ipython3",
   "version": "3.8.5"
  }
 },
 "nbformat": 4,
 "nbformat_minor": 1
}
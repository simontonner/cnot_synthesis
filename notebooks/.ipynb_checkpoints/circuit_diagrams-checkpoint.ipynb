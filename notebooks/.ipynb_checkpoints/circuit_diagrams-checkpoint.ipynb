{
 "cells": [
  {
   "cell_type": "markdown",
   "metadata": {
    "collapsed": true,
    "pycharm": {
     "name": "#%% md\n"
    }
   },
   "source": [
    "# DIAGRAM GENERATION\n",
    "\n",
    "This notebook serves as first test of the synthesis algorithm. Small circuits are generated and saved to files. The\n",
    "files are then read and converted into matrices.\n",
    "\n",
    "Those matrices are then fed into the synthesis algorithm which synthesises an output circuit. The resulting output\n",
    "circuit is expected to be shorter than the input circuit.\n",
    "\n",
    "For both the input and the output circuit a diagram is generated.\n",
    "\n",
    "If a non-singular matrix would be generated directly, there would be no possibility to know the number of gates of the\n",
    "input circuit."
   ]
  },
  {
   "cell_type": "code",
   "execution_count": 9,
   "metadata": {
    "pycharm": {
     "name": "#%%\n"
    }
   },
   "outputs": [
    {
     "name": "stdout",
     "output_type": "stream",
     "text": [
      "There are 12 threads available on this machine.\n"
     ]
    }
   ],
   "source": [
    "from multiprocessing import Pool, cpu_count\n",
    "import numpy as np\n",
    "from src.input.write_files import write_circuit_file\n",
    "\n",
    "print(f'There are {cpu_count()} threads available on this machine.')"
   ]
  },
  {
   "cell_type": "code",
   "execution_count": 10,
   "metadata": {
    "pycharm": {
     "name": "#%%\n"
    }
   },
   "outputs": [],
   "source": [
    "size_num_gates_pairs = np.array([(4, 6), (6, 8), (6, 13)])\n",
    "\n",
    "input_gen_processors = 1\n",
    "\n",
    "input_dir = r'resources\\circuit_diagrams\\input_circuits'\n",
    "input_file_prefix = 'Circuit'\n",
    "\n",
    "\n",
    "\n",
    "\n",
    "benchmark_processors = 10\n",
    "\n",
    "output_dir = r'resources\\runtime_performance'\n",
    "output_file_prefix = 'RuntimePerformance'\n",
    "\n",
    "output_file_fieldnames = ['size', 'run', 'sec_size', 'num_gates', 'process_time', 'initial_rss', 'final_rss']\n",
    "\n"
   ]
  },
  {
   "cell_type": "code",
   "execution_count": 11,
   "metadata": {
    "pycharm": {
     "name": "#%%\n"
    }
   },
   "outputs": [
    {
     "name": "stdout",
     "output_type": "stream",
     "text": [
      "(4, 6, '..\\\\resources\\\\circuit_diagrams\\\\input_circuits\\\\Circuit_4_6.txt')\n",
      "(6, 8, '..\\\\resources\\\\circuit_diagrams\\\\input_circuits\\\\Circuit_6_8.txt')\n",
      "(6, 13, '..\\\\resources\\\\circuit_diagrams\\\\input_circuits\\\\Circuit_6_13.txt')\n"
     ]
    },
    {
     "data": {
      "text/plain": [
       "[None, None, None]"
      ]
     },
     "execution_count": 11,
     "metadata": {},
     "output_type": "execute_result"
    }
   ],
   "source": [
    "input_gen_argument_tuples = ([(size, num_gates, rf'..\\{input_dir}\\{input_file_prefix}_{size}_{num_gates}.txt') for (size, num_gates) in size_num_gates_pairs])\n",
    "\n",
    "[print(argument_tuple) for argument_tuple in input_gen_argument_tuples[:min(10, len(input_gen_argument_tuples))]]"
   ]
  },
  {
   "cell_type": "code",
   "execution_count": 13,
   "metadata": {
    "pycharm": {
     "name": "#%%\n"
    }
   },
   "outputs": [
    {
     "name": "stdout",
     "output_type": "stream",
     "text": [
      "Generating 3 circuits ...\n",
      "Saved circuits to resources\\circuit_diagrams\\input_circuits ...\n"
     ]
    }
   ],
   "source": [
    "print(f'Generating {len(input_gen_argument_tuples)} circuits ...')\n",
    "\n",
    "if __name__ ==  '__main__':\n",
    "    with Pool(processes = input_gen_processors) as pool:\n",
    "        pool.starmap(write_circuit_file, input_gen_argument_tuples)\n",
    "\n",
    "print(f'Saved circuits to {input_dir} ...')"
   ]
  }
 ],
 "metadata": {
  "kernelspec": {
   "display_name": "Python 3",
   "language": "python",
   "name": "python3"
  },
  "language_info": {
   "codemirror_mode": {
    "name": "ipython",
    "version": 3
   },
   "file_extension": ".py",
   "mimetype": "text/x-python",
   "name": "python",
   "nbconvert_exporter": "python",
   "pygments_lexer": "ipython3",
   "version": "3.8.5"
  }
 },
 "nbformat": 4,
 "nbformat_minor": 1
}

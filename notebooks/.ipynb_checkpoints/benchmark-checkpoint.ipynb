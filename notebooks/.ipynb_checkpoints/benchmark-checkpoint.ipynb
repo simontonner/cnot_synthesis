{
 "cells": [
  {
   "cell_type": "markdown",
   "metadata": {
    "pycharm": {
     "name": "#%% md\n"
    }
   },
   "source": [
    "# GENERATE SOME MATRICES"
   ]
  },
  {
   "cell_type": "code",
   "execution_count": 12,
   "metadata": {
    "pycharm": {
     "name": "#%%\n"
    }
   },
   "outputs": [
    {
     "name": "stdout",
     "output_type": "stream",
     "text": [
      "Generating 3 singular matrices of size 100.\n"
     ]
    }
   ],
   "source": [
    "import src.input_generation.matrix_gen as gen\n",
    "\n",
    "num_mat = 3\n",
    "mat_size = 100\n",
    "\n",
    "print(f\"Generating {num_mat} singular matrices of size {mat_size}.\")\n",
    "\n",
    "for i in range(1, num_mat+1):\n",
    "\n",
    "    mat, time = gen.generate_and_time(mat_size)\n",
    "\n",
    "    file_name = f\"../resources/input_matrices/SingMat_{mat_size}_{i}.txt\"\n",
    "\n",
    "    file = open(file_name, \"w\")\n",
    "\n",
    "    file.write(f\"Matrix size: {mat_size}\\n\")\n",
    "    file.write(f\"Generation time (seconds): {time}\\n\")\n",
    "\n",
    "    for row in mat:\n",
    "        file.write(f\"{row}\\n\")\n",
    "\n",
    "    file.close()"
   ]
  },
  {
   "cell_type": "code",
   "execution_count": 3,
   "metadata": {
    "pycharm": {
     "name": "#%%\n"
    }
   },
   "outputs": [
    {
     "name": "stdout",
     "output_type": "stream",
     "text": [
      "[[1, 1, 0, 0, 0, 0], [1, 0, 0, 1, 1, 0], [0, 1, 0, 0, 1, 0], [1, 1, 1, 1, 1, 1], [1, 1, 0, 1, 1, 1], [0, 0, 1, 1, 1, 0]]\n",
      "[(5, 4), (2, 1), (4, 2), (6, 3), (5, 3), (5, 4), (6, 5), (3, 4), (4, 3), (4, 6), (3, 5), (2, 3), (1, 2), (1, 5), (1, 4)]\n"
     ]
    }
   ],
   "source": [
    "import src.algorithm.vanilla.cnot_synthesis_vanilla as vanilla\n",
    "\n",
    "### TESTING WITH MATRIX FROM PAPER ###\n",
    "\n",
    "# Non-singular matrix 6x6\n",
    "A = [[1, 1, 0, 0, 0, 0],\n",
    "     [1, 0, 0, 1, 1, 0],\n",
    "     [0, 1, 0, 0, 1, 0],\n",
    "     [1, 1, 1, 1, 1, 1],\n",
    "     [1, 1, 0, 1, 1, 1],\n",
    "     [0, 0, 1, 1, 1, 0]]\n",
    "\n",
    "B = [[1, 1, 0, 0, 0, 0],\n",
    "     [1, 0, 0, 1, 1, 0],\n",
    "     [0, 1, 0, 0, 1, 0],\n",
    "     [1, 1, 1, 1, 1, 1],\n",
    "     [1, 1, 0, 1, 1, 1],\n",
    "     [0, 0, 1, 1, 1, 0]]\n",
    "\n",
    "\n",
    "\n",
    "print(A)\n",
    "\n",
    "C, circuitt = vanilla.cnot_synthesis(A, len(A), 2)\n",
    "print(circuitt)\n",
    "\n"
   ]
  },
  {
   "cell_type": "code",
   "execution_count": null,
   "metadata": {
    "pycharm": {
     "name": "#%%\n"
    }
   },
   "outputs": [],
   "source": [
    "\n"
   ]
  },
  {
   "cell_type": "code",
   "execution_count": null,
   "metadata": {
    "pycharm": {
     "name": "#%%\n"
    }
   },
   "outputs": [],
   "source": []
  },
  {
   "cell_type": "code",
   "execution_count": null,
   "metadata": {},
   "outputs": [],
   "source": []
  }
 ],
 "metadata": {
  "kernelspec": {
   "display_name": "Python 3",
   "language": "python",
   "name": "python3"
  },
  "language_info": {
   "codemirror_mode": {
    "name": "ipython",
    "version": 3
   },
   "file_extension": ".py",
   "mimetype": "text/x-python",
   "name": "python",
   "nbconvert_exporter": "python",
   "pygments_lexer": "ipython3",
   "version": "3.8.5"
  }
 },
 "nbformat": 4,
 "nbformat_minor": 1
}

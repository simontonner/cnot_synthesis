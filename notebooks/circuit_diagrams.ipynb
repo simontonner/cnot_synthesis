{
 "cells": [
  {
   "cell_type": "markdown",
   "metadata": {
    "collapsed": true,
    "pycharm": {
     "name": "#%% md\n"
    }
   },
   "source": [
    "# DIAGRAM GENERATION\n",
    "\n",
    "This notebook serves as first test of the synthesis algorithm. Small circuits are generated and saved to files. The\n",
    "files are then read and converted into matrices.\n",
    "\n",
    "Those matrices are then fed into the synthesis algorithm which synthesises an output circuit. The resulting output\n",
    "circuit is expected to be shorter than the input circuit.\n",
    "\n",
    "For both the input and the output circuit a diagram is generated.\n",
    "\n",
    "If a non-singular matrix would be used as input directly, there would be no possibility to know the number of gates of\n",
    "the input circuit.\n",
    "\n",
    "### IMPORTS\n",
    "\n",
    "Perform the imports and check how many threads are available."
   ]
  },
  {
   "cell_type": "code",
   "execution_count": 9,
   "metadata": {
    "pycharm": {
     "name": "#%%\n"
    }
   },
   "outputs": [
    {
     "name": "stdout",
     "output_type": "stream",
     "text": [
      "There are 12 threads available on this machine.\n"
     ]
    }
   ],
   "source": [
    "from multiprocessing import Pool, cpu_count\n",
    "import numpy as np\n",
    "from src.input.write_files import write_circuit_file\n",
    "from src.input.read_files import find_files, numbers_from_file_name, number_from_text, normal_sec_size_int_from_file_name, file_to_circuit\n",
    "from src.diagrams.tikz import circuit_to_tikz_file\n",
    "from IPython.display import SVG, display\n",
    "import os\n",
    "from src.input.circuits_and_matrices import circuit_to_matrix\n",
    "from src.algorithm.vanilla.circuit_synthesis import synthesise_circuit\n",
    "from src.algorithm.vanilla.execution import check_and_run\n",
    "\n",
    "print(f'There are {cpu_count()} threads available on this machine.')"
   ]
  },
  {
   "cell_type": "markdown",
   "metadata": {
    "pycharm": {
     "name": "#%% md\n"
    }
   },
   "source": [
    "### PARAMETERS\n",
    "\n",
    "Define the parameters in order to generate input circuits of certain size and length and specify where to save the\n",
    "relevant files.\n",
    "\n",
    "Due to the section size being\n",
    "\n",
    "$m = \\frac{1}{2} log_2(n)$\n",
    "\n",
    "and the restriction that $m \\geq 2$, the smallest circuit size $n$ that can be used is $n=8$."
   ]
  },
  {
   "cell_type": "code",
   "execution_count": 2,
   "metadata": {
    "pycharm": {
     "name": "#%%\n"
    }
   },
   "outputs": [],
   "source": [
    "size_num_gates_pairs = np.array([(4, 7)])\n",
    "\n",
    "input_gen_processors = 1\n",
    "\n",
    "input_dir = r'resources\\circuit_diagrams\\input_circuits'\n",
    "\n",
    "circuit_file_prefix = 'Circuit'\n",
    "\n",
    "diagram_dir = r'resources\\circuit_diagrams'"
   ]
  },
  {
   "cell_type": "markdown",
   "metadata": {
    "pycharm": {
     "name": "#%% md\n"
    }
   },
   "source": [
    "### INPUT GENERATION\n",
    "\n",
    "The arguments for the input generation are predefined as a list of tuples. The generation itself is executed on a thread\n",
    "pool."
   ]
  },
  {
   "cell_type": "code",
   "execution_count": 3,
   "metadata": {
    "pycharm": {
     "name": "#%%\n"
    }
   },
   "outputs": [
    {
     "name": "stdout",
     "output_type": "stream",
     "text": [
      "(4, 7, '..\\\\resources\\\\circuit_diagrams\\\\input_circuits\\\\Circuit_4_7.txt')\n"
     ]
    },
    {
     "data": {
      "text/plain": [
       "[None]"
      ]
     },
     "execution_count": 3,
     "metadata": {},
     "output_type": "execute_result"
    }
   ],
   "source": [
    "input_gen_argument_tuples = ([(size, num_gates, rf'..\\{input_dir}\\{circuit_file_prefix}_{size}_{num_gates}.txt') for (size, num_gates) in size_num_gates_pairs])\n",
    "\n",
    "[print(argument_tuple) for argument_tuple in input_gen_argument_tuples[:min(10, len(input_gen_argument_tuples))]]"
   ]
  },
  {
   "cell_type": "code",
   "execution_count": 4,
   "metadata": {
    "pycharm": {
     "name": "#%%\n"
    }
   },
   "outputs": [
    {
     "name": "stdout",
     "output_type": "stream",
     "text": [
      "Generating 1 circuits ...\n",
      "Saved circuits to resources\\circuit_diagrams\\input_circuits ...\n"
     ]
    }
   ],
   "source": [
    "print(f'Generating {len(input_gen_argument_tuples)} circuits ...')\n",
    "\n",
    "if __name__ ==  '__main__':\n",
    "    with Pool(processes = input_gen_processors) as pool:\n",
    "        pool.starmap(write_circuit_file, input_gen_argument_tuples)\n",
    "\n",
    "print(f'Saved circuits to {input_dir} ...')"
   ]
  },
  {
   "cell_type": "markdown",
   "metadata": {},
   "source": [
    "### DIAGRAM GENERATION\n",
    "\n",
    "Once the circuits are read, they can be converted to a SVG file. The helper function below makes a call to the Linux\n",
    "Subsystem for Windows (WSL) in order to convert a temporary TikZ file to an SVG image. A more thorough explanation can\n",
    "be found in *src.diagrams.README.md*."
   ]
  },
  {
   "cell_type": "code",
   "execution_count": 10,
   "metadata": {
    "pycharm": {
     "name": "#%%\n"
    }
   },
   "outputs": [],
   "source": [
    "def circuit_to_svg(circuit, size, diagram_dir, file_prefix):\n",
    "\n",
    "    num_gates = len(circuit)\n",
    "\n",
    "    file_name = rf'{file_prefix}_{size}_{num_gates}'\n",
    "\n",
    "    tikz_file_path = rf'..\\{diagram_dir}\\{file_name}.tikz'\n",
    "\n",
    "    circuit_to_tikz_file(circuit, size, tikz_file_path)\n",
    "\n",
    "    wsl_tikz_path = rf'\\mnt\\c\\Dev\\cnot_synthesis\\{diagram_dir}\\{file_name}.tikz'.replace('\\\\','/')\n",
    "\n",
    "    command_string = rf'wsl tikztosvg -p tikz-cd -p xfrac {wsl_tikz_path} > /dev/null 2>&1'\n",
    "    os.system(command_string)\n",
    "\n",
    "    #os.remove(rf'..\\{diagram_dir}\\{file_name}.tikz')\n",
    "\n",
    "    return file_name + '.svg'"
   ]
  },
  {
   "cell_type": "markdown",
   "metadata": {
    "pycharm": {
     "name": "#%% md\n"
    }
   },
   "source": [
    "### READ FILES\n",
    "\n",
    "The generated files are searched for using a regex. In order to run them a list of argument tuples is created again."
   ]
  },
  {
   "cell_type": "code",
   "execution_count": 11,
   "metadata": {
    "pycharm": {
     "name": "#%%\n"
    }
   },
   "outputs": [
    {
     "name": "stdout",
     "output_type": "stream",
     "text": [
      "(4, 1, '..\\\\resources\\\\circuit_diagrams\\\\input_circuits\\\\Circuit_4_4.txt')\n",
      "(4, 1, '..\\\\resources\\\\circuit_diagrams\\\\input_circuits\\\\Circuit_4_7.txt')\n",
      "(4, 1, '..\\\\resources\\\\circuit_diagrams\\\\input_circuits\\\\Circuit_4_15.txt')\n",
      "(4, 1, '..\\\\resources\\\\circuit_diagrams\\\\input_circuits\\\\Circuit_4_16.txt')\n",
      "(8, 2, '..\\\\resources\\\\circuit_diagrams\\\\input_circuits\\\\Circuit_8_6.txt')\n",
      "(8, 2, '..\\\\resources\\\\circuit_diagrams\\\\input_circuits\\\\Circuit_8_30.txt')\n"
     ]
    },
    {
     "data": {
      "text/plain": [
       "[None, None, None, None, None, None]"
      ]
     },
     "execution_count": 11,
     "metadata": {},
     "output_type": "execute_result"
    }
   ],
   "source": [
    "file_regex = rf'({circuit_file_prefix}).*\\.txt'\n",
    "size_regex = r'_\\d+_'\n",
    "num_gates_regex = r'_\\d+\\.'\n",
    "\n",
    "input_file_names = find_files(rf'..\\{input_dir}', file_regex)\n",
    "input_file_names.sort(key = lambda input_file_name: numbers_from_file_name(input_file_name, size_regex, num_gates_regex))\n",
    "\n",
    "run_argument_tuples = [(number_from_text(input_file_name, size_regex),\n",
    "                        normal_sec_size_int_from_file_name(input_file_name, size_regex),\n",
    "                        rf'..\\{input_dir}\\{input_file_name}')\n",
    "                       for input_file_name in input_file_names]\n",
    "\n",
    "[print(tuple) for tuple in run_argument_tuples[:min(10, len(run_argument_tuples))]]"
   ]
  },
  {
   "cell_type": "markdown",
   "metadata": {
    "pycharm": {
     "name": "#%% md\n"
    }
   },
   "source": [
    "### DIAGRAM OF INPUT CIRCUIT"
   ]
  },
  {
   "cell_type": "code",
   "execution_count": 12,
   "metadata": {
    "pycharm": {
     "name": "#%%\n"
    }
   },
   "outputs": [
    {
     "name": "stdout",
     "output_type": "stream",
     "text": [
      "[(1, 3), (2, 1), (0, 3), (2, 3), (1, 2), (1, 3), (3, 1), (0, 3), (2, 3), (3, 2), (3, 2), (2, 0), (0, 1), (3, 1), (0, 3), (3, 1)]\n",
      "input circuit length: 16\n"
     ]
    },
    {
     "data": {
      "image/svg+xml": [
       "<svg xmlns=\"http://www.w3.org/2000/svg\" xmlns:xlink=\"http://www.w3.org/1999/xlink\" width=\"620.28pt\" height=\"117.29pt\" viewBox=\"0 0 620.28 117.29\" version=\"1.1\">\n",
       "<defs>\n",
       "<g>\n",
       "<symbol overflow=\"visible\" id=\"glyph0-0\">\n",
       "<path style=\"stroke:none;\" d=\"\"/>\n",
       "</symbol>\n",
       "<symbol overflow=\"visible\" id=\"glyph0-1\">\n",
       "<path style=\"stroke:none;\" d=\"M 5.796875 0 L 5.796875 -0.53125 C 4.3125 -0.53125 4.0625 -0.53125 4.0625 -1.46875 L 4.0625 -12.640625 C 4.0625 -13.578125 4.3125 -13.578125 5.796875 -13.578125 L 5.796875 -14.109375 C 5.140625 -14.0625 4.09375 -14.0625 3.390625 -14.0625 C 2.6875 -14.0625 1.625 -14.0625 0.96875 -14.109375 L 0.96875 -13.578125 C 2.453125 -13.578125 2.703125 -13.578125 2.703125 -12.640625 L 2.703125 -1.46875 C 2.703125 -0.53125 2.453125 -0.53125 0.96875 -0.53125 L 0.96875 0 C 1.625 -0.046875 2.6875 -0.046875 3.390625 -0.046875 C 4.09375 -0.046875 5.140625 -0.046875 5.796875 0 Z M 5.796875 0 \"/>\n",
       "</symbol>\n",
       "<symbol overflow=\"visible\" id=\"glyph0-2\">\n",
       "<path style=\"stroke:none;\" d=\"M 9.984375 0 L 9.984375 -0.53125 C 8.65625 -0.53125 8.578125 -0.625 8.578125 -1.421875 L 8.578125 -6.28125 C 8.578125 -7.328125 8.359375 -9.046875 5.921875 -9.046875 C 4.296875 -9.046875 3.453125 -7.78125 3.140625 -6.96875 L 3.125 -6.96875 L 3.125 -9.046875 L 0.6875 -8.8125 L 0.6875 -8.28125 C 1.90625 -8.28125 2.09375 -8.15625 2.09375 -7.171875 L 2.09375 -1.421875 C 2.09375 -0.640625 2 -0.53125 0.6875 -0.53125 L 0.6875 0 C 1.171875 -0.046875 2.09375 -0.046875 2.625 -0.046875 C 3.15625 -0.046875 4.09375 -0.046875 4.578125 0 L 4.578125 -0.53125 C 3.265625 -0.53125 3.1875 -0.625 3.1875 -1.421875 L 3.1875 -5.390625 C 3.1875 -7.296875 4.34375 -8.71875 5.78125 -8.71875 C 7.3125 -8.71875 7.484375 -7.359375 7.484375 -6.359375 L 7.484375 -1.421875 C 7.484375 -0.640625 7.390625 -0.53125 6.078125 -0.53125 L 6.078125 0 C 6.5625 -0.046875 7.484375 -0.046875 8.015625 -0.046875 C 8.546875 -0.046875 9.484375 -0.046875 9.984375 0 Z M 9.984375 0 \"/>\n",
       "</symbol>\n",
       "<symbol overflow=\"visible\" id=\"glyph0-3\">\n",
       "<path style=\"stroke:none;\" d=\"M 9.859375 -4.46875 C 9.859375 -7.0625 8.0625 -9.046875 5.921875 -9.046875 C 4.6875 -9.046875 3.671875 -8.359375 3.09375 -7.546875 L 3.09375 -9.046875 L 0.640625 -8.8125 L 0.640625 -8.28125 C 1.859375 -8.28125 2.046875 -8.15625 2.046875 -7.171875 L 2.046875 2.609375 C 2.046875 3.390625 1.96875 3.484375 0.640625 3.484375 L 0.640625 4.03125 C 1.140625 3.984375 2.046875 3.984375 2.578125 3.984375 C 3.125 3.984375 4.046875 3.984375 4.546875 4.03125 L 4.546875 3.484375 C 3.21875 3.484375 3.140625 3.40625 3.140625 2.609375 L 3.140625 -1.265625 C 3.734375 -0.390625 4.609375 0.171875 5.703125 0.171875 C 7.765625 0.171875 9.859375 -1.65625 9.859375 -4.46875 Z M 8.53125 -4.4375 C 8.53125 -2.09375 7.203125 -0.171875 5.578125 -0.171875 C 4.828125 -0.171875 4.03125 -0.515625 3.40625 -1.484375 C 3.140625 -1.9375 3.140625 -2.0625 3.140625 -2.390625 L 3.140625 -6.484375 C 3.140625 -6.78125 3.140625 -7.203125 3.953125 -7.96875 C 4.046875 -8.0625 4.75 -8.671875 5.78125 -8.671875 C 7.296875 -8.671875 8.53125 -6.796875 8.53125 -4.4375 Z M 8.53125 -4.4375 \"/>\n",
       "</symbol>\n",
       "<symbol overflow=\"visible\" id=\"glyph0-4\">\n",
       "<path style=\"stroke:none;\" d=\"M 9.984375 0 L 9.984375 -0.53125 C 8.765625 -0.53125 8.578125 -0.65625 8.578125 -1.65625 L 8.578125 -9.046875 L 6.078125 -8.8125 L 6.078125 -8.28125 C 7.296875 -8.28125 7.484375 -8.15625 7.484375 -7.171875 L 7.484375 -3.40625 C 7.484375 -1.671875 6.546875 -0.171875 5.015625 -0.171875 C 3.328125 -0.171875 3.1875 -1.171875 3.1875 -2.25 L 3.1875 -9.046875 L 0.6875 -8.8125 L 0.6875 -8.28125 C 1.515625 -8.28125 2.0625 -8.28125 2.09375 -7.453125 L 2.09375 -3.484375 C 2.09375 -2.109375 2.09375 -1.21875 2.625 -0.640625 C 2.890625 -0.375 3.40625 0.171875 4.890625 0.171875 C 6.65625 0.171875 7.328125 -1.328125 7.5 -1.75 L 7.515625 -1.75 L 7.515625 0.171875 Z M 9.984375 0 \"/>\n",
       "</symbol>\n",
       "<symbol overflow=\"visible\" id=\"glyph0-5\">\n",
       "<path style=\"stroke:none;\" d=\"M 6.34375 -2.5625 L 6.34375 -3.734375 L 5.96875 -3.734375 L 5.96875 -2.578125 C 5.96875 -1.15625 5.40625 -0.203125 4.546875 -0.203125 C 3.953125 -0.203125 3.125 -0.625 3.125 -2.5 L 3.125 -8.34375 L 6.015625 -8.34375 L 6.015625 -8.875 L 3.125 -8.875 L 3.125 -12.703125 L 2.75 -12.703125 C 2.703125 -10.578125 1.984375 -8.71875 0.234375 -8.671875 L 0.234375 -8.34375 L 2.03125 -8.34375 L 2.03125 -2.546875 C 2.03125 -2.140625 2.03125 0.171875 4.421875 0.171875 C 5.640625 0.171875 6.34375 -1.03125 6.34375 -2.5625 Z M 6.34375 -2.5625 \"/>\n",
       "</symbol>\n",
       "<symbol overflow=\"visible\" id=\"glyph0-6\">\n",
       "<path style=\"stroke:none;\" d=\"M 7.9375 0 L 7.9375 -0.53125 L 7.3125 -0.53125 C 5.53125 -0.53125 5.5 -0.765625 5.5 -1.515625 L 5.5 -13.203125 C 5.5 -13.640625 5.46875 -13.65625 5.1875 -13.65625 C 4.375 -12.6875 3.15625 -12.375 2 -12.328125 C 1.9375 -12.328125 1.84375 -12.328125 1.8125 -12.296875 C 1.796875 -12.25 1.796875 -12.203125 1.796875 -11.78125 C 2.4375 -11.78125 3.515625 -11.890625 4.34375 -12.390625 L 4.34375 -1.515625 C 4.34375 -0.78125 4.296875 -0.53125 2.515625 -0.53125 L 1.90625 -0.53125 L 1.90625 0 L 4.921875 -0.046875 Z M 7.9375 0 \"/>\n",
       "</symbol>\n",
       "<symbol overflow=\"visible\" id=\"glyph0-7\">\n",
       "<path style=\"stroke:none;\" d=\"M 13.90625 -7.015625 C 13.90625 -11.25 10.859375 -14.4375 7.4375 -14.4375 C 3.921875 -14.4375 0.953125 -11.21875 0.953125 -7.015625 C 0.953125 -2.828125 3.96875 0.328125 7.421875 0.328125 C 10.953125 0.328125 13.90625 -2.890625 13.90625 -7.015625 Z M 12.328125 -7.296875 C 12.328125 -2.3125 9.703125 -0.046875 7.4375 -0.046875 C 5.078125 -0.046875 2.515625 -2.390625 2.515625 -7.296875 C 2.515625 -12.171875 5.328125 -14.0625 7.421875 -14.0625 C 9.609375 -14.0625 12.328125 -12.109375 12.328125 -7.296875 Z M 12.328125 -7.296875 \"/>\n",
       "</symbol>\n",
       "<symbol overflow=\"visible\" id=\"glyph0-8\">\n",
       "<path style=\"stroke:none;\" d=\"M 8.609375 -3.203125 L 8.234375 -3.203125 C 8.03125 -1.734375 7.875 -1.484375 7.78125 -1.359375 C 7.6875 -1.203125 6.203125 -1.203125 5.90625 -1.203125 L 1.9375 -1.203125 L 5.890625 -5.171875 C 7.140625 -6.359375 8.609375 -7.765625 8.609375 -9.8125 C 8.609375 -12.25 6.671875 -13.65625 4.5 -13.65625 C 2.234375 -13.65625 0.84375 -11.65625 0.84375 -9.796875 C 0.84375 -8.984375 1.453125 -8.875 1.6875 -8.875 C 1.90625 -8.875 2.515625 -9 2.515625 -9.734375 C 2.515625 -10.375 1.984375 -10.5625 1.6875 -10.5625 C 1.5625 -10.5625 1.453125 -10.53125 1.359375 -10.5 C 1.75 -12.25 2.953125 -13.109375 4.21875 -13.109375 C 6.015625 -13.109375 7.1875 -11.6875 7.1875 -9.8125 C 7.1875 -8.015625 6.140625 -6.46875 4.953125 -5.125 L 0.84375 -0.46875 L 0.84375 0 L 8.125 0 Z M 8.609375 -3.203125 \"/>\n",
       "</symbol>\n",
       "<symbol overflow=\"visible\" id=\"glyph0-9\">\n",
       "<path style=\"stroke:none;\" d=\"M 8.78125 -3.578125 C 8.78125 -5.578125 7.125 -7.015625 5.171875 -7.25 C 6.734375 -7.578125 8.234375 -8.984375 8.234375 -10.859375 C 8.234375 -12.46875 6.609375 -13.65625 4.75 -13.65625 C 2.875 -13.65625 1.21875 -12.5 1.21875 -10.84375 C 1.21875 -10.125 1.75 -10 2.03125 -10 C 2.453125 -10 2.828125 -10.265625 2.828125 -10.796875 C 2.828125 -11.34375 2.453125 -11.609375 2.03125 -11.609375 C 1.9375 -11.609375 1.84375 -11.609375 1.75 -11.5625 C 2.359375 -12.9375 3.984375 -13.171875 4.703125 -13.171875 C 5.4375 -13.171875 6.796875 -12.828125 6.796875 -10.84375 C 6.796875 -10.265625 6.71875 -9.234375 6.015625 -8.328125 C 5.390625 -7.515625 4.6875 -7.484375 4 -7.421875 C 3.90625 -7.421875 3.421875 -7.375 3.34375 -7.375 C 3.203125 -7.359375 3.125 -7.328125 3.125 -7.1875 C 3.125 -7.046875 3.140625 -7.015625 3.546875 -7.015625 L 4.5625 -7.015625 C 6.40625 -7.015625 7.203125 -5.4375 7.203125 -3.59375 C 7.203125 -1.109375 5.890625 -0.171875 4.6875 -0.171875 C 3.59375 -0.171875 1.8125 -0.703125 1.265625 -2.296875 C 1.359375 -2.25 1.46875 -2.25 1.5625 -2.25 C 2.0625 -2.25 2.4375 -2.578125 2.4375 -3.125 C 2.4375 -3.71875 1.984375 -3.984375 1.5625 -3.984375 C 1.21875 -3.984375 0.6875 -3.828125 0.6875 -3.0625 C 0.6875 -1.15625 2.546875 0.328125 4.734375 0.328125 C 7.015625 0.328125 8.78125 -1.46875 8.78125 -3.578125 Z M 8.78125 -3.578125 \"/>\n",
       "</symbol>\n",
       "<symbol overflow=\"visible\" id=\"glyph0-10\">\n",
       "<path style=\"stroke:none;\" d=\"M 9.046875 -3.515625 L 9.046875 -4.046875 L 6.9375 -4.046875 L 6.9375 -13.359375 C 6.9375 -13.796875 6.921875 -13.8125 6.546875 -13.8125 L 0.40625 -4.046875 L 0.40625 -3.515625 L 5.75 -3.515625 L 5.75 -1.484375 C 5.75 -0.75 5.703125 -0.53125 4.25 -0.53125 L 3.859375 -0.53125 L 3.859375 0 C 4.53125 -0.046875 5.640625 -0.046875 6.34375 -0.046875 C 7.046875 -0.046875 8.15625 -0.046875 8.8125 0 L 8.8125 -0.53125 L 8.421875 -0.53125 C 6.984375 -0.53125 6.9375 -0.75 6.9375 -1.484375 L 6.9375 -3.515625 Z M 5.796875 -4.046875 L 0.828125 -4.046875 L 5.796875 -12 Z M 5.796875 -4.046875 \"/>\n",
       "</symbol>\n",
       "</g>\n",
       "<clipPath id=\"clip1\">\n",
       "  <path d=\"M 72 84 L 107 84 L 107 117.289062 L 72 117.289062 Z M 72 84 \"/>\n",
       "</clipPath>\n",
       "<clipPath id=\"clip2\">\n",
       "  <path d=\"M 129 84 L 164 84 L 164 117.289062 L 129 117.289062 Z M 129 84 \"/>\n",
       "</clipPath>\n",
       "<clipPath id=\"clip3\">\n",
       "  <path d=\"M 157 84 L 192 84 L 192 117.289062 L 157 117.289062 Z M 157 84 \"/>\n",
       "</clipPath>\n",
       "<clipPath id=\"clip4\">\n",
       "  <path d=\"M 214 84 L 249 84 L 249 117.289062 L 214 117.289062 Z M 214 84 \"/>\n",
       "</clipPath>\n",
       "<clipPath id=\"clip5\">\n",
       "  <path d=\"M 271 84 L 306 84 L 306 117.289062 L 271 117.289062 Z M 271 84 \"/>\n",
       "</clipPath>\n",
       "<clipPath id=\"clip6\">\n",
       "  <path d=\"M 299 84 L 334 84 L 334 117.289062 L 299 117.289062 Z M 299 84 \"/>\n",
       "</clipPath>\n",
       "<clipPath id=\"clip7\">\n",
       "  <path d=\"M 469 84 L 504 84 L 504 117.289062 L 469 117.289062 Z M 469 84 \"/>\n",
       "</clipPath>\n",
       "</defs>\n",
       "<g id=\"surface1\">\n",
       "<path style=\"fill:none;stroke-width:0.79701;stroke-linecap:butt;stroke-linejoin:miter;stroke:rgb(0%,0%,0%);stroke-opacity:1;stroke-miterlimit:10;\" d=\"M -14.172938 -0.00090625 L 439.373938 -0.00090625 \" transform=\"matrix(1,0,0,-1,89.837,16.128)\"/>\n",
       "<g style=\"fill:rgb(0%,0%,0%);fill-opacity:1;\">\n",
       "  <use xlink:href=\"#glyph0-1\" x=\"6.886\" y=\"21.17\"/>\n",
       "  <use xlink:href=\"#glyph0-2\" x=\"13.6633\" y=\"21.17\"/>\n",
       "  <use xlink:href=\"#glyph0-3\" x=\"24.221837\" y=\"21.17\"/>\n",
       "  <use xlink:href=\"#glyph0-4\" x=\"34.780375\" y=\"21.17\"/>\n",
       "  <use xlink:href=\"#glyph0-5\" x=\"45.338912\" y=\"21.17\"/>\n",
       "</g>\n",
       "<g style=\"fill:rgb(0%,0%,0%);fill-opacity:1;\">\n",
       "  <use xlink:href=\"#glyph0-6\" x=\"58.87285\" y=\"21.17\"/>\n",
       "</g>\n",
       "<g style=\"fill:rgb(0%,0%,0%);fill-opacity:1;\">\n",
       "  <use xlink:href=\"#glyph0-7\" x=\"536.498\" y=\"21.335\"/>\n",
       "  <use xlink:href=\"#glyph0-4\" x=\"551.375\" y=\"21.335\"/>\n",
       "  <use xlink:href=\"#glyph0-5\" x=\"561.933538\" y=\"21.335\"/>\n",
       "  <use xlink:href=\"#glyph0-3\" x=\"569.248063\" y=\"21.335\"/>\n",
       "  <use xlink:href=\"#glyph0-4\" x=\"579.8066\" y=\"21.335\"/>\n",
       "  <use xlink:href=\"#glyph0-5\" x=\"590.365138\" y=\"21.335\"/>\n",
       "</g>\n",
       "<g style=\"fill:rgb(0%,0%,0%);fill-opacity:1;\">\n",
       "  <use xlink:href=\"#glyph0-6\" x=\"603.899075\" y=\"21.335\"/>\n",
       "</g>\n",
       "<path style=\"fill:none;stroke-width:0.79701;stroke-linecap:butt;stroke-linejoin:miter;stroke:rgb(0%,0%,0%);stroke-opacity:1;stroke-miterlimit:10;\" d=\"M -14.172938 -28.348562 L 439.373938 -28.348562 \" transform=\"matrix(1,0,0,-1,89.837,16.128)\"/>\n",
       "<g style=\"fill:rgb(0%,0%,0%);fill-opacity:1;\">\n",
       "  <use xlink:href=\"#glyph0-1\" x=\"6.886\" y=\"49.517\"/>\n",
       "  <use xlink:href=\"#glyph0-2\" x=\"13.6633\" y=\"49.517\"/>\n",
       "  <use xlink:href=\"#glyph0-3\" x=\"24.221837\" y=\"49.517\"/>\n",
       "  <use xlink:href=\"#glyph0-4\" x=\"34.780375\" y=\"49.517\"/>\n",
       "  <use xlink:href=\"#glyph0-5\" x=\"45.338912\" y=\"49.517\"/>\n",
       "</g>\n",
       "<g style=\"fill:rgb(0%,0%,0%);fill-opacity:1;\">\n",
       "  <use xlink:href=\"#glyph0-8\" x=\"58.87285\" y=\"49.517\"/>\n",
       "</g>\n",
       "<g style=\"fill:rgb(0%,0%,0%);fill-opacity:1;\">\n",
       "  <use xlink:href=\"#glyph0-7\" x=\"536.498\" y=\"49.682\"/>\n",
       "  <use xlink:href=\"#glyph0-4\" x=\"551.375\" y=\"49.682\"/>\n",
       "  <use xlink:href=\"#glyph0-5\" x=\"561.933538\" y=\"49.682\"/>\n",
       "  <use xlink:href=\"#glyph0-3\" x=\"569.248063\" y=\"49.682\"/>\n",
       "  <use xlink:href=\"#glyph0-4\" x=\"579.8066\" y=\"49.682\"/>\n",
       "  <use xlink:href=\"#glyph0-5\" x=\"590.365138\" y=\"49.682\"/>\n",
       "</g>\n",
       "<g style=\"fill:rgb(0%,0%,0%);fill-opacity:1;\">\n",
       "  <use xlink:href=\"#glyph0-8\" x=\"603.899075\" y=\"49.682\"/>\n",
       "</g>\n",
       "<path style=\"fill:none;stroke-width:0.79701;stroke-linecap:butt;stroke-linejoin:miter;stroke:rgb(0%,0%,0%);stroke-opacity:1;stroke-miterlimit:10;\" d=\"M -14.172938 -56.692312 L 439.373938 -56.692312 \" transform=\"matrix(1,0,0,-1,89.837,16.128)\"/>\n",
       "<g style=\"fill:rgb(0%,0%,0%);fill-opacity:1;\">\n",
       "  <use xlink:href=\"#glyph0-1\" x=\"6.886\" y=\"77.863\"/>\n",
       "  <use xlink:href=\"#glyph0-2\" x=\"13.6633\" y=\"77.863\"/>\n",
       "  <use xlink:href=\"#glyph0-3\" x=\"24.221837\" y=\"77.863\"/>\n",
       "  <use xlink:href=\"#glyph0-4\" x=\"34.780375\" y=\"77.863\"/>\n",
       "  <use xlink:href=\"#glyph0-5\" x=\"45.338912\" y=\"77.863\"/>\n",
       "</g>\n",
       "<g style=\"fill:rgb(0%,0%,0%);fill-opacity:1;\">\n",
       "  <use xlink:href=\"#glyph0-9\" x=\"58.87285\" y=\"77.863\"/>\n",
       "</g>\n",
       "<g style=\"fill:rgb(0%,0%,0%);fill-opacity:1;\">\n",
       "  <use xlink:href=\"#glyph0-7\" x=\"536.498\" y=\"78.029\"/>\n",
       "  <use xlink:href=\"#glyph0-4\" x=\"551.375\" y=\"78.029\"/>\n",
       "  <use xlink:href=\"#glyph0-5\" x=\"561.933538\" y=\"78.029\"/>\n",
       "  <use xlink:href=\"#glyph0-3\" x=\"569.248063\" y=\"78.029\"/>\n",
       "  <use xlink:href=\"#glyph0-4\" x=\"579.8066\" y=\"78.029\"/>\n",
       "  <use xlink:href=\"#glyph0-5\" x=\"590.365138\" y=\"78.029\"/>\n",
       "</g>\n",
       "<g style=\"fill:rgb(0%,0%,0%);fill-opacity:1;\">\n",
       "  <use xlink:href=\"#glyph0-9\" x=\"603.899075\" y=\"78.029\"/>\n",
       "</g>\n",
       "<path style=\"fill:none;stroke-width:0.79701;stroke-linecap:butt;stroke-linejoin:miter;stroke:rgb(0%,0%,0%);stroke-opacity:1;stroke-miterlimit:10;\" d=\"M -14.172938 -85.039969 L 439.373938 -85.039969 \" transform=\"matrix(1,0,0,-1,89.837,16.128)\"/>\n",
       "<g style=\"fill:rgb(0%,0%,0%);fill-opacity:1;\">\n",
       "  <use xlink:href=\"#glyph0-1\" x=\"6.886\" y=\"106.21\"/>\n",
       "  <use xlink:href=\"#glyph0-2\" x=\"13.6633\" y=\"106.21\"/>\n",
       "  <use xlink:href=\"#glyph0-3\" x=\"24.221837\" y=\"106.21\"/>\n",
       "  <use xlink:href=\"#glyph0-4\" x=\"34.780375\" y=\"106.21\"/>\n",
       "  <use xlink:href=\"#glyph0-5\" x=\"45.338912\" y=\"106.21\"/>\n",
       "</g>\n",
       "<g style=\"fill:rgb(0%,0%,0%);fill-opacity:1;\">\n",
       "  <use xlink:href=\"#glyph0-10\" x=\"58.87285\" y=\"106.21\"/>\n",
       "</g>\n",
       "<g style=\"fill:rgb(0%,0%,0%);fill-opacity:1;\">\n",
       "  <use xlink:href=\"#glyph0-7\" x=\"536.498\" y=\"106.375\"/>\n",
       "  <use xlink:href=\"#glyph0-4\" x=\"551.375\" y=\"106.375\"/>\n",
       "  <use xlink:href=\"#glyph0-5\" x=\"561.933538\" y=\"106.375\"/>\n",
       "  <use xlink:href=\"#glyph0-3\" x=\"569.248063\" y=\"106.375\"/>\n",
       "  <use xlink:href=\"#glyph0-4\" x=\"579.8066\" y=\"106.375\"/>\n",
       "  <use xlink:href=\"#glyph0-5\" x=\"590.365138\" y=\"106.375\"/>\n",
       "</g>\n",
       "<g style=\"fill:rgb(0%,0%,0%);fill-opacity:1;\">\n",
       "  <use xlink:href=\"#glyph0-10\" x=\"603.899075\" y=\"106.375\"/>\n",
       "</g>\n",
       "<path style=\"fill-rule:nonzero;fill:rgb(0%,0%,0%);fill-opacity:1;stroke-width:0.3985;stroke-linecap:butt;stroke-linejoin:miter;stroke:rgb(0%,0%,0%);stroke-opacity:1;stroke-miterlimit:10;\" d=\"M 2.834875 -28.348562 C 2.834875 -26.782156 1.565344 -25.512625 -0.0010625 -25.512625 C -1.567469 -25.512625 -2.833094 -26.782156 -2.833094 -28.348562 C -2.833094 -29.911062 -1.567469 -31.180594 -0.0010625 -31.180594 C 1.565344 -31.180594 2.834875 -29.911062 2.834875 -28.348562 Z M 2.834875 -28.348562 \" transform=\"matrix(1,0,0,-1,89.837,16.128)\"/>\n",
       "<g clip-path=\"url(#clip1)\" clip-rule=\"nonzero\">\n",
       "<path style=\"fill:none;stroke-width:0.79701;stroke-linecap:butt;stroke-linejoin:miter;stroke:rgb(0%,0%,0%);stroke-opacity:1;stroke-miterlimit:10;\" d=\"M 5.670812 -85.039969 C 5.670812 -81.911062 3.13175 -79.372 -0.0010625 -79.372 C -3.129969 -79.372 -5.669031 -81.911062 -5.669031 -85.039969 C -5.669031 -88.172781 -3.129969 -90.707937 -0.0010625 -90.707937 C 3.13175 -90.707937 5.670812 -88.172781 5.670812 -85.039969 Z M 5.670812 -85.039969 \" transform=\"matrix(1,0,0,-1,89.837,16.128)\"/>\n",
       "</g>\n",
       "<path style=\"fill:none;stroke-width:0.79701;stroke-linecap:butt;stroke-linejoin:miter;stroke:rgb(0%,0%,0%);stroke-opacity:1;stroke-miterlimit:10;\" d=\"M -0.0010625 -31.180594 L -0.0010625 -90.707937 \" transform=\"matrix(1,0,0,-1,89.837,16.128)\"/>\n",
       "<path style=\"fill-rule:nonzero;fill:rgb(0%,0%,0%);fill-opacity:1;stroke-width:0.3985;stroke-linecap:butt;stroke-linejoin:miter;stroke:rgb(0%,0%,0%);stroke-opacity:1;stroke-miterlimit:10;\" d=\"M 31.182531 -56.692312 C 31.182531 -55.129812 29.913 -53.860281 28.346594 -53.860281 C 26.780187 -53.860281 25.510656 -55.129812 25.510656 -56.692312 C 25.510656 -58.258719 26.780187 -59.52825 28.346594 -59.52825 C 29.913 -59.52825 31.182531 -58.258719 31.182531 -56.692312 Z M 31.182531 -56.692312 \" transform=\"matrix(1,0,0,-1,89.837,16.128)\"/>\n",
       "<path style=\"fill:none;stroke-width:0.79701;stroke-linecap:butt;stroke-linejoin:miter;stroke:rgb(0%,0%,0%);stroke-opacity:1;stroke-miterlimit:10;\" d=\"M 34.014562 -28.348562 C 34.014562 -25.21575 31.479406 -22.676687 28.346594 -22.676687 C 25.213781 -22.676687 22.678625 -25.21575 22.678625 -28.348562 C 22.678625 -31.477469 25.213781 -34.016531 28.346594 -34.016531 C 31.479406 -34.016531 34.014562 -31.477469 34.014562 -28.348562 Z M 34.014562 -28.348562 \" transform=\"matrix(1,0,0,-1,89.837,16.128)\"/>\n",
       "<path style=\"fill:none;stroke-width:0.79701;stroke-linecap:butt;stroke-linejoin:miter;stroke:rgb(0%,0%,0%);stroke-opacity:1;stroke-miterlimit:10;\" d=\"M 28.346594 -22.676687 L 28.346594 -53.860281 \" transform=\"matrix(1,0,0,-1,89.837,16.128)\"/>\n",
       "<path style=\"fill-rule:nonzero;fill:rgb(0%,0%,0%);fill-opacity:1;stroke-width:0.3985;stroke-linecap:butt;stroke-linejoin:miter;stroke:rgb(0%,0%,0%);stroke-opacity:1;stroke-miterlimit:10;\" d=\"M 59.530187 -0.00090625 C 59.530187 1.5655 58.260656 2.835031 56.69425 2.835031 C 55.127844 2.835031 53.858312 1.5655 53.858312 -0.00090625 C 53.858312 -1.567312 55.127844 -2.832937 56.69425 -2.832937 C 58.260656 -2.832937 59.530187 -1.567312 59.530187 -0.00090625 Z M 59.530187 -0.00090625 \" transform=\"matrix(1,0,0,-1,89.837,16.128)\"/>\n",
       "<g clip-path=\"url(#clip2)\" clip-rule=\"nonzero\">\n",
       "<path style=\"fill:none;stroke-width:0.79701;stroke-linecap:butt;stroke-linejoin:miter;stroke:rgb(0%,0%,0%);stroke-opacity:1;stroke-miterlimit:10;\" d=\"M 62.362219 -85.039969 C 62.362219 -81.911062 59.823156 -79.372 56.69425 -79.372 C 53.561437 -79.372 51.026281 -81.911062 51.026281 -85.039969 C 51.026281 -88.172781 53.561437 -90.707937 56.69425 -90.707937 C 59.823156 -90.707937 62.362219 -88.172781 62.362219 -85.039969 Z M 62.362219 -85.039969 \" transform=\"matrix(1,0,0,-1,89.837,16.128)\"/>\n",
       "</g>\n",
       "<path style=\"fill:none;stroke-width:0.79701;stroke-linecap:butt;stroke-linejoin:miter;stroke:rgb(0%,0%,0%);stroke-opacity:1;stroke-miterlimit:10;\" d=\"M 56.69425 -2.832937 L 56.69425 -90.707937 \" transform=\"matrix(1,0,0,-1,89.837,16.128)\"/>\n",
       "<path style=\"fill-rule:nonzero;fill:rgb(0%,0%,0%);fill-opacity:1;stroke-width:0.3985;stroke-linecap:butt;stroke-linejoin:miter;stroke:rgb(0%,0%,0%);stroke-opacity:1;stroke-miterlimit:10;\" d=\"M 87.873937 -56.692312 C 87.873937 -55.129812 86.604406 -53.860281 85.041906 -53.860281 C 83.4755 -53.860281 82.205969 -55.129812 82.205969 -56.692312 C 82.205969 -58.258719 83.4755 -59.52825 85.041906 -59.52825 C 86.604406 -59.52825 87.873937 -58.258719 87.873937 -56.692312 Z M 87.873937 -56.692312 \" transform=\"matrix(1,0,0,-1,89.837,16.128)\"/>\n",
       "<g clip-path=\"url(#clip3)\" clip-rule=\"nonzero\">\n",
       "<path style=\"fill:none;stroke-width:0.79701;stroke-linecap:butt;stroke-linejoin:miter;stroke:rgb(0%,0%,0%);stroke-opacity:1;stroke-miterlimit:10;\" d=\"M 90.709875 -85.039969 C 90.709875 -81.911062 88.170812 -79.372 85.041906 -79.372 C 81.909094 -79.372 79.370031 -81.911062 79.370031 -85.039969 C 79.370031 -88.172781 81.909094 -90.707937 85.041906 -90.707937 C 88.170812 -90.707937 90.709875 -88.172781 90.709875 -85.039969 Z M 90.709875 -85.039969 \" transform=\"matrix(1,0,0,-1,89.837,16.128)\"/>\n",
       "</g>\n",
       "<path style=\"fill:none;stroke-width:0.79701;stroke-linecap:butt;stroke-linejoin:miter;stroke:rgb(0%,0%,0%);stroke-opacity:1;stroke-miterlimit:10;\" d=\"M 85.041906 -59.52825 L 85.041906 -90.707937 \" transform=\"matrix(1,0,0,-1,89.837,16.128)\"/>\n",
       "<path style=\"fill-rule:nonzero;fill:rgb(0%,0%,0%);fill-opacity:1;stroke-width:0.3985;stroke-linecap:butt;stroke-linejoin:miter;stroke:rgb(0%,0%,0%);stroke-opacity:1;stroke-miterlimit:10;\" d=\"M 116.221594 -28.348562 C 116.221594 -26.782156 114.952062 -25.512625 113.385656 -25.512625 C 111.823156 -25.512625 110.553625 -26.782156 110.553625 -28.348562 C 110.553625 -29.911062 111.823156 -31.180594 113.385656 -31.180594 C 114.952062 -31.180594 116.221594 -29.911062 116.221594 -28.348562 Z M 116.221594 -28.348562 \" transform=\"matrix(1,0,0,-1,89.837,16.128)\"/>\n",
       "<path style=\"fill:none;stroke-width:0.79701;stroke-linecap:butt;stroke-linejoin:miter;stroke:rgb(0%,0%,0%);stroke-opacity:1;stroke-miterlimit:10;\" d=\"M 119.057531 -56.692312 C 119.057531 -53.563406 116.518469 -51.024344 113.385656 -51.024344 C 110.25675 -51.024344 107.717687 -53.563406 107.717687 -56.692312 C 107.717687 -59.825125 110.25675 -62.364187 113.385656 -62.364187 C 116.518469 -62.364187 119.057531 -59.825125 119.057531 -56.692312 Z M 119.057531 -56.692312 \" transform=\"matrix(1,0,0,-1,89.837,16.128)\"/>\n",
       "<path style=\"fill:none;stroke-width:0.79701;stroke-linecap:butt;stroke-linejoin:miter;stroke:rgb(0%,0%,0%);stroke-opacity:1;stroke-miterlimit:10;\" d=\"M 113.385656 -31.180594 L 113.385656 -62.364187 \" transform=\"matrix(1,0,0,-1,89.837,16.128)\"/>\n",
       "<path style=\"fill-rule:nonzero;fill:rgb(0%,0%,0%);fill-opacity:1;stroke-width:0.3985;stroke-linecap:butt;stroke-linejoin:miter;stroke:rgb(0%,0%,0%);stroke-opacity:1;stroke-miterlimit:10;\" d=\"M 144.56925 -28.348562 C 144.56925 -26.782156 143.299719 -25.512625 141.733313 -25.512625 C 140.166906 -25.512625 138.897375 -26.782156 138.897375 -28.348562 C 138.897375 -29.911062 140.166906 -31.180594 141.733313 -31.180594 C 143.299719 -31.180594 144.56925 -29.911062 144.56925 -28.348562 Z M 144.56925 -28.348562 \" transform=\"matrix(1,0,0,-1,89.837,16.128)\"/>\n",
       "<g clip-path=\"url(#clip4)\" clip-rule=\"nonzero\">\n",
       "<path style=\"fill:none;stroke-width:0.79701;stroke-linecap:butt;stroke-linejoin:miter;stroke:rgb(0%,0%,0%);stroke-opacity:1;stroke-miterlimit:10;\" d=\"M 147.405188 -85.039969 C 147.405188 -81.911062 144.866125 -79.372 141.733313 -79.372 C 138.604406 -79.372 136.065344 -81.911062 136.065344 -85.039969 C 136.065344 -88.172781 138.604406 -90.707937 141.733313 -90.707937 C 144.866125 -90.707937 147.405188 -88.172781 147.405188 -85.039969 Z M 147.405188 -85.039969 \" transform=\"matrix(1,0,0,-1,89.837,16.128)\"/>\n",
       "</g>\n",
       "<path style=\"fill:none;stroke-width:0.79701;stroke-linecap:butt;stroke-linejoin:miter;stroke:rgb(0%,0%,0%);stroke-opacity:1;stroke-miterlimit:10;\" d=\"M 141.733313 -31.180594 L 141.733313 -90.707937 \" transform=\"matrix(1,0,0,-1,89.837,16.128)\"/>\n",
       "<path style=\"fill-rule:nonzero;fill:rgb(0%,0%,0%);fill-opacity:1;stroke-width:0.3985;stroke-linecap:butt;stroke-linejoin:miter;stroke:rgb(0%,0%,0%);stroke-opacity:1;stroke-miterlimit:10;\" d=\"M 172.916906 -85.039969 C 172.916906 -83.473562 171.647375 -82.204031 170.080969 -82.204031 C 168.514563 -82.204031 167.245031 -83.473562 167.245031 -85.039969 C 167.245031 -86.606375 168.514563 -87.875906 170.080969 -87.875906 C 171.647375 -87.875906 172.916906 -86.606375 172.916906 -85.039969 Z M 172.916906 -85.039969 \" transform=\"matrix(1,0,0,-1,89.837,16.128)\"/>\n",
       "<path style=\"fill:none;stroke-width:0.79701;stroke-linecap:butt;stroke-linejoin:miter;stroke:rgb(0%,0%,0%);stroke-opacity:1;stroke-miterlimit:10;\" d=\"M 175.748938 -28.348562 C 175.748938 -25.21575 173.213781 -22.676687 170.080969 -22.676687 C 166.948156 -22.676687 164.413 -25.21575 164.413 -28.348562 C 164.413 -31.477469 166.948156 -34.016531 170.080969 -34.016531 C 173.213781 -34.016531 175.748938 -31.477469 175.748938 -28.348562 Z M 175.748938 -28.348562 \" transform=\"matrix(1,0,0,-1,89.837,16.128)\"/>\n",
       "<path style=\"fill:none;stroke-width:0.79701;stroke-linecap:butt;stroke-linejoin:miter;stroke:rgb(0%,0%,0%);stroke-opacity:1;stroke-miterlimit:10;\" d=\"M 170.080969 -22.676687 L 170.080969 -82.204031 \" transform=\"matrix(1,0,0,-1,89.837,16.128)\"/>\n",
       "<path style=\"fill-rule:nonzero;fill:rgb(0%,0%,0%);fill-opacity:1;stroke-width:0.3985;stroke-linecap:butt;stroke-linejoin:miter;stroke:rgb(0%,0%,0%);stroke-opacity:1;stroke-miterlimit:10;\" d=\"M 201.260656 -0.00090625 C 201.260656 1.5655 199.995031 2.835031 198.428625 2.835031 C 196.862219 2.835031 195.592688 1.5655 195.592688 -0.00090625 C 195.592688 -1.567312 196.862219 -2.832937 198.428625 -2.832937 C 199.995031 -2.832937 201.260656 -1.567312 201.260656 -0.00090625 Z M 201.260656 -0.00090625 \" transform=\"matrix(1,0,0,-1,89.837,16.128)\"/>\n",
       "<g clip-path=\"url(#clip5)\" clip-rule=\"nonzero\">\n",
       "<path style=\"fill:none;stroke-width:0.79701;stroke-linecap:butt;stroke-linejoin:miter;stroke:rgb(0%,0%,0%);stroke-opacity:1;stroke-miterlimit:10;\" d=\"M 204.096594 -85.039969 C 204.096594 -81.911062 201.557531 -79.372 198.428625 -79.372 C 195.295813 -79.372 192.75675 -81.911062 192.75675 -85.039969 C 192.75675 -88.172781 195.295813 -90.707937 198.428625 -90.707937 C 201.557531 -90.707937 204.096594 -88.172781 204.096594 -85.039969 Z M 204.096594 -85.039969 \" transform=\"matrix(1,0,0,-1,89.837,16.128)\"/>\n",
       "</g>\n",
       "<path style=\"fill:none;stroke-width:0.79701;stroke-linecap:butt;stroke-linejoin:miter;stroke:rgb(0%,0%,0%);stroke-opacity:1;stroke-miterlimit:10;\" d=\"M 198.428625 -2.832937 L 198.428625 -90.707937 \" transform=\"matrix(1,0,0,-1,89.837,16.128)\"/>\n",
       "<path style=\"fill-rule:nonzero;fill:rgb(0%,0%,0%);fill-opacity:1;stroke-width:0.3985;stroke-linecap:butt;stroke-linejoin:miter;stroke:rgb(0%,0%,0%);stroke-opacity:1;stroke-miterlimit:10;\" d=\"M 229.608313 -56.692312 C 229.608313 -55.129812 228.338781 -53.860281 226.776281 -53.860281 C 225.209875 -53.860281 223.940344 -55.129812 223.940344 -56.692312 C 223.940344 -58.258719 225.209875 -59.52825 226.776281 -59.52825 C 228.338781 -59.52825 229.608313 -58.258719 229.608313 -56.692312 Z M 229.608313 -56.692312 \" transform=\"matrix(1,0,0,-1,89.837,16.128)\"/>\n",
       "<g clip-path=\"url(#clip6)\" clip-rule=\"nonzero\">\n",
       "<path style=\"fill:none;stroke-width:0.79701;stroke-linecap:butt;stroke-linejoin:miter;stroke:rgb(0%,0%,0%);stroke-opacity:1;stroke-miterlimit:10;\" d=\"M 232.44425 -85.039969 C 232.44425 -81.911062 229.905188 -79.372 226.776281 -79.372 C 223.643469 -79.372 221.104406 -81.911062 221.104406 -85.039969 C 221.104406 -88.172781 223.643469 -90.707937 226.776281 -90.707937 C 229.905188 -90.707937 232.44425 -88.172781 232.44425 -85.039969 Z M 232.44425 -85.039969 \" transform=\"matrix(1,0,0,-1,89.837,16.128)\"/>\n",
       "</g>\n",
       "<path style=\"fill:none;stroke-width:0.79701;stroke-linecap:butt;stroke-linejoin:miter;stroke:rgb(0%,0%,0%);stroke-opacity:1;stroke-miterlimit:10;\" d=\"M 226.776281 -59.52825 L 226.776281 -90.707937 \" transform=\"matrix(1,0,0,-1,89.837,16.128)\"/>\n",
       "<path style=\"fill-rule:nonzero;fill:rgb(0%,0%,0%);fill-opacity:1;stroke-width:0.3985;stroke-linecap:butt;stroke-linejoin:miter;stroke:rgb(0%,0%,0%);stroke-opacity:1;stroke-miterlimit:10;\" d=\"M 257.955969 -85.039969 C 257.955969 -83.473562 256.686438 -82.204031 255.120031 -82.204031 C 253.557531 -82.204031 252.288 -83.473562 252.288 -85.039969 C 252.288 -86.606375 253.557531 -87.875906 255.120031 -87.875906 C 256.686438 -87.875906 257.955969 -86.606375 257.955969 -85.039969 Z M 257.955969 -85.039969 \" transform=\"matrix(1,0,0,-1,89.837,16.128)\"/>\n",
       "<path style=\"fill:none;stroke-width:0.79701;stroke-linecap:butt;stroke-linejoin:miter;stroke:rgb(0%,0%,0%);stroke-opacity:1;stroke-miterlimit:10;\" d=\"M 260.791906 -56.692312 C 260.791906 -53.563406 258.252844 -51.024344 255.120031 -51.024344 C 251.991125 -51.024344 249.452063 -53.563406 249.452063 -56.692312 C 249.452063 -59.825125 251.991125 -62.364187 255.120031 -62.364187 C 258.252844 -62.364187 260.791906 -59.825125 260.791906 -56.692312 Z M 260.791906 -56.692312 \" transform=\"matrix(1,0,0,-1,89.837,16.128)\"/>\n",
       "<path style=\"fill:none;stroke-width:0.79701;stroke-linecap:butt;stroke-linejoin:miter;stroke:rgb(0%,0%,0%);stroke-opacity:1;stroke-miterlimit:10;\" d=\"M 255.120031 -51.024344 L 255.120031 -82.204031 \" transform=\"matrix(1,0,0,-1,89.837,16.128)\"/>\n",
       "<path style=\"fill-rule:nonzero;fill:rgb(0%,0%,0%);fill-opacity:1;stroke-width:0.3985;stroke-linecap:butt;stroke-linejoin:miter;stroke:rgb(0%,0%,0%);stroke-opacity:1;stroke-miterlimit:10;\" d=\"M 286.303625 -85.039969 C 286.303625 -83.473562 285.034094 -82.204031 283.467688 -82.204031 C 281.901281 -82.204031 280.63175 -83.473562 280.63175 -85.039969 C 280.63175 -86.606375 281.901281 -87.875906 283.467688 -87.875906 C 285.034094 -87.875906 286.303625 -86.606375 286.303625 -85.039969 Z M 286.303625 -85.039969 \" transform=\"matrix(1,0,0,-1,89.837,16.128)\"/>\n",
       "<path style=\"fill:none;stroke-width:0.79701;stroke-linecap:butt;stroke-linejoin:miter;stroke:rgb(0%,0%,0%);stroke-opacity:1;stroke-miterlimit:10;\" d=\"M 289.135656 -56.692312 C 289.135656 -53.563406 286.6005 -51.024344 283.467688 -51.024344 C 280.338781 -51.024344 277.799719 -53.563406 277.799719 -56.692312 C 277.799719 -59.825125 280.338781 -62.364187 283.467688 -62.364187 C 286.6005 -62.364187 289.135656 -59.825125 289.135656 -56.692312 Z M 289.135656 -56.692312 \" transform=\"matrix(1,0,0,-1,89.837,16.128)\"/>\n",
       "<path style=\"fill:none;stroke-width:0.79701;stroke-linecap:butt;stroke-linejoin:miter;stroke:rgb(0%,0%,0%);stroke-opacity:1;stroke-miterlimit:10;\" d=\"M 283.467688 -51.024344 L 283.467688 -82.204031 \" transform=\"matrix(1,0,0,-1,89.837,16.128)\"/>\n",
       "<path style=\"fill-rule:nonzero;fill:rgb(0%,0%,0%);fill-opacity:1;stroke-width:0.3985;stroke-linecap:butt;stroke-linejoin:miter;stroke:rgb(0%,0%,0%);stroke-opacity:1;stroke-miterlimit:10;\" d=\"M 314.651281 -56.692312 C 314.651281 -55.129812 313.38175 -53.860281 311.815344 -53.860281 C 310.248938 -53.860281 308.979406 -55.129812 308.979406 -56.692312 C 308.979406 -58.258719 310.248938 -59.52825 311.815344 -59.52825 C 313.38175 -59.52825 314.651281 -58.258719 314.651281 -56.692312 Z M 314.651281 -56.692312 \" transform=\"matrix(1,0,0,-1,89.837,16.128)\"/>\n",
       "<path style=\"fill:none;stroke-width:0.79701;stroke-linecap:butt;stroke-linejoin:miter;stroke:rgb(0%,0%,0%);stroke-opacity:1;stroke-miterlimit:10;\" d=\"M 317.483313 -0.00090625 C 317.483313 3.131906 314.94425 5.670969 311.815344 5.670969 C 308.682531 5.670969 306.147375 3.131906 306.147375 -0.00090625 C 306.147375 -3.129812 308.682531 -5.668875 311.815344 -5.668875 C 314.94425 -5.668875 317.483313 -3.129812 317.483313 -0.00090625 Z M 317.483313 -0.00090625 \" transform=\"matrix(1,0,0,-1,89.837,16.128)\"/>\n",
       "<path style=\"fill:none;stroke-width:0.79701;stroke-linecap:butt;stroke-linejoin:miter;stroke:rgb(0%,0%,0%);stroke-opacity:1;stroke-miterlimit:10;\" d=\"M 311.815344 5.670969 L 311.815344 -53.860281 \" transform=\"matrix(1,0,0,-1,89.837,16.128)\"/>\n",
       "<path style=\"fill-rule:nonzero;fill:rgb(0%,0%,0%);fill-opacity:1;stroke-width:0.3985;stroke-linecap:butt;stroke-linejoin:miter;stroke:rgb(0%,0%,0%);stroke-opacity:1;stroke-miterlimit:10;\" d=\"M 342.995031 -0.00090625 C 342.995031 1.5655 341.7255 2.835031 340.163 2.835031 C 338.596594 2.835031 337.327063 1.5655 337.327063 -0.00090625 C 337.327063 -1.567312 338.596594 -2.832937 340.163 -2.832937 C 341.7255 -2.832937 342.995031 -1.567312 342.995031 -0.00090625 Z M 342.995031 -0.00090625 \" transform=\"matrix(1,0,0,-1,89.837,16.128)\"/>\n",
       "<path style=\"fill:none;stroke-width:0.79701;stroke-linecap:butt;stroke-linejoin:miter;stroke:rgb(0%,0%,0%);stroke-opacity:1;stroke-miterlimit:10;\" d=\"M 345.830969 -28.348562 C 345.830969 -25.21575 343.291906 -22.676687 340.163 -22.676687 C 337.030188 -22.676687 334.491125 -25.21575 334.491125 -28.348562 C 334.491125 -31.477469 337.030188 -34.016531 340.163 -34.016531 C 343.291906 -34.016531 345.830969 -31.477469 345.830969 -28.348562 Z M 345.830969 -28.348562 \" transform=\"matrix(1,0,0,-1,89.837,16.128)\"/>\n",
       "<path style=\"fill:none;stroke-width:0.79701;stroke-linecap:butt;stroke-linejoin:miter;stroke:rgb(0%,0%,0%);stroke-opacity:1;stroke-miterlimit:10;\" d=\"M 340.163 -2.832937 L 340.163 -34.016531 \" transform=\"matrix(1,0,0,-1,89.837,16.128)\"/>\n",
       "<path style=\"fill-rule:nonzero;fill:rgb(0%,0%,0%);fill-opacity:1;stroke-width:0.3985;stroke-linecap:butt;stroke-linejoin:miter;stroke:rgb(0%,0%,0%);stroke-opacity:1;stroke-miterlimit:10;\" d=\"M 371.342688 -85.039969 C 371.342688 -83.473562 370.073156 -82.204031 368.50675 -82.204031 C 366.94425 -82.204031 365.674719 -83.473562 365.674719 -85.039969 C 365.674719 -86.606375 366.94425 -87.875906 368.50675 -87.875906 C 370.073156 -87.875906 371.342688 -86.606375 371.342688 -85.039969 Z M 371.342688 -85.039969 \" transform=\"matrix(1,0,0,-1,89.837,16.128)\"/>\n",
       "<path style=\"fill:none;stroke-width:0.79701;stroke-linecap:butt;stroke-linejoin:miter;stroke:rgb(0%,0%,0%);stroke-opacity:1;stroke-miterlimit:10;\" d=\"M 374.178625 -28.348562 C 374.178625 -25.21575 371.639563 -22.676687 368.50675 -22.676687 C 365.377844 -22.676687 362.838781 -25.21575 362.838781 -28.348562 C 362.838781 -31.477469 365.377844 -34.016531 368.50675 -34.016531 C 371.639563 -34.016531 374.178625 -31.477469 374.178625 -28.348562 Z M 374.178625 -28.348562 \" transform=\"matrix(1,0,0,-1,89.837,16.128)\"/>\n",
       "<path style=\"fill:none;stroke-width:0.79701;stroke-linecap:butt;stroke-linejoin:miter;stroke:rgb(0%,0%,0%);stroke-opacity:1;stroke-miterlimit:10;\" d=\"M 368.50675 -22.676687 L 368.50675 -82.204031 \" transform=\"matrix(1,0,0,-1,89.837,16.128)\"/>\n",
       "<path style=\"fill-rule:nonzero;fill:rgb(0%,0%,0%);fill-opacity:1;stroke-width:0.3985;stroke-linecap:butt;stroke-linejoin:miter;stroke:rgb(0%,0%,0%);stroke-opacity:1;stroke-miterlimit:10;\" d=\"M 399.690344 -0.00090625 C 399.690344 1.5655 398.420813 2.835031 396.854406 2.835031 C 395.288 2.835031 394.022375 1.5655 394.022375 -0.00090625 C 394.022375 -1.567312 395.288 -2.832937 396.854406 -2.832937 C 398.420813 -2.832937 399.690344 -1.567312 399.690344 -0.00090625 Z M 399.690344 -0.00090625 \" transform=\"matrix(1,0,0,-1,89.837,16.128)\"/>\n",
       "<g clip-path=\"url(#clip7)\" clip-rule=\"nonzero\">\n",
       "<path style=\"fill:none;stroke-width:0.79701;stroke-linecap:butt;stroke-linejoin:miter;stroke:rgb(0%,0%,0%);stroke-opacity:1;stroke-miterlimit:10;\" d=\"M 402.526281 -85.039969 C 402.526281 -81.911062 399.987219 -79.372 396.854406 -79.372 C 393.7255 -79.372 391.186438 -81.911062 391.186438 -85.039969 C 391.186438 -88.172781 393.7255 -90.707937 396.854406 -90.707937 C 399.987219 -90.707937 402.526281 -88.172781 402.526281 -85.039969 Z M 402.526281 -85.039969 \" transform=\"matrix(1,0,0,-1,89.837,16.128)\"/>\n",
       "</g>\n",
       "<path style=\"fill:none;stroke-width:0.79701;stroke-linecap:butt;stroke-linejoin:miter;stroke:rgb(0%,0%,0%);stroke-opacity:1;stroke-miterlimit:10;\" d=\"M 396.854406 -2.832937 L 396.854406 -90.707937 \" transform=\"matrix(1,0,0,-1,89.837,16.128)\"/>\n",
       "<path style=\"fill-rule:nonzero;fill:rgb(0%,0%,0%);fill-opacity:1;stroke-width:0.3985;stroke-linecap:butt;stroke-linejoin:miter;stroke:rgb(0%,0%,0%);stroke-opacity:1;stroke-miterlimit:10;\" d=\"M 428.038 -85.039969 C 428.038 -83.473562 426.768469 -82.204031 425.202063 -82.204031 C 423.635656 -82.204031 422.366125 -83.473562 422.366125 -85.039969 C 422.366125 -86.606375 423.635656 -87.875906 425.202063 -87.875906 C 426.768469 -87.875906 428.038 -86.606375 428.038 -85.039969 Z M 428.038 -85.039969 \" transform=\"matrix(1,0,0,-1,89.837,16.128)\"/>\n",
       "<path style=\"fill:none;stroke-width:0.79701;stroke-linecap:butt;stroke-linejoin:miter;stroke:rgb(0%,0%,0%);stroke-opacity:1;stroke-miterlimit:10;\" d=\"M 430.870031 -28.348562 C 430.870031 -25.21575 428.334875 -22.676687 425.202063 -22.676687 C 422.06925 -22.676687 419.534094 -25.21575 419.534094 -28.348562 C 419.534094 -31.477469 422.06925 -34.016531 425.202063 -34.016531 C 428.334875 -34.016531 430.870031 -31.477469 430.870031 -28.348562 Z M 430.870031 -28.348562 \" transform=\"matrix(1,0,0,-1,89.837,16.128)\"/>\n",
       "<path style=\"fill:none;stroke-width:0.79701;stroke-linecap:butt;stroke-linejoin:miter;stroke:rgb(0%,0%,0%);stroke-opacity:1;stroke-miterlimit:10;\" d=\"M 425.202063 -22.676687 L 425.202063 -82.204031 \" transform=\"matrix(1,0,0,-1,89.837,16.128)\"/>\n",
       "</g>\n",
       "</svg>"
      ],
      "text/plain": [
       "<IPython.core.display.SVG object>"
      ]
     },
     "execution_count": 12,
     "metadata": {},
     "output_type": "execute_result"
    }
   ],
   "source": [
    "(size, sec_size, input_file_path) = run_argument_tuples[3]\n",
    "\n",
    "input_circuit = file_to_circuit(input_file_path)\n",
    "\n",
    "print(input_circuit)\n",
    "\n",
    "input_diagram_file_name = circuit_to_svg(input_circuit, size, diagram_dir, circuit_file_prefix + '_in')\n",
    "\n",
    "print(f'input circuit length: {len(input_circuit)}')\n",
    "SVG(rf'..\\{diagram_dir}\\{input_diagram_file_name}')"
   ]
  },
  {
   "cell_type": "markdown",
   "metadata": {},
   "source": [
    "### DIAGRAM OF OUTPUT CIRCUIT\n",
    "\n",
    "The input circuit is converted into a matrix and an output circuit is synthesised. The output circuit is then displayed."
   ]
  },
  {
   "cell_type": "code",
   "execution_count": 13,
   "metadata": {
    "pycharm": {
     "name": "#%%\n"
    }
   },
   "outputs": [
    {
     "name": "stdout",
     "output_type": "stream",
     "text": [
      "[(1, 3), (2, 1), (0, 3), (2, 3), (1, 2), (1, 3), (3, 1), (0, 3), (2, 3), (3, 2), (3, 2), (2, 0), (0, 1), (3, 1), (0, 3), (3, 1)]\n",
      "[[1, 1, 0, 0], [1, 1, 1, 1], [0, 1, 0, 0], [1, 0, 0, 1]]\n",
      "output circuit length: 9\n"
     ]
    },
    {
     "data": {
      "image/svg+xml": [
       "<svg xmlns=\"http://www.w3.org/2000/svg\" xmlns:xlink=\"http://www.w3.org/1999/xlink\" width=\"421.86pt\" height=\"117.29pt\" viewBox=\"0 0 421.86 117.29\" version=\"1.1\">\n",
       "<defs>\n",
       "<g>\n",
       "<symbol overflow=\"visible\" id=\"glyph0-0\">\n",
       "<path style=\"stroke:none;\" d=\"\"/>\n",
       "</symbol>\n",
       "<symbol overflow=\"visible\" id=\"glyph0-1\">\n",
       "<path style=\"stroke:none;\" d=\"M 5.796875 0 L 5.796875 -0.53125 C 4.3125 -0.53125 4.0625 -0.53125 4.0625 -1.46875 L 4.0625 -12.640625 C 4.0625 -13.578125 4.3125 -13.578125 5.796875 -13.578125 L 5.796875 -14.109375 C 5.140625 -14.0625 4.09375 -14.0625 3.390625 -14.0625 C 2.6875 -14.0625 1.625 -14.0625 0.96875 -14.109375 L 0.96875 -13.578125 C 2.453125 -13.578125 2.703125 -13.578125 2.703125 -12.640625 L 2.703125 -1.46875 C 2.703125 -0.53125 2.453125 -0.53125 0.96875 -0.53125 L 0.96875 0 C 1.625 -0.046875 2.6875 -0.046875 3.390625 -0.046875 C 4.09375 -0.046875 5.140625 -0.046875 5.796875 0 Z M 5.796875 0 \"/>\n",
       "</symbol>\n",
       "<symbol overflow=\"visible\" id=\"glyph0-2\">\n",
       "<path style=\"stroke:none;\" d=\"M 9.984375 0 L 9.984375 -0.53125 C 8.65625 -0.53125 8.578125 -0.625 8.578125 -1.421875 L 8.578125 -6.28125 C 8.578125 -7.328125 8.359375 -9.046875 5.921875 -9.046875 C 4.296875 -9.046875 3.453125 -7.78125 3.140625 -6.96875 L 3.125 -6.96875 L 3.125 -9.046875 L 0.6875 -8.8125 L 0.6875 -8.28125 C 1.90625 -8.28125 2.09375 -8.15625 2.09375 -7.171875 L 2.09375 -1.421875 C 2.09375 -0.640625 2 -0.53125 0.6875 -0.53125 L 0.6875 0 C 1.171875 -0.046875 2.09375 -0.046875 2.625 -0.046875 C 3.15625 -0.046875 4.09375 -0.046875 4.578125 0 L 4.578125 -0.53125 C 3.265625 -0.53125 3.1875 -0.625 3.1875 -1.421875 L 3.1875 -5.390625 C 3.1875 -7.296875 4.34375 -8.71875 5.78125 -8.71875 C 7.3125 -8.71875 7.484375 -7.359375 7.484375 -6.359375 L 7.484375 -1.421875 C 7.484375 -0.640625 7.390625 -0.53125 6.078125 -0.53125 L 6.078125 0 C 6.5625 -0.046875 7.484375 -0.046875 8.015625 -0.046875 C 8.546875 -0.046875 9.484375 -0.046875 9.984375 0 Z M 9.984375 0 \"/>\n",
       "</symbol>\n",
       "<symbol overflow=\"visible\" id=\"glyph0-3\">\n",
       "<path style=\"stroke:none;\" d=\"M 9.859375 -4.46875 C 9.859375 -7.0625 8.0625 -9.046875 5.921875 -9.046875 C 4.6875 -9.046875 3.671875 -8.359375 3.09375 -7.546875 L 3.09375 -9.046875 L 0.640625 -8.8125 L 0.640625 -8.28125 C 1.859375 -8.28125 2.046875 -8.15625 2.046875 -7.171875 L 2.046875 2.609375 C 2.046875 3.390625 1.96875 3.484375 0.640625 3.484375 L 0.640625 4.03125 C 1.140625 3.984375 2.046875 3.984375 2.578125 3.984375 C 3.125 3.984375 4.046875 3.984375 4.546875 4.03125 L 4.546875 3.484375 C 3.21875 3.484375 3.140625 3.40625 3.140625 2.609375 L 3.140625 -1.265625 C 3.734375 -0.390625 4.609375 0.171875 5.703125 0.171875 C 7.765625 0.171875 9.859375 -1.65625 9.859375 -4.46875 Z M 8.53125 -4.4375 C 8.53125 -2.09375 7.203125 -0.171875 5.578125 -0.171875 C 4.828125 -0.171875 4.03125 -0.515625 3.40625 -1.484375 C 3.140625 -1.9375 3.140625 -2.0625 3.140625 -2.390625 L 3.140625 -6.484375 C 3.140625 -6.78125 3.140625 -7.203125 3.953125 -7.96875 C 4.046875 -8.0625 4.75 -8.671875 5.78125 -8.671875 C 7.296875 -8.671875 8.53125 -6.796875 8.53125 -4.4375 Z M 8.53125 -4.4375 \"/>\n",
       "</symbol>\n",
       "<symbol overflow=\"visible\" id=\"glyph0-4\">\n",
       "<path style=\"stroke:none;\" d=\"M 9.984375 0 L 9.984375 -0.53125 C 8.765625 -0.53125 8.578125 -0.65625 8.578125 -1.65625 L 8.578125 -9.046875 L 6.078125 -8.8125 L 6.078125 -8.28125 C 7.296875 -8.28125 7.484375 -8.15625 7.484375 -7.171875 L 7.484375 -3.40625 C 7.484375 -1.671875 6.546875 -0.171875 5.015625 -0.171875 C 3.328125 -0.171875 3.1875 -1.171875 3.1875 -2.25 L 3.1875 -9.046875 L 0.6875 -8.8125 L 0.6875 -8.28125 C 1.515625 -8.28125 2.0625 -8.28125 2.09375 -7.453125 L 2.09375 -3.484375 C 2.09375 -2.109375 2.09375 -1.21875 2.625 -0.640625 C 2.890625 -0.375 3.40625 0.171875 4.890625 0.171875 C 6.65625 0.171875 7.328125 -1.328125 7.5 -1.75 L 7.515625 -1.75 L 7.515625 0.171875 Z M 9.984375 0 \"/>\n",
       "</symbol>\n",
       "<symbol overflow=\"visible\" id=\"glyph0-5\">\n",
       "<path style=\"stroke:none;\" d=\"M 6.34375 -2.5625 L 6.34375 -3.734375 L 5.96875 -3.734375 L 5.96875 -2.578125 C 5.96875 -1.15625 5.40625 -0.203125 4.546875 -0.203125 C 3.953125 -0.203125 3.125 -0.625 3.125 -2.5 L 3.125 -8.34375 L 6.015625 -8.34375 L 6.015625 -8.875 L 3.125 -8.875 L 3.125 -12.703125 L 2.75 -12.703125 C 2.703125 -10.578125 1.984375 -8.71875 0.234375 -8.671875 L 0.234375 -8.34375 L 2.03125 -8.34375 L 2.03125 -2.546875 C 2.03125 -2.140625 2.03125 0.171875 4.421875 0.171875 C 5.640625 0.171875 6.34375 -1.03125 6.34375 -2.5625 Z M 6.34375 -2.5625 \"/>\n",
       "</symbol>\n",
       "<symbol overflow=\"visible\" id=\"glyph0-6\">\n",
       "<path style=\"stroke:none;\" d=\"M 7.9375 0 L 7.9375 -0.53125 L 7.3125 -0.53125 C 5.53125 -0.53125 5.5 -0.765625 5.5 -1.515625 L 5.5 -13.203125 C 5.5 -13.640625 5.46875 -13.65625 5.1875 -13.65625 C 4.375 -12.6875 3.15625 -12.375 2 -12.328125 C 1.9375 -12.328125 1.84375 -12.328125 1.8125 -12.296875 C 1.796875 -12.25 1.796875 -12.203125 1.796875 -11.78125 C 2.4375 -11.78125 3.515625 -11.890625 4.34375 -12.390625 L 4.34375 -1.515625 C 4.34375 -0.78125 4.296875 -0.53125 2.515625 -0.53125 L 1.90625 -0.53125 L 1.90625 0 L 4.921875 -0.046875 Z M 7.9375 0 \"/>\n",
       "</symbol>\n",
       "<symbol overflow=\"visible\" id=\"glyph0-7\">\n",
       "<path style=\"stroke:none;\" d=\"M 13.90625 -7.015625 C 13.90625 -11.25 10.859375 -14.4375 7.4375 -14.4375 C 3.921875 -14.4375 0.953125 -11.21875 0.953125 -7.015625 C 0.953125 -2.828125 3.96875 0.328125 7.421875 0.328125 C 10.953125 0.328125 13.90625 -2.890625 13.90625 -7.015625 Z M 12.328125 -7.296875 C 12.328125 -2.3125 9.703125 -0.046875 7.4375 -0.046875 C 5.078125 -0.046875 2.515625 -2.390625 2.515625 -7.296875 C 2.515625 -12.171875 5.328125 -14.0625 7.421875 -14.0625 C 9.609375 -14.0625 12.328125 -12.109375 12.328125 -7.296875 Z M 12.328125 -7.296875 \"/>\n",
       "</symbol>\n",
       "<symbol overflow=\"visible\" id=\"glyph0-8\">\n",
       "<path style=\"stroke:none;\" d=\"M 8.609375 -3.203125 L 8.234375 -3.203125 C 8.03125 -1.734375 7.875 -1.484375 7.78125 -1.359375 C 7.6875 -1.203125 6.203125 -1.203125 5.90625 -1.203125 L 1.9375 -1.203125 L 5.890625 -5.171875 C 7.140625 -6.359375 8.609375 -7.765625 8.609375 -9.8125 C 8.609375 -12.25 6.671875 -13.65625 4.5 -13.65625 C 2.234375 -13.65625 0.84375 -11.65625 0.84375 -9.796875 C 0.84375 -8.984375 1.453125 -8.875 1.6875 -8.875 C 1.90625 -8.875 2.515625 -9 2.515625 -9.734375 C 2.515625 -10.375 1.984375 -10.5625 1.6875 -10.5625 C 1.5625 -10.5625 1.453125 -10.53125 1.359375 -10.5 C 1.75 -12.25 2.953125 -13.109375 4.21875 -13.109375 C 6.015625 -13.109375 7.1875 -11.6875 7.1875 -9.8125 C 7.1875 -8.015625 6.140625 -6.46875 4.953125 -5.125 L 0.84375 -0.46875 L 0.84375 0 L 8.125 0 Z M 8.609375 -3.203125 \"/>\n",
       "</symbol>\n",
       "<symbol overflow=\"visible\" id=\"glyph0-9\">\n",
       "<path style=\"stroke:none;\" d=\"M 8.78125 -3.578125 C 8.78125 -5.578125 7.125 -7.015625 5.171875 -7.25 C 6.734375 -7.578125 8.234375 -8.984375 8.234375 -10.859375 C 8.234375 -12.46875 6.609375 -13.65625 4.75 -13.65625 C 2.875 -13.65625 1.21875 -12.5 1.21875 -10.84375 C 1.21875 -10.125 1.75 -10 2.03125 -10 C 2.453125 -10 2.828125 -10.265625 2.828125 -10.796875 C 2.828125 -11.34375 2.453125 -11.609375 2.03125 -11.609375 C 1.9375 -11.609375 1.84375 -11.609375 1.75 -11.5625 C 2.359375 -12.9375 3.984375 -13.171875 4.703125 -13.171875 C 5.4375 -13.171875 6.796875 -12.828125 6.796875 -10.84375 C 6.796875 -10.265625 6.71875 -9.234375 6.015625 -8.328125 C 5.390625 -7.515625 4.6875 -7.484375 4 -7.421875 C 3.90625 -7.421875 3.421875 -7.375 3.34375 -7.375 C 3.203125 -7.359375 3.125 -7.328125 3.125 -7.1875 C 3.125 -7.046875 3.140625 -7.015625 3.546875 -7.015625 L 4.5625 -7.015625 C 6.40625 -7.015625 7.203125 -5.4375 7.203125 -3.59375 C 7.203125 -1.109375 5.890625 -0.171875 4.6875 -0.171875 C 3.59375 -0.171875 1.8125 -0.703125 1.265625 -2.296875 C 1.359375 -2.25 1.46875 -2.25 1.5625 -2.25 C 2.0625 -2.25 2.4375 -2.578125 2.4375 -3.125 C 2.4375 -3.71875 1.984375 -3.984375 1.5625 -3.984375 C 1.21875 -3.984375 0.6875 -3.828125 0.6875 -3.0625 C 0.6875 -1.15625 2.546875 0.328125 4.734375 0.328125 C 7.015625 0.328125 8.78125 -1.46875 8.78125 -3.578125 Z M 8.78125 -3.578125 \"/>\n",
       "</symbol>\n",
       "<symbol overflow=\"visible\" id=\"glyph0-10\">\n",
       "<path style=\"stroke:none;\" d=\"M 9.046875 -3.515625 L 9.046875 -4.046875 L 6.9375 -4.046875 L 6.9375 -13.359375 C 6.9375 -13.796875 6.921875 -13.8125 6.546875 -13.8125 L 0.40625 -4.046875 L 0.40625 -3.515625 L 5.75 -3.515625 L 5.75 -1.484375 C 5.75 -0.75 5.703125 -0.53125 4.25 -0.53125 L 3.859375 -0.53125 L 3.859375 0 C 4.53125 -0.046875 5.640625 -0.046875 6.34375 -0.046875 C 7.046875 -0.046875 8.15625 -0.046875 8.8125 0 L 8.8125 -0.53125 L 8.421875 -0.53125 C 6.984375 -0.53125 6.9375 -0.75 6.9375 -1.484375 L 6.9375 -3.515625 Z M 5.796875 -4.046875 L 0.828125 -4.046875 L 5.796875 -12 Z M 5.796875 -4.046875 \"/>\n",
       "</symbol>\n",
       "</g>\n",
       "<clipPath id=\"clip1\">\n",
       "  <path d=\"M 157 84 L 192 84 L 192 117.289062 L 157 117.289062 Z M 157 84 \"/>\n",
       "</clipPath>\n",
       "<clipPath id=\"clip2\">\n",
       "  <path d=\"M 186 84 L 221 84 L 221 117.289062 L 186 117.289062 Z M 186 84 \"/>\n",
       "</clipPath>\n",
       "<clipPath id=\"clip3\">\n",
       "  <path d=\"M 271 84 L 306 84 L 306 117.289062 L 271 117.289062 Z M 271 84 \"/>\n",
       "</clipPath>\n",
       "</defs>\n",
       "<g id=\"surface1\">\n",
       "<path style=\"fill:none;stroke-width:0.79701;stroke-linecap:butt;stroke-linejoin:miter;stroke:rgb(0%,0%,0%);stroke-opacity:1;stroke-miterlimit:10;\" d=\"M -14.172938 -0.00090625 L 240.948156 -0.00090625 \" transform=\"matrix(1,0,0,-1,89.837,16.128)\"/>\n",
       "<g style=\"fill:rgb(0%,0%,0%);fill-opacity:1;\">\n",
       "  <use xlink:href=\"#glyph0-1\" x=\"6.886\" y=\"21.17\"/>\n",
       "  <use xlink:href=\"#glyph0-2\" x=\"13.6633\" y=\"21.17\"/>\n",
       "  <use xlink:href=\"#glyph0-3\" x=\"24.221837\" y=\"21.17\"/>\n",
       "  <use xlink:href=\"#glyph0-4\" x=\"34.780375\" y=\"21.17\"/>\n",
       "  <use xlink:href=\"#glyph0-5\" x=\"45.338912\" y=\"21.17\"/>\n",
       "</g>\n",
       "<g style=\"fill:rgb(0%,0%,0%);fill-opacity:1;\">\n",
       "  <use xlink:href=\"#glyph0-6\" x=\"58.87285\" y=\"21.17\"/>\n",
       "</g>\n",
       "<g style=\"fill:rgb(0%,0%,0%);fill-opacity:1;\">\n",
       "  <use xlink:href=\"#glyph0-7\" x=\"338.07\" y=\"21.335\"/>\n",
       "  <use xlink:href=\"#glyph0-4\" x=\"352.947\" y=\"21.335\"/>\n",
       "  <use xlink:href=\"#glyph0-5\" x=\"363.505537\" y=\"21.335\"/>\n",
       "  <use xlink:href=\"#glyph0-3\" x=\"370.820062\" y=\"21.335\"/>\n",
       "  <use xlink:href=\"#glyph0-4\" x=\"381.3786\" y=\"21.335\"/>\n",
       "  <use xlink:href=\"#glyph0-5\" x=\"391.937137\" y=\"21.335\"/>\n",
       "</g>\n",
       "<g style=\"fill:rgb(0%,0%,0%);fill-opacity:1;\">\n",
       "  <use xlink:href=\"#glyph0-6\" x=\"405.471075\" y=\"21.335\"/>\n",
       "</g>\n",
       "<path style=\"fill:none;stroke-width:0.79701;stroke-linecap:butt;stroke-linejoin:miter;stroke:rgb(0%,0%,0%);stroke-opacity:1;stroke-miterlimit:10;\" d=\"M -14.172938 -28.348562 L 240.948156 -28.348562 \" transform=\"matrix(1,0,0,-1,89.837,16.128)\"/>\n",
       "<g style=\"fill:rgb(0%,0%,0%);fill-opacity:1;\">\n",
       "  <use xlink:href=\"#glyph0-1\" x=\"6.886\" y=\"49.517\"/>\n",
       "  <use xlink:href=\"#glyph0-2\" x=\"13.6633\" y=\"49.517\"/>\n",
       "  <use xlink:href=\"#glyph0-3\" x=\"24.221837\" y=\"49.517\"/>\n",
       "  <use xlink:href=\"#glyph0-4\" x=\"34.780375\" y=\"49.517\"/>\n",
       "  <use xlink:href=\"#glyph0-5\" x=\"45.338912\" y=\"49.517\"/>\n",
       "</g>\n",
       "<g style=\"fill:rgb(0%,0%,0%);fill-opacity:1;\">\n",
       "  <use xlink:href=\"#glyph0-8\" x=\"58.87285\" y=\"49.517\"/>\n",
       "</g>\n",
       "<g style=\"fill:rgb(0%,0%,0%);fill-opacity:1;\">\n",
       "  <use xlink:href=\"#glyph0-7\" x=\"338.07\" y=\"49.682\"/>\n",
       "  <use xlink:href=\"#glyph0-4\" x=\"352.947\" y=\"49.682\"/>\n",
       "  <use xlink:href=\"#glyph0-5\" x=\"363.505537\" y=\"49.682\"/>\n",
       "  <use xlink:href=\"#glyph0-3\" x=\"370.820062\" y=\"49.682\"/>\n",
       "  <use xlink:href=\"#glyph0-4\" x=\"381.3786\" y=\"49.682\"/>\n",
       "  <use xlink:href=\"#glyph0-5\" x=\"391.937137\" y=\"49.682\"/>\n",
       "</g>\n",
       "<g style=\"fill:rgb(0%,0%,0%);fill-opacity:1;\">\n",
       "  <use xlink:href=\"#glyph0-8\" x=\"405.471075\" y=\"49.682\"/>\n",
       "</g>\n",
       "<path style=\"fill:none;stroke-width:0.79701;stroke-linecap:butt;stroke-linejoin:miter;stroke:rgb(0%,0%,0%);stroke-opacity:1;stroke-miterlimit:10;\" d=\"M -14.172938 -56.692312 L 240.948156 -56.692312 \" transform=\"matrix(1,0,0,-1,89.837,16.128)\"/>\n",
       "<g style=\"fill:rgb(0%,0%,0%);fill-opacity:1;\">\n",
       "  <use xlink:href=\"#glyph0-1\" x=\"6.886\" y=\"77.863\"/>\n",
       "  <use xlink:href=\"#glyph0-2\" x=\"13.6633\" y=\"77.863\"/>\n",
       "  <use xlink:href=\"#glyph0-3\" x=\"24.221837\" y=\"77.863\"/>\n",
       "  <use xlink:href=\"#glyph0-4\" x=\"34.780375\" y=\"77.863\"/>\n",
       "  <use xlink:href=\"#glyph0-5\" x=\"45.338912\" y=\"77.863\"/>\n",
       "</g>\n",
       "<g style=\"fill:rgb(0%,0%,0%);fill-opacity:1;\">\n",
       "  <use xlink:href=\"#glyph0-9\" x=\"58.87285\" y=\"77.863\"/>\n",
       "</g>\n",
       "<g style=\"fill:rgb(0%,0%,0%);fill-opacity:1;\">\n",
       "  <use xlink:href=\"#glyph0-7\" x=\"338.07\" y=\"78.029\"/>\n",
       "  <use xlink:href=\"#glyph0-4\" x=\"352.947\" y=\"78.029\"/>\n",
       "  <use xlink:href=\"#glyph0-5\" x=\"363.505537\" y=\"78.029\"/>\n",
       "  <use xlink:href=\"#glyph0-3\" x=\"370.820062\" y=\"78.029\"/>\n",
       "  <use xlink:href=\"#glyph0-4\" x=\"381.3786\" y=\"78.029\"/>\n",
       "  <use xlink:href=\"#glyph0-5\" x=\"391.937137\" y=\"78.029\"/>\n",
       "</g>\n",
       "<g style=\"fill:rgb(0%,0%,0%);fill-opacity:1;\">\n",
       "  <use xlink:href=\"#glyph0-9\" x=\"405.471075\" y=\"78.029\"/>\n",
       "</g>\n",
       "<path style=\"fill:none;stroke-width:0.79701;stroke-linecap:butt;stroke-linejoin:miter;stroke:rgb(0%,0%,0%);stroke-opacity:1;stroke-miterlimit:10;\" d=\"M -14.172938 -85.039969 L 240.948156 -85.039969 \" transform=\"matrix(1,0,0,-1,89.837,16.128)\"/>\n",
       "<g style=\"fill:rgb(0%,0%,0%);fill-opacity:1;\">\n",
       "  <use xlink:href=\"#glyph0-1\" x=\"6.886\" y=\"106.21\"/>\n",
       "  <use xlink:href=\"#glyph0-2\" x=\"13.6633\" y=\"106.21\"/>\n",
       "  <use xlink:href=\"#glyph0-3\" x=\"24.221837\" y=\"106.21\"/>\n",
       "  <use xlink:href=\"#glyph0-4\" x=\"34.780375\" y=\"106.21\"/>\n",
       "  <use xlink:href=\"#glyph0-5\" x=\"45.338912\" y=\"106.21\"/>\n",
       "</g>\n",
       "<g style=\"fill:rgb(0%,0%,0%);fill-opacity:1;\">\n",
       "  <use xlink:href=\"#glyph0-10\" x=\"58.87285\" y=\"106.21\"/>\n",
       "</g>\n",
       "<g style=\"fill:rgb(0%,0%,0%);fill-opacity:1;\">\n",
       "  <use xlink:href=\"#glyph0-7\" x=\"338.07\" y=\"106.375\"/>\n",
       "  <use xlink:href=\"#glyph0-4\" x=\"352.947\" y=\"106.375\"/>\n",
       "  <use xlink:href=\"#glyph0-5\" x=\"363.505537\" y=\"106.375\"/>\n",
       "  <use xlink:href=\"#glyph0-3\" x=\"370.820062\" y=\"106.375\"/>\n",
       "  <use xlink:href=\"#glyph0-4\" x=\"381.3786\" y=\"106.375\"/>\n",
       "  <use xlink:href=\"#glyph0-5\" x=\"391.937137\" y=\"106.375\"/>\n",
       "</g>\n",
       "<g style=\"fill:rgb(0%,0%,0%);fill-opacity:1;\">\n",
       "  <use xlink:href=\"#glyph0-10\" x=\"405.471075\" y=\"106.375\"/>\n",
       "</g>\n",
       "<path style=\"fill-rule:nonzero;fill:rgb(0%,0%,0%);fill-opacity:1;stroke-width:0.3985;stroke-linecap:butt;stroke-linejoin:miter;stroke:rgb(0%,0%,0%);stroke-opacity:1;stroke-miterlimit:10;\" d=\"M 2.834875 -85.039969 C 2.834875 -83.473562 1.565344 -82.204031 -0.0010625 -82.204031 C -1.567469 -82.204031 -2.833094 -83.473562 -2.833094 -85.039969 C -2.833094 -86.606375 -1.567469 -87.875906 -0.0010625 -87.875906 C 1.565344 -87.875906 2.834875 -86.606375 2.834875 -85.039969 Z M 2.834875 -85.039969 \" transform=\"matrix(1,0,0,-1,89.837,16.128)\"/>\n",
       "<path style=\"fill:none;stroke-width:0.79701;stroke-linecap:butt;stroke-linejoin:miter;stroke:rgb(0%,0%,0%);stroke-opacity:1;stroke-miterlimit:10;\" d=\"M 5.670812 -56.692312 C 5.670812 -53.563406 3.13175 -51.024344 -0.0010625 -51.024344 C -3.129969 -51.024344 -5.669031 -53.563406 -5.669031 -56.692312 C -5.669031 -59.825125 -3.129969 -62.364187 -0.0010625 -62.364187 C 3.13175 -62.364187 5.670812 -59.825125 5.670812 -56.692312 Z M 5.670812 -56.692312 \" transform=\"matrix(1,0,0,-1,89.837,16.128)\"/>\n",
       "<path style=\"fill:none;stroke-width:0.79701;stroke-linecap:butt;stroke-linejoin:miter;stroke:rgb(0%,0%,0%);stroke-opacity:1;stroke-miterlimit:10;\" d=\"M -0.0010625 -51.024344 L -0.0010625 -82.204031 \" transform=\"matrix(1,0,0,-1,89.837,16.128)\"/>\n",
       "<path style=\"fill-rule:nonzero;fill:rgb(0%,0%,0%);fill-opacity:1;stroke-width:0.3985;stroke-linecap:butt;stroke-linejoin:miter;stroke:rgb(0%,0%,0%);stroke-opacity:1;stroke-miterlimit:10;\" d=\"M 31.182531 -28.348562 C 31.182531 -26.782156 29.913 -25.512625 28.346594 -25.512625 C 26.780187 -25.512625 25.510656 -26.782156 25.510656 -28.348562 C 25.510656 -29.911062 26.780187 -31.180594 28.346594 -31.180594 C 29.913 -31.180594 31.182531 -29.911062 31.182531 -28.348562 Z M 31.182531 -28.348562 \" transform=\"matrix(1,0,0,-1,89.837,16.128)\"/>\n",
       "<path style=\"fill:none;stroke-width:0.79701;stroke-linecap:butt;stroke-linejoin:miter;stroke:rgb(0%,0%,0%);stroke-opacity:1;stroke-miterlimit:10;\" d=\"M 34.014562 -0.00090625 C 34.014562 3.131906 31.479406 5.670969 28.346594 5.670969 C 25.213781 5.670969 22.678625 3.131906 22.678625 -0.00090625 C 22.678625 -3.129812 25.213781 -5.668875 28.346594 -5.668875 C 31.479406 -5.668875 34.014562 -3.129812 34.014562 -0.00090625 Z M 34.014562 -0.00090625 \" transform=\"matrix(1,0,0,-1,89.837,16.128)\"/>\n",
       "<path style=\"fill:none;stroke-width:0.79701;stroke-linecap:butt;stroke-linejoin:miter;stroke:rgb(0%,0%,0%);stroke-opacity:1;stroke-miterlimit:10;\" d=\"M 28.346594 5.670969 L 28.346594 -25.512625 \" transform=\"matrix(1,0,0,-1,89.837,16.128)\"/>\n",
       "<path style=\"fill-rule:nonzero;fill:rgb(0%,0%,0%);fill-opacity:1;stroke-width:0.3985;stroke-linecap:butt;stroke-linejoin:miter;stroke:rgb(0%,0%,0%);stroke-opacity:1;stroke-miterlimit:10;\" d=\"M 59.530187 -56.692312 C 59.530187 -55.129812 58.260656 -53.860281 56.69425 -53.860281 C 55.127844 -53.860281 53.858312 -55.129812 53.858312 -56.692312 C 53.858312 -58.258719 55.127844 -59.52825 56.69425 -59.52825 C 58.260656 -59.52825 59.530187 -58.258719 59.530187 -56.692312 Z M 59.530187 -56.692312 \" transform=\"matrix(1,0,0,-1,89.837,16.128)\"/>\n",
       "<path style=\"fill:none;stroke-width:0.79701;stroke-linecap:butt;stroke-linejoin:miter;stroke:rgb(0%,0%,0%);stroke-opacity:1;stroke-miterlimit:10;\" d=\"M 62.362219 -28.348562 C 62.362219 -25.21575 59.823156 -22.676687 56.69425 -22.676687 C 53.561437 -22.676687 51.026281 -25.21575 51.026281 -28.348562 C 51.026281 -31.477469 53.561437 -34.016531 56.69425 -34.016531 C 59.823156 -34.016531 62.362219 -31.477469 62.362219 -28.348562 Z M 62.362219 -28.348562 \" transform=\"matrix(1,0,0,-1,89.837,16.128)\"/>\n",
       "<path style=\"fill:none;stroke-width:0.79701;stroke-linecap:butt;stroke-linejoin:miter;stroke:rgb(0%,0%,0%);stroke-opacity:1;stroke-miterlimit:10;\" d=\"M 56.69425 -22.676687 L 56.69425 -53.860281 \" transform=\"matrix(1,0,0,-1,89.837,16.128)\"/>\n",
       "<path style=\"fill-rule:nonzero;fill:rgb(0%,0%,0%);fill-opacity:1;stroke-width:0.3985;stroke-linecap:butt;stroke-linejoin:miter;stroke:rgb(0%,0%,0%);stroke-opacity:1;stroke-miterlimit:10;\" d=\"M 87.873937 -56.692312 C 87.873937 -55.129812 86.604406 -53.860281 85.041906 -53.860281 C 83.4755 -53.860281 82.205969 -55.129812 82.205969 -56.692312 C 82.205969 -58.258719 83.4755 -59.52825 85.041906 -59.52825 C 86.604406 -59.52825 87.873937 -58.258719 87.873937 -56.692312 Z M 87.873937 -56.692312 \" transform=\"matrix(1,0,0,-1,89.837,16.128)\"/>\n",
       "<g clip-path=\"url(#clip1)\" clip-rule=\"nonzero\">\n",
       "<path style=\"fill:none;stroke-width:0.79701;stroke-linecap:butt;stroke-linejoin:miter;stroke:rgb(0%,0%,0%);stroke-opacity:1;stroke-miterlimit:10;\" d=\"M 90.709875 -85.039969 C 90.709875 -81.911062 88.170812 -79.372 85.041906 -79.372 C 81.909094 -79.372 79.370031 -81.911062 79.370031 -85.039969 C 79.370031 -88.172781 81.909094 -90.707937 85.041906 -90.707937 C 88.170812 -90.707937 90.709875 -88.172781 90.709875 -85.039969 Z M 90.709875 -85.039969 \" transform=\"matrix(1,0,0,-1,89.837,16.128)\"/>\n",
       "</g>\n",
       "<path style=\"fill:none;stroke-width:0.79701;stroke-linecap:butt;stroke-linejoin:miter;stroke:rgb(0%,0%,0%);stroke-opacity:1;stroke-miterlimit:10;\" d=\"M 85.041906 -59.52825 L 85.041906 -90.707937 \" transform=\"matrix(1,0,0,-1,89.837,16.128)\"/>\n",
       "<path style=\"fill-rule:nonzero;fill:rgb(0%,0%,0%);fill-opacity:1;stroke-width:0.3985;stroke-linecap:butt;stroke-linejoin:miter;stroke:rgb(0%,0%,0%);stroke-opacity:1;stroke-miterlimit:10;\" d=\"M 116.221594 -28.348562 C 116.221594 -26.782156 114.952062 -25.512625 113.385656 -25.512625 C 111.823156 -25.512625 110.553625 -26.782156 110.553625 -28.348562 C 110.553625 -29.911062 111.823156 -31.180594 113.385656 -31.180594 C 114.952062 -31.180594 116.221594 -29.911062 116.221594 -28.348562 Z M 116.221594 -28.348562 \" transform=\"matrix(1,0,0,-1,89.837,16.128)\"/>\n",
       "<g clip-path=\"url(#clip2)\" clip-rule=\"nonzero\">\n",
       "<path style=\"fill:none;stroke-width:0.79701;stroke-linecap:butt;stroke-linejoin:miter;stroke:rgb(0%,0%,0%);stroke-opacity:1;stroke-miterlimit:10;\" d=\"M 119.057531 -85.039969 C 119.057531 -81.911062 116.518469 -79.372 113.385656 -79.372 C 110.25675 -79.372 107.717687 -81.911062 107.717687 -85.039969 C 107.717687 -88.172781 110.25675 -90.707937 113.385656 -90.707937 C 116.518469 -90.707937 119.057531 -88.172781 119.057531 -85.039969 Z M 119.057531 -85.039969 \" transform=\"matrix(1,0,0,-1,89.837,16.128)\"/>\n",
       "</g>\n",
       "<path style=\"fill:none;stroke-width:0.79701;stroke-linecap:butt;stroke-linejoin:miter;stroke:rgb(0%,0%,0%);stroke-opacity:1;stroke-miterlimit:10;\" d=\"M 113.385656 -31.180594 L 113.385656 -90.707937 \" transform=\"matrix(1,0,0,-1,89.837,16.128)\"/>\n",
       "<path style=\"fill-rule:nonzero;fill:rgb(0%,0%,0%);fill-opacity:1;stroke-width:0.3985;stroke-linecap:butt;stroke-linejoin:miter;stroke:rgb(0%,0%,0%);stroke-opacity:1;stroke-miterlimit:10;\" d=\"M 144.56925 -28.348562 C 144.56925 -26.782156 143.299719 -25.512625 141.733313 -25.512625 C 140.166906 -25.512625 138.897375 -26.782156 138.897375 -28.348562 C 138.897375 -29.911062 140.166906 -31.180594 141.733313 -31.180594 C 143.299719 -31.180594 144.56925 -29.911062 144.56925 -28.348562 Z M 144.56925 -28.348562 \" transform=\"matrix(1,0,0,-1,89.837,16.128)\"/>\n",
       "<path style=\"fill:none;stroke-width:0.79701;stroke-linecap:butt;stroke-linejoin:miter;stroke:rgb(0%,0%,0%);stroke-opacity:1;stroke-miterlimit:10;\" d=\"M 147.405188 -56.692312 C 147.405188 -53.563406 144.866125 -51.024344 141.733313 -51.024344 C 138.604406 -51.024344 136.065344 -53.563406 136.065344 -56.692312 C 136.065344 -59.825125 138.604406 -62.364187 141.733313 -62.364187 C 144.866125 -62.364187 147.405188 -59.825125 147.405188 -56.692312 Z M 147.405188 -56.692312 \" transform=\"matrix(1,0,0,-1,89.837,16.128)\"/>\n",
       "<path style=\"fill:none;stroke-width:0.79701;stroke-linecap:butt;stroke-linejoin:miter;stroke:rgb(0%,0%,0%);stroke-opacity:1;stroke-miterlimit:10;\" d=\"M 141.733313 -31.180594 L 141.733313 -62.364187 \" transform=\"matrix(1,0,0,-1,89.837,16.128)\"/>\n",
       "<path style=\"fill-rule:nonzero;fill:rgb(0%,0%,0%);fill-opacity:1;stroke-width:0.3985;stroke-linecap:butt;stroke-linejoin:miter;stroke:rgb(0%,0%,0%);stroke-opacity:1;stroke-miterlimit:10;\" d=\"M 172.916906 -56.692312 C 172.916906 -55.129812 171.647375 -53.860281 170.080969 -53.860281 C 168.514563 -53.860281 167.245031 -55.129812 167.245031 -56.692312 C 167.245031 -58.258719 168.514563 -59.52825 170.080969 -59.52825 C 171.647375 -59.52825 172.916906 -58.258719 172.916906 -56.692312 Z M 172.916906 -56.692312 \" transform=\"matrix(1,0,0,-1,89.837,16.128)\"/>\n",
       "<path style=\"fill:none;stroke-width:0.79701;stroke-linecap:butt;stroke-linejoin:miter;stroke:rgb(0%,0%,0%);stroke-opacity:1;stroke-miterlimit:10;\" d=\"M 175.748938 -28.348562 C 175.748938 -25.21575 173.213781 -22.676687 170.080969 -22.676687 C 166.948156 -22.676687 164.413 -25.21575 164.413 -28.348562 C 164.413 -31.477469 166.948156 -34.016531 170.080969 -34.016531 C 173.213781 -34.016531 175.748938 -31.477469 175.748938 -28.348562 Z M 175.748938 -28.348562 \" transform=\"matrix(1,0,0,-1,89.837,16.128)\"/>\n",
       "<path style=\"fill:none;stroke-width:0.79701;stroke-linecap:butt;stroke-linejoin:miter;stroke:rgb(0%,0%,0%);stroke-opacity:1;stroke-miterlimit:10;\" d=\"M 170.080969 -22.676687 L 170.080969 -53.860281 \" transform=\"matrix(1,0,0,-1,89.837,16.128)\"/>\n",
       "<path style=\"fill-rule:nonzero;fill:rgb(0%,0%,0%);fill-opacity:1;stroke-width:0.3985;stroke-linecap:butt;stroke-linejoin:miter;stroke:rgb(0%,0%,0%);stroke-opacity:1;stroke-miterlimit:10;\" d=\"M 201.260656 -0.00090625 C 201.260656 1.5655 199.995031 2.835031 198.428625 2.835031 C 196.862219 2.835031 195.592688 1.5655 195.592688 -0.00090625 C 195.592688 -1.567312 196.862219 -2.832937 198.428625 -2.832937 C 199.995031 -2.832937 201.260656 -1.567312 201.260656 -0.00090625 Z M 201.260656 -0.00090625 \" transform=\"matrix(1,0,0,-1,89.837,16.128)\"/>\n",
       "<g clip-path=\"url(#clip3)\" clip-rule=\"nonzero\">\n",
       "<path style=\"fill:none;stroke-width:0.79701;stroke-linecap:butt;stroke-linejoin:miter;stroke:rgb(0%,0%,0%);stroke-opacity:1;stroke-miterlimit:10;\" d=\"M 204.096594 -85.039969 C 204.096594 -81.911062 201.557531 -79.372 198.428625 -79.372 C 195.295813 -79.372 192.75675 -81.911062 192.75675 -85.039969 C 192.75675 -88.172781 195.295813 -90.707937 198.428625 -90.707937 C 201.557531 -90.707937 204.096594 -88.172781 204.096594 -85.039969 Z M 204.096594 -85.039969 \" transform=\"matrix(1,0,0,-1,89.837,16.128)\"/>\n",
       "</g>\n",
       "<path style=\"fill:none;stroke-width:0.79701;stroke-linecap:butt;stroke-linejoin:miter;stroke:rgb(0%,0%,0%);stroke-opacity:1;stroke-miterlimit:10;\" d=\"M 198.428625 -2.832937 L 198.428625 -90.707937 \" transform=\"matrix(1,0,0,-1,89.837,16.128)\"/>\n",
       "<path style=\"fill-rule:nonzero;fill:rgb(0%,0%,0%);fill-opacity:1;stroke-width:0.3985;stroke-linecap:butt;stroke-linejoin:miter;stroke:rgb(0%,0%,0%);stroke-opacity:1;stroke-miterlimit:10;\" d=\"M 229.608313 -0.00090625 C 229.608313 1.5655 228.338781 2.835031 226.776281 2.835031 C 225.209875 2.835031 223.940344 1.5655 223.940344 -0.00090625 C 223.940344 -1.567312 225.209875 -2.832937 226.776281 -2.832937 C 228.338781 -2.832937 229.608313 -1.567312 229.608313 -0.00090625 Z M 229.608313 -0.00090625 \" transform=\"matrix(1,0,0,-1,89.837,16.128)\"/>\n",
       "<path style=\"fill:none;stroke-width:0.79701;stroke-linecap:butt;stroke-linejoin:miter;stroke:rgb(0%,0%,0%);stroke-opacity:1;stroke-miterlimit:10;\" d=\"M 232.44425 -28.348562 C 232.44425 -25.21575 229.905188 -22.676687 226.776281 -22.676687 C 223.643469 -22.676687 221.104406 -25.21575 221.104406 -28.348562 C 221.104406 -31.477469 223.643469 -34.016531 226.776281 -34.016531 C 229.905188 -34.016531 232.44425 -31.477469 232.44425 -28.348562 Z M 232.44425 -28.348562 \" transform=\"matrix(1,0,0,-1,89.837,16.128)\"/>\n",
       "<path style=\"fill:none;stroke-width:0.79701;stroke-linecap:butt;stroke-linejoin:miter;stroke:rgb(0%,0%,0%);stroke-opacity:1;stroke-miterlimit:10;\" d=\"M 226.776281 -2.832937 L 226.776281 -34.016531 \" transform=\"matrix(1,0,0,-1,89.837,16.128)\"/>\n",
       "</g>\n",
       "</svg>"
      ],
      "text/plain": [
       "<IPython.core.display.SVG object>"
      ]
     },
     "metadata": {},
     "output_type": "display_data"
    }
   ],
   "source": [
    "print(input_circuit)\n",
    "\n",
    "mat = circuit_to_matrix(input_circuit, size)\n",
    "\n",
    "print(mat)\n",
    "\n",
    "_, output_circuit = check_and_run(synthesise_circuit, mat, 2)\n",
    "\n",
    "output_diagram_file_name = circuit_to_svg(output_circuit, size, diagram_dir, circuit_file_prefix + '_out')\n",
    "\n",
    "print(f'output circuit length: {len(output_circuit)}')\n",
    "display(SVG(rf'..\\{diagram_dir}\\{output_diagram_file_name}'))"
   ]
  },
  {
   "cell_type": "markdown",
   "metadata": {
    "pycharm": {
     "name": "#%% md\n"
    }
   },
   "source": [
    "### CONCLUSION\n",
    "\n",
    "According to formula 3 from the paper, the length of the circuit for $n = 8$ should not exceed $144$. However, even for\n",
    "the smallest circuit size $n = 8$ a visual inspection of the shortening by looking at the circuit diagrams makes little\n",
    "sense.\n",
    "\n",
    "Therefore in the notebook *runtime_performance.ipynb* a benchmark is performed measuring the length of the resulting\n",
    "circuits in the range $8 \\leq n \\leq 100$.\n"
   ]
  }
 ],
 "metadata": {
  "kernelspec": {
   "display_name": "Python 3",
   "language": "python",
   "name": "python3"
  },
  "language_info": {
   "codemirror_mode": {
    "name": "ipython",
    "version": 3
   },
   "file_extension": ".py",
   "mimetype": "text/x-python",
   "name": "python",
   "nbconvert_exporter": "python",
   "pygments_lexer": "ipython3",
   "version": "3.8.5"
  }
 },
 "nbformat": 4,
 "nbformat_minor": 1
}

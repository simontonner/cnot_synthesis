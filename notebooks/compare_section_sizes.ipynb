{
 "cells": [
  {
   "cell_type": "markdown",
   "metadata": {
    "collapsed": true,
    "pycharm": {
     "name": "#%% md\n"
    }
   },
   "source": [
    "# COMPARE SECTION SIZES"
   ]
  },
  {
   "cell_type": "markdown",
   "source": [
    "### PARAMETERS\n",
    "\n",
    "Perform imports and define benchmark parameters."
   ],
   "metadata": {
    "collapsed": false
   }
  },
  {
   "cell_type": "code",
   "execution_count": 1,
   "outputs": [
    {
     "name": "stdout",
     "output_type": "stream",
     "text": [
      "There are 12 threads available on this machine.\n"
     ]
    }
   ],
   "source": [
    "from datetime import datetime\n",
    "from multiprocessing import Pool, cpu_count\n",
    "from src.input.input_files import generate_input_files\n",
    "from src.benchmarking.vanilla.benchmark_vanilla import load_and_benchmark\n",
    "import csv\n",
    "import itertools\n",
    "\n",
    "num_mat = 100\n",
    "mat_size = 2000\n",
    "input_gen_processors = 10\n",
    "\n",
    "input_directory = \"resources\\section_size_comparison\\input_matrices\"\n",
    "input_file_prefix = \"SingMat\"\n",
    "\n",
    "section_sizes = [5, 6]\n",
    "benchmark_file_fieldnames = ['size', 'run', 'section_size', 'process_time', 'initial_rss', 'final_rss']\n",
    "benchmark_processors = 10\n",
    "\n",
    "output_directory = \"resources\\section_size_comparison\"\n",
    "benchmark_file_prefix = \"BenchmarkSectionSize\"\n",
    "\n",
    "print(f\"There are {cpu_count()} threads available on this machine.\")"
   ],
   "metadata": {
    "collapsed": false,
    "pycharm": {
     "name": "#%%\n"
    }
   }
  },
  {
   "cell_type": "markdown",
   "source": [
    "### INPUT GENERATION\n",
    "\n",
    "Generate some matrices and save them to files."
   ],
   "metadata": {
    "collapsed": false,
    "pycharm": {
     "name": "#%% md\n"
    }
   }
  },
  {
   "cell_type": "code",
   "execution_count": 21,
   "outputs": [
    {
     "name": "stdout",
     "output_type": "stream",
     "text": [
      "Generating 100 singular matrices of size 2000 ...\n",
      "Saved 100 matrices of size 2000 in 'resources\\section_size_comparison\\input_matrices'.\n"
     ]
    }
   ],
   "source": [
    "argument_pair_list = [(mat_size, f\"..\\{input_directory}\\{input_file_prefix}_{mat_size}_{i}.txt\") for i in range(1, num_mat+1)]\n",
    "\n",
    "print(f\"Generating {num_mat} singular matrices of size {mat_size} ...\")\n",
    "\n",
    "if __name__ ==  '__main__':\n",
    "    with Pool(processes = input_gen_processors) as pool:\n",
    "        pool.starmap(generate_input_files, argument_pair_list)\n",
    "\n",
    "print(f\"Saved {num_mat} matrices of size {mat_size} in '{input_directory}'.\")"
   ],
   "metadata": {
    "collapsed": false,
    "pycharm": {
     "name": "#%%\n"
    }
   }
  },
  {
   "cell_type": "markdown",
   "source": [
    "### GET FILES TO BENCHMARK\n",
    "\n",
    "Find relevant files and sort them."
   ],
   "metadata": {
    "collapsed": false
   }
  },
  {
   "cell_type": "code",
   "execution_count": 11,
   "outputs": [
    {
     "name": "stdout",
     "output_type": "stream",
     "text": [
      "['SingMat_2000_81.txt', 'SingMat_2000_82.txt', 'SingMat_2000_83.txt', 'SingMat_2000_84.txt', 'SingMat_2000_85.txt', 'SingMat_2000_86.txt', 'SingMat_2000_87.txt', 'SingMat_2000_88.txt', 'SingMat_2000_89.txt', 'SingMat_2000_90.txt', 'SingMat_2000_91.txt', 'SingMat_2000_92.txt', 'SingMat_2000_93.txt', 'SingMat_2000_94.txt', 'SingMat_2000_95.txt', 'SingMat_2000_96.txt', 'SingMat_2000_97.txt', 'SingMat_2000_98.txt', 'SingMat_2000_99.txt', 'SingMat_2000_100.txt']\n",
      "Number of files to benchmark: 20\n"
     ]
    }
   ],
   "source": [
    "import src.input.input_files as imp\n",
    "\n",
    "input_file_names = imp.get_txt_files(f\"..\\{input_directory}\", f\"{input_file_prefix}_\")\n",
    "input_file_names.sort(key = lambda file_name: imp.extract_numbers(file_name, r'_\\d+_', r'_\\d+\\.'))\n",
    "\n",
    "print(input_file_names)\n",
    "print(f\"Number of files to benchmark: {len(input_file_names)}\")"
   ],
   "metadata": {
    "collapsed": false,
    "pycharm": {
     "name": "#%%\n"
    }
   }
  },
  {
   "cell_type": "markdown",
   "source": [
    "### BENCHMARK\n",
    "\n",
    "Read each file into a matrix, perform a benchmark and save the results in a file."
   ],
   "metadata": {
    "collapsed": false
   }
  },
  {
   "cell_type": "code",
   "execution_count": 12,
   "outputs": [
    {
     "name": "stdout",
     "output_type": "stream",
     "text": [
      "Performing benchmark for section sizes 5 and 6 in 10 threads.\n",
      "Saving results to 'resources\\section_size_comparison\n",
      "Done.\n"
     ]
    }
   ],
   "source": [
    "benchmark_file_timestamp = datetime.now().strftime(\"%d%m%y_%H%M\")\n",
    "\n",
    "file_name_section_list = list(itertools.product(input_file_names, section_sizes))\n",
    "argument_tuple_list = [(input_directory, input_file_name, section_size) for (input_file_name, section_size) in file_name_section_list]\n",
    "\n",
    "print(f\"Performing benchmark for section sizes {section_sizes[0]} and {section_sizes[1]} in {benchmark_processors} threads.\")\n",
    "\n",
    "if __name__ ==  '__main__':\n",
    "    with Pool(processes = benchmark_processors) as pool:\n",
    "        result_tuples = pool.starmap(load_and_benchmark, argument_tuple_list)\n",
    "\n",
    "print(f\"Saving results to '{output_directory}\")\n",
    "\n",
    "with open(rf'..\\{output_directory}\\{benchmark_file_prefix}_{benchmark_file_timestamp}.csv', mode='w', newline='') as benchmark_file:\n",
    "    writer = csv.DictWriter(benchmark_file, fieldnames=benchmark_file_fieldnames)\n",
    "    writer.writeheader()\n",
    "\n",
    "    for (size, run, section_size, process_time, initial_rss, final_rss) in result_tuples:\n",
    "\n",
    "        writer.writerow({'size': size, 'run': run, 'section_size': section_size, 'process_time': process_time, 'initial_rss': initial_rss, 'final_rss': final_rss})\n",
    "\n",
    "print(\"Done.\")\n",
    "\n",
    "\n"
   ],
   "metadata": {
    "collapsed": false,
    "pycharm": {
     "name": "#%%\n"
    }
   }
  }
 ],
 "metadata": {
  "kernelspec": {
   "display_name": "Python 3",
   "language": "python",
   "name": "python3"
  },
  "language_info": {
   "codemirror_mode": {
    "name": "ipython",
    "version": 2
   },
   "file_extension": ".py",
   "mimetype": "text/x-python",
   "name": "python",
   "nbconvert_exporter": "python",
   "pygments_lexer": "ipython2",
   "version": "2.7.6"
  }
 },
 "nbformat": 4,
 "nbformat_minor": 0
}
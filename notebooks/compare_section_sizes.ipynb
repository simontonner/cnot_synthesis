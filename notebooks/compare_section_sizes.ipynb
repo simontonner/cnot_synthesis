{
 "cells": [
  {
   "cell_type": "markdown",
   "metadata": {
    "collapsed": true,
    "pycharm": {
     "name": "#%% md\n"
    }
   },
   "source": [
    "# COMPARE SECTION SIZES"
   ]
  },
  {
   "cell_type": "markdown",
   "source": [
    "### PARAMETERS\n",
    "\n",
    "Perform imports and define benchmark parameters."
   ],
   "metadata": {
    "collapsed": false
   }
  },
  {
   "cell_type": "code",
   "execution_count": 1,
   "outputs": [
    {
     "name": "stdout",
     "output_type": "stream",
     "text": [
      "There are 12 threads available on this machine.\n"
     ]
    }
   ],
   "source": [
    "from datetime import datetime\n",
    "from multiprocessing import Pool, cpu_count\n",
    "#from src.input_old.input_files import generate_input_files\n",
    "from src.input_circuit.input_f import generate_input_files\n",
    "from src.benchmarking.vanilla.benchmark_vanilla import load_and_benchmark\n",
    "import csv\n",
    "import itertools\n",
    "\n",
    "num_mat = 100\n",
    "mat_size = 2000\n",
    "input_gen_processors = 10\n",
    "\n",
    "input_directory = \"resources\\section_size_comparison\\input_matrices\"\n",
    "input_file_prefix = \"SingMat\"\n",
    "\n",
    "section_sizes = [5, 6]\n",
    "benchmark_file_fieldnames = ['size', 'run', 'section_size', 'process_time', 'initial_rss', 'final_rss']\n",
    "benchmark_processors = 10\n",
    "\n",
    "output_directory = \"resources\\section_size_comparison\"\n",
    "benchmark_file_prefix = \"BenchmarkSectionSize\"\n",
    "\n",
    "print(f\"There are {cpu_count()} threads available on this machine.\")"
   ],
   "metadata": {
    "collapsed": false,
    "pycharm": {
     "name": "#%%\n"
    }
   }
  },
  {
   "cell_type": "markdown",
   "source": [
    "### INPUT GENERATION\n",
    "\n",
    "Generate some matrices and save them to files."
   ],
   "metadata": {
    "collapsed": false,
    "pycharm": {
     "name": "#%% md\n"
    }
   }
  },
  {
   "cell_type": "code",
   "execution_count": 2,
   "outputs": [
    {
     "name": "stdout",
     "output_type": "stream",
     "text": [
      "Generating 100 singular matrices of size 2000 ...\n",
      "Saved 100 matrices of size 2000 in 'resources\\section_size_comparison\\input_matrices'.\n"
     ]
    }
   ],
   "source": [
    "argument_pair_list = [(mat_size, f\"..\\{input_directory}\\{input_file_prefix}_{mat_size}_{i}.txt\") for i in range(1, num_mat+1)]\n",
    "\n",
    "print(f\"Generating {num_mat} singular matrices of size {mat_size} ...\")\n",
    "\n",
    "if __name__ ==  '__main__':\n",
    "    with Pool(processes = input_gen_processors) as pool:\n",
    "        pool.starmap(generate_input_files, argument_pair_list)\n",
    "\n",
    "print(f\"Saved {num_mat} matrices of size {mat_size} in '{input_directory}'.\")"
   ],
   "metadata": {
    "collapsed": false,
    "pycharm": {
     "name": "#%%\n"
    }
   }
  },
  {
   "cell_type": "markdown",
   "source": [
    "### GET FILES TO BENCHMARK\n",
    "\n",
    "Find relevant files and sort them."
   ],
   "metadata": {
    "collapsed": false
   }
  },
  {
   "cell_type": "code",
   "execution_count": 1,
   "outputs": [
    {
     "ename": "ModuleNotFoundError",
     "evalue": "No module named 'src.input'",
     "output_type": "error",
     "traceback": [
      "\u001B[1;31m---------------------------------------------------------------------------\u001B[0m",
      "\u001B[1;31mModuleNotFoundError\u001B[0m                       Traceback (most recent call last)",
      "\u001B[1;32m<ipython-input-1-aec9e6571014>\u001B[0m in \u001B[0;36m<module>\u001B[1;34m\u001B[0m\n\u001B[1;32m----> 1\u001B[1;33m \u001B[1;32mimport\u001B[0m \u001B[0msrc\u001B[0m\u001B[1;33m.\u001B[0m\u001B[0minput_old\u001B[0m\u001B[1;33m.\u001B[0m\u001B[0minput_files\u001B[0m \u001B[1;32mas\u001B[0m \u001B[0mimp\u001B[0m\u001B[1;33m\u001B[0m\u001B[1;33m\u001B[0m\u001B[0m\n\u001B[0m\u001B[0;32m      2\u001B[0m \u001B[1;33m\u001B[0m\u001B[0m\n\u001B[0;32m      3\u001B[0m \u001B[0minput_file_names\u001B[0m \u001B[1;33m=\u001B[0m \u001B[0mimp\u001B[0m\u001B[1;33m.\u001B[0m\u001B[0mget_txt_files\u001B[0m\u001B[1;33m(\u001B[0m\u001B[1;34mf\"..\\{input_directory}\"\u001B[0m\u001B[1;33m,\u001B[0m \u001B[1;34mf\"{input_file_prefix}_\"\u001B[0m\u001B[1;33m)\u001B[0m\u001B[1;33m\u001B[0m\u001B[1;33m\u001B[0m\u001B[0m\n\u001B[0;32m      4\u001B[0m \u001B[0minput_file_names\u001B[0m\u001B[1;33m.\u001B[0m\u001B[0msort\u001B[0m\u001B[1;33m(\u001B[0m\u001B[0mkey\u001B[0m \u001B[1;33m=\u001B[0m \u001B[1;32mlambda\u001B[0m \u001B[0mfile_name\u001B[0m\u001B[1;33m:\u001B[0m \u001B[0mimp\u001B[0m\u001B[1;33m.\u001B[0m\u001B[0mextract_numbers\u001B[0m\u001B[1;33m(\u001B[0m\u001B[0mfile_name\u001B[0m\u001B[1;33m,\u001B[0m \u001B[1;34mr'_\\d+_'\u001B[0m\u001B[1;33m,\u001B[0m \u001B[1;34mr'_\\d+\\.'\u001B[0m\u001B[1;33m)\u001B[0m\u001B[1;33m)\u001B[0m\u001B[1;33m\u001B[0m\u001B[1;33m\u001B[0m\u001B[0m\n\u001B[0;32m      5\u001B[0m \u001B[1;33m\u001B[0m\u001B[0m\n",
      "\u001B[1;32mC:\\Dev\\cnot_synthesis\\src\\input_old\\input_files.py\u001B[0m in \u001B[0;36m<module>\u001B[1;34m\u001B[0m\n\u001B[0;32m      2\u001B[0m \u001B[1;32mimport\u001B[0m \u001B[0mpsutil\u001B[0m\u001B[1;33m\u001B[0m\u001B[1;33m\u001B[0m\u001B[0m\n\u001B[0;32m      3\u001B[0m \u001B[1;32mimport\u001B[0m \u001B[0mre\u001B[0m\u001B[1;33m\u001B[0m\u001B[1;33m\u001B[0m\u001B[0m\n\u001B[1;32m----> 4\u001B[1;33m \u001B[1;32mimport\u001B[0m \u001B[0msrc\u001B[0m\u001B[1;33m.\u001B[0m\u001B[0minput\u001B[0m\u001B[1;33m.\u001B[0m\u001B[0mbitfields\u001B[0m \u001B[1;32mas\u001B[0m \u001B[0mbitf\u001B[0m\u001B[1;33m\u001B[0m\u001B[1;33m\u001B[0m\u001B[0m\n\u001B[0m\u001B[0;32m      5\u001B[0m \u001B[1;32mimport\u001B[0m \u001B[0msrc\u001B[0m\u001B[1;33m.\u001B[0m\u001B[0minput\u001B[0m\u001B[1;33m.\u001B[0m\u001B[0mmatrix_gen\u001B[0m \u001B[1;32mas\u001B[0m \u001B[0mgen\u001B[0m\u001B[1;33m\u001B[0m\u001B[1;33m\u001B[0m\u001B[0m\n\u001B[0;32m      6\u001B[0m \u001B[1;32mimport\u001B[0m \u001B[0mtorch\u001B[0m\u001B[1;33m\u001B[0m\u001B[1;33m\u001B[0m\u001B[0m\n",
      "\u001B[1;31mModuleNotFoundError\u001B[0m: No module named 'src.input'"
     ]
    }
   ],
   "source": [
    "import src.input_old.input_files as imp\n",
    "\n",
    "input_file_names = imp.get_txt_files(f\"..\\{input_directory}\", f\"{input_file_prefix}_\")\n",
    "input_file_names.sort(key = lambda file_name: imp.extract_numbers(file_name, r'_\\d+_', r'_\\d+\\.'))\n",
    "\n",
    "print(input_file_names)\n",
    "print(f\"Number of files to benchmark: {len(input_file_names)}\")"
   ],
   "metadata": {
    "collapsed": false,
    "pycharm": {
     "name": "#%%\n"
    }
   }
  },
  {
   "cell_type": "markdown",
   "source": [
    "### BENCHMARK\n",
    "\n",
    "Read each file into a matrix, perform a benchmark and save the results in a file."
   ],
   "metadata": {
    "collapsed": false
   }
  },
  {
   "cell_type": "code",
   "execution_count": 12,
   "outputs": [
    {
     "name": "stdout",
     "output_type": "stream",
     "text": [
      "Performing benchmark for section sizes 5 and 6 in 10 threads.\n",
      "Saving results to 'resources\\section_size_comparison\n",
      "Done.\n"
     ]
    }
   ],
   "source": [
    "benchmark_file_timestamp = datetime.now().strftime(\"%d%m%y_%H%M\")\n",
    "\n",
    "file_name_section_list = list(itertools.product(input_file_names, section_sizes))\n",
    "argument_tuple_list = [(input_directory, input_file_name, section_size) for (input_file_name, section_size) in file_name_section_list]\n",
    "\n",
    "print(f\"Performing benchmark for section sizes {section_sizes[0]} and {section_sizes[1]} in {benchmark_processors} threads.\")\n",
    "\n",
    "if __name__ ==  '__main__':\n",
    "    with Pool(processes = benchmark_processors) as pool:\n",
    "        result_tuples = pool.starmap(load_and_benchmark, argument_tuple_list)\n",
    "\n",
    "print(f\"Saving results to '{output_directory}\")\n",
    "\n",
    "with open(rf'..\\{output_directory}\\{benchmark_file_prefix}_{benchmark_file_timestamp}.csv', mode='w', newline='') as benchmark_file:\n",
    "    writer = csv.DictWriter(benchmark_file, fieldnames=benchmark_file_fieldnames)\n",
    "    writer.writeheader()\n",
    "\n",
    "    for (size, run, section_size, process_time, initial_rss, final_rss) in result_tuples:\n",
    "\n",
    "        writer.writerow({'size': size, 'run': run, 'section_size': section_size, 'process_time': process_time, 'initial_rss': initial_rss, 'final_rss': final_rss})\n",
    "\n",
    "print(\"Done.\")\n",
    "\n",
    "\n"
   ],
   "metadata": {
    "collapsed": false,
    "pycharm": {
     "name": "#%%\n"
    }
   }
  }
 ],
 "metadata": {
  "kernelspec": {
   "display_name": "Python 3",
   "language": "python",
   "name": "python3"
  },
  "language_info": {
   "codemirror_mode": {
    "name": "ipython",
    "version": 2
   },
   "file_extension": ".py",
   "mimetype": "text/x-python",
   "name": "python",
   "nbconvert_exporter": "python",
   "pygments_lexer": "ipython2",
   "version": "2.7.6"
  }
 },
 "nbformat": 4,
 "nbformat_minor": 0
}
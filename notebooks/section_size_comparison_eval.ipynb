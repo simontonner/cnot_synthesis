{
 "cells": [
  {
   "cell_type": "code",
   "execution_count": 1,
   "outputs": [],
   "source": [
    "import pandas as pd\n",
    "import numpy as np\n",
    "import plotly.graph_objects as go"
   ],
   "metadata": {
    "collapsed": false,
    "pycharm": {
     "name": "#%%\n"
    }
   }
  },
  {
   "cell_type": "code",
   "execution_count": 4,
   "outputs": [],
   "source": [
    "output_dir = r'resources\\section_size_comparison'\n",
    "output_file_prefix = 'SectionSizeComparison'\n",
    "output_file_timestamp_pre = '070321_1951'\n",
    "output_file_timestamp_mid = '210221_2355'\n",
    "output_file_timestamp_post = '070321_2008'"
   ],
   "metadata": {
    "collapsed": false,
    "pycharm": {
     "name": "#%%\n"
    }
   }
  },
  {
   "cell_type": "code",
   "execution_count": 5,
   "outputs": [],
   "source": [
    "\n",
    "\n",
    "section_size_comparison_pre_df = pd.read_csv(rf'..\\{output_dir}\\{output_file_prefix}_{output_file_timestamp_pre}.csv')\n",
    "section_size_comparison_mid_df = pd.read_csv(rf'..\\{output_dir}\\{output_file_prefix}_{output_file_timestamp_mid}.csv')\n",
    "section_size_comparison_post_df = pd.read_csv(rf'..\\{output_dir}\\{output_file_prefix}_{output_file_timestamp_post}.csv')\n",
    "\n",
    "section_size_comparison_df = section_size_comparison_pre_df\\\n",
    "    .append(section_size_comparison_mid_df)\\\n",
    "    .append(section_size_comparison_post_df)\n",
    "\n",
    "## Multiple df into one df.append(df2).append(df3).append(df4).append(df5)"
   ],
   "metadata": {
    "collapsed": false,
    "pycharm": {
     "name": "#%%\n"
    }
   }
  },
  {
   "cell_type": "code",
   "execution_count": 6,
   "outputs": [
    {
     "data": {
      "text/plain": "               num_gates_mean  num_gates_std  process_time_mean  \\\nsize sec_size                                                     \n1849 5               697427.0      66.468037         357.843750   \n1871 5               713622.0      46.669048         373.125000   \n1893 5               730313.5     160.513239         382.476562   \n1915 5               746878.5     201.525433         388.859375   \n1937 5               763437.5      79.903066         387.890625   \n\n               process_time_std  initial_rss_mean  initial_rss_std  \\\nsize sec_size                                                        \n1849 5                 0.994369         153790464     8.688928e+03   \n1871 5                 3.027301         154433536     3.099051e+05   \n1893 5                 3.612874         160860160     9.468035e+06   \n1915 5                 3.866990         168728576     5.995360e+05   \n1937 5                 4.574097         168151040     2.230158e+05   \n\n               final_rss_mean  final_rss_std  \nsize sec_size                                 \n1849 5              281014272   1.587178e+06  \n1871 5              283736064   1.335199e+06  \n1893 5              287330304   5.792619e+05  \n1915 5              290396160   2.403937e+05  \n1937 5              292933632   3.243867e+05  ",
      "text/html": "<div>\n<style scoped>\n    .dataframe tbody tr th:only-of-type {\n        vertical-align: middle;\n    }\n\n    .dataframe tbody tr th {\n        vertical-align: top;\n    }\n\n    .dataframe thead th {\n        text-align: right;\n    }\n</style>\n<table border=\"1\" class=\"dataframe\">\n  <thead>\n    <tr style=\"text-align: right;\">\n      <th></th>\n      <th></th>\n      <th>num_gates_mean</th>\n      <th>num_gates_std</th>\n      <th>process_time_mean</th>\n      <th>process_time_std</th>\n      <th>initial_rss_mean</th>\n      <th>initial_rss_std</th>\n      <th>final_rss_mean</th>\n      <th>final_rss_std</th>\n    </tr>\n    <tr>\n      <th>size</th>\n      <th>sec_size</th>\n      <th></th>\n      <th></th>\n      <th></th>\n      <th></th>\n      <th></th>\n      <th></th>\n      <th></th>\n      <th></th>\n    </tr>\n  </thead>\n  <tbody>\n    <tr>\n      <th>1849</th>\n      <th>5</th>\n      <td>697427.0</td>\n      <td>66.468037</td>\n      <td>357.843750</td>\n      <td>0.994369</td>\n      <td>153790464</td>\n      <td>8.688928e+03</td>\n      <td>281014272</td>\n      <td>1.587178e+06</td>\n    </tr>\n    <tr>\n      <th>1871</th>\n      <th>5</th>\n      <td>713622.0</td>\n      <td>46.669048</td>\n      <td>373.125000</td>\n      <td>3.027301</td>\n      <td>154433536</td>\n      <td>3.099051e+05</td>\n      <td>283736064</td>\n      <td>1.335199e+06</td>\n    </tr>\n    <tr>\n      <th>1893</th>\n      <th>5</th>\n      <td>730313.5</td>\n      <td>160.513239</td>\n      <td>382.476562</td>\n      <td>3.612874</td>\n      <td>160860160</td>\n      <td>9.468035e+06</td>\n      <td>287330304</td>\n      <td>5.792619e+05</td>\n    </tr>\n    <tr>\n      <th>1915</th>\n      <th>5</th>\n      <td>746878.5</td>\n      <td>201.525433</td>\n      <td>388.859375</td>\n      <td>3.866990</td>\n      <td>168728576</td>\n      <td>5.995360e+05</td>\n      <td>290396160</td>\n      <td>2.403937e+05</td>\n    </tr>\n    <tr>\n      <th>1937</th>\n      <th>5</th>\n      <td>763437.5</td>\n      <td>79.903066</td>\n      <td>387.890625</td>\n      <td>4.574097</td>\n      <td>168151040</td>\n      <td>2.230158e+05</td>\n      <td>292933632</td>\n      <td>3.243867e+05</td>\n    </tr>\n  </tbody>\n</table>\n</div>"
     },
     "execution_count": 6,
     "metadata": {},
     "output_type": "execute_result"
    }
   ],
   "source": [
    "section_size_5_df = section_size_comparison_df.loc[(section_size_comparison_df['sec_size'] == 5)]\n",
    "\n",
    "section_size_5_agg_df = section_size_5_df.groupby(['size', 'sec_size']).agg(num_gates_mean=('num_gates', 'mean'), num_gates_std=('num_gates', 'std'),\n",
    "                                              process_time_mean=('process_time', 'mean'), process_time_std=('process_time', 'std'),\n",
    "                                              initial_rss_mean=('initial_rss', 'mean'), initial_rss_std=('initial_rss', 'std'),\n",
    "                                              final_rss_mean=('final_rss', 'mean'), final_rss_std=('final_rss', 'std'))\n",
    "\n",
    "section_size_5_agg_df.head()"
   ],
   "metadata": {
    "collapsed": false,
    "pycharm": {
     "name": "#%%\n"
    }
   }
  },
  {
   "cell_type": "code",
   "execution_count": 7,
   "outputs": [
    {
     "data": {
      "text/plain": "               num_gates_mean  num_gates_std  process_time_mean  \\\nsize sec_size                                                     \n1849 6               636984.0     101.823376         321.875000   \n1871 6               651324.0      82.024387         336.937500   \n1893 6               665843.5     105.358910         346.515625   \n1915 6               680417.5     129.400541         355.640625   \n1937 6               695125.5     133.643182         358.000000   \n\n               process_time_std  initial_rss_mean  initial_rss_std  \\\nsize sec_size                                                        \n1849 6                 1.082757         153659392     3.214903e+05   \n1871 6                 0.154680         154011648     1.708823e+05   \n1893 6                 1.347922         161255424     9.488310e+06   \n1915 6                 3.425048         168265728     6.400844e+05   \n1937 6                 2.717942         167925760     2.606678e+04   \n\n               final_rss_mean  final_rss_std  \nsize sec_size                                 \n1849 6              273068032  926819.000237  \n1871 6              275884032  987641.497127  \n1893 6              278376448  764625.675195  \n1915 6              280600576   40548.331260  \n1937 6              283559936  680632.703299  ",
      "text/html": "<div>\n<style scoped>\n    .dataframe tbody tr th:only-of-type {\n        vertical-align: middle;\n    }\n\n    .dataframe tbody tr th {\n        vertical-align: top;\n    }\n\n    .dataframe thead th {\n        text-align: right;\n    }\n</style>\n<table border=\"1\" class=\"dataframe\">\n  <thead>\n    <tr style=\"text-align: right;\">\n      <th></th>\n      <th></th>\n      <th>num_gates_mean</th>\n      <th>num_gates_std</th>\n      <th>process_time_mean</th>\n      <th>process_time_std</th>\n      <th>initial_rss_mean</th>\n      <th>initial_rss_std</th>\n      <th>final_rss_mean</th>\n      <th>final_rss_std</th>\n    </tr>\n    <tr>\n      <th>size</th>\n      <th>sec_size</th>\n      <th></th>\n      <th></th>\n      <th></th>\n      <th></th>\n      <th></th>\n      <th></th>\n      <th></th>\n      <th></th>\n    </tr>\n  </thead>\n  <tbody>\n    <tr>\n      <th>1849</th>\n      <th>6</th>\n      <td>636984.0</td>\n      <td>101.823376</td>\n      <td>321.875000</td>\n      <td>1.082757</td>\n      <td>153659392</td>\n      <td>3.214903e+05</td>\n      <td>273068032</td>\n      <td>926819.000237</td>\n    </tr>\n    <tr>\n      <th>1871</th>\n      <th>6</th>\n      <td>651324.0</td>\n      <td>82.024387</td>\n      <td>336.937500</td>\n      <td>0.154680</td>\n      <td>154011648</td>\n      <td>1.708823e+05</td>\n      <td>275884032</td>\n      <td>987641.497127</td>\n    </tr>\n    <tr>\n      <th>1893</th>\n      <th>6</th>\n      <td>665843.5</td>\n      <td>105.358910</td>\n      <td>346.515625</td>\n      <td>1.347922</td>\n      <td>161255424</td>\n      <td>9.488310e+06</td>\n      <td>278376448</td>\n      <td>764625.675195</td>\n    </tr>\n    <tr>\n      <th>1915</th>\n      <th>6</th>\n      <td>680417.5</td>\n      <td>129.400541</td>\n      <td>355.640625</td>\n      <td>3.425048</td>\n      <td>168265728</td>\n      <td>6.400844e+05</td>\n      <td>280600576</td>\n      <td>40548.331260</td>\n    </tr>\n    <tr>\n      <th>1937</th>\n      <th>6</th>\n      <td>695125.5</td>\n      <td>133.643182</td>\n      <td>358.000000</td>\n      <td>2.717942</td>\n      <td>167925760</td>\n      <td>2.606678e+04</td>\n      <td>283559936</td>\n      <td>680632.703299</td>\n    </tr>\n  </tbody>\n</table>\n</div>"
     },
     "execution_count": 7,
     "metadata": {},
     "output_type": "execute_result"
    }
   ],
   "source": [
    "section_size_6_df = section_size_comparison_df.loc[(section_size_comparison_df['sec_size'] == 6)]\n",
    "\n",
    "section_size_6_agg_df = section_size_6_df.groupby(['size', 'sec_size']).agg(num_gates_mean=('num_gates', 'mean'), num_gates_std=('num_gates', 'std'),\n",
    "                                              process_time_mean=('process_time', 'mean'), process_time_std=('process_time', 'std'),\n",
    "                                              initial_rss_mean=('initial_rss', 'mean'), initial_rss_std=('initial_rss', 'std'),\n",
    "                                              final_rss_mean=('final_rss', 'mean'), final_rss_std=('final_rss', 'std'))\n",
    "\n",
    "section_size_6_agg_df.head()"
   ],
   "metadata": {
    "collapsed": false,
    "pycharm": {
     "name": "#%%\n"
    }
   }
  },
  {
   "cell_type": "code",
   "execution_count": 8,
   "outputs": [
    {
     "name": "stdout",
     "output_type": "stream",
     "text": [
      "[1849, 1871, 1893, 1915, 1937, 1959, 1981, 2003, 2025, 2047, 2069, 2091, 2113, 2135]\n"
     ]
    }
   ],
   "source": [
    "sizes = [size for (size, _) in section_size_5_agg_df.index.tolist()]\n",
    "\n",
    "print(sizes)"
   ],
   "metadata": {
    "collapsed": false,
    "pycharm": {
     "name": "#%%\n"
    }
   }
  },
  {
   "cell_type": "code",
   "execution_count": 1,
   "outputs": [
    {
     "ename": "NameError",
     "evalue": "name 'sizes' is not defined",
     "output_type": "error",
     "traceback": [
      "\u001B[1;31m---------------------------------------------------------------------------\u001B[0m",
      "\u001B[1;31mNameError\u001B[0m                                 Traceback (most recent call last)",
      "\u001B[1;32m<ipython-input-1-44ec0fddd149>\u001B[0m in \u001B[0;36m<module>\u001B[1;34m\u001B[0m\n\u001B[0;32m      2\u001B[0m \u001B[1;33m\u001B[0m\u001B[0m\n\u001B[0;32m      3\u001B[0m fig = go.Figure(data=go.Scatter(\n\u001B[1;32m----> 4\u001B[1;33m         \u001B[0mx\u001B[0m\u001B[1;33m=\u001B[0m\u001B[0msizes\u001B[0m\u001B[1;33m,\u001B[0m\u001B[1;33m\u001B[0m\u001B[1;33m\u001B[0m\u001B[0m\n\u001B[0m\u001B[0;32m      5\u001B[0m         \u001B[0my\u001B[0m\u001B[1;33m=\u001B[0m\u001B[0msection_size_5_agg_df\u001B[0m\u001B[1;33m[\u001B[0m\u001B[1;34m'num_gates_mean'\u001B[0m\u001B[1;33m]\u001B[0m\u001B[1;33m.\u001B[0m\u001B[0mtolist\u001B[0m\u001B[1;33m(\u001B[0m\u001B[1;33m)\u001B[0m\u001B[1;33m,\u001B[0m\u001B[1;33m\u001B[0m\u001B[1;33m\u001B[0m\u001B[0m\n\u001B[0;32m      6\u001B[0m         \u001B[0mname\u001B[0m\u001B[1;33m=\u001B[0m \u001B[1;34m'm=5'\u001B[0m\u001B[1;33m,\u001B[0m\u001B[1;33m\u001B[0m\u001B[1;33m\u001B[0m\u001B[0m\n",
      "\u001B[1;31mNameError\u001B[0m: name 'sizes' is not defined"
     ]
    }
   ],
   "source": [
    "import plotly.graph_objects as go\n",
    "\n",
    "fig = go.Figure(data=go.Scatter(\n",
    "        x=sizes,\n",
    "        y=section_size_5_agg_df['num_gates_mean'].tolist(),\n",
    "        name= 'm=5',\n",
    "        error_y=dict(\n",
    "            type='data', # value of error bar given in data coordinates\n",
    "            array=section_size_5_agg_df['num_gates_std'].tolist(),\n",
    "            visible=True)\n",
    "    ))\n",
    "\n",
    "fig.add_trace(go.Scatter(\n",
    "        x=sizes,\n",
    "        y=section_size_6_agg_df['num_gates_mean'].tolist(),\n",
    "        name= 'm=6',\n",
    "        error_y=dict(\n",
    "            type='data', # value of error bar given in data coordinates\n",
    "            array=section_size_6_agg_df['num_gates_std'].tolist(),\n",
    "            visible=True)\n",
    "    ))\n",
    "\n",
    "fig.update_layout(title_text='Section size comparison in the range 1959 to 2047')\n",
    "fig.update_yaxes(title_text='circuit length')\n",
    "fig.update_xaxes(title_text='circuit size n')\n",
    "\n",
    "fig.show()\n",
    "\n"
   ],
   "metadata": {
    "collapsed": false,
    "pycharm": {
     "name": "#%%\n"
    }
   }
  },
  {
   "cell_type": "code",
   "execution_count": 16,
   "outputs": [],
   "source": [
    "output_dir = r'resources\\section_size_comparison'\n",
    "output_file_prefix = 'SectionSizeComparison'\n",
    "output_file_timestamp_long = '070321_2056'"
   ],
   "metadata": {
    "collapsed": false,
    "pycharm": {
     "name": "#%%\n"
    }
   }
  },
  {
   "cell_type": "code",
   "execution_count": 17,
   "outputs": [
    {
     "data": {
      "text/plain": "   size  run  sec_size  num_gates  process_time  initial_rss  final_rss\n0   100    1         5       3284      0.125000    120627200  121208832\n1   100    1         6       3700      0.125000    121208832  121303040\n2   100    2         5       3294      0.109375    121303040  121307136\n3   100    2         6       3764      0.109375    121307136  121327616\n4   110    1         5       3868      0.125000    121327616  121360384",
      "text/html": "<div>\n<style scoped>\n    .dataframe tbody tr th:only-of-type {\n        vertical-align: middle;\n    }\n\n    .dataframe tbody tr th {\n        vertical-align: top;\n    }\n\n    .dataframe thead th {\n        text-align: right;\n    }\n</style>\n<table border=\"1\" class=\"dataframe\">\n  <thead>\n    <tr style=\"text-align: right;\">\n      <th></th>\n      <th>size</th>\n      <th>run</th>\n      <th>sec_size</th>\n      <th>num_gates</th>\n      <th>process_time</th>\n      <th>initial_rss</th>\n      <th>final_rss</th>\n    </tr>\n  </thead>\n  <tbody>\n    <tr>\n      <th>0</th>\n      <td>100</td>\n      <td>1</td>\n      <td>5</td>\n      <td>3284</td>\n      <td>0.125000</td>\n      <td>120627200</td>\n      <td>121208832</td>\n    </tr>\n    <tr>\n      <th>1</th>\n      <td>100</td>\n      <td>1</td>\n      <td>6</td>\n      <td>3700</td>\n      <td>0.125000</td>\n      <td>121208832</td>\n      <td>121303040</td>\n    </tr>\n    <tr>\n      <th>2</th>\n      <td>100</td>\n      <td>2</td>\n      <td>5</td>\n      <td>3294</td>\n      <td>0.109375</td>\n      <td>121303040</td>\n      <td>121307136</td>\n    </tr>\n    <tr>\n      <th>3</th>\n      <td>100</td>\n      <td>2</td>\n      <td>6</td>\n      <td>3764</td>\n      <td>0.109375</td>\n      <td>121307136</td>\n      <td>121327616</td>\n    </tr>\n    <tr>\n      <th>4</th>\n      <td>110</td>\n      <td>1</td>\n      <td>5</td>\n      <td>3868</td>\n      <td>0.125000</td>\n      <td>121327616</td>\n      <td>121360384</td>\n    </tr>\n  </tbody>\n</table>\n</div>"
     },
     "execution_count": 17,
     "metadata": {},
     "output_type": "execute_result"
    }
   ],
   "source": [
    "section_size_comparison_long_df = pd.read_csv(rf'..\\{output_dir}\\{output_file_prefix}_{output_file_timestamp_long}.csv')\n",
    "\n",
    "section_size_comparison_long_df.head()"
   ],
   "metadata": {
    "collapsed": false,
    "pycharm": {
     "name": "#%%\n"
    }
   }
  },
  {
   "cell_type": "code",
   "execution_count": 20,
   "outputs": [
    {
     "data": {
      "text/plain": "               num_gates_mean  num_gates_std  process_time_mean  \\\nsize sec_size                                                     \n100  5                 3289.0       7.071068           0.117188   \n110  5                 3884.5      23.334524           0.125000   \n120  5                 4507.5      44.547727           0.125000   \n130  5                 5200.5       2.121320           0.203125   \n140  5                 5897.0      29.698485           0.218750   \n\n               process_time_std  initial_rss_mean  initial_rss_std  \\\nsize sec_size                                                        \n100  5                 0.011049         120965120    477891.046997   \n110  5                 0.000000         121348096     28963.093757   \n120  5                 0.000000         121405440     52133.568763   \n130  5                 0.022097         121583616    101370.828151   \n140  5                 0.000000         121935872     49237.259388   \n\n               final_rss_mean  final_rss_std  \nsize sec_size                                 \n100  5              121257984   69511.425018  \n110  5              121364480    5792.618751  \n120  5              121511936   52133.568763  \n130  5              121749504   57926.187515  \n140  5              121937920   46340.950012  ",
      "text/html": "<div>\n<style scoped>\n    .dataframe tbody tr th:only-of-type {\n        vertical-align: middle;\n    }\n\n    .dataframe tbody tr th {\n        vertical-align: top;\n    }\n\n    .dataframe thead th {\n        text-align: right;\n    }\n</style>\n<table border=\"1\" class=\"dataframe\">\n  <thead>\n    <tr style=\"text-align: right;\">\n      <th></th>\n      <th></th>\n      <th>num_gates_mean</th>\n      <th>num_gates_std</th>\n      <th>process_time_mean</th>\n      <th>process_time_std</th>\n      <th>initial_rss_mean</th>\n      <th>initial_rss_std</th>\n      <th>final_rss_mean</th>\n      <th>final_rss_std</th>\n    </tr>\n    <tr>\n      <th>size</th>\n      <th>sec_size</th>\n      <th></th>\n      <th></th>\n      <th></th>\n      <th></th>\n      <th></th>\n      <th></th>\n      <th></th>\n      <th></th>\n    </tr>\n  </thead>\n  <tbody>\n    <tr>\n      <th>100</th>\n      <th>5</th>\n      <td>3289.0</td>\n      <td>7.071068</td>\n      <td>0.117188</td>\n      <td>0.011049</td>\n      <td>120965120</td>\n      <td>477891.046997</td>\n      <td>121257984</td>\n      <td>69511.425018</td>\n    </tr>\n    <tr>\n      <th>110</th>\n      <th>5</th>\n      <td>3884.5</td>\n      <td>23.334524</td>\n      <td>0.125000</td>\n      <td>0.000000</td>\n      <td>121348096</td>\n      <td>28963.093757</td>\n      <td>121364480</td>\n      <td>5792.618751</td>\n    </tr>\n    <tr>\n      <th>120</th>\n      <th>5</th>\n      <td>4507.5</td>\n      <td>44.547727</td>\n      <td>0.125000</td>\n      <td>0.000000</td>\n      <td>121405440</td>\n      <td>52133.568763</td>\n      <td>121511936</td>\n      <td>52133.568763</td>\n    </tr>\n    <tr>\n      <th>130</th>\n      <th>5</th>\n      <td>5200.5</td>\n      <td>2.121320</td>\n      <td>0.203125</td>\n      <td>0.022097</td>\n      <td>121583616</td>\n      <td>101370.828151</td>\n      <td>121749504</td>\n      <td>57926.187515</td>\n    </tr>\n    <tr>\n      <th>140</th>\n      <th>5</th>\n      <td>5897.0</td>\n      <td>29.698485</td>\n      <td>0.218750</td>\n      <td>0.000000</td>\n      <td>121935872</td>\n      <td>49237.259388</td>\n      <td>121937920</td>\n      <td>46340.950012</td>\n    </tr>\n  </tbody>\n</table>\n</div>"
     },
     "execution_count": 20,
     "metadata": {},
     "output_type": "execute_result"
    }
   ],
   "source": [
    "section_size_long_5_df = section_size_comparison_long_df.loc[(section_size_comparison_long_df['sec_size'] == 5)]\n",
    "\n",
    "section_size_long_5_agg_df = section_size_long_5_df.groupby(['size', 'sec_size']).agg(num_gates_mean=('num_gates', 'mean'), num_gates_std=('num_gates', 'std'),\n",
    "                                              process_time_mean=('process_time', 'mean'), process_time_std=('process_time', 'std'),\n",
    "                                              initial_rss_mean=('initial_rss', 'mean'), initial_rss_std=('initial_rss', 'std'),\n",
    "                                              final_rss_mean=('final_rss', 'mean'), final_rss_std=('final_rss', 'std'))\n",
    "\n",
    "section_size_long_5_agg_df.head()"
   ],
   "metadata": {
    "collapsed": false,
    "pycharm": {
     "name": "#%%\n"
    }
   }
  },
  {
   "cell_type": "code",
   "execution_count": 26,
   "outputs": [
    {
     "data": {
      "text/plain": "               num_gates_mean  num_gates_std  process_time_mean  \\\nsize sec_size                                                     \n100  6                 3732.0      45.254834           0.117188   \n110  6                 4458.5      30.405592           0.125000   \n120  6                 5151.5      20.506097           0.132812   \n130  6                 6004.5      31.819805           0.210938   \n140  6                 6732.0      87.681241           0.242188   \n\n               process_time_std  initial_rss_mean  initial_rss_std  \\\nsize sec_size                                                        \n100  6                 0.011049         121257984     69511.425018   \n110  6                 0.000000         121364480      5792.618751   \n120  6                 0.033146         121466880     46340.950012   \n130  6                 0.011049         121618432     57926.187515   \n140  6                 0.033146         121937920     46340.950012   \n\n               final_rss_mean  final_rss_std  \nsize sec_size                                 \n100  6              121315328   17377.856254  \n110  6              121409536    5792.618751  \n120  6              121608192   49237.259388  \n130  6              121876480   34755.712509  \n140  6              121976832    8688.928127  ",
      "text/html": "<div>\n<style scoped>\n    .dataframe tbody tr th:only-of-type {\n        vertical-align: middle;\n    }\n\n    .dataframe tbody tr th {\n        vertical-align: top;\n    }\n\n    .dataframe thead th {\n        text-align: right;\n    }\n</style>\n<table border=\"1\" class=\"dataframe\">\n  <thead>\n    <tr style=\"text-align: right;\">\n      <th></th>\n      <th></th>\n      <th>num_gates_mean</th>\n      <th>num_gates_std</th>\n      <th>process_time_mean</th>\n      <th>process_time_std</th>\n      <th>initial_rss_mean</th>\n      <th>initial_rss_std</th>\n      <th>final_rss_mean</th>\n      <th>final_rss_std</th>\n    </tr>\n    <tr>\n      <th>size</th>\n      <th>sec_size</th>\n      <th></th>\n      <th></th>\n      <th></th>\n      <th></th>\n      <th></th>\n      <th></th>\n      <th></th>\n      <th></th>\n    </tr>\n  </thead>\n  <tbody>\n    <tr>\n      <th>100</th>\n      <th>6</th>\n      <td>3732.0</td>\n      <td>45.254834</td>\n      <td>0.117188</td>\n      <td>0.011049</td>\n      <td>121257984</td>\n      <td>69511.425018</td>\n      <td>121315328</td>\n      <td>17377.856254</td>\n    </tr>\n    <tr>\n      <th>110</th>\n      <th>6</th>\n      <td>4458.5</td>\n      <td>30.405592</td>\n      <td>0.125000</td>\n      <td>0.000000</td>\n      <td>121364480</td>\n      <td>5792.618751</td>\n      <td>121409536</td>\n      <td>5792.618751</td>\n    </tr>\n    <tr>\n      <th>120</th>\n      <th>6</th>\n      <td>5151.5</td>\n      <td>20.506097</td>\n      <td>0.132812</td>\n      <td>0.033146</td>\n      <td>121466880</td>\n      <td>46340.950012</td>\n      <td>121608192</td>\n      <td>49237.259388</td>\n    </tr>\n    <tr>\n      <th>130</th>\n      <th>6</th>\n      <td>6004.5</td>\n      <td>31.819805</td>\n      <td>0.210938</td>\n      <td>0.011049</td>\n      <td>121618432</td>\n      <td>57926.187515</td>\n      <td>121876480</td>\n      <td>34755.712509</td>\n    </tr>\n    <tr>\n      <th>140</th>\n      <th>6</th>\n      <td>6732.0</td>\n      <td>87.681241</td>\n      <td>0.242188</td>\n      <td>0.033146</td>\n      <td>121937920</td>\n      <td>46340.950012</td>\n      <td>121976832</td>\n      <td>8688.928127</td>\n    </tr>\n  </tbody>\n</table>\n</div>"
     },
     "execution_count": 26,
     "metadata": {},
     "output_type": "execute_result"
    }
   ],
   "source": [
    "section_size_long_6_df = section_size_comparison_long_df.loc[(section_size_comparison_long_df['sec_size'] == 6)]\n",
    "\n",
    "section_size_long_6_agg_df = section_size_long_6_df.groupby(['size', 'sec_size']).agg(num_gates_mean=('num_gates', 'mean'), num_gates_std=('num_gates', 'std'),\n",
    "                                              process_time_mean=('process_time', 'mean'), process_time_std=('process_time', 'std'),\n",
    "                                              initial_rss_mean=('initial_rss', 'mean'), initial_rss_std=('initial_rss', 'std'),\n",
    "                                              final_rss_mean=('final_rss', 'mean'), final_rss_std=('final_rss', 'std'))\n",
    "\n",
    "section_size_long_6_agg_df.head()"
   ],
   "metadata": {
    "collapsed": false,
    "pycharm": {
     "name": "#%%\n"
    }
   }
  },
  {
   "cell_type": "code",
   "execution_count": 27,
   "outputs": [
    {
     "name": "stdout",
     "output_type": "stream",
     "text": [
      "[100, 110, 120, 130, 140, 150, 160, 170, 180, 190, 200, 210, 220, 230, 240, 250, 260, 270, 280, 290, 300, 310, 320, 330, 340, 350, 360, 370, 380, 390, 400, 410, 420, 430, 440, 450, 460, 470, 480, 490, 500, 510, 520, 530, 540, 550, 560, 570, 580, 590, 600, 610, 620, 630, 640, 650, 660, 670, 680, 690, 700, 710, 720, 730, 740, 750, 760, 770, 780, 790, 800, 810, 820, 830, 840, 850, 860, 870, 880, 890, 900, 910, 920, 930, 940, 950, 960, 970, 980, 990, 1000, 1010, 1020, 1030, 1040, 1050, 1060, 1070, 1080, 1090, 1100, 1110, 1120, 1130, 1140, 1150, 1160, 1170, 1180, 1190, 1200, 1210, 1220, 1230, 1240, 1250, 1260, 1270, 1280, 1290, 1300, 1310, 1320, 1330, 1340, 1350, 1360, 1370, 1380, 1390, 1400, 1410, 1420, 1430, 1440, 1450, 1460, 1470, 1480, 1490, 1500, 1510, 1520, 1530, 1540, 1550, 1560, 1570, 1580, 1590, 1600, 1610, 1620, 1630, 1640, 1650, 1660, 1670, 1680, 1690, 1700, 1710, 1720, 1730, 1740, 1750, 1760, 1770, 1780, 1790, 1800, 1810, 1820, 1830, 1840, 1850, 1860, 1870, 1880, 1890, 1900, 1910, 1920, 1930, 1940, 1950, 1960, 1970, 1980, 1990, 2000, 2010, 2020, 2030, 2040, 2050, 2060, 2070, 2080, 2090, 2100]\n"
     ]
    }
   ],
   "source": [
    "sizes = [size for (size, _) in section_size_long_6_agg_df.index.tolist()]\n",
    "\n",
    "print(sizes)"
   ],
   "metadata": {
    "collapsed": false,
    "pycharm": {
     "name": "#%%\n"
    }
   }
  },
  {
   "cell_type": "code",
   "execution_count": 34,
   "outputs": [
    {
     "data": {
      "application/vnd.plotly.v1+json": {
       "config": {
        "plotlyServerURL": "https://plot.ly"
       },
       "data": [
        {
         "error_y": {
          "array": [
           7.0710678118654755,
           23.33452377915607,
           44.54772721475249,
           2.1213203435596424,
           29.698484809834994,
           21.920310216782973,
           28.991378028648448,
           16.97056274847714,
           28.991378028648448,
           14.849242404917497,
           25.45584412271571,
           50.204581464244875,
           2.1213203435596424,
           17.67766952966369,
           50.204581464244875,
           30.405591591021544,
           26.16295090390226,
           24.748737341529164,
           16.97056274847714,
           82.73149339882606,
           11.313708498984761,
           55.154328932550705,
           26.16295090390226,
           14.142135623730951,
           12.020815280171307,
           48.08326112068523,
           12.020815280171307,
           89.80256121069154,
           7.7781745930520225,
           10.606601717798213,
           4.949747468305833,
           38.18376618407357,
           20.506096654409877,
           32.526911934581186,
           28.284271247461902,
           62.932503525602726,
           70.0035713374682,
           67.17514421272202,
           14.142135623730951,
           2.1213203435596424,
           44.54772721475249,
           3.5355339059327378,
           15.556349186104045,
           13.435028842544403,
           93.33809511662427,
           7.0710678118654755,
           51.61879502661797,
           70.0035713374682,
           62.22539674441618,
           66.46803743153546,
           42.42640687119285,
           19.79898987322333,
           63.63961030678928,
           98.99494936611666,
           0.0,
           28.284271247461902,
           96.87362902255701,
           13.435028842544403,
           93.33809511662427,
           78.48885271170677,
           82.73149339882606,
           24.041630560342615,
           4.242640687119285,
           51.61879502661797,
           2.1213203435596424,
           129.4005409571382,
           18.384776310850235,
           65.05382386916237,
           4.949747468305833,
           75.66042558696059,
           1.4142135623730951,
           6.363961030678928,
           208.59650045003153,
           117.37972567696688,
           2.1213203435596424,
           14.142135623730951,
           21.213203435596427,
           62.932503525602726,
           133.64318164425748,
           3.5355339059327378,
           110.30865786510141,
           5.656854249492381,
           132.93607486307093,
           93.33809511662427,
           165.46298679765212,
           53.74011537017761,
           55.154328932550705,
           124.45079348883236,
           0.0,
           25.45584412271571,
           15.556349186104045,
           135.0573952066306,
           24.748737341529164,
           28.284271247461902,
           120.91525958289962,
           69.29646455628166,
           68.58935777509511,
           14.849242404917497,
           81.31727983645297,
           129.4005409571382,
           101.82337649086284,
           83.43860018001261,
           75.66042558696059,
           1.4142135623730951,
           60.81118318204309,
           132.93607486307093,
           179.60512242138307,
           15.556349186104045,
           106.77312395916867,
           0.7071067811865476,
           96.87362902255701,
           180.31222920256963,
           71.4177848998413,
           109.60155108391487,
           181.01933598375618,
           33.94112549695428,
           75.66042558696059,
           113.13708498984761,
           197.9898987322333,
           76.36753236814714,
           54.44722215136416,
           169.7056274847714,
           85.55992052357225,
           111.01576464628796,
           79.90306627407988,
           84.14570696119915,
           253.85133444597056,
           25.45584412271571,
           41.012193308819754,
           9.192388155425117,
           142.12846301849606,
           71.4177848998413,
           86.2670273047588,
           178.19090885900997,
           9.192388155425117,
           210.71782079359116,
           103.23759005323593,
           24.748737341529164,
           129.4005409571382,
           145.6639969244288,
           92.63098833543772,
           207.88939366884497,
           72.8319984622144,
           64.34671708797582,
           16.263455967290593,
           161.92745289171938,
           159.80613254815975,
           103.23759005323593,
           104.65180361560904,
           72.12489168102785,
           60.81118318204309,
           23.33452377915607,
           164.04877323527901,
           144.2497833620557,
           89.09545442950498,
           86.97413408594535,
           166.87720036002523,
           77.07463914933368,
           178.19090885900997,
           80.61017305526642,
           147.78531726798843,
           12.020815280171307,
           49.49747468305833,
           268.70057685088807,
           281.4284989122459,
           126.572113832392,
           191.6259377015544,
           251.02290732122438,
           118.08683245815344,
           134.35028842544403,
           74.95331880577403,
           27.577164466275352,
           217.78888860545663,
           19.091883092036785,
           197.28279195104676,
           125.86500705120545,
           44.54772721475249,
           212.13203435596427,
           19.79898987322333,
           79.19595949289332,
           184.55486988968892,
           4.949747468305833,
           194.45436482630058,
           28.284271247461902,
           44.54772721475249,
           169.7056274847714,
           12.020815280171307,
           405.87929240107826,
           176.7766952966369,
           229.80970388562795,
           458.2051942088828,
           203.64675298172568,
           73.53910524340094,
           176.7766952966369,
           195.86857838867365,
           127.9863273947651,
           45.96194077712559,
           485.0752518939716,
           154.8563850798539,
           37.476659402887016,
           2.1213203435596424
          ],
          "type": "data",
          "visible": true
         },
         "name": "m=5",
         "type": "scatter",
         "x": [
          100,
          110,
          120,
          130,
          140,
          150,
          160,
          170,
          180,
          190,
          200,
          210,
          220,
          230,
          240,
          250,
          260,
          270,
          280,
          290,
          300,
          310,
          320,
          330,
          340,
          350,
          360,
          370,
          380,
          390,
          400,
          410,
          420,
          430,
          440,
          450,
          460,
          470,
          480,
          490,
          500,
          510,
          520,
          530,
          540,
          550,
          560,
          570,
          580,
          590,
          600,
          610,
          620,
          630,
          640,
          650,
          660,
          670,
          680,
          690,
          700,
          710,
          720,
          730,
          740,
          750,
          760,
          770,
          780,
          790,
          800,
          810,
          820,
          830,
          840,
          850,
          860,
          870,
          880,
          890,
          900,
          910,
          920,
          930,
          940,
          950,
          960,
          970,
          980,
          990,
          1000,
          1010,
          1020,
          1030,
          1040,
          1050,
          1060,
          1070,
          1080,
          1090,
          1100,
          1110,
          1120,
          1130,
          1140,
          1150,
          1160,
          1170,
          1180,
          1190,
          1200,
          1210,
          1220,
          1230,
          1240,
          1250,
          1260,
          1270,
          1280,
          1290,
          1300,
          1310,
          1320,
          1330,
          1340,
          1350,
          1360,
          1370,
          1380,
          1390,
          1400,
          1410,
          1420,
          1430,
          1440,
          1450,
          1460,
          1470,
          1480,
          1490,
          1500,
          1510,
          1520,
          1530,
          1540,
          1550,
          1560,
          1570,
          1580,
          1590,
          1600,
          1610,
          1620,
          1630,
          1640,
          1650,
          1660,
          1670,
          1680,
          1690,
          1700,
          1710,
          1720,
          1730,
          1740,
          1750,
          1760,
          1770,
          1780,
          1790,
          1800,
          1810,
          1820,
          1830,
          1840,
          1850,
          1860,
          1870,
          1880,
          1890,
          1900,
          1910,
          1920,
          1930,
          1940,
          1950,
          1960,
          1970,
          1980,
          1990,
          2000,
          2010,
          2020,
          2030,
          2040,
          2050,
          2060,
          2070,
          2080,
          2090,
          2100
         ],
         "y": [
          3289.0,
          3884.5,
          4507.5,
          5200.5,
          5897.0,
          6630.5,
          7419.5,
          8267.0,
          9126.5,
          10108.5,
          10986.0,
          11966.5,
          12984.5,
          14069.5,
          15132.5,
          16302.5,
          17481.5,
          18711.5,
          19965.0,
          21259.5,
          22615.0,
          23969.0,
          25388.5,
          26818.0,
          28328.5,
          29892.0,
          31442.5,
          33092.5,
          34706.5,
          36378.5,
          38110.5,
          39883.0,
          41701.5,
          43490.0,
          45337.0,
          47292.5,
          49299.5,
          51292.5,
          53287.0,
          55364.5,
          57456.5,
          59630.5,
          61787.0,
          64039.5,
          66293.0,
          68579.0,
          70946.5,
          73301.5,
          75700.0,
          78183.0,
          80695.0,
          83285.0,
          85882.0,
          88487.0,
          91076.0,
          93757.0,
          96468.5,
          99235.5,
          102087.0,
          104993.5,
          107818.5,
          110752.0,
          113642.0,
          116661.5,
          119778.5,
          122784.5,
          125923.0,
          129053.0,
          132264.5,
          135535.5,
          138791.0,
          142112.5,
          145536.5,
          148894.0,
          152185.5,
          155760.0,
          159178.0,
          162781.5,
          166344.5,
          169955.5,
          173639.0,
          177325.0,
          181043.0,
          184855.0,
          188708.0,
          192521.0,
          196280.0,
          200427.0,
          204307.0,
          208325.0,
          212214.0,
          216501.5,
          220499.5,
          224820.0,
          228873.5,
          233240.0,
          237508.5,
          241884.5,
          246113.5,
          250593.5,
          255036.0,
          259542.0,
          263944.5,
          268631.0,
          273002.0,
          277777.0,
          282421.0,
          287097.0,
          291808.5,
          296645.5,
          301552.5,
          306240.5,
          311146.5,
          316111.5,
          321234.0,
          326164.0,
          331192.5,
          336404.0,
          341441.0,
          346549.0,
          351787.5,
          357148.0,
          362393.5,
          367718.5,
          373113.5,
          378481.5,
          383974.5,
          389453.0,
          395016.0,
          400494.5,
          406076.5,
          411722.5,
          417464.0,
          423113.0,
          428797.5,
          434727.0,
          440625.0,
          446320.5,
          452195.5,
          458169.0,
          464211.5,
          470248.0,
          476300.5,
          482380.5,
          488570.5,
          494471.5,
          500778.0,
          507098.0,
          513539.0,
          519720.0,
          526138.0,
          532556.5,
          538991.0,
          545593.0,
          552064.0,
          558507.5,
          565145.0,
          571871.5,
          578548.0,
          585307.0,
          591928.5,
          598853.5,
          605733.0,
          612515.0,
          619440.0,
          626433.5,
          633408.5,
          640527.5,
          647438.5,
          654677.0,
          661816.0,
          668834.5,
          675999.0,
          683438.5,
          690703.5,
          698368.0,
          705538.5,
          712912.0,
          720418.0,
          728050.0,
          735397.5,
          742971.5,
          750564.5,
          758049.0,
          765854.5,
          773836.0,
          781540.5,
          789177.0,
          797141.0,
          805296.5,
          812776.0,
          820922.0,
          828956.0,
          836991.0,
          844883.5,
          852986.5,
          861083.5,
          869469.0,
          877589.5,
          885919.5,
          894229.5
         ]
        },
        {
         "error_y": {
          "array": [
           45.254833995939045,
           30.405591591021544,
           20.506096654409877,
           31.81980515339464,
           87.68124086713189,
           14.142135623730951,
           7.7781745930520225,
           6.363961030678928,
           4.242640687119285,
           33.23401871576773,
           24.041630560342615,
           28.284271247461902,
           10.606601717798213,
           65.76093065034893,
           18.384776310850235,
           31.81980515339464,
           67.88225099390856,
           86.2670273047588,
           27.577164466275352,
           63.63961030678928,
           31.81980515339464,
           28.284271247461902,
           42.42640687119285,
           106.77312395916867,
           56.568542494923804,
           36.76955262170047,
           3.5355339059327378,
           46.66904755831214,
           2.8284271247461903,
           52.32590180780452,
           9.192388155425117,
           90.50966799187809,
           45.254833995939045,
           88.38834764831844,
           14.849242404917497,
           50.204581464244875,
           30.405591591021544,
           82.73149339882606,
           66.46803743153546,
           65.05382386916237,
           41.71930009000631,
           50.204581464244875,
           13.435028842544403,
           9.192388155425117,
           101.1162697096763,
           73.53910524340094,
           75.66042558696059,
           129.4005409571382,
           59.39696961966999,
           114.5512985522207,
           17.67766952966369,
           50.91168824543142,
           19.79898987322333,
           85.55992052357225,
           95.45941546018392,
           2.8284271247461903,
           31.81980515339464,
           26.16295090390226,
           11.313708498984761,
           9.899494936611665,
           58.68986283848344,
           92.63098833543772,
           101.1162697096763,
           87.68124086713189,
           4.242640687119285,
           83.43860018001261,
           59.39696961966999,
           29.698484809834994,
           82.02438661763951,
           11.313708498984761,
           12.727922061357855,
           20.506096654409877,
           7.7781745930520225,
           30.405591591021544,
           158.39191898578665,
           83.43860018001261,
           29.698484809834994,
           105.35891039679558,
           111.72287142747452,
           67.17514421272202,
           134.35028842544403,
           31.81980515339464,
           32.526911934581186,
           45.96194077712559,
           102.5304832720494,
           82.73149339882606,
           37.476659402887016,
           123.03657992645927,
           50.91168824543142,
           31.81980515339464,
           83.43860018001261,
           7.7781745930520225,
           24.041630560342615,
           87.68124086713189,
           103.23759005323593,
           102.5304832720494,
           38.890872965260115,
           67.17514421272202,
           23.33452377915607,
           48.79036790187178,
           111.01576464628796,
           96.16652224137046,
           119.50104602052653,
           169.7056274847714,
           163.3416664540925,
           111.01576464628796,
           114.5512985522207,
           86.97413408594535,
           64.34671708797582,
           67.88225099390856,
           21.920310216782973,
           41.012193308819754,
           70.71067811865476,
           98.2878425849301,
           44.54772721475249,
           125.86500705120545,
           86.97413408594535,
           83.43860018001261,
           53.033008588991066,
           5.656854249492381,
           123.03657992645927,
           21.920310216782973,
           99.7020561473032,
           41.71930009000631,
           17.67766952966369,
           7.0710678118654755,
           59.39696961966999,
           33.94112549695428,
           153.4421715174808,
           36.76955262170047,
           89.09545442950498,
           4.242640687119285,
           27.577164466275352,
           144.2497833620557,
           58.68986283848344,
           10.606601717798213,
           251.02290732122438,
           153.4421715174808,
           13.435028842544403,
           28.284271247461902,
           18.384776310850235,
           74.24621202458749,
           10.606601717798213,
           103.23759005323593,
           113.84419177103415,
           4.949747468305833,
           22.627416997969522,
           10.606601717798213,
           89.80256121069154,
           113.13708498984761,
           127.9863273947651,
           27.577164466275352,
           190.91883092036784,
           52.32590180780452,
           27.577164466275352,
           27.577164466275352,
           50.204581464244875,
           49.49747468305833,
           147.78531726798843,
           43.840620433565945,
           101.1162697096763,
           16.263455967290593,
           42.42640687119285,
           23.33452377915607,
           8.48528137423857,
           168.2914139223983,
           58.68986283848344,
           123.03657992645927,
           26.870057685088806,
           163.3416664540925,
           39.59797974644666,
           46.66904755831214,
           53.033008588991066,
           68.58935777509511,
           134.35028842544403,
           106.77312395916867,
           72.8319984622144,
           14.849242404917497,
           46.66904755831214,
           73.53910524340094,
           8.48528137423857,
           5.656854249492381,
           98.2878425849301,
           43.1335136523794,
           39.59797974644666,
           4.949747468305833,
           24.041630560342615,
           25.45584412271571,
           53.033008588991066,
           166.87720036002523,
           2.8284271247461903,
           82.02438661763951,
           127.27922061357856,
           13.435028842544403,
           121.62236636408618,
           102.5304832720494,
           147.07821048680188,
           214.2533546995239,
           101.82337649086284,
           60.81118318204309,
           7.0710678118654755
          ],
          "type": "data",
          "visible": true
         },
         "name": "m=6",
         "type": "scatter",
         "x": [
          100,
          110,
          120,
          130,
          140,
          150,
          160,
          170,
          180,
          190,
          200,
          210,
          220,
          230,
          240,
          250,
          260,
          270,
          280,
          290,
          300,
          310,
          320,
          330,
          340,
          350,
          360,
          370,
          380,
          390,
          400,
          410,
          420,
          430,
          440,
          450,
          460,
          470,
          480,
          490,
          500,
          510,
          520,
          530,
          540,
          550,
          560,
          570,
          580,
          590,
          600,
          610,
          620,
          630,
          640,
          650,
          660,
          670,
          680,
          690,
          700,
          710,
          720,
          730,
          740,
          750,
          760,
          770,
          780,
          790,
          800,
          810,
          820,
          830,
          840,
          850,
          860,
          870,
          880,
          890,
          900,
          910,
          920,
          930,
          940,
          950,
          960,
          970,
          980,
          990,
          1000,
          1010,
          1020,
          1030,
          1040,
          1050,
          1060,
          1070,
          1080,
          1090,
          1100,
          1110,
          1120,
          1130,
          1140,
          1150,
          1160,
          1170,
          1180,
          1190,
          1200,
          1210,
          1220,
          1230,
          1240,
          1250,
          1260,
          1270,
          1280,
          1290,
          1300,
          1310,
          1320,
          1330,
          1340,
          1350,
          1360,
          1370,
          1380,
          1390,
          1400,
          1410,
          1420,
          1430,
          1440,
          1450,
          1460,
          1470,
          1480,
          1490,
          1500,
          1510,
          1520,
          1530,
          1540,
          1550,
          1560,
          1570,
          1580,
          1590,
          1600,
          1610,
          1620,
          1630,
          1640,
          1650,
          1660,
          1670,
          1680,
          1690,
          1700,
          1710,
          1720,
          1730,
          1740,
          1750,
          1760,
          1770,
          1780,
          1790,
          1800,
          1810,
          1820,
          1830,
          1840,
          1850,
          1860,
          1870,
          1880,
          1890,
          1900,
          1910,
          1920,
          1930,
          1940,
          1950,
          1960,
          1970,
          1980,
          1990,
          2000,
          2010,
          2020,
          2030,
          2040,
          2050,
          2060,
          2070,
          2080,
          2090,
          2100
         ],
         "y": [
          3732.0,
          4458.5,
          5151.5,
          6004.5,
          6732.0,
          7631.0,
          8551.5,
          9439.5,
          10495.0,
          11472.5,
          12486.0,
          13556.0,
          14672.5,
          15845.5,
          17066.0,
          18155.5,
          19430.0,
          20758.0,
          22125.5,
          23434.0,
          24896.5,
          26331.0,
          27738.0,
          29202.5,
          30726.0,
          32377.0,
          33859.5,
          35492.0,
          37150.0,
          38812.0,
          40579.5,
          42363.0,
          44196.0,
          45972.5,
          47743.5,
          49686.5,
          51573.5,
          53577.5,
          55529.0,
          57574.0,
          59632.5,
          61635.5,
          63823.5,
          65892.5,
          68120.5,
          70351.0,
          72481.5,
          74854.5,
          77204.0,
          79537.0,
          81869.5,
          84219.0,
          86789.0,
          89256.5,
          91696.5,
          94267.0,
          96931.5,
          99517.5,
          102103.0,
          104734.0,
          107558.5,
          110258.5,
          113076.5,
          115883.0,
          118555.0,
          121493.0,
          124392.0,
          127384.0,
          130329.0,
          133271.0,
          136389.0,
          139472.5,
          142444.5,
          145677.5,
          148772.0,
          152033.0,
          155293.0,
          158474.5,
          161874.0,
          165207.5,
          168444.0,
          171886.5,
          175320.0,
          178677.5,
          182298.5,
          185748.5,
          189342.5,
          192857.0,
          196525.0,
          200189.5,
          203860.0,
          207719.5,
          211360.0,
          215202.0,
          219024.0,
          222912.5,
          226832.5,
          230587.5,
          234640.5,
          238684.5,
          242711.5,
          246698.0,
          250746.5,
          254919.0,
          259085.5,
          263242.5,
          267350.0,
          271706.5,
          276016.5,
          280310.0,
          284619.5,
          289134.0,
          293452.0,
          297802.5,
          302319.5,
          306906.0,
          311359.5,
          316051.0,
          320721.5,
          325290.0,
          329805.0,
          334608.5,
          339320.5,
          344138.5,
          348856.5,
          353771.0,
          358596.0,
          363609.0,
          368484.5,
          373588.0,
          378469.0,
          383509.0,
          388483.5,
          393768.0,
          398820.5,
          403955.5,
          409159.5,
          414430.5,
          419663.5,
          425000.0,
          430286.0,
          435637.5,
          441057.5,
          446564.0,
          451848.5,
          457417.5,
          462964.0,
          468469.5,
          474085.5,
          479611.0,
          485521.5,
          491086.5,
          496831.0,
          502651.0,
          508315.5,
          514298.5,
          520044.5,
          525934.0,
          531777.5,
          537752.0,
          543728.5,
          549907.5,
          555901.0,
          561956.5,
          568165.0,
          574127.0,
          580417.5,
          586611.0,
          592919.0,
          599130.5,
          605624.0,
          611883.0,
          618326.5,
          624754.5,
          631058.0,
          637635.5,
          644068.5,
          650648.5,
          657316.0,
          663744.0,
          670537.0,
          677282.0,
          683785.5,
          690544.5,
          697435.0,
          704136.5,
          710914.0,
          717760.0,
          724800.5,
          731705.0,
          738656.0,
          745571.0,
          752623.0,
          759806.5,
          766870.0,
          774075.5,
          781280.0,
          788425.5,
          795703.0,
          802981.0,
          810054.0
         ]
        }
       ],
       "layout": {
        "template": {
         "data": {
          "bar": [
           {
            "error_x": {
             "color": "#2a3f5f"
            },
            "error_y": {
             "color": "#2a3f5f"
            },
            "marker": {
             "line": {
              "color": "#E5ECF6",
              "width": 0.5
             }
            },
            "type": "bar"
           }
          ],
          "barpolar": [
           {
            "marker": {
             "line": {
              "color": "#E5ECF6",
              "width": 0.5
             }
            },
            "type": "barpolar"
           }
          ],
          "carpet": [
           {
            "aaxis": {
             "endlinecolor": "#2a3f5f",
             "gridcolor": "white",
             "linecolor": "white",
             "minorgridcolor": "white",
             "startlinecolor": "#2a3f5f"
            },
            "baxis": {
             "endlinecolor": "#2a3f5f",
             "gridcolor": "white",
             "linecolor": "white",
             "minorgridcolor": "white",
             "startlinecolor": "#2a3f5f"
            },
            "type": "carpet"
           }
          ],
          "choropleth": [
           {
            "colorbar": {
             "outlinewidth": 0,
             "ticks": ""
            },
            "type": "choropleth"
           }
          ],
          "contour": [
           {
            "colorbar": {
             "outlinewidth": 0,
             "ticks": ""
            },
            "colorscale": [
             [
              0.0,
              "#0d0887"
             ],
             [
              0.1111111111111111,
              "#46039f"
             ],
             [
              0.2222222222222222,
              "#7201a8"
             ],
             [
              0.3333333333333333,
              "#9c179e"
             ],
             [
              0.4444444444444444,
              "#bd3786"
             ],
             [
              0.5555555555555556,
              "#d8576b"
             ],
             [
              0.6666666666666666,
              "#ed7953"
             ],
             [
              0.7777777777777778,
              "#fb9f3a"
             ],
             [
              0.8888888888888888,
              "#fdca26"
             ],
             [
              1.0,
              "#f0f921"
             ]
            ],
            "type": "contour"
           }
          ],
          "contourcarpet": [
           {
            "colorbar": {
             "outlinewidth": 0,
             "ticks": ""
            },
            "type": "contourcarpet"
           }
          ],
          "heatmap": [
           {
            "colorbar": {
             "outlinewidth": 0,
             "ticks": ""
            },
            "colorscale": [
             [
              0.0,
              "#0d0887"
             ],
             [
              0.1111111111111111,
              "#46039f"
             ],
             [
              0.2222222222222222,
              "#7201a8"
             ],
             [
              0.3333333333333333,
              "#9c179e"
             ],
             [
              0.4444444444444444,
              "#bd3786"
             ],
             [
              0.5555555555555556,
              "#d8576b"
             ],
             [
              0.6666666666666666,
              "#ed7953"
             ],
             [
              0.7777777777777778,
              "#fb9f3a"
             ],
             [
              0.8888888888888888,
              "#fdca26"
             ],
             [
              1.0,
              "#f0f921"
             ]
            ],
            "type": "heatmap"
           }
          ],
          "heatmapgl": [
           {
            "colorbar": {
             "outlinewidth": 0,
             "ticks": ""
            },
            "colorscale": [
             [
              0.0,
              "#0d0887"
             ],
             [
              0.1111111111111111,
              "#46039f"
             ],
             [
              0.2222222222222222,
              "#7201a8"
             ],
             [
              0.3333333333333333,
              "#9c179e"
             ],
             [
              0.4444444444444444,
              "#bd3786"
             ],
             [
              0.5555555555555556,
              "#d8576b"
             ],
             [
              0.6666666666666666,
              "#ed7953"
             ],
             [
              0.7777777777777778,
              "#fb9f3a"
             ],
             [
              0.8888888888888888,
              "#fdca26"
             ],
             [
              1.0,
              "#f0f921"
             ]
            ],
            "type": "heatmapgl"
           }
          ],
          "histogram": [
           {
            "marker": {
             "colorbar": {
              "outlinewidth": 0,
              "ticks": ""
             }
            },
            "type": "histogram"
           }
          ],
          "histogram2d": [
           {
            "colorbar": {
             "outlinewidth": 0,
             "ticks": ""
            },
            "colorscale": [
             [
              0.0,
              "#0d0887"
             ],
             [
              0.1111111111111111,
              "#46039f"
             ],
             [
              0.2222222222222222,
              "#7201a8"
             ],
             [
              0.3333333333333333,
              "#9c179e"
             ],
             [
              0.4444444444444444,
              "#bd3786"
             ],
             [
              0.5555555555555556,
              "#d8576b"
             ],
             [
              0.6666666666666666,
              "#ed7953"
             ],
             [
              0.7777777777777778,
              "#fb9f3a"
             ],
             [
              0.8888888888888888,
              "#fdca26"
             ],
             [
              1.0,
              "#f0f921"
             ]
            ],
            "type": "histogram2d"
           }
          ],
          "histogram2dcontour": [
           {
            "colorbar": {
             "outlinewidth": 0,
             "ticks": ""
            },
            "colorscale": [
             [
              0.0,
              "#0d0887"
             ],
             [
              0.1111111111111111,
              "#46039f"
             ],
             [
              0.2222222222222222,
              "#7201a8"
             ],
             [
              0.3333333333333333,
              "#9c179e"
             ],
             [
              0.4444444444444444,
              "#bd3786"
             ],
             [
              0.5555555555555556,
              "#d8576b"
             ],
             [
              0.6666666666666666,
              "#ed7953"
             ],
             [
              0.7777777777777778,
              "#fb9f3a"
             ],
             [
              0.8888888888888888,
              "#fdca26"
             ],
             [
              1.0,
              "#f0f921"
             ]
            ],
            "type": "histogram2dcontour"
           }
          ],
          "mesh3d": [
           {
            "colorbar": {
             "outlinewidth": 0,
             "ticks": ""
            },
            "type": "mesh3d"
           }
          ],
          "parcoords": [
           {
            "line": {
             "colorbar": {
              "outlinewidth": 0,
              "ticks": ""
             }
            },
            "type": "parcoords"
           }
          ],
          "pie": [
           {
            "automargin": true,
            "type": "pie"
           }
          ],
          "scatter": [
           {
            "marker": {
             "colorbar": {
              "outlinewidth": 0,
              "ticks": ""
             }
            },
            "type": "scatter"
           }
          ],
          "scatter3d": [
           {
            "line": {
             "colorbar": {
              "outlinewidth": 0,
              "ticks": ""
             }
            },
            "marker": {
             "colorbar": {
              "outlinewidth": 0,
              "ticks": ""
             }
            },
            "type": "scatter3d"
           }
          ],
          "scattercarpet": [
           {
            "marker": {
             "colorbar": {
              "outlinewidth": 0,
              "ticks": ""
             }
            },
            "type": "scattercarpet"
           }
          ],
          "scattergeo": [
           {
            "marker": {
             "colorbar": {
              "outlinewidth": 0,
              "ticks": ""
             }
            },
            "type": "scattergeo"
           }
          ],
          "scattergl": [
           {
            "marker": {
             "colorbar": {
              "outlinewidth": 0,
              "ticks": ""
             }
            },
            "type": "scattergl"
           }
          ],
          "scattermapbox": [
           {
            "marker": {
             "colorbar": {
              "outlinewidth": 0,
              "ticks": ""
             }
            },
            "type": "scattermapbox"
           }
          ],
          "scatterpolar": [
           {
            "marker": {
             "colorbar": {
              "outlinewidth": 0,
              "ticks": ""
             }
            },
            "type": "scatterpolar"
           }
          ],
          "scatterpolargl": [
           {
            "marker": {
             "colorbar": {
              "outlinewidth": 0,
              "ticks": ""
             }
            },
            "type": "scatterpolargl"
           }
          ],
          "scatterternary": [
           {
            "marker": {
             "colorbar": {
              "outlinewidth": 0,
              "ticks": ""
             }
            },
            "type": "scatterternary"
           }
          ],
          "surface": [
           {
            "colorbar": {
             "outlinewidth": 0,
             "ticks": ""
            },
            "colorscale": [
             [
              0.0,
              "#0d0887"
             ],
             [
              0.1111111111111111,
              "#46039f"
             ],
             [
              0.2222222222222222,
              "#7201a8"
             ],
             [
              0.3333333333333333,
              "#9c179e"
             ],
             [
              0.4444444444444444,
              "#bd3786"
             ],
             [
              0.5555555555555556,
              "#d8576b"
             ],
             [
              0.6666666666666666,
              "#ed7953"
             ],
             [
              0.7777777777777778,
              "#fb9f3a"
             ],
             [
              0.8888888888888888,
              "#fdca26"
             ],
             [
              1.0,
              "#f0f921"
             ]
            ],
            "type": "surface"
           }
          ],
          "table": [
           {
            "cells": {
             "fill": {
              "color": "#EBF0F8"
             },
             "line": {
              "color": "white"
             }
            },
            "header": {
             "fill": {
              "color": "#C8D4E3"
             },
             "line": {
              "color": "white"
             }
            },
            "type": "table"
           }
          ]
         },
         "layout": {
          "annotationdefaults": {
           "arrowcolor": "#2a3f5f",
           "arrowhead": 0,
           "arrowwidth": 1
          },
          "coloraxis": {
           "colorbar": {
            "outlinewidth": 0,
            "ticks": ""
           }
          },
          "colorscale": {
           "diverging": [
            [
             0,
             "#8e0152"
            ],
            [
             0.1,
             "#c51b7d"
            ],
            [
             0.2,
             "#de77ae"
            ],
            [
             0.3,
             "#f1b6da"
            ],
            [
             0.4,
             "#fde0ef"
            ],
            [
             0.5,
             "#f7f7f7"
            ],
            [
             0.6,
             "#e6f5d0"
            ],
            [
             0.7,
             "#b8e186"
            ],
            [
             0.8,
             "#7fbc41"
            ],
            [
             0.9,
             "#4d9221"
            ],
            [
             1,
             "#276419"
            ]
           ],
           "sequential": [
            [
             0.0,
             "#0d0887"
            ],
            [
             0.1111111111111111,
             "#46039f"
            ],
            [
             0.2222222222222222,
             "#7201a8"
            ],
            [
             0.3333333333333333,
             "#9c179e"
            ],
            [
             0.4444444444444444,
             "#bd3786"
            ],
            [
             0.5555555555555556,
             "#d8576b"
            ],
            [
             0.6666666666666666,
             "#ed7953"
            ],
            [
             0.7777777777777778,
             "#fb9f3a"
            ],
            [
             0.8888888888888888,
             "#fdca26"
            ],
            [
             1.0,
             "#f0f921"
            ]
           ],
           "sequentialminus": [
            [
             0.0,
             "#0d0887"
            ],
            [
             0.1111111111111111,
             "#46039f"
            ],
            [
             0.2222222222222222,
             "#7201a8"
            ],
            [
             0.3333333333333333,
             "#9c179e"
            ],
            [
             0.4444444444444444,
             "#bd3786"
            ],
            [
             0.5555555555555556,
             "#d8576b"
            ],
            [
             0.6666666666666666,
             "#ed7953"
            ],
            [
             0.7777777777777778,
             "#fb9f3a"
            ],
            [
             0.8888888888888888,
             "#fdca26"
            ],
            [
             1.0,
             "#f0f921"
            ]
           ]
          },
          "colorway": [
           "#636efa",
           "#EF553B",
           "#00cc96",
           "#ab63fa",
           "#FFA15A",
           "#19d3f3",
           "#FF6692",
           "#B6E880",
           "#FF97FF",
           "#FECB52"
          ],
          "font": {
           "color": "#2a3f5f"
          },
          "geo": {
           "bgcolor": "white",
           "lakecolor": "white",
           "landcolor": "#E5ECF6",
           "showlakes": true,
           "showland": true,
           "subunitcolor": "white"
          },
          "hoverlabel": {
           "align": "left"
          },
          "hovermode": "closest",
          "mapbox": {
           "style": "light"
          },
          "paper_bgcolor": "white",
          "plot_bgcolor": "#E5ECF6",
          "polar": {
           "angularaxis": {
            "gridcolor": "white",
            "linecolor": "white",
            "ticks": ""
           },
           "bgcolor": "#E5ECF6",
           "radialaxis": {
            "gridcolor": "white",
            "linecolor": "white",
            "ticks": ""
           }
          },
          "scene": {
           "xaxis": {
            "backgroundcolor": "#E5ECF6",
            "gridcolor": "white",
            "gridwidth": 2,
            "linecolor": "white",
            "showbackground": true,
            "ticks": "",
            "zerolinecolor": "white"
           },
           "yaxis": {
            "backgroundcolor": "#E5ECF6",
            "gridcolor": "white",
            "gridwidth": 2,
            "linecolor": "white",
            "showbackground": true,
            "ticks": "",
            "zerolinecolor": "white"
           },
           "zaxis": {
            "backgroundcolor": "#E5ECF6",
            "gridcolor": "white",
            "gridwidth": 2,
            "linecolor": "white",
            "showbackground": true,
            "ticks": "",
            "zerolinecolor": "white"
           }
          },
          "shapedefaults": {
           "line": {
            "color": "#2a3f5f"
           }
          },
          "ternary": {
           "aaxis": {
            "gridcolor": "white",
            "linecolor": "white",
            "ticks": ""
           },
           "baxis": {
            "gridcolor": "white",
            "linecolor": "white",
            "ticks": ""
           },
           "bgcolor": "#E5ECF6",
           "caxis": {
            "gridcolor": "white",
            "linecolor": "white",
            "ticks": ""
           }
          },
          "title": {
           "x": 0.05
          },
          "xaxis": {
           "automargin": true,
           "gridcolor": "white",
           "linecolor": "white",
           "ticks": "",
           "title": {
            "standoff": 15
           },
           "zerolinecolor": "white",
           "zerolinewidth": 2
          },
          "yaxis": {
           "automargin": true,
           "gridcolor": "white",
           "linecolor": "white",
           "ticks": "",
           "title": {
            "standoff": 15
           },
           "zerolinecolor": "white",
           "zerolinewidth": 2
          }
         }
        },
        "title": {
         "text": "Section size comparison in the range 100 to 2100"
        },
        "xaxis": {
         "title": {
          "text": "circuit size n"
         }
        },
        "yaxis": {
         "title": {
          "text": "circuit length"
         }
        }
       }
      },
      "text/html": "<div>                            <div id=\"63d0bd05-21b0-4494-9ab3-05f0ed6011f6\" class=\"plotly-graph-div\" style=\"height:525px; width:100%;\"></div>            <script type=\"text/javascript\">                require([\"plotly\"], function(Plotly) {                    window.PLOTLYENV=window.PLOTLYENV || {};                                    if (document.getElementById(\"63d0bd05-21b0-4494-9ab3-05f0ed6011f6\")) {                    Plotly.newPlot(                        \"63d0bd05-21b0-4494-9ab3-05f0ed6011f6\",                        [{\"error_y\": {\"array\": [7.0710678118654755, 23.33452377915607, 44.54772721475249, 2.1213203435596424, 29.698484809834994, 21.920310216782973, 28.991378028648448, 16.97056274847714, 28.991378028648448, 14.849242404917497, 25.45584412271571, 50.204581464244875, 2.1213203435596424, 17.67766952966369, 50.204581464244875, 30.405591591021544, 26.16295090390226, 24.748737341529164, 16.97056274847714, 82.73149339882606, 11.313708498984761, 55.154328932550705, 26.16295090390226, 14.142135623730951, 12.020815280171307, 48.08326112068523, 12.020815280171307, 89.80256121069154, 7.7781745930520225, 10.606601717798213, 4.949747468305833, 38.18376618407357, 20.506096654409877, 32.526911934581186, 28.284271247461902, 62.932503525602726, 70.0035713374682, 67.17514421272202, 14.142135623730951, 2.1213203435596424, 44.54772721475249, 3.5355339059327378, 15.556349186104045, 13.435028842544403, 93.33809511662427, 7.0710678118654755, 51.61879502661797, 70.0035713374682, 62.22539674441618, 66.46803743153546, 42.42640687119285, 19.79898987322333, 63.63961030678928, 98.99494936611666, 0.0, 28.284271247461902, 96.87362902255701, 13.435028842544403, 93.33809511662427, 78.48885271170677, 82.73149339882606, 24.041630560342615, 4.242640687119285, 51.61879502661797, 2.1213203435596424, 129.4005409571382, 18.384776310850235, 65.05382386916237, 4.949747468305833, 75.66042558696059, 1.4142135623730951, 6.363961030678928, 208.59650045003153, 117.37972567696688, 2.1213203435596424, 14.142135623730951, 21.213203435596427, 62.932503525602726, 133.64318164425748, 3.5355339059327378, 110.30865786510141, 5.656854249492381, 132.93607486307093, 93.33809511662427, 165.46298679765212, 53.74011537017761, 55.154328932550705, 124.45079348883236, 0.0, 25.45584412271571, 15.556349186104045, 135.0573952066306, 24.748737341529164, 28.284271247461902, 120.91525958289962, 69.29646455628166, 68.58935777509511, 14.849242404917497, 81.31727983645297, 129.4005409571382, 101.82337649086284, 83.43860018001261, 75.66042558696059, 1.4142135623730951, 60.81118318204309, 132.93607486307093, 179.60512242138307, 15.556349186104045, 106.77312395916867, 0.7071067811865476, 96.87362902255701, 180.31222920256963, 71.4177848998413, 109.60155108391487, 181.01933598375618, 33.94112549695428, 75.66042558696059, 113.13708498984761, 197.9898987322333, 76.36753236814714, 54.44722215136416, 169.7056274847714, 85.55992052357225, 111.01576464628796, 79.90306627407988, 84.14570696119915, 253.85133444597056, 25.45584412271571, 41.012193308819754, 9.192388155425117, 142.12846301849606, 71.4177848998413, 86.2670273047588, 178.19090885900997, 9.192388155425117, 210.71782079359116, 103.23759005323593, 24.748737341529164, 129.4005409571382, 145.6639969244288, 92.63098833543772, 207.88939366884497, 72.8319984622144, 64.34671708797582, 16.263455967290593, 161.92745289171938, 159.80613254815975, 103.23759005323593, 104.65180361560904, 72.12489168102785, 60.81118318204309, 23.33452377915607, 164.04877323527901, 144.2497833620557, 89.09545442950498, 86.97413408594535, 166.87720036002523, 77.07463914933368, 178.19090885900997, 80.61017305526642, 147.78531726798843, 12.020815280171307, 49.49747468305833, 268.70057685088807, 281.4284989122459, 126.572113832392, 191.6259377015544, 251.02290732122438, 118.08683245815344, 134.35028842544403, 74.95331880577403, 27.577164466275352, 217.78888860545663, 19.091883092036785, 197.28279195104676, 125.86500705120545, 44.54772721475249, 212.13203435596427, 19.79898987322333, 79.19595949289332, 184.55486988968892, 4.949747468305833, 194.45436482630058, 28.284271247461902, 44.54772721475249, 169.7056274847714, 12.020815280171307, 405.87929240107826, 176.7766952966369, 229.80970388562795, 458.2051942088828, 203.64675298172568, 73.53910524340094, 176.7766952966369, 195.86857838867365, 127.9863273947651, 45.96194077712559, 485.0752518939716, 154.8563850798539, 37.476659402887016, 2.1213203435596424], \"type\": \"data\", \"visible\": true}, \"name\": \"m=5\", \"type\": \"scatter\", \"x\": [100, 110, 120, 130, 140, 150, 160, 170, 180, 190, 200, 210, 220, 230, 240, 250, 260, 270, 280, 290, 300, 310, 320, 330, 340, 350, 360, 370, 380, 390, 400, 410, 420, 430, 440, 450, 460, 470, 480, 490, 500, 510, 520, 530, 540, 550, 560, 570, 580, 590, 600, 610, 620, 630, 640, 650, 660, 670, 680, 690, 700, 710, 720, 730, 740, 750, 760, 770, 780, 790, 800, 810, 820, 830, 840, 850, 860, 870, 880, 890, 900, 910, 920, 930, 940, 950, 960, 970, 980, 990, 1000, 1010, 1020, 1030, 1040, 1050, 1060, 1070, 1080, 1090, 1100, 1110, 1120, 1130, 1140, 1150, 1160, 1170, 1180, 1190, 1200, 1210, 1220, 1230, 1240, 1250, 1260, 1270, 1280, 1290, 1300, 1310, 1320, 1330, 1340, 1350, 1360, 1370, 1380, 1390, 1400, 1410, 1420, 1430, 1440, 1450, 1460, 1470, 1480, 1490, 1500, 1510, 1520, 1530, 1540, 1550, 1560, 1570, 1580, 1590, 1600, 1610, 1620, 1630, 1640, 1650, 1660, 1670, 1680, 1690, 1700, 1710, 1720, 1730, 1740, 1750, 1760, 1770, 1780, 1790, 1800, 1810, 1820, 1830, 1840, 1850, 1860, 1870, 1880, 1890, 1900, 1910, 1920, 1930, 1940, 1950, 1960, 1970, 1980, 1990, 2000, 2010, 2020, 2030, 2040, 2050, 2060, 2070, 2080, 2090, 2100], \"y\": [3289.0, 3884.5, 4507.5, 5200.5, 5897.0, 6630.5, 7419.5, 8267.0, 9126.5, 10108.5, 10986.0, 11966.5, 12984.5, 14069.5, 15132.5, 16302.5, 17481.5, 18711.5, 19965.0, 21259.5, 22615.0, 23969.0, 25388.5, 26818.0, 28328.5, 29892.0, 31442.5, 33092.5, 34706.5, 36378.5, 38110.5, 39883.0, 41701.5, 43490.0, 45337.0, 47292.5, 49299.5, 51292.5, 53287.0, 55364.5, 57456.5, 59630.5, 61787.0, 64039.5, 66293.0, 68579.0, 70946.5, 73301.5, 75700.0, 78183.0, 80695.0, 83285.0, 85882.0, 88487.0, 91076.0, 93757.0, 96468.5, 99235.5, 102087.0, 104993.5, 107818.5, 110752.0, 113642.0, 116661.5, 119778.5, 122784.5, 125923.0, 129053.0, 132264.5, 135535.5, 138791.0, 142112.5, 145536.5, 148894.0, 152185.5, 155760.0, 159178.0, 162781.5, 166344.5, 169955.5, 173639.0, 177325.0, 181043.0, 184855.0, 188708.0, 192521.0, 196280.0, 200427.0, 204307.0, 208325.0, 212214.0, 216501.5, 220499.5, 224820.0, 228873.5, 233240.0, 237508.5, 241884.5, 246113.5, 250593.5, 255036.0, 259542.0, 263944.5, 268631.0, 273002.0, 277777.0, 282421.0, 287097.0, 291808.5, 296645.5, 301552.5, 306240.5, 311146.5, 316111.5, 321234.0, 326164.0, 331192.5, 336404.0, 341441.0, 346549.0, 351787.5, 357148.0, 362393.5, 367718.5, 373113.5, 378481.5, 383974.5, 389453.0, 395016.0, 400494.5, 406076.5, 411722.5, 417464.0, 423113.0, 428797.5, 434727.0, 440625.0, 446320.5, 452195.5, 458169.0, 464211.5, 470248.0, 476300.5, 482380.5, 488570.5, 494471.5, 500778.0, 507098.0, 513539.0, 519720.0, 526138.0, 532556.5, 538991.0, 545593.0, 552064.0, 558507.5, 565145.0, 571871.5, 578548.0, 585307.0, 591928.5, 598853.5, 605733.0, 612515.0, 619440.0, 626433.5, 633408.5, 640527.5, 647438.5, 654677.0, 661816.0, 668834.5, 675999.0, 683438.5, 690703.5, 698368.0, 705538.5, 712912.0, 720418.0, 728050.0, 735397.5, 742971.5, 750564.5, 758049.0, 765854.5, 773836.0, 781540.5, 789177.0, 797141.0, 805296.5, 812776.0, 820922.0, 828956.0, 836991.0, 844883.5, 852986.5, 861083.5, 869469.0, 877589.5, 885919.5, 894229.5]}, {\"error_y\": {\"array\": [45.254833995939045, 30.405591591021544, 20.506096654409877, 31.81980515339464, 87.68124086713189, 14.142135623730951, 7.7781745930520225, 6.363961030678928, 4.242640687119285, 33.23401871576773, 24.041630560342615, 28.284271247461902, 10.606601717798213, 65.76093065034893, 18.384776310850235, 31.81980515339464, 67.88225099390856, 86.2670273047588, 27.577164466275352, 63.63961030678928, 31.81980515339464, 28.284271247461902, 42.42640687119285, 106.77312395916867, 56.568542494923804, 36.76955262170047, 3.5355339059327378, 46.66904755831214, 2.8284271247461903, 52.32590180780452, 9.192388155425117, 90.50966799187809, 45.254833995939045, 88.38834764831844, 14.849242404917497, 50.204581464244875, 30.405591591021544, 82.73149339882606, 66.46803743153546, 65.05382386916237, 41.71930009000631, 50.204581464244875, 13.435028842544403, 9.192388155425117, 101.1162697096763, 73.53910524340094, 75.66042558696059, 129.4005409571382, 59.39696961966999, 114.5512985522207, 17.67766952966369, 50.91168824543142, 19.79898987322333, 85.55992052357225, 95.45941546018392, 2.8284271247461903, 31.81980515339464, 26.16295090390226, 11.313708498984761, 9.899494936611665, 58.68986283848344, 92.63098833543772, 101.1162697096763, 87.68124086713189, 4.242640687119285, 83.43860018001261, 59.39696961966999, 29.698484809834994, 82.02438661763951, 11.313708498984761, 12.727922061357855, 20.506096654409877, 7.7781745930520225, 30.405591591021544, 158.39191898578665, 83.43860018001261, 29.698484809834994, 105.35891039679558, 111.72287142747452, 67.17514421272202, 134.35028842544403, 31.81980515339464, 32.526911934581186, 45.96194077712559, 102.5304832720494, 82.73149339882606, 37.476659402887016, 123.03657992645927, 50.91168824543142, 31.81980515339464, 83.43860018001261, 7.7781745930520225, 24.041630560342615, 87.68124086713189, 103.23759005323593, 102.5304832720494, 38.890872965260115, 67.17514421272202, 23.33452377915607, 48.79036790187178, 111.01576464628796, 96.16652224137046, 119.50104602052653, 169.7056274847714, 163.3416664540925, 111.01576464628796, 114.5512985522207, 86.97413408594535, 64.34671708797582, 67.88225099390856, 21.920310216782973, 41.012193308819754, 70.71067811865476, 98.2878425849301, 44.54772721475249, 125.86500705120545, 86.97413408594535, 83.43860018001261, 53.033008588991066, 5.656854249492381, 123.03657992645927, 21.920310216782973, 99.7020561473032, 41.71930009000631, 17.67766952966369, 7.0710678118654755, 59.39696961966999, 33.94112549695428, 153.4421715174808, 36.76955262170047, 89.09545442950498, 4.242640687119285, 27.577164466275352, 144.2497833620557, 58.68986283848344, 10.606601717798213, 251.02290732122438, 153.4421715174808, 13.435028842544403, 28.284271247461902, 18.384776310850235, 74.24621202458749, 10.606601717798213, 103.23759005323593, 113.84419177103415, 4.949747468305833, 22.627416997969522, 10.606601717798213, 89.80256121069154, 113.13708498984761, 127.9863273947651, 27.577164466275352, 190.91883092036784, 52.32590180780452, 27.577164466275352, 27.577164466275352, 50.204581464244875, 49.49747468305833, 147.78531726798843, 43.840620433565945, 101.1162697096763, 16.263455967290593, 42.42640687119285, 23.33452377915607, 8.48528137423857, 168.2914139223983, 58.68986283848344, 123.03657992645927, 26.870057685088806, 163.3416664540925, 39.59797974644666, 46.66904755831214, 53.033008588991066, 68.58935777509511, 134.35028842544403, 106.77312395916867, 72.8319984622144, 14.849242404917497, 46.66904755831214, 73.53910524340094, 8.48528137423857, 5.656854249492381, 98.2878425849301, 43.1335136523794, 39.59797974644666, 4.949747468305833, 24.041630560342615, 25.45584412271571, 53.033008588991066, 166.87720036002523, 2.8284271247461903, 82.02438661763951, 127.27922061357856, 13.435028842544403, 121.62236636408618, 102.5304832720494, 147.07821048680188, 214.2533546995239, 101.82337649086284, 60.81118318204309, 7.0710678118654755], \"type\": \"data\", \"visible\": true}, \"name\": \"m=6\", \"type\": \"scatter\", \"x\": [100, 110, 120, 130, 140, 150, 160, 170, 180, 190, 200, 210, 220, 230, 240, 250, 260, 270, 280, 290, 300, 310, 320, 330, 340, 350, 360, 370, 380, 390, 400, 410, 420, 430, 440, 450, 460, 470, 480, 490, 500, 510, 520, 530, 540, 550, 560, 570, 580, 590, 600, 610, 620, 630, 640, 650, 660, 670, 680, 690, 700, 710, 720, 730, 740, 750, 760, 770, 780, 790, 800, 810, 820, 830, 840, 850, 860, 870, 880, 890, 900, 910, 920, 930, 940, 950, 960, 970, 980, 990, 1000, 1010, 1020, 1030, 1040, 1050, 1060, 1070, 1080, 1090, 1100, 1110, 1120, 1130, 1140, 1150, 1160, 1170, 1180, 1190, 1200, 1210, 1220, 1230, 1240, 1250, 1260, 1270, 1280, 1290, 1300, 1310, 1320, 1330, 1340, 1350, 1360, 1370, 1380, 1390, 1400, 1410, 1420, 1430, 1440, 1450, 1460, 1470, 1480, 1490, 1500, 1510, 1520, 1530, 1540, 1550, 1560, 1570, 1580, 1590, 1600, 1610, 1620, 1630, 1640, 1650, 1660, 1670, 1680, 1690, 1700, 1710, 1720, 1730, 1740, 1750, 1760, 1770, 1780, 1790, 1800, 1810, 1820, 1830, 1840, 1850, 1860, 1870, 1880, 1890, 1900, 1910, 1920, 1930, 1940, 1950, 1960, 1970, 1980, 1990, 2000, 2010, 2020, 2030, 2040, 2050, 2060, 2070, 2080, 2090, 2100], \"y\": [3732.0, 4458.5, 5151.5, 6004.5, 6732.0, 7631.0, 8551.5, 9439.5, 10495.0, 11472.5, 12486.0, 13556.0, 14672.5, 15845.5, 17066.0, 18155.5, 19430.0, 20758.0, 22125.5, 23434.0, 24896.5, 26331.0, 27738.0, 29202.5, 30726.0, 32377.0, 33859.5, 35492.0, 37150.0, 38812.0, 40579.5, 42363.0, 44196.0, 45972.5, 47743.5, 49686.5, 51573.5, 53577.5, 55529.0, 57574.0, 59632.5, 61635.5, 63823.5, 65892.5, 68120.5, 70351.0, 72481.5, 74854.5, 77204.0, 79537.0, 81869.5, 84219.0, 86789.0, 89256.5, 91696.5, 94267.0, 96931.5, 99517.5, 102103.0, 104734.0, 107558.5, 110258.5, 113076.5, 115883.0, 118555.0, 121493.0, 124392.0, 127384.0, 130329.0, 133271.0, 136389.0, 139472.5, 142444.5, 145677.5, 148772.0, 152033.0, 155293.0, 158474.5, 161874.0, 165207.5, 168444.0, 171886.5, 175320.0, 178677.5, 182298.5, 185748.5, 189342.5, 192857.0, 196525.0, 200189.5, 203860.0, 207719.5, 211360.0, 215202.0, 219024.0, 222912.5, 226832.5, 230587.5, 234640.5, 238684.5, 242711.5, 246698.0, 250746.5, 254919.0, 259085.5, 263242.5, 267350.0, 271706.5, 276016.5, 280310.0, 284619.5, 289134.0, 293452.0, 297802.5, 302319.5, 306906.0, 311359.5, 316051.0, 320721.5, 325290.0, 329805.0, 334608.5, 339320.5, 344138.5, 348856.5, 353771.0, 358596.0, 363609.0, 368484.5, 373588.0, 378469.0, 383509.0, 388483.5, 393768.0, 398820.5, 403955.5, 409159.5, 414430.5, 419663.5, 425000.0, 430286.0, 435637.5, 441057.5, 446564.0, 451848.5, 457417.5, 462964.0, 468469.5, 474085.5, 479611.0, 485521.5, 491086.5, 496831.0, 502651.0, 508315.5, 514298.5, 520044.5, 525934.0, 531777.5, 537752.0, 543728.5, 549907.5, 555901.0, 561956.5, 568165.0, 574127.0, 580417.5, 586611.0, 592919.0, 599130.5, 605624.0, 611883.0, 618326.5, 624754.5, 631058.0, 637635.5, 644068.5, 650648.5, 657316.0, 663744.0, 670537.0, 677282.0, 683785.5, 690544.5, 697435.0, 704136.5, 710914.0, 717760.0, 724800.5, 731705.0, 738656.0, 745571.0, 752623.0, 759806.5, 766870.0, 774075.5, 781280.0, 788425.5, 795703.0, 802981.0, 810054.0]}],                        {\"template\": {\"data\": {\"bar\": [{\"error_x\": {\"color\": \"#2a3f5f\"}, \"error_y\": {\"color\": \"#2a3f5f\"}, \"marker\": {\"line\": {\"color\": \"#E5ECF6\", \"width\": 0.5}}, \"type\": \"bar\"}], \"barpolar\": [{\"marker\": {\"line\": {\"color\": \"#E5ECF6\", \"width\": 0.5}}, \"type\": \"barpolar\"}], \"carpet\": [{\"aaxis\": {\"endlinecolor\": \"#2a3f5f\", \"gridcolor\": \"white\", \"linecolor\": \"white\", \"minorgridcolor\": \"white\", \"startlinecolor\": \"#2a3f5f\"}, \"baxis\": {\"endlinecolor\": \"#2a3f5f\", \"gridcolor\": \"white\", \"linecolor\": \"white\", \"minorgridcolor\": \"white\", \"startlinecolor\": \"#2a3f5f\"}, \"type\": \"carpet\"}], \"choropleth\": [{\"colorbar\": {\"outlinewidth\": 0, \"ticks\": \"\"}, \"type\": \"choropleth\"}], \"contour\": [{\"colorbar\": {\"outlinewidth\": 0, \"ticks\": \"\"}, \"colorscale\": [[0.0, \"#0d0887\"], [0.1111111111111111, \"#46039f\"], [0.2222222222222222, \"#7201a8\"], [0.3333333333333333, \"#9c179e\"], [0.4444444444444444, \"#bd3786\"], [0.5555555555555556, \"#d8576b\"], [0.6666666666666666, \"#ed7953\"], [0.7777777777777778, \"#fb9f3a\"], [0.8888888888888888, \"#fdca26\"], [1.0, \"#f0f921\"]], \"type\": \"contour\"}], \"contourcarpet\": [{\"colorbar\": {\"outlinewidth\": 0, \"ticks\": \"\"}, \"type\": \"contourcarpet\"}], \"heatmap\": [{\"colorbar\": {\"outlinewidth\": 0, \"ticks\": \"\"}, \"colorscale\": [[0.0, \"#0d0887\"], [0.1111111111111111, \"#46039f\"], [0.2222222222222222, \"#7201a8\"], [0.3333333333333333, \"#9c179e\"], [0.4444444444444444, \"#bd3786\"], [0.5555555555555556, \"#d8576b\"], [0.6666666666666666, \"#ed7953\"], [0.7777777777777778, \"#fb9f3a\"], [0.8888888888888888, \"#fdca26\"], [1.0, \"#f0f921\"]], \"type\": \"heatmap\"}], \"heatmapgl\": [{\"colorbar\": {\"outlinewidth\": 0, \"ticks\": \"\"}, \"colorscale\": [[0.0, \"#0d0887\"], [0.1111111111111111, \"#46039f\"], [0.2222222222222222, \"#7201a8\"], [0.3333333333333333, \"#9c179e\"], [0.4444444444444444, \"#bd3786\"], [0.5555555555555556, \"#d8576b\"], [0.6666666666666666, \"#ed7953\"], [0.7777777777777778, \"#fb9f3a\"], [0.8888888888888888, \"#fdca26\"], [1.0, \"#f0f921\"]], \"type\": \"heatmapgl\"}], \"histogram\": [{\"marker\": {\"colorbar\": {\"outlinewidth\": 0, \"ticks\": \"\"}}, \"type\": \"histogram\"}], \"histogram2d\": [{\"colorbar\": {\"outlinewidth\": 0, \"ticks\": \"\"}, \"colorscale\": [[0.0, \"#0d0887\"], [0.1111111111111111, \"#46039f\"], [0.2222222222222222, \"#7201a8\"], [0.3333333333333333, \"#9c179e\"], [0.4444444444444444, \"#bd3786\"], [0.5555555555555556, \"#d8576b\"], [0.6666666666666666, \"#ed7953\"], [0.7777777777777778, \"#fb9f3a\"], [0.8888888888888888, \"#fdca26\"], [1.0, \"#f0f921\"]], \"type\": \"histogram2d\"}], \"histogram2dcontour\": [{\"colorbar\": {\"outlinewidth\": 0, \"ticks\": \"\"}, \"colorscale\": [[0.0, \"#0d0887\"], [0.1111111111111111, \"#46039f\"], [0.2222222222222222, \"#7201a8\"], [0.3333333333333333, \"#9c179e\"], [0.4444444444444444, \"#bd3786\"], [0.5555555555555556, \"#d8576b\"], [0.6666666666666666, \"#ed7953\"], [0.7777777777777778, \"#fb9f3a\"], [0.8888888888888888, \"#fdca26\"], [1.0, \"#f0f921\"]], \"type\": \"histogram2dcontour\"}], \"mesh3d\": [{\"colorbar\": {\"outlinewidth\": 0, \"ticks\": \"\"}, \"type\": \"mesh3d\"}], \"parcoords\": [{\"line\": {\"colorbar\": {\"outlinewidth\": 0, \"ticks\": \"\"}}, \"type\": \"parcoords\"}], \"pie\": [{\"automargin\": true, \"type\": \"pie\"}], \"scatter\": [{\"marker\": {\"colorbar\": {\"outlinewidth\": 0, \"ticks\": \"\"}}, \"type\": \"scatter\"}], \"scatter3d\": [{\"line\": {\"colorbar\": {\"outlinewidth\": 0, \"ticks\": \"\"}}, \"marker\": {\"colorbar\": {\"outlinewidth\": 0, \"ticks\": \"\"}}, \"type\": \"scatter3d\"}], \"scattercarpet\": [{\"marker\": {\"colorbar\": {\"outlinewidth\": 0, \"ticks\": \"\"}}, \"type\": \"scattercarpet\"}], \"scattergeo\": [{\"marker\": {\"colorbar\": {\"outlinewidth\": 0, \"ticks\": \"\"}}, \"type\": \"scattergeo\"}], \"scattergl\": [{\"marker\": {\"colorbar\": {\"outlinewidth\": 0, \"ticks\": \"\"}}, \"type\": \"scattergl\"}], \"scattermapbox\": [{\"marker\": {\"colorbar\": {\"outlinewidth\": 0, \"ticks\": \"\"}}, \"type\": \"scattermapbox\"}], \"scatterpolar\": [{\"marker\": {\"colorbar\": {\"outlinewidth\": 0, \"ticks\": \"\"}}, \"type\": \"scatterpolar\"}], \"scatterpolargl\": [{\"marker\": {\"colorbar\": {\"outlinewidth\": 0, \"ticks\": \"\"}}, \"type\": \"scatterpolargl\"}], \"scatterternary\": [{\"marker\": {\"colorbar\": {\"outlinewidth\": 0, \"ticks\": \"\"}}, \"type\": \"scatterternary\"}], \"surface\": [{\"colorbar\": {\"outlinewidth\": 0, \"ticks\": \"\"}, \"colorscale\": [[0.0, \"#0d0887\"], [0.1111111111111111, \"#46039f\"], [0.2222222222222222, \"#7201a8\"], [0.3333333333333333, \"#9c179e\"], [0.4444444444444444, \"#bd3786\"], [0.5555555555555556, \"#d8576b\"], [0.6666666666666666, \"#ed7953\"], [0.7777777777777778, \"#fb9f3a\"], [0.8888888888888888, \"#fdca26\"], [1.0, \"#f0f921\"]], \"type\": \"surface\"}], \"table\": [{\"cells\": {\"fill\": {\"color\": \"#EBF0F8\"}, \"line\": {\"color\": \"white\"}}, \"header\": {\"fill\": {\"color\": \"#C8D4E3\"}, \"line\": {\"color\": \"white\"}}, \"type\": \"table\"}]}, \"layout\": {\"annotationdefaults\": {\"arrowcolor\": \"#2a3f5f\", \"arrowhead\": 0, \"arrowwidth\": 1}, \"coloraxis\": {\"colorbar\": {\"outlinewidth\": 0, \"ticks\": \"\"}}, \"colorscale\": {\"diverging\": [[0, \"#8e0152\"], [0.1, \"#c51b7d\"], [0.2, \"#de77ae\"], [0.3, \"#f1b6da\"], [0.4, \"#fde0ef\"], [0.5, \"#f7f7f7\"], [0.6, \"#e6f5d0\"], [0.7, \"#b8e186\"], [0.8, \"#7fbc41\"], [0.9, \"#4d9221\"], [1, \"#276419\"]], \"sequential\": [[0.0, \"#0d0887\"], [0.1111111111111111, \"#46039f\"], [0.2222222222222222, \"#7201a8\"], [0.3333333333333333, \"#9c179e\"], [0.4444444444444444, \"#bd3786\"], [0.5555555555555556, \"#d8576b\"], [0.6666666666666666, \"#ed7953\"], [0.7777777777777778, \"#fb9f3a\"], [0.8888888888888888, \"#fdca26\"], [1.0, \"#f0f921\"]], \"sequentialminus\": [[0.0, \"#0d0887\"], [0.1111111111111111, \"#46039f\"], [0.2222222222222222, \"#7201a8\"], [0.3333333333333333, \"#9c179e\"], [0.4444444444444444, \"#bd3786\"], [0.5555555555555556, \"#d8576b\"], [0.6666666666666666, \"#ed7953\"], [0.7777777777777778, \"#fb9f3a\"], [0.8888888888888888, \"#fdca26\"], [1.0, \"#f0f921\"]]}, \"colorway\": [\"#636efa\", \"#EF553B\", \"#00cc96\", \"#ab63fa\", \"#FFA15A\", \"#19d3f3\", \"#FF6692\", \"#B6E880\", \"#FF97FF\", \"#FECB52\"], \"font\": {\"color\": \"#2a3f5f\"}, \"geo\": {\"bgcolor\": \"white\", \"lakecolor\": \"white\", \"landcolor\": \"#E5ECF6\", \"showlakes\": true, \"showland\": true, \"subunitcolor\": \"white\"}, \"hoverlabel\": {\"align\": \"left\"}, \"hovermode\": \"closest\", \"mapbox\": {\"style\": \"light\"}, \"paper_bgcolor\": \"white\", \"plot_bgcolor\": \"#E5ECF6\", \"polar\": {\"angularaxis\": {\"gridcolor\": \"white\", \"linecolor\": \"white\", \"ticks\": \"\"}, \"bgcolor\": \"#E5ECF6\", \"radialaxis\": {\"gridcolor\": \"white\", \"linecolor\": \"white\", \"ticks\": \"\"}}, \"scene\": {\"xaxis\": {\"backgroundcolor\": \"#E5ECF6\", \"gridcolor\": \"white\", \"gridwidth\": 2, \"linecolor\": \"white\", \"showbackground\": true, \"ticks\": \"\", \"zerolinecolor\": \"white\"}, \"yaxis\": {\"backgroundcolor\": \"#E5ECF6\", \"gridcolor\": \"white\", \"gridwidth\": 2, \"linecolor\": \"white\", \"showbackground\": true, \"ticks\": \"\", \"zerolinecolor\": \"white\"}, \"zaxis\": {\"backgroundcolor\": \"#E5ECF6\", \"gridcolor\": \"white\", \"gridwidth\": 2, \"linecolor\": \"white\", \"showbackground\": true, \"ticks\": \"\", \"zerolinecolor\": \"white\"}}, \"shapedefaults\": {\"line\": {\"color\": \"#2a3f5f\"}}, \"ternary\": {\"aaxis\": {\"gridcolor\": \"white\", \"linecolor\": \"white\", \"ticks\": \"\"}, \"baxis\": {\"gridcolor\": \"white\", \"linecolor\": \"white\", \"ticks\": \"\"}, \"bgcolor\": \"#E5ECF6\", \"caxis\": {\"gridcolor\": \"white\", \"linecolor\": \"white\", \"ticks\": \"\"}}, \"title\": {\"x\": 0.05}, \"xaxis\": {\"automargin\": true, \"gridcolor\": \"white\", \"linecolor\": \"white\", \"ticks\": \"\", \"title\": {\"standoff\": 15}, \"zerolinecolor\": \"white\", \"zerolinewidth\": 2}, \"yaxis\": {\"automargin\": true, \"gridcolor\": \"white\", \"linecolor\": \"white\", \"ticks\": \"\", \"title\": {\"standoff\": 15}, \"zerolinecolor\": \"white\", \"zerolinewidth\": 2}}}, \"title\": {\"text\": \"Section size comparison in the range 100 to 2100\"}, \"xaxis\": {\"title\": {\"text\": \"circuit size n\"}}, \"yaxis\": {\"title\": {\"text\": \"circuit length\"}}},                        {\"responsive\": true}                    ).then(function(){\n                            \nvar gd = document.getElementById('63d0bd05-21b0-4494-9ab3-05f0ed6011f6');\nvar x = new MutationObserver(function (mutations, observer) {{\n        var display = window.getComputedStyle(gd).display;\n        if (!display || display === 'none') {{\n            console.log([gd, 'removed!']);\n            Plotly.purge(gd);\n            observer.disconnect();\n        }}\n}});\n\n// Listen for the removal of the full notebook cells\nvar notebookContainer = gd.closest('#notebook-container');\nif (notebookContainer) {{\n    x.observe(notebookContainer, {childList: true});\n}}\n\n// Listen for the clearing of the current output cell\nvar outputEl = gd.closest('.output');\nif (outputEl) {{\n    x.observe(outputEl, {childList: true});\n}}\n\n                        })                };                });            </script>        </div>"
     },
     "metadata": {},
     "output_type": "display_data"
    }
   ],
   "source": [
    "import plotly.graph_objects as go\n",
    "\n",
    "fig = go.Figure(data=go.Scatter(\n",
    "        x=sizes,\n",
    "        y=section_size_long_5_agg_df['num_gates_mean'].tolist(),\n",
    "        name= 'm=5',\n",
    "        error_y=dict(\n",
    "            type='data', # value of error bar given in data coordinates\n",
    "            array=section_size_long_5_agg_df['num_gates_std'].tolist(),\n",
    "            visible=True)\n",
    "    ))\n",
    "\n",
    "fig.add_trace(go.Scatter(\n",
    "        x=sizes,\n",
    "        y=section_size_long_6_agg_df['num_gates_mean'].tolist(),\n",
    "        name= 'm=6',\n",
    "        error_y=dict(\n",
    "            type='data', # value of error bar given in data coordinates\n",
    "            array=section_size_long_6_agg_df['num_gates_std'].tolist(),\n",
    "            visible=True)\n",
    "    ))\n",
    "\n",
    "fig.update_layout(title_text='Section size comparison in the range 100 to 2100')\n",
    "fig.update_yaxes(title_text='circuit length')\n",
    "fig.update_xaxes(title_text='circuit size n')\n",
    "\n",
    "fig.show()"
   ],
   "metadata": {
    "collapsed": false,
    "pycharm": {
     "name": "#%%\n"
    }
   }
  },
  {
   "cell_type": "code",
   "execution_count": 55,
   "outputs": [],
   "source": [
    "output_dir = r'resources\\section_size_comparison'\n",
    "output_file_prefix = 'SectionSizeComparison'\n",
    "output_file_timestamp_long = '110321_2258'\n",
    "output_file_timestamp_low = '120321_1550'"
   ],
   "metadata": {
    "collapsed": false,
    "pycharm": {
     "name": "#%%\n"
    }
   }
  },
  {
   "cell_type": "code",
   "execution_count": 56,
   "outputs": [
    {
     "data": {
      "text/plain": "    size  run  sec_size  num_gates  process_time  initial_rss  final_rss\n0     10    1         2         43      0.000000    120393728  120393728\n2     10    1         4         49      0.000000    120680448  120680448\n3     10    2         2         44      0.000000    120680448  120680448\n4     10    2         3         44      0.000000    120680448  120680448\n5     10    2         4         43      0.000000    120680448  120680448\n1     10    1         3         49      0.015625    120680448  120680448\n9     10    2         6         58      0.000000    120393728  120393728\n8     10    2         5         56      0.000000    120393728  120393728\n0     10    1         2         49      0.000000    120680448  120680448\n6     10    2         3         49      0.000000    120393728  120393728\n7     10    2         4         51      0.000000    120393728  120393728\n5     10    2         2         48      0.000000    120393728  120393728\n4     10    1         6         44      0.000000    120393728  120393728\n3     10    1         5         44      0.000000    120393728  120393728\n2     10    1         4         46      0.000000    120393728  120393728\n1     10    1         3         44      0.000000    120393728  120393728\n11    11    2         4         54      0.000000    120684544  120684544\n9     11    2         2         57      0.000000    120684544  120684544\n8     11    1         4         60      0.000000    120684544  120684544\n7     11    1         3         59      0.000000    120684544  120684544",
      "text/html": "<div>\n<style scoped>\n    .dataframe tbody tr th:only-of-type {\n        vertical-align: middle;\n    }\n\n    .dataframe tbody tr th {\n        vertical-align: top;\n    }\n\n    .dataframe thead th {\n        text-align: right;\n    }\n</style>\n<table border=\"1\" class=\"dataframe\">\n  <thead>\n    <tr style=\"text-align: right;\">\n      <th></th>\n      <th>size</th>\n      <th>run</th>\n      <th>sec_size</th>\n      <th>num_gates</th>\n      <th>process_time</th>\n      <th>initial_rss</th>\n      <th>final_rss</th>\n    </tr>\n  </thead>\n  <tbody>\n    <tr>\n      <th>0</th>\n      <td>10</td>\n      <td>1</td>\n      <td>2</td>\n      <td>43</td>\n      <td>0.000000</td>\n      <td>120393728</td>\n      <td>120393728</td>\n    </tr>\n    <tr>\n      <th>2</th>\n      <td>10</td>\n      <td>1</td>\n      <td>4</td>\n      <td>49</td>\n      <td>0.000000</td>\n      <td>120680448</td>\n      <td>120680448</td>\n    </tr>\n    <tr>\n      <th>3</th>\n      <td>10</td>\n      <td>2</td>\n      <td>2</td>\n      <td>44</td>\n      <td>0.000000</td>\n      <td>120680448</td>\n      <td>120680448</td>\n    </tr>\n    <tr>\n      <th>4</th>\n      <td>10</td>\n      <td>2</td>\n      <td>3</td>\n      <td>44</td>\n      <td>0.000000</td>\n      <td>120680448</td>\n      <td>120680448</td>\n    </tr>\n    <tr>\n      <th>5</th>\n      <td>10</td>\n      <td>2</td>\n      <td>4</td>\n      <td>43</td>\n      <td>0.000000</td>\n      <td>120680448</td>\n      <td>120680448</td>\n    </tr>\n    <tr>\n      <th>1</th>\n      <td>10</td>\n      <td>1</td>\n      <td>3</td>\n      <td>49</td>\n      <td>0.015625</td>\n      <td>120680448</td>\n      <td>120680448</td>\n    </tr>\n    <tr>\n      <th>9</th>\n      <td>10</td>\n      <td>2</td>\n      <td>6</td>\n      <td>58</td>\n      <td>0.000000</td>\n      <td>120393728</td>\n      <td>120393728</td>\n    </tr>\n    <tr>\n      <th>8</th>\n      <td>10</td>\n      <td>2</td>\n      <td>5</td>\n      <td>56</td>\n      <td>0.000000</td>\n      <td>120393728</td>\n      <td>120393728</td>\n    </tr>\n    <tr>\n      <th>0</th>\n      <td>10</td>\n      <td>1</td>\n      <td>2</td>\n      <td>49</td>\n      <td>0.000000</td>\n      <td>120680448</td>\n      <td>120680448</td>\n    </tr>\n    <tr>\n      <th>6</th>\n      <td>10</td>\n      <td>2</td>\n      <td>3</td>\n      <td>49</td>\n      <td>0.000000</td>\n      <td>120393728</td>\n      <td>120393728</td>\n    </tr>\n    <tr>\n      <th>7</th>\n      <td>10</td>\n      <td>2</td>\n      <td>4</td>\n      <td>51</td>\n      <td>0.000000</td>\n      <td>120393728</td>\n      <td>120393728</td>\n    </tr>\n    <tr>\n      <th>5</th>\n      <td>10</td>\n      <td>2</td>\n      <td>2</td>\n      <td>48</td>\n      <td>0.000000</td>\n      <td>120393728</td>\n      <td>120393728</td>\n    </tr>\n    <tr>\n      <th>4</th>\n      <td>10</td>\n      <td>1</td>\n      <td>6</td>\n      <td>44</td>\n      <td>0.000000</td>\n      <td>120393728</td>\n      <td>120393728</td>\n    </tr>\n    <tr>\n      <th>3</th>\n      <td>10</td>\n      <td>1</td>\n      <td>5</td>\n      <td>44</td>\n      <td>0.000000</td>\n      <td>120393728</td>\n      <td>120393728</td>\n    </tr>\n    <tr>\n      <th>2</th>\n      <td>10</td>\n      <td>1</td>\n      <td>4</td>\n      <td>46</td>\n      <td>0.000000</td>\n      <td>120393728</td>\n      <td>120393728</td>\n    </tr>\n    <tr>\n      <th>1</th>\n      <td>10</td>\n      <td>1</td>\n      <td>3</td>\n      <td>44</td>\n      <td>0.000000</td>\n      <td>120393728</td>\n      <td>120393728</td>\n    </tr>\n    <tr>\n      <th>11</th>\n      <td>11</td>\n      <td>2</td>\n      <td>4</td>\n      <td>54</td>\n      <td>0.000000</td>\n      <td>120684544</td>\n      <td>120684544</td>\n    </tr>\n    <tr>\n      <th>9</th>\n      <td>11</td>\n      <td>2</td>\n      <td>2</td>\n      <td>57</td>\n      <td>0.000000</td>\n      <td>120684544</td>\n      <td>120684544</td>\n    </tr>\n    <tr>\n      <th>8</th>\n      <td>11</td>\n      <td>1</td>\n      <td>4</td>\n      <td>60</td>\n      <td>0.000000</td>\n      <td>120684544</td>\n      <td>120684544</td>\n    </tr>\n    <tr>\n      <th>7</th>\n      <td>11</td>\n      <td>1</td>\n      <td>3</td>\n      <td>59</td>\n      <td>0.000000</td>\n      <td>120684544</td>\n      <td>120684544</td>\n    </tr>\n  </tbody>\n</table>\n</div>"
     },
     "execution_count": 56,
     "metadata": {},
     "output_type": "execute_result"
    }
   ],
   "source": [
    "section_size_comparison_long_df = pd.read_csv(rf'..\\{output_dir}\\{output_file_prefix}_{output_file_timestamp_long}.csv')\n",
    "section_size_comparison_low_df = pd.read_csv(rf'..\\{output_dir}\\{output_file_prefix}_{output_file_timestamp_low}.csv')\n",
    "\n",
    "section_size_comparison_combined_df = section_size_comparison_long_df.append(section_size_comparison_low_df)\n",
    "\n",
    "section_size_comparison_combined_df.sort_values(by=['size']).head(20)"
   ],
   "metadata": {
    "collapsed": false,
    "pycharm": {
     "name": "#%%\n"
    }
   }
  },
  {
   "cell_type": "code",
   "execution_count": 48,
   "outputs": [
    {
     "ename": "IndexingError",
     "evalue": "Unalignable boolean Series provided as indexer (index of the boolean Series and of the indexed object do not match).",
     "output_type": "error",
     "traceback": [
      "\u001B[1;31m---------------------------------------------------------------------------\u001B[0m",
      "\u001B[1;31mIndexingError\u001B[0m                             Traceback (most recent call last)",
      "\u001B[1;32m<ipython-input-48-a6bb046d0580>\u001B[0m in \u001B[0;36m<module>\u001B[1;34m\u001B[0m\n\u001B[1;32m----> 1\u001B[1;33m \u001B[0msection_size_long_2_df\u001B[0m \u001B[1;33m=\u001B[0m \u001B[0msection_size_comparison_combined_df\u001B[0m\u001B[1;33m.\u001B[0m\u001B[0mloc\u001B[0m\u001B[1;33m[\u001B[0m\u001B[1;33m(\u001B[0m\u001B[0msection_size_comparison_long_df\u001B[0m\u001B[1;33m[\u001B[0m\u001B[1;34m'sec_size'\u001B[0m\u001B[1;33m]\u001B[0m \u001B[1;33m==\u001B[0m \u001B[1;36m2\u001B[0m\u001B[1;33m)\u001B[0m\u001B[1;33m]\u001B[0m\u001B[1;33m\u001B[0m\u001B[1;33m\u001B[0m\u001B[0m\n\u001B[0m\u001B[0;32m      2\u001B[0m \u001B[1;33m\u001B[0m\u001B[0m\n\u001B[0;32m      3\u001B[0m section_size_long_2_agg_df = section_size_long_2_df.groupby(['size', 'sec_size']).agg(num_gates_mean=('num_gates', 'mean'), num_gates_std=('num_gates', 'std'),\n\u001B[0;32m      4\u001B[0m                                               \u001B[0mprocess_time_mean\u001B[0m\u001B[1;33m=\u001B[0m\u001B[1;33m(\u001B[0m\u001B[1;34m'process_time'\u001B[0m\u001B[1;33m,\u001B[0m \u001B[1;34m'mean'\u001B[0m\u001B[1;33m)\u001B[0m\u001B[1;33m,\u001B[0m \u001B[0mprocess_time_std\u001B[0m\u001B[1;33m=\u001B[0m\u001B[1;33m(\u001B[0m\u001B[1;34m'process_time'\u001B[0m\u001B[1;33m,\u001B[0m \u001B[1;34m'std'\u001B[0m\u001B[1;33m)\u001B[0m\u001B[1;33m,\u001B[0m\u001B[1;33m\u001B[0m\u001B[1;33m\u001B[0m\u001B[0m\n\u001B[0;32m      5\u001B[0m                                               \u001B[0minitial_rss_mean\u001B[0m\u001B[1;33m=\u001B[0m\u001B[1;33m(\u001B[0m\u001B[1;34m'initial_rss'\u001B[0m\u001B[1;33m,\u001B[0m \u001B[1;34m'mean'\u001B[0m\u001B[1;33m)\u001B[0m\u001B[1;33m,\u001B[0m \u001B[0minitial_rss_std\u001B[0m\u001B[1;33m=\u001B[0m\u001B[1;33m(\u001B[0m\u001B[1;34m'initial_rss'\u001B[0m\u001B[1;33m,\u001B[0m \u001B[1;34m'std'\u001B[0m\u001B[1;33m)\u001B[0m\u001B[1;33m,\u001B[0m\u001B[1;33m\u001B[0m\u001B[1;33m\u001B[0m\u001B[0m\n",
      "\u001B[1;32m~\\anaconda3\\envs\\cnot_synthesis\\lib\\site-packages\\pandas\\core\\indexing.py\u001B[0m in \u001B[0;36m__getitem__\u001B[1;34m(self, key)\u001B[0m\n\u001B[0;32m    877\u001B[0m \u001B[1;33m\u001B[0m\u001B[0m\n\u001B[0;32m    878\u001B[0m             \u001B[0mmaybe_callable\u001B[0m \u001B[1;33m=\u001B[0m \u001B[0mcom\u001B[0m\u001B[1;33m.\u001B[0m\u001B[0mapply_if_callable\u001B[0m\u001B[1;33m(\u001B[0m\u001B[0mkey\u001B[0m\u001B[1;33m,\u001B[0m \u001B[0mself\u001B[0m\u001B[1;33m.\u001B[0m\u001B[0mobj\u001B[0m\u001B[1;33m)\u001B[0m\u001B[1;33m\u001B[0m\u001B[1;33m\u001B[0m\u001B[0m\n\u001B[1;32m--> 879\u001B[1;33m             \u001B[1;32mreturn\u001B[0m \u001B[0mself\u001B[0m\u001B[1;33m.\u001B[0m\u001B[0m_getitem_axis\u001B[0m\u001B[1;33m(\u001B[0m\u001B[0mmaybe_callable\u001B[0m\u001B[1;33m,\u001B[0m \u001B[0maxis\u001B[0m\u001B[1;33m=\u001B[0m\u001B[0maxis\u001B[0m\u001B[1;33m)\u001B[0m\u001B[1;33m\u001B[0m\u001B[1;33m\u001B[0m\u001B[0m\n\u001B[0m\u001B[0;32m    880\u001B[0m \u001B[1;33m\u001B[0m\u001B[0m\n\u001B[0;32m    881\u001B[0m     \u001B[1;32mdef\u001B[0m \u001B[0m_is_scalar_access\u001B[0m\u001B[1;33m(\u001B[0m\u001B[0mself\u001B[0m\u001B[1;33m,\u001B[0m \u001B[0mkey\u001B[0m\u001B[1;33m:\u001B[0m \u001B[0mTuple\u001B[0m\u001B[1;33m)\u001B[0m\u001B[1;33m:\u001B[0m\u001B[1;33m\u001B[0m\u001B[1;33m\u001B[0m\u001B[0m\n",
      "\u001B[1;32m~\\anaconda3\\envs\\cnot_synthesis\\lib\\site-packages\\pandas\\core\\indexing.py\u001B[0m in \u001B[0;36m_getitem_axis\u001B[1;34m(self, key, axis)\u001B[0m\n\u001B[0;32m   1088\u001B[0m             \u001B[1;32mreturn\u001B[0m \u001B[0mself\u001B[0m\u001B[1;33m.\u001B[0m\u001B[0m_get_slice_axis\u001B[0m\u001B[1;33m(\u001B[0m\u001B[0mkey\u001B[0m\u001B[1;33m,\u001B[0m \u001B[0maxis\u001B[0m\u001B[1;33m=\u001B[0m\u001B[0maxis\u001B[0m\u001B[1;33m)\u001B[0m\u001B[1;33m\u001B[0m\u001B[1;33m\u001B[0m\u001B[0m\n\u001B[0;32m   1089\u001B[0m         \u001B[1;32melif\u001B[0m \u001B[0mcom\u001B[0m\u001B[1;33m.\u001B[0m\u001B[0mis_bool_indexer\u001B[0m\u001B[1;33m(\u001B[0m\u001B[0mkey\u001B[0m\u001B[1;33m)\u001B[0m\u001B[1;33m:\u001B[0m\u001B[1;33m\u001B[0m\u001B[1;33m\u001B[0m\u001B[0m\n\u001B[1;32m-> 1090\u001B[1;33m             \u001B[1;32mreturn\u001B[0m \u001B[0mself\u001B[0m\u001B[1;33m.\u001B[0m\u001B[0m_getbool_axis\u001B[0m\u001B[1;33m(\u001B[0m\u001B[0mkey\u001B[0m\u001B[1;33m,\u001B[0m \u001B[0maxis\u001B[0m\u001B[1;33m=\u001B[0m\u001B[0maxis\u001B[0m\u001B[1;33m)\u001B[0m\u001B[1;33m\u001B[0m\u001B[1;33m\u001B[0m\u001B[0m\n\u001B[0m\u001B[0;32m   1091\u001B[0m         \u001B[1;32melif\u001B[0m \u001B[0mis_list_like_indexer\u001B[0m\u001B[1;33m(\u001B[0m\u001B[0mkey\u001B[0m\u001B[1;33m)\u001B[0m\u001B[1;33m:\u001B[0m\u001B[1;33m\u001B[0m\u001B[1;33m\u001B[0m\u001B[0m\n\u001B[0;32m   1092\u001B[0m \u001B[1;33m\u001B[0m\u001B[0m\n",
      "\u001B[1;32m~\\anaconda3\\envs\\cnot_synthesis\\lib\\site-packages\\pandas\\core\\indexing.py\u001B[0m in \u001B[0;36m_getbool_axis\u001B[1;34m(self, key, axis)\u001B[0m\n\u001B[0;32m    894\u001B[0m         \u001B[1;31m# caller is responsible for ensuring non-None axis\u001B[0m\u001B[1;33m\u001B[0m\u001B[1;33m\u001B[0m\u001B[1;33m\u001B[0m\u001B[0m\n\u001B[0;32m    895\u001B[0m         \u001B[0mlabels\u001B[0m \u001B[1;33m=\u001B[0m \u001B[0mself\u001B[0m\u001B[1;33m.\u001B[0m\u001B[0mobj\u001B[0m\u001B[1;33m.\u001B[0m\u001B[0m_get_axis\u001B[0m\u001B[1;33m(\u001B[0m\u001B[0maxis\u001B[0m\u001B[1;33m)\u001B[0m\u001B[1;33m\u001B[0m\u001B[1;33m\u001B[0m\u001B[0m\n\u001B[1;32m--> 896\u001B[1;33m         \u001B[0mkey\u001B[0m \u001B[1;33m=\u001B[0m \u001B[0mcheck_bool_indexer\u001B[0m\u001B[1;33m(\u001B[0m\u001B[0mlabels\u001B[0m\u001B[1;33m,\u001B[0m \u001B[0mkey\u001B[0m\u001B[1;33m)\u001B[0m\u001B[1;33m\u001B[0m\u001B[1;33m\u001B[0m\u001B[0m\n\u001B[0m\u001B[0;32m    897\u001B[0m         \u001B[0minds\u001B[0m \u001B[1;33m=\u001B[0m \u001B[0mkey\u001B[0m\u001B[1;33m.\u001B[0m\u001B[0mnonzero\u001B[0m\u001B[1;33m(\u001B[0m\u001B[1;33m)\u001B[0m\u001B[1;33m[\u001B[0m\u001B[1;36m0\u001B[0m\u001B[1;33m]\u001B[0m\u001B[1;33m\u001B[0m\u001B[1;33m\u001B[0m\u001B[0m\n\u001B[0;32m    898\u001B[0m         \u001B[1;32mreturn\u001B[0m \u001B[0mself\u001B[0m\u001B[1;33m.\u001B[0m\u001B[0mobj\u001B[0m\u001B[1;33m.\u001B[0m\u001B[0m_take_with_is_copy\u001B[0m\u001B[1;33m(\u001B[0m\u001B[0minds\u001B[0m\u001B[1;33m,\u001B[0m \u001B[0maxis\u001B[0m\u001B[1;33m=\u001B[0m\u001B[0maxis\u001B[0m\u001B[1;33m)\u001B[0m\u001B[1;33m\u001B[0m\u001B[1;33m\u001B[0m\u001B[0m\n",
      "\u001B[1;32m~\\anaconda3\\envs\\cnot_synthesis\\lib\\site-packages\\pandas\\core\\indexing.py\u001B[0m in \u001B[0;36mcheck_bool_indexer\u001B[1;34m(index, key)\u001B[0m\n\u001B[0;32m   2182\u001B[0m         \u001B[0mmask\u001B[0m \u001B[1;33m=\u001B[0m \u001B[0misna\u001B[0m\u001B[1;33m(\u001B[0m\u001B[0mresult\u001B[0m\u001B[1;33m.\u001B[0m\u001B[0m_values\u001B[0m\u001B[1;33m)\u001B[0m\u001B[1;33m\u001B[0m\u001B[1;33m\u001B[0m\u001B[0m\n\u001B[0;32m   2183\u001B[0m         \u001B[1;32mif\u001B[0m \u001B[0mmask\u001B[0m\u001B[1;33m.\u001B[0m\u001B[0many\u001B[0m\u001B[1;33m(\u001B[0m\u001B[1;33m)\u001B[0m\u001B[1;33m:\u001B[0m\u001B[1;33m\u001B[0m\u001B[1;33m\u001B[0m\u001B[0m\n\u001B[1;32m-> 2184\u001B[1;33m             raise IndexingError(\n\u001B[0m\u001B[0;32m   2185\u001B[0m                 \u001B[1;34m\"Unalignable boolean Series provided as \"\u001B[0m\u001B[1;33m\u001B[0m\u001B[1;33m\u001B[0m\u001B[0m\n\u001B[0;32m   2186\u001B[0m                 \u001B[1;34m\"indexer (index of the boolean Series and of \"\u001B[0m\u001B[1;33m\u001B[0m\u001B[1;33m\u001B[0m\u001B[0m\n",
      "\u001B[1;31mIndexingError\u001B[0m: Unalignable boolean Series provided as indexer (index of the boolean Series and of the indexed object do not match)."
     ]
    }
   ],
   "source": [
    "section_size_long_2_df = section_size_comparison_combined_df.loc[(section_size_comparison_long_df['sec_size'] == 2)]\n",
    "\n",
    "section_size_long_2_agg_df = section_size_long_2_df.groupby(['size', 'sec_size']).agg(num_gates_mean=('num_gates', 'mean'), num_gates_std=('num_gates', 'std'),\n",
    "                                              process_time_mean=('process_time', 'mean'), process_time_std=('process_time', 'std'),\n",
    "                                              initial_rss_mean=('initial_rss', 'mean'), initial_rss_std=('initial_rss', 'std'),\n",
    "                                              final_rss_mean=('final_rss', 'mean'), final_rss_std=('final_rss', 'std'))\n",
    "\n",
    "section_size_long_2_agg_df.head()"
   ],
   "metadata": {
    "collapsed": false,
    "pycharm": {
     "name": "#%%\n"
    }
   }
  },
  {
   "cell_type": "code",
   "execution_count": 49,
   "outputs": [
    {
     "ename": "IndexingError",
     "evalue": "Unalignable boolean Series provided as indexer (index of the boolean Series and of the indexed object do not match).",
     "output_type": "error",
     "traceback": [
      "\u001B[1;31m---------------------------------------------------------------------------\u001B[0m",
      "\u001B[1;31mIndexingError\u001B[0m                             Traceback (most recent call last)",
      "\u001B[1;32m<ipython-input-49-c4766c1c9269>\u001B[0m in \u001B[0;36m<module>\u001B[1;34m\u001B[0m\n\u001B[1;32m----> 1\u001B[1;33m \u001B[0msection_size_long_3_df\u001B[0m \u001B[1;33m=\u001B[0m \u001B[0msection_size_comparison_combined_df\u001B[0m\u001B[1;33m.\u001B[0m\u001B[0mloc\u001B[0m\u001B[1;33m[\u001B[0m\u001B[1;33m(\u001B[0m\u001B[0msection_size_comparison_long_df\u001B[0m\u001B[1;33m[\u001B[0m\u001B[1;34m'sec_size'\u001B[0m\u001B[1;33m]\u001B[0m \u001B[1;33m==\u001B[0m \u001B[1;36m3\u001B[0m\u001B[1;33m)\u001B[0m\u001B[1;33m]\u001B[0m\u001B[1;33m\u001B[0m\u001B[1;33m\u001B[0m\u001B[0m\n\u001B[0m\u001B[0;32m      2\u001B[0m \u001B[1;33m\u001B[0m\u001B[0m\n\u001B[0;32m      3\u001B[0m section_size_long_3_agg_df = section_size_long_3_df.groupby(['size', 'sec_size']).agg(num_gates_mean=('num_gates', 'mean'), num_gates_std=('num_gates', 'std'),\n\u001B[0;32m      4\u001B[0m                                               \u001B[0mprocess_time_mean\u001B[0m\u001B[1;33m=\u001B[0m\u001B[1;33m(\u001B[0m\u001B[1;34m'process_time'\u001B[0m\u001B[1;33m,\u001B[0m \u001B[1;34m'mean'\u001B[0m\u001B[1;33m)\u001B[0m\u001B[1;33m,\u001B[0m \u001B[0mprocess_time_std\u001B[0m\u001B[1;33m=\u001B[0m\u001B[1;33m(\u001B[0m\u001B[1;34m'process_time'\u001B[0m\u001B[1;33m,\u001B[0m \u001B[1;34m'std'\u001B[0m\u001B[1;33m)\u001B[0m\u001B[1;33m,\u001B[0m\u001B[1;33m\u001B[0m\u001B[1;33m\u001B[0m\u001B[0m\n\u001B[0;32m      5\u001B[0m                                               \u001B[0minitial_rss_mean\u001B[0m\u001B[1;33m=\u001B[0m\u001B[1;33m(\u001B[0m\u001B[1;34m'initial_rss'\u001B[0m\u001B[1;33m,\u001B[0m \u001B[1;34m'mean'\u001B[0m\u001B[1;33m)\u001B[0m\u001B[1;33m,\u001B[0m \u001B[0minitial_rss_std\u001B[0m\u001B[1;33m=\u001B[0m\u001B[1;33m(\u001B[0m\u001B[1;34m'initial_rss'\u001B[0m\u001B[1;33m,\u001B[0m \u001B[1;34m'std'\u001B[0m\u001B[1;33m)\u001B[0m\u001B[1;33m,\u001B[0m\u001B[1;33m\u001B[0m\u001B[1;33m\u001B[0m\u001B[0m\n",
      "\u001B[1;32m~\\anaconda3\\envs\\cnot_synthesis\\lib\\site-packages\\pandas\\core\\indexing.py\u001B[0m in \u001B[0;36m__getitem__\u001B[1;34m(self, key)\u001B[0m\n\u001B[0;32m    877\u001B[0m \u001B[1;33m\u001B[0m\u001B[0m\n\u001B[0;32m    878\u001B[0m             \u001B[0mmaybe_callable\u001B[0m \u001B[1;33m=\u001B[0m \u001B[0mcom\u001B[0m\u001B[1;33m.\u001B[0m\u001B[0mapply_if_callable\u001B[0m\u001B[1;33m(\u001B[0m\u001B[0mkey\u001B[0m\u001B[1;33m,\u001B[0m \u001B[0mself\u001B[0m\u001B[1;33m.\u001B[0m\u001B[0mobj\u001B[0m\u001B[1;33m)\u001B[0m\u001B[1;33m\u001B[0m\u001B[1;33m\u001B[0m\u001B[0m\n\u001B[1;32m--> 879\u001B[1;33m             \u001B[1;32mreturn\u001B[0m \u001B[0mself\u001B[0m\u001B[1;33m.\u001B[0m\u001B[0m_getitem_axis\u001B[0m\u001B[1;33m(\u001B[0m\u001B[0mmaybe_callable\u001B[0m\u001B[1;33m,\u001B[0m \u001B[0maxis\u001B[0m\u001B[1;33m=\u001B[0m\u001B[0maxis\u001B[0m\u001B[1;33m)\u001B[0m\u001B[1;33m\u001B[0m\u001B[1;33m\u001B[0m\u001B[0m\n\u001B[0m\u001B[0;32m    880\u001B[0m \u001B[1;33m\u001B[0m\u001B[0m\n\u001B[0;32m    881\u001B[0m     \u001B[1;32mdef\u001B[0m \u001B[0m_is_scalar_access\u001B[0m\u001B[1;33m(\u001B[0m\u001B[0mself\u001B[0m\u001B[1;33m,\u001B[0m \u001B[0mkey\u001B[0m\u001B[1;33m:\u001B[0m \u001B[0mTuple\u001B[0m\u001B[1;33m)\u001B[0m\u001B[1;33m:\u001B[0m\u001B[1;33m\u001B[0m\u001B[1;33m\u001B[0m\u001B[0m\n",
      "\u001B[1;32m~\\anaconda3\\envs\\cnot_synthesis\\lib\\site-packages\\pandas\\core\\indexing.py\u001B[0m in \u001B[0;36m_getitem_axis\u001B[1;34m(self, key, axis)\u001B[0m\n\u001B[0;32m   1088\u001B[0m             \u001B[1;32mreturn\u001B[0m \u001B[0mself\u001B[0m\u001B[1;33m.\u001B[0m\u001B[0m_get_slice_axis\u001B[0m\u001B[1;33m(\u001B[0m\u001B[0mkey\u001B[0m\u001B[1;33m,\u001B[0m \u001B[0maxis\u001B[0m\u001B[1;33m=\u001B[0m\u001B[0maxis\u001B[0m\u001B[1;33m)\u001B[0m\u001B[1;33m\u001B[0m\u001B[1;33m\u001B[0m\u001B[0m\n\u001B[0;32m   1089\u001B[0m         \u001B[1;32melif\u001B[0m \u001B[0mcom\u001B[0m\u001B[1;33m.\u001B[0m\u001B[0mis_bool_indexer\u001B[0m\u001B[1;33m(\u001B[0m\u001B[0mkey\u001B[0m\u001B[1;33m)\u001B[0m\u001B[1;33m:\u001B[0m\u001B[1;33m\u001B[0m\u001B[1;33m\u001B[0m\u001B[0m\n\u001B[1;32m-> 1090\u001B[1;33m             \u001B[1;32mreturn\u001B[0m \u001B[0mself\u001B[0m\u001B[1;33m.\u001B[0m\u001B[0m_getbool_axis\u001B[0m\u001B[1;33m(\u001B[0m\u001B[0mkey\u001B[0m\u001B[1;33m,\u001B[0m \u001B[0maxis\u001B[0m\u001B[1;33m=\u001B[0m\u001B[0maxis\u001B[0m\u001B[1;33m)\u001B[0m\u001B[1;33m\u001B[0m\u001B[1;33m\u001B[0m\u001B[0m\n\u001B[0m\u001B[0;32m   1091\u001B[0m         \u001B[1;32melif\u001B[0m \u001B[0mis_list_like_indexer\u001B[0m\u001B[1;33m(\u001B[0m\u001B[0mkey\u001B[0m\u001B[1;33m)\u001B[0m\u001B[1;33m:\u001B[0m\u001B[1;33m\u001B[0m\u001B[1;33m\u001B[0m\u001B[0m\n\u001B[0;32m   1092\u001B[0m \u001B[1;33m\u001B[0m\u001B[0m\n",
      "\u001B[1;32m~\\anaconda3\\envs\\cnot_synthesis\\lib\\site-packages\\pandas\\core\\indexing.py\u001B[0m in \u001B[0;36m_getbool_axis\u001B[1;34m(self, key, axis)\u001B[0m\n\u001B[0;32m    894\u001B[0m         \u001B[1;31m# caller is responsible for ensuring non-None axis\u001B[0m\u001B[1;33m\u001B[0m\u001B[1;33m\u001B[0m\u001B[1;33m\u001B[0m\u001B[0m\n\u001B[0;32m    895\u001B[0m         \u001B[0mlabels\u001B[0m \u001B[1;33m=\u001B[0m \u001B[0mself\u001B[0m\u001B[1;33m.\u001B[0m\u001B[0mobj\u001B[0m\u001B[1;33m.\u001B[0m\u001B[0m_get_axis\u001B[0m\u001B[1;33m(\u001B[0m\u001B[0maxis\u001B[0m\u001B[1;33m)\u001B[0m\u001B[1;33m\u001B[0m\u001B[1;33m\u001B[0m\u001B[0m\n\u001B[1;32m--> 896\u001B[1;33m         \u001B[0mkey\u001B[0m \u001B[1;33m=\u001B[0m \u001B[0mcheck_bool_indexer\u001B[0m\u001B[1;33m(\u001B[0m\u001B[0mlabels\u001B[0m\u001B[1;33m,\u001B[0m \u001B[0mkey\u001B[0m\u001B[1;33m)\u001B[0m\u001B[1;33m\u001B[0m\u001B[1;33m\u001B[0m\u001B[0m\n\u001B[0m\u001B[0;32m    897\u001B[0m         \u001B[0minds\u001B[0m \u001B[1;33m=\u001B[0m \u001B[0mkey\u001B[0m\u001B[1;33m.\u001B[0m\u001B[0mnonzero\u001B[0m\u001B[1;33m(\u001B[0m\u001B[1;33m)\u001B[0m\u001B[1;33m[\u001B[0m\u001B[1;36m0\u001B[0m\u001B[1;33m]\u001B[0m\u001B[1;33m\u001B[0m\u001B[1;33m\u001B[0m\u001B[0m\n\u001B[0;32m    898\u001B[0m         \u001B[1;32mreturn\u001B[0m \u001B[0mself\u001B[0m\u001B[1;33m.\u001B[0m\u001B[0mobj\u001B[0m\u001B[1;33m.\u001B[0m\u001B[0m_take_with_is_copy\u001B[0m\u001B[1;33m(\u001B[0m\u001B[0minds\u001B[0m\u001B[1;33m,\u001B[0m \u001B[0maxis\u001B[0m\u001B[1;33m=\u001B[0m\u001B[0maxis\u001B[0m\u001B[1;33m)\u001B[0m\u001B[1;33m\u001B[0m\u001B[1;33m\u001B[0m\u001B[0m\n",
      "\u001B[1;32m~\\anaconda3\\envs\\cnot_synthesis\\lib\\site-packages\\pandas\\core\\indexing.py\u001B[0m in \u001B[0;36mcheck_bool_indexer\u001B[1;34m(index, key)\u001B[0m\n\u001B[0;32m   2182\u001B[0m         \u001B[0mmask\u001B[0m \u001B[1;33m=\u001B[0m \u001B[0misna\u001B[0m\u001B[1;33m(\u001B[0m\u001B[0mresult\u001B[0m\u001B[1;33m.\u001B[0m\u001B[0m_values\u001B[0m\u001B[1;33m)\u001B[0m\u001B[1;33m\u001B[0m\u001B[1;33m\u001B[0m\u001B[0m\n\u001B[0;32m   2183\u001B[0m         \u001B[1;32mif\u001B[0m \u001B[0mmask\u001B[0m\u001B[1;33m.\u001B[0m\u001B[0many\u001B[0m\u001B[1;33m(\u001B[0m\u001B[1;33m)\u001B[0m\u001B[1;33m:\u001B[0m\u001B[1;33m\u001B[0m\u001B[1;33m\u001B[0m\u001B[0m\n\u001B[1;32m-> 2184\u001B[1;33m             raise IndexingError(\n\u001B[0m\u001B[0;32m   2185\u001B[0m                 \u001B[1;34m\"Unalignable boolean Series provided as \"\u001B[0m\u001B[1;33m\u001B[0m\u001B[1;33m\u001B[0m\u001B[0m\n\u001B[0;32m   2186\u001B[0m                 \u001B[1;34m\"indexer (index of the boolean Series and of \"\u001B[0m\u001B[1;33m\u001B[0m\u001B[1;33m\u001B[0m\u001B[0m\n",
      "\u001B[1;31mIndexingError\u001B[0m: Unalignable boolean Series provided as indexer (index of the boolean Series and of the indexed object do not match)."
     ]
    }
   ],
   "source": [
    "section_size_long_3_df = section_size_comparison_combined_df.loc[(section_size_comparison_long_df['sec_size'] == 3)]\n",
    "\n",
    "section_size_long_3_agg_df = section_size_long_3_df.groupby(['size', 'sec_size']).agg(num_gates_mean=('num_gates', 'mean'), num_gates_std=('num_gates', 'std'),\n",
    "                                              process_time_mean=('process_time', 'mean'), process_time_std=('process_time', 'std'),\n",
    "                                              initial_rss_mean=('initial_rss', 'mean'), initial_rss_std=('initial_rss', 'std'),\n",
    "                                              final_rss_mean=('final_rss', 'mean'), final_rss_std=('final_rss', 'std'))\n",
    "\n",
    "section_size_long_3_agg_df.head()"
   ],
   "metadata": {
    "collapsed": false,
    "pycharm": {
     "name": "#%%\n"
    }
   }
  },
  {
   "cell_type": "code",
   "execution_count": 50,
   "outputs": [
    {
     "ename": "IndexingError",
     "evalue": "Unalignable boolean Series provided as indexer (index of the boolean Series and of the indexed object do not match).",
     "output_type": "error",
     "traceback": [
      "\u001B[1;31m---------------------------------------------------------------------------\u001B[0m",
      "\u001B[1;31mIndexingError\u001B[0m                             Traceback (most recent call last)",
      "\u001B[1;32m<ipython-input-50-acd405e95c68>\u001B[0m in \u001B[0;36m<module>\u001B[1;34m\u001B[0m\n\u001B[1;32m----> 1\u001B[1;33m \u001B[0msection_size_long_4_df\u001B[0m \u001B[1;33m=\u001B[0m \u001B[0msection_size_comparison_combined_df\u001B[0m\u001B[1;33m.\u001B[0m\u001B[0mloc\u001B[0m\u001B[1;33m[\u001B[0m\u001B[1;33m(\u001B[0m\u001B[0msection_size_comparison_long_df\u001B[0m\u001B[1;33m[\u001B[0m\u001B[1;34m'sec_size'\u001B[0m\u001B[1;33m]\u001B[0m \u001B[1;33m==\u001B[0m \u001B[1;36m4\u001B[0m\u001B[1;33m)\u001B[0m\u001B[1;33m]\u001B[0m\u001B[1;33m\u001B[0m\u001B[1;33m\u001B[0m\u001B[0m\n\u001B[0m\u001B[0;32m      2\u001B[0m \u001B[1;33m\u001B[0m\u001B[0m\n\u001B[0;32m      3\u001B[0m section_size_long_4_agg_df = section_size_long_4_df.groupby(['size', 'sec_size']).agg(num_gates_mean=('num_gates', 'mean'), num_gates_std=('num_gates', 'std'),\n\u001B[0;32m      4\u001B[0m                                               \u001B[0mprocess_time_mean\u001B[0m\u001B[1;33m=\u001B[0m\u001B[1;33m(\u001B[0m\u001B[1;34m'process_time'\u001B[0m\u001B[1;33m,\u001B[0m \u001B[1;34m'mean'\u001B[0m\u001B[1;33m)\u001B[0m\u001B[1;33m,\u001B[0m \u001B[0mprocess_time_std\u001B[0m\u001B[1;33m=\u001B[0m\u001B[1;33m(\u001B[0m\u001B[1;34m'process_time'\u001B[0m\u001B[1;33m,\u001B[0m \u001B[1;34m'std'\u001B[0m\u001B[1;33m)\u001B[0m\u001B[1;33m,\u001B[0m\u001B[1;33m\u001B[0m\u001B[1;33m\u001B[0m\u001B[0m\n\u001B[0;32m      5\u001B[0m                                               \u001B[0minitial_rss_mean\u001B[0m\u001B[1;33m=\u001B[0m\u001B[1;33m(\u001B[0m\u001B[1;34m'initial_rss'\u001B[0m\u001B[1;33m,\u001B[0m \u001B[1;34m'mean'\u001B[0m\u001B[1;33m)\u001B[0m\u001B[1;33m,\u001B[0m \u001B[0minitial_rss_std\u001B[0m\u001B[1;33m=\u001B[0m\u001B[1;33m(\u001B[0m\u001B[1;34m'initial_rss'\u001B[0m\u001B[1;33m,\u001B[0m \u001B[1;34m'std'\u001B[0m\u001B[1;33m)\u001B[0m\u001B[1;33m,\u001B[0m\u001B[1;33m\u001B[0m\u001B[1;33m\u001B[0m\u001B[0m\n",
      "\u001B[1;32m~\\anaconda3\\envs\\cnot_synthesis\\lib\\site-packages\\pandas\\core\\indexing.py\u001B[0m in \u001B[0;36m__getitem__\u001B[1;34m(self, key)\u001B[0m\n\u001B[0;32m    877\u001B[0m \u001B[1;33m\u001B[0m\u001B[0m\n\u001B[0;32m    878\u001B[0m             \u001B[0mmaybe_callable\u001B[0m \u001B[1;33m=\u001B[0m \u001B[0mcom\u001B[0m\u001B[1;33m.\u001B[0m\u001B[0mapply_if_callable\u001B[0m\u001B[1;33m(\u001B[0m\u001B[0mkey\u001B[0m\u001B[1;33m,\u001B[0m \u001B[0mself\u001B[0m\u001B[1;33m.\u001B[0m\u001B[0mobj\u001B[0m\u001B[1;33m)\u001B[0m\u001B[1;33m\u001B[0m\u001B[1;33m\u001B[0m\u001B[0m\n\u001B[1;32m--> 879\u001B[1;33m             \u001B[1;32mreturn\u001B[0m \u001B[0mself\u001B[0m\u001B[1;33m.\u001B[0m\u001B[0m_getitem_axis\u001B[0m\u001B[1;33m(\u001B[0m\u001B[0mmaybe_callable\u001B[0m\u001B[1;33m,\u001B[0m \u001B[0maxis\u001B[0m\u001B[1;33m=\u001B[0m\u001B[0maxis\u001B[0m\u001B[1;33m)\u001B[0m\u001B[1;33m\u001B[0m\u001B[1;33m\u001B[0m\u001B[0m\n\u001B[0m\u001B[0;32m    880\u001B[0m \u001B[1;33m\u001B[0m\u001B[0m\n\u001B[0;32m    881\u001B[0m     \u001B[1;32mdef\u001B[0m \u001B[0m_is_scalar_access\u001B[0m\u001B[1;33m(\u001B[0m\u001B[0mself\u001B[0m\u001B[1;33m,\u001B[0m \u001B[0mkey\u001B[0m\u001B[1;33m:\u001B[0m \u001B[0mTuple\u001B[0m\u001B[1;33m)\u001B[0m\u001B[1;33m:\u001B[0m\u001B[1;33m\u001B[0m\u001B[1;33m\u001B[0m\u001B[0m\n",
      "\u001B[1;32m~\\anaconda3\\envs\\cnot_synthesis\\lib\\site-packages\\pandas\\core\\indexing.py\u001B[0m in \u001B[0;36m_getitem_axis\u001B[1;34m(self, key, axis)\u001B[0m\n\u001B[0;32m   1088\u001B[0m             \u001B[1;32mreturn\u001B[0m \u001B[0mself\u001B[0m\u001B[1;33m.\u001B[0m\u001B[0m_get_slice_axis\u001B[0m\u001B[1;33m(\u001B[0m\u001B[0mkey\u001B[0m\u001B[1;33m,\u001B[0m \u001B[0maxis\u001B[0m\u001B[1;33m=\u001B[0m\u001B[0maxis\u001B[0m\u001B[1;33m)\u001B[0m\u001B[1;33m\u001B[0m\u001B[1;33m\u001B[0m\u001B[0m\n\u001B[0;32m   1089\u001B[0m         \u001B[1;32melif\u001B[0m \u001B[0mcom\u001B[0m\u001B[1;33m.\u001B[0m\u001B[0mis_bool_indexer\u001B[0m\u001B[1;33m(\u001B[0m\u001B[0mkey\u001B[0m\u001B[1;33m)\u001B[0m\u001B[1;33m:\u001B[0m\u001B[1;33m\u001B[0m\u001B[1;33m\u001B[0m\u001B[0m\n\u001B[1;32m-> 1090\u001B[1;33m             \u001B[1;32mreturn\u001B[0m \u001B[0mself\u001B[0m\u001B[1;33m.\u001B[0m\u001B[0m_getbool_axis\u001B[0m\u001B[1;33m(\u001B[0m\u001B[0mkey\u001B[0m\u001B[1;33m,\u001B[0m \u001B[0maxis\u001B[0m\u001B[1;33m=\u001B[0m\u001B[0maxis\u001B[0m\u001B[1;33m)\u001B[0m\u001B[1;33m\u001B[0m\u001B[1;33m\u001B[0m\u001B[0m\n\u001B[0m\u001B[0;32m   1091\u001B[0m         \u001B[1;32melif\u001B[0m \u001B[0mis_list_like_indexer\u001B[0m\u001B[1;33m(\u001B[0m\u001B[0mkey\u001B[0m\u001B[1;33m)\u001B[0m\u001B[1;33m:\u001B[0m\u001B[1;33m\u001B[0m\u001B[1;33m\u001B[0m\u001B[0m\n\u001B[0;32m   1092\u001B[0m \u001B[1;33m\u001B[0m\u001B[0m\n",
      "\u001B[1;32m~\\anaconda3\\envs\\cnot_synthesis\\lib\\site-packages\\pandas\\core\\indexing.py\u001B[0m in \u001B[0;36m_getbool_axis\u001B[1;34m(self, key, axis)\u001B[0m\n\u001B[0;32m    894\u001B[0m         \u001B[1;31m# caller is responsible for ensuring non-None axis\u001B[0m\u001B[1;33m\u001B[0m\u001B[1;33m\u001B[0m\u001B[1;33m\u001B[0m\u001B[0m\n\u001B[0;32m    895\u001B[0m         \u001B[0mlabels\u001B[0m \u001B[1;33m=\u001B[0m \u001B[0mself\u001B[0m\u001B[1;33m.\u001B[0m\u001B[0mobj\u001B[0m\u001B[1;33m.\u001B[0m\u001B[0m_get_axis\u001B[0m\u001B[1;33m(\u001B[0m\u001B[0maxis\u001B[0m\u001B[1;33m)\u001B[0m\u001B[1;33m\u001B[0m\u001B[1;33m\u001B[0m\u001B[0m\n\u001B[1;32m--> 896\u001B[1;33m         \u001B[0mkey\u001B[0m \u001B[1;33m=\u001B[0m \u001B[0mcheck_bool_indexer\u001B[0m\u001B[1;33m(\u001B[0m\u001B[0mlabels\u001B[0m\u001B[1;33m,\u001B[0m \u001B[0mkey\u001B[0m\u001B[1;33m)\u001B[0m\u001B[1;33m\u001B[0m\u001B[1;33m\u001B[0m\u001B[0m\n\u001B[0m\u001B[0;32m    897\u001B[0m         \u001B[0minds\u001B[0m \u001B[1;33m=\u001B[0m \u001B[0mkey\u001B[0m\u001B[1;33m.\u001B[0m\u001B[0mnonzero\u001B[0m\u001B[1;33m(\u001B[0m\u001B[1;33m)\u001B[0m\u001B[1;33m[\u001B[0m\u001B[1;36m0\u001B[0m\u001B[1;33m]\u001B[0m\u001B[1;33m\u001B[0m\u001B[1;33m\u001B[0m\u001B[0m\n\u001B[0;32m    898\u001B[0m         \u001B[1;32mreturn\u001B[0m \u001B[0mself\u001B[0m\u001B[1;33m.\u001B[0m\u001B[0mobj\u001B[0m\u001B[1;33m.\u001B[0m\u001B[0m_take_with_is_copy\u001B[0m\u001B[1;33m(\u001B[0m\u001B[0minds\u001B[0m\u001B[1;33m,\u001B[0m \u001B[0maxis\u001B[0m\u001B[1;33m=\u001B[0m\u001B[0maxis\u001B[0m\u001B[1;33m)\u001B[0m\u001B[1;33m\u001B[0m\u001B[1;33m\u001B[0m\u001B[0m\n",
      "\u001B[1;32m~\\anaconda3\\envs\\cnot_synthesis\\lib\\site-packages\\pandas\\core\\indexing.py\u001B[0m in \u001B[0;36mcheck_bool_indexer\u001B[1;34m(index, key)\u001B[0m\n\u001B[0;32m   2182\u001B[0m         \u001B[0mmask\u001B[0m \u001B[1;33m=\u001B[0m \u001B[0misna\u001B[0m\u001B[1;33m(\u001B[0m\u001B[0mresult\u001B[0m\u001B[1;33m.\u001B[0m\u001B[0m_values\u001B[0m\u001B[1;33m)\u001B[0m\u001B[1;33m\u001B[0m\u001B[1;33m\u001B[0m\u001B[0m\n\u001B[0;32m   2183\u001B[0m         \u001B[1;32mif\u001B[0m \u001B[0mmask\u001B[0m\u001B[1;33m.\u001B[0m\u001B[0many\u001B[0m\u001B[1;33m(\u001B[0m\u001B[1;33m)\u001B[0m\u001B[1;33m:\u001B[0m\u001B[1;33m\u001B[0m\u001B[1;33m\u001B[0m\u001B[0m\n\u001B[1;32m-> 2184\u001B[1;33m             raise IndexingError(\n\u001B[0m\u001B[0;32m   2185\u001B[0m                 \u001B[1;34m\"Unalignable boolean Series provided as \"\u001B[0m\u001B[1;33m\u001B[0m\u001B[1;33m\u001B[0m\u001B[0m\n\u001B[0;32m   2186\u001B[0m                 \u001B[1;34m\"indexer (index of the boolean Series and of \"\u001B[0m\u001B[1;33m\u001B[0m\u001B[1;33m\u001B[0m\u001B[0m\n",
      "\u001B[1;31mIndexingError\u001B[0m: Unalignable boolean Series provided as indexer (index of the boolean Series and of the indexed object do not match)."
     ]
    }
   ],
   "source": [
    "section_size_long_4_df = section_size_comparison_combined_df.loc[(section_size_comparison_long_df['sec_size'] == 4)]\n",
    "\n",
    "section_size_long_4_agg_df = section_size_long_4_df.groupby(['size', 'sec_size']).agg(num_gates_mean=('num_gates', 'mean'), num_gates_std=('num_gates', 'std'),\n",
    "                                              process_time_mean=('process_time', 'mean'), process_time_std=('process_time', 'std'),\n",
    "                                              initial_rss_mean=('initial_rss', 'mean'), initial_rss_std=('initial_rss', 'std'),\n",
    "                                              final_rss_mean=('final_rss', 'mean'), final_rss_std=('final_rss', 'std'))\n",
    "\n",
    "section_size_long_4_agg_df.head()"
   ],
   "metadata": {
    "collapsed": false,
    "pycharm": {
     "name": "#%%\n"
    }
   }
  },
  {
   "cell_type": "code",
   "execution_count": 51,
   "outputs": [
    {
     "ename": "IndexingError",
     "evalue": "Unalignable boolean Series provided as indexer (index of the boolean Series and of the indexed object do not match).",
     "output_type": "error",
     "traceback": [
      "\u001B[1;31m---------------------------------------------------------------------------\u001B[0m",
      "\u001B[1;31mIndexingError\u001B[0m                             Traceback (most recent call last)",
      "\u001B[1;32m<ipython-input-51-24c1ea6fee7f>\u001B[0m in \u001B[0;36m<module>\u001B[1;34m\u001B[0m\n\u001B[1;32m----> 1\u001B[1;33m \u001B[0msection_size_long_5_df\u001B[0m \u001B[1;33m=\u001B[0m \u001B[0msection_size_comparison_combined_df\u001B[0m\u001B[1;33m.\u001B[0m\u001B[0mloc\u001B[0m\u001B[1;33m[\u001B[0m\u001B[1;33m(\u001B[0m\u001B[0msection_size_comparison_long_df\u001B[0m\u001B[1;33m[\u001B[0m\u001B[1;34m'sec_size'\u001B[0m\u001B[1;33m]\u001B[0m \u001B[1;33m==\u001B[0m \u001B[1;36m5\u001B[0m\u001B[1;33m)\u001B[0m\u001B[1;33m]\u001B[0m\u001B[1;33m\u001B[0m\u001B[1;33m\u001B[0m\u001B[0m\n\u001B[0m\u001B[0;32m      2\u001B[0m \u001B[1;33m\u001B[0m\u001B[0m\n\u001B[0;32m      3\u001B[0m section_size_long_5_agg_df = section_size_long_5_df.groupby(['size', 'sec_size']).agg(num_gates_mean=('num_gates', 'mean'), num_gates_std=('num_gates', 'std'),\n\u001B[0;32m      4\u001B[0m                                               \u001B[0mprocess_time_mean\u001B[0m\u001B[1;33m=\u001B[0m\u001B[1;33m(\u001B[0m\u001B[1;34m'process_time'\u001B[0m\u001B[1;33m,\u001B[0m \u001B[1;34m'mean'\u001B[0m\u001B[1;33m)\u001B[0m\u001B[1;33m,\u001B[0m \u001B[0mprocess_time_std\u001B[0m\u001B[1;33m=\u001B[0m\u001B[1;33m(\u001B[0m\u001B[1;34m'process_time'\u001B[0m\u001B[1;33m,\u001B[0m \u001B[1;34m'std'\u001B[0m\u001B[1;33m)\u001B[0m\u001B[1;33m,\u001B[0m\u001B[1;33m\u001B[0m\u001B[1;33m\u001B[0m\u001B[0m\n\u001B[0;32m      5\u001B[0m                                               \u001B[0minitial_rss_mean\u001B[0m\u001B[1;33m=\u001B[0m\u001B[1;33m(\u001B[0m\u001B[1;34m'initial_rss'\u001B[0m\u001B[1;33m,\u001B[0m \u001B[1;34m'mean'\u001B[0m\u001B[1;33m)\u001B[0m\u001B[1;33m,\u001B[0m \u001B[0minitial_rss_std\u001B[0m\u001B[1;33m=\u001B[0m\u001B[1;33m(\u001B[0m\u001B[1;34m'initial_rss'\u001B[0m\u001B[1;33m,\u001B[0m \u001B[1;34m'std'\u001B[0m\u001B[1;33m)\u001B[0m\u001B[1;33m,\u001B[0m\u001B[1;33m\u001B[0m\u001B[1;33m\u001B[0m\u001B[0m\n",
      "\u001B[1;32m~\\anaconda3\\envs\\cnot_synthesis\\lib\\site-packages\\pandas\\core\\indexing.py\u001B[0m in \u001B[0;36m__getitem__\u001B[1;34m(self, key)\u001B[0m\n\u001B[0;32m    877\u001B[0m \u001B[1;33m\u001B[0m\u001B[0m\n\u001B[0;32m    878\u001B[0m             \u001B[0mmaybe_callable\u001B[0m \u001B[1;33m=\u001B[0m \u001B[0mcom\u001B[0m\u001B[1;33m.\u001B[0m\u001B[0mapply_if_callable\u001B[0m\u001B[1;33m(\u001B[0m\u001B[0mkey\u001B[0m\u001B[1;33m,\u001B[0m \u001B[0mself\u001B[0m\u001B[1;33m.\u001B[0m\u001B[0mobj\u001B[0m\u001B[1;33m)\u001B[0m\u001B[1;33m\u001B[0m\u001B[1;33m\u001B[0m\u001B[0m\n\u001B[1;32m--> 879\u001B[1;33m             \u001B[1;32mreturn\u001B[0m \u001B[0mself\u001B[0m\u001B[1;33m.\u001B[0m\u001B[0m_getitem_axis\u001B[0m\u001B[1;33m(\u001B[0m\u001B[0mmaybe_callable\u001B[0m\u001B[1;33m,\u001B[0m \u001B[0maxis\u001B[0m\u001B[1;33m=\u001B[0m\u001B[0maxis\u001B[0m\u001B[1;33m)\u001B[0m\u001B[1;33m\u001B[0m\u001B[1;33m\u001B[0m\u001B[0m\n\u001B[0m\u001B[0;32m    880\u001B[0m \u001B[1;33m\u001B[0m\u001B[0m\n\u001B[0;32m    881\u001B[0m     \u001B[1;32mdef\u001B[0m \u001B[0m_is_scalar_access\u001B[0m\u001B[1;33m(\u001B[0m\u001B[0mself\u001B[0m\u001B[1;33m,\u001B[0m \u001B[0mkey\u001B[0m\u001B[1;33m:\u001B[0m \u001B[0mTuple\u001B[0m\u001B[1;33m)\u001B[0m\u001B[1;33m:\u001B[0m\u001B[1;33m\u001B[0m\u001B[1;33m\u001B[0m\u001B[0m\n",
      "\u001B[1;32m~\\anaconda3\\envs\\cnot_synthesis\\lib\\site-packages\\pandas\\core\\indexing.py\u001B[0m in \u001B[0;36m_getitem_axis\u001B[1;34m(self, key, axis)\u001B[0m\n\u001B[0;32m   1088\u001B[0m             \u001B[1;32mreturn\u001B[0m \u001B[0mself\u001B[0m\u001B[1;33m.\u001B[0m\u001B[0m_get_slice_axis\u001B[0m\u001B[1;33m(\u001B[0m\u001B[0mkey\u001B[0m\u001B[1;33m,\u001B[0m \u001B[0maxis\u001B[0m\u001B[1;33m=\u001B[0m\u001B[0maxis\u001B[0m\u001B[1;33m)\u001B[0m\u001B[1;33m\u001B[0m\u001B[1;33m\u001B[0m\u001B[0m\n\u001B[0;32m   1089\u001B[0m         \u001B[1;32melif\u001B[0m \u001B[0mcom\u001B[0m\u001B[1;33m.\u001B[0m\u001B[0mis_bool_indexer\u001B[0m\u001B[1;33m(\u001B[0m\u001B[0mkey\u001B[0m\u001B[1;33m)\u001B[0m\u001B[1;33m:\u001B[0m\u001B[1;33m\u001B[0m\u001B[1;33m\u001B[0m\u001B[0m\n\u001B[1;32m-> 1090\u001B[1;33m             \u001B[1;32mreturn\u001B[0m \u001B[0mself\u001B[0m\u001B[1;33m.\u001B[0m\u001B[0m_getbool_axis\u001B[0m\u001B[1;33m(\u001B[0m\u001B[0mkey\u001B[0m\u001B[1;33m,\u001B[0m \u001B[0maxis\u001B[0m\u001B[1;33m=\u001B[0m\u001B[0maxis\u001B[0m\u001B[1;33m)\u001B[0m\u001B[1;33m\u001B[0m\u001B[1;33m\u001B[0m\u001B[0m\n\u001B[0m\u001B[0;32m   1091\u001B[0m         \u001B[1;32melif\u001B[0m \u001B[0mis_list_like_indexer\u001B[0m\u001B[1;33m(\u001B[0m\u001B[0mkey\u001B[0m\u001B[1;33m)\u001B[0m\u001B[1;33m:\u001B[0m\u001B[1;33m\u001B[0m\u001B[1;33m\u001B[0m\u001B[0m\n\u001B[0;32m   1092\u001B[0m \u001B[1;33m\u001B[0m\u001B[0m\n",
      "\u001B[1;32m~\\anaconda3\\envs\\cnot_synthesis\\lib\\site-packages\\pandas\\core\\indexing.py\u001B[0m in \u001B[0;36m_getbool_axis\u001B[1;34m(self, key, axis)\u001B[0m\n\u001B[0;32m    894\u001B[0m         \u001B[1;31m# caller is responsible for ensuring non-None axis\u001B[0m\u001B[1;33m\u001B[0m\u001B[1;33m\u001B[0m\u001B[1;33m\u001B[0m\u001B[0m\n\u001B[0;32m    895\u001B[0m         \u001B[0mlabels\u001B[0m \u001B[1;33m=\u001B[0m \u001B[0mself\u001B[0m\u001B[1;33m.\u001B[0m\u001B[0mobj\u001B[0m\u001B[1;33m.\u001B[0m\u001B[0m_get_axis\u001B[0m\u001B[1;33m(\u001B[0m\u001B[0maxis\u001B[0m\u001B[1;33m)\u001B[0m\u001B[1;33m\u001B[0m\u001B[1;33m\u001B[0m\u001B[0m\n\u001B[1;32m--> 896\u001B[1;33m         \u001B[0mkey\u001B[0m \u001B[1;33m=\u001B[0m \u001B[0mcheck_bool_indexer\u001B[0m\u001B[1;33m(\u001B[0m\u001B[0mlabels\u001B[0m\u001B[1;33m,\u001B[0m \u001B[0mkey\u001B[0m\u001B[1;33m)\u001B[0m\u001B[1;33m\u001B[0m\u001B[1;33m\u001B[0m\u001B[0m\n\u001B[0m\u001B[0;32m    897\u001B[0m         \u001B[0minds\u001B[0m \u001B[1;33m=\u001B[0m \u001B[0mkey\u001B[0m\u001B[1;33m.\u001B[0m\u001B[0mnonzero\u001B[0m\u001B[1;33m(\u001B[0m\u001B[1;33m)\u001B[0m\u001B[1;33m[\u001B[0m\u001B[1;36m0\u001B[0m\u001B[1;33m]\u001B[0m\u001B[1;33m\u001B[0m\u001B[1;33m\u001B[0m\u001B[0m\n\u001B[0;32m    898\u001B[0m         \u001B[1;32mreturn\u001B[0m \u001B[0mself\u001B[0m\u001B[1;33m.\u001B[0m\u001B[0mobj\u001B[0m\u001B[1;33m.\u001B[0m\u001B[0m_take_with_is_copy\u001B[0m\u001B[1;33m(\u001B[0m\u001B[0minds\u001B[0m\u001B[1;33m,\u001B[0m \u001B[0maxis\u001B[0m\u001B[1;33m=\u001B[0m\u001B[0maxis\u001B[0m\u001B[1;33m)\u001B[0m\u001B[1;33m\u001B[0m\u001B[1;33m\u001B[0m\u001B[0m\n",
      "\u001B[1;32m~\\anaconda3\\envs\\cnot_synthesis\\lib\\site-packages\\pandas\\core\\indexing.py\u001B[0m in \u001B[0;36mcheck_bool_indexer\u001B[1;34m(index, key)\u001B[0m\n\u001B[0;32m   2182\u001B[0m         \u001B[0mmask\u001B[0m \u001B[1;33m=\u001B[0m \u001B[0misna\u001B[0m\u001B[1;33m(\u001B[0m\u001B[0mresult\u001B[0m\u001B[1;33m.\u001B[0m\u001B[0m_values\u001B[0m\u001B[1;33m)\u001B[0m\u001B[1;33m\u001B[0m\u001B[1;33m\u001B[0m\u001B[0m\n\u001B[0;32m   2183\u001B[0m         \u001B[1;32mif\u001B[0m \u001B[0mmask\u001B[0m\u001B[1;33m.\u001B[0m\u001B[0many\u001B[0m\u001B[1;33m(\u001B[0m\u001B[1;33m)\u001B[0m\u001B[1;33m:\u001B[0m\u001B[1;33m\u001B[0m\u001B[1;33m\u001B[0m\u001B[0m\n\u001B[1;32m-> 2184\u001B[1;33m             raise IndexingError(\n\u001B[0m\u001B[0;32m   2185\u001B[0m                 \u001B[1;34m\"Unalignable boolean Series provided as \"\u001B[0m\u001B[1;33m\u001B[0m\u001B[1;33m\u001B[0m\u001B[0m\n\u001B[0;32m   2186\u001B[0m                 \u001B[1;34m\"indexer (index of the boolean Series and of \"\u001B[0m\u001B[1;33m\u001B[0m\u001B[1;33m\u001B[0m\u001B[0m\n",
      "\u001B[1;31mIndexingError\u001B[0m: Unalignable boolean Series provided as indexer (index of the boolean Series and of the indexed object do not match)."
     ]
    }
   ],
   "source": [
    "section_size_long_5_df = section_size_comparison_combined_df.loc[(section_size_comparison_long_df['sec_size'] == 5)]\n",
    "\n",
    "section_size_long_5_agg_df = section_size_long_5_df.groupby(['size', 'sec_size']).agg(num_gates_mean=('num_gates', 'mean'), num_gates_std=('num_gates', 'std'),\n",
    "                                              process_time_mean=('process_time', 'mean'), process_time_std=('process_time', 'std'),\n",
    "                                              initial_rss_mean=('initial_rss', 'mean'), initial_rss_std=('initial_rss', 'std'),\n",
    "                                              final_rss_mean=('final_rss', 'mean'), final_rss_std=('final_rss', 'std'))\n",
    "\n",
    "section_size_long_5_agg_df.head()"
   ],
   "metadata": {
    "collapsed": false,
    "pycharm": {
     "name": "#%%\n"
    }
   }
  },
  {
   "cell_type": "code",
   "execution_count": 52,
   "outputs": [
    {
     "ename": "IndexingError",
     "evalue": "Unalignable boolean Series provided as indexer (index of the boolean Series and of the indexed object do not match).",
     "output_type": "error",
     "traceback": [
      "\u001B[1;31m---------------------------------------------------------------------------\u001B[0m",
      "\u001B[1;31mIndexingError\u001B[0m                             Traceback (most recent call last)",
      "\u001B[1;32m<ipython-input-52-e7e7cf7730ef>\u001B[0m in \u001B[0;36m<module>\u001B[1;34m\u001B[0m\n\u001B[1;32m----> 1\u001B[1;33m \u001B[0msection_size_long_6_df\u001B[0m \u001B[1;33m=\u001B[0m \u001B[0msection_size_comparison_combined_df\u001B[0m\u001B[1;33m.\u001B[0m\u001B[0mloc\u001B[0m\u001B[1;33m[\u001B[0m\u001B[1;33m(\u001B[0m\u001B[0msection_size_comparison_long_df\u001B[0m\u001B[1;33m[\u001B[0m\u001B[1;34m'sec_size'\u001B[0m\u001B[1;33m]\u001B[0m \u001B[1;33m==\u001B[0m \u001B[1;36m6\u001B[0m\u001B[1;33m)\u001B[0m\u001B[1;33m]\u001B[0m\u001B[1;33m\u001B[0m\u001B[1;33m\u001B[0m\u001B[0m\n\u001B[0m\u001B[0;32m      2\u001B[0m \u001B[1;33m\u001B[0m\u001B[0m\n\u001B[0;32m      3\u001B[0m section_size_long_6_agg_df = section_size_long_6_df.groupby(['size', 'sec_size']).agg(num_gates_mean=('num_gates', 'mean'), num_gates_std=('num_gates', 'std'),\n\u001B[0;32m      4\u001B[0m                                               \u001B[0mprocess_time_mean\u001B[0m\u001B[1;33m=\u001B[0m\u001B[1;33m(\u001B[0m\u001B[1;34m'process_time'\u001B[0m\u001B[1;33m,\u001B[0m \u001B[1;34m'mean'\u001B[0m\u001B[1;33m)\u001B[0m\u001B[1;33m,\u001B[0m \u001B[0mprocess_time_std\u001B[0m\u001B[1;33m=\u001B[0m\u001B[1;33m(\u001B[0m\u001B[1;34m'process_time'\u001B[0m\u001B[1;33m,\u001B[0m \u001B[1;34m'std'\u001B[0m\u001B[1;33m)\u001B[0m\u001B[1;33m,\u001B[0m\u001B[1;33m\u001B[0m\u001B[1;33m\u001B[0m\u001B[0m\n\u001B[0;32m      5\u001B[0m                                               \u001B[0minitial_rss_mean\u001B[0m\u001B[1;33m=\u001B[0m\u001B[1;33m(\u001B[0m\u001B[1;34m'initial_rss'\u001B[0m\u001B[1;33m,\u001B[0m \u001B[1;34m'mean'\u001B[0m\u001B[1;33m)\u001B[0m\u001B[1;33m,\u001B[0m \u001B[0minitial_rss_std\u001B[0m\u001B[1;33m=\u001B[0m\u001B[1;33m(\u001B[0m\u001B[1;34m'initial_rss'\u001B[0m\u001B[1;33m,\u001B[0m \u001B[1;34m'std'\u001B[0m\u001B[1;33m)\u001B[0m\u001B[1;33m,\u001B[0m\u001B[1;33m\u001B[0m\u001B[1;33m\u001B[0m\u001B[0m\n",
      "\u001B[1;32m~\\anaconda3\\envs\\cnot_synthesis\\lib\\site-packages\\pandas\\core\\indexing.py\u001B[0m in \u001B[0;36m__getitem__\u001B[1;34m(self, key)\u001B[0m\n\u001B[0;32m    877\u001B[0m \u001B[1;33m\u001B[0m\u001B[0m\n\u001B[0;32m    878\u001B[0m             \u001B[0mmaybe_callable\u001B[0m \u001B[1;33m=\u001B[0m \u001B[0mcom\u001B[0m\u001B[1;33m.\u001B[0m\u001B[0mapply_if_callable\u001B[0m\u001B[1;33m(\u001B[0m\u001B[0mkey\u001B[0m\u001B[1;33m,\u001B[0m \u001B[0mself\u001B[0m\u001B[1;33m.\u001B[0m\u001B[0mobj\u001B[0m\u001B[1;33m)\u001B[0m\u001B[1;33m\u001B[0m\u001B[1;33m\u001B[0m\u001B[0m\n\u001B[1;32m--> 879\u001B[1;33m             \u001B[1;32mreturn\u001B[0m \u001B[0mself\u001B[0m\u001B[1;33m.\u001B[0m\u001B[0m_getitem_axis\u001B[0m\u001B[1;33m(\u001B[0m\u001B[0mmaybe_callable\u001B[0m\u001B[1;33m,\u001B[0m \u001B[0maxis\u001B[0m\u001B[1;33m=\u001B[0m\u001B[0maxis\u001B[0m\u001B[1;33m)\u001B[0m\u001B[1;33m\u001B[0m\u001B[1;33m\u001B[0m\u001B[0m\n\u001B[0m\u001B[0;32m    880\u001B[0m \u001B[1;33m\u001B[0m\u001B[0m\n\u001B[0;32m    881\u001B[0m     \u001B[1;32mdef\u001B[0m \u001B[0m_is_scalar_access\u001B[0m\u001B[1;33m(\u001B[0m\u001B[0mself\u001B[0m\u001B[1;33m,\u001B[0m \u001B[0mkey\u001B[0m\u001B[1;33m:\u001B[0m \u001B[0mTuple\u001B[0m\u001B[1;33m)\u001B[0m\u001B[1;33m:\u001B[0m\u001B[1;33m\u001B[0m\u001B[1;33m\u001B[0m\u001B[0m\n",
      "\u001B[1;32m~\\anaconda3\\envs\\cnot_synthesis\\lib\\site-packages\\pandas\\core\\indexing.py\u001B[0m in \u001B[0;36m_getitem_axis\u001B[1;34m(self, key, axis)\u001B[0m\n\u001B[0;32m   1088\u001B[0m             \u001B[1;32mreturn\u001B[0m \u001B[0mself\u001B[0m\u001B[1;33m.\u001B[0m\u001B[0m_get_slice_axis\u001B[0m\u001B[1;33m(\u001B[0m\u001B[0mkey\u001B[0m\u001B[1;33m,\u001B[0m \u001B[0maxis\u001B[0m\u001B[1;33m=\u001B[0m\u001B[0maxis\u001B[0m\u001B[1;33m)\u001B[0m\u001B[1;33m\u001B[0m\u001B[1;33m\u001B[0m\u001B[0m\n\u001B[0;32m   1089\u001B[0m         \u001B[1;32melif\u001B[0m \u001B[0mcom\u001B[0m\u001B[1;33m.\u001B[0m\u001B[0mis_bool_indexer\u001B[0m\u001B[1;33m(\u001B[0m\u001B[0mkey\u001B[0m\u001B[1;33m)\u001B[0m\u001B[1;33m:\u001B[0m\u001B[1;33m\u001B[0m\u001B[1;33m\u001B[0m\u001B[0m\n\u001B[1;32m-> 1090\u001B[1;33m             \u001B[1;32mreturn\u001B[0m \u001B[0mself\u001B[0m\u001B[1;33m.\u001B[0m\u001B[0m_getbool_axis\u001B[0m\u001B[1;33m(\u001B[0m\u001B[0mkey\u001B[0m\u001B[1;33m,\u001B[0m \u001B[0maxis\u001B[0m\u001B[1;33m=\u001B[0m\u001B[0maxis\u001B[0m\u001B[1;33m)\u001B[0m\u001B[1;33m\u001B[0m\u001B[1;33m\u001B[0m\u001B[0m\n\u001B[0m\u001B[0;32m   1091\u001B[0m         \u001B[1;32melif\u001B[0m \u001B[0mis_list_like_indexer\u001B[0m\u001B[1;33m(\u001B[0m\u001B[0mkey\u001B[0m\u001B[1;33m)\u001B[0m\u001B[1;33m:\u001B[0m\u001B[1;33m\u001B[0m\u001B[1;33m\u001B[0m\u001B[0m\n\u001B[0;32m   1092\u001B[0m \u001B[1;33m\u001B[0m\u001B[0m\n",
      "\u001B[1;32m~\\anaconda3\\envs\\cnot_synthesis\\lib\\site-packages\\pandas\\core\\indexing.py\u001B[0m in \u001B[0;36m_getbool_axis\u001B[1;34m(self, key, axis)\u001B[0m\n\u001B[0;32m    894\u001B[0m         \u001B[1;31m# caller is responsible for ensuring non-None axis\u001B[0m\u001B[1;33m\u001B[0m\u001B[1;33m\u001B[0m\u001B[1;33m\u001B[0m\u001B[0m\n\u001B[0;32m    895\u001B[0m         \u001B[0mlabels\u001B[0m \u001B[1;33m=\u001B[0m \u001B[0mself\u001B[0m\u001B[1;33m.\u001B[0m\u001B[0mobj\u001B[0m\u001B[1;33m.\u001B[0m\u001B[0m_get_axis\u001B[0m\u001B[1;33m(\u001B[0m\u001B[0maxis\u001B[0m\u001B[1;33m)\u001B[0m\u001B[1;33m\u001B[0m\u001B[1;33m\u001B[0m\u001B[0m\n\u001B[1;32m--> 896\u001B[1;33m         \u001B[0mkey\u001B[0m \u001B[1;33m=\u001B[0m \u001B[0mcheck_bool_indexer\u001B[0m\u001B[1;33m(\u001B[0m\u001B[0mlabels\u001B[0m\u001B[1;33m,\u001B[0m \u001B[0mkey\u001B[0m\u001B[1;33m)\u001B[0m\u001B[1;33m\u001B[0m\u001B[1;33m\u001B[0m\u001B[0m\n\u001B[0m\u001B[0;32m    897\u001B[0m         \u001B[0minds\u001B[0m \u001B[1;33m=\u001B[0m \u001B[0mkey\u001B[0m\u001B[1;33m.\u001B[0m\u001B[0mnonzero\u001B[0m\u001B[1;33m(\u001B[0m\u001B[1;33m)\u001B[0m\u001B[1;33m[\u001B[0m\u001B[1;36m0\u001B[0m\u001B[1;33m]\u001B[0m\u001B[1;33m\u001B[0m\u001B[1;33m\u001B[0m\u001B[0m\n\u001B[0;32m    898\u001B[0m         \u001B[1;32mreturn\u001B[0m \u001B[0mself\u001B[0m\u001B[1;33m.\u001B[0m\u001B[0mobj\u001B[0m\u001B[1;33m.\u001B[0m\u001B[0m_take_with_is_copy\u001B[0m\u001B[1;33m(\u001B[0m\u001B[0minds\u001B[0m\u001B[1;33m,\u001B[0m \u001B[0maxis\u001B[0m\u001B[1;33m=\u001B[0m\u001B[0maxis\u001B[0m\u001B[1;33m)\u001B[0m\u001B[1;33m\u001B[0m\u001B[1;33m\u001B[0m\u001B[0m\n",
      "\u001B[1;32m~\\anaconda3\\envs\\cnot_synthesis\\lib\\site-packages\\pandas\\core\\indexing.py\u001B[0m in \u001B[0;36mcheck_bool_indexer\u001B[1;34m(index, key)\u001B[0m\n\u001B[0;32m   2182\u001B[0m         \u001B[0mmask\u001B[0m \u001B[1;33m=\u001B[0m \u001B[0misna\u001B[0m\u001B[1;33m(\u001B[0m\u001B[0mresult\u001B[0m\u001B[1;33m.\u001B[0m\u001B[0m_values\u001B[0m\u001B[1;33m)\u001B[0m\u001B[1;33m\u001B[0m\u001B[1;33m\u001B[0m\u001B[0m\n\u001B[0;32m   2183\u001B[0m         \u001B[1;32mif\u001B[0m \u001B[0mmask\u001B[0m\u001B[1;33m.\u001B[0m\u001B[0many\u001B[0m\u001B[1;33m(\u001B[0m\u001B[1;33m)\u001B[0m\u001B[1;33m:\u001B[0m\u001B[1;33m\u001B[0m\u001B[1;33m\u001B[0m\u001B[0m\n\u001B[1;32m-> 2184\u001B[1;33m             raise IndexingError(\n\u001B[0m\u001B[0;32m   2185\u001B[0m                 \u001B[1;34m\"Unalignable boolean Series provided as \"\u001B[0m\u001B[1;33m\u001B[0m\u001B[1;33m\u001B[0m\u001B[0m\n\u001B[0;32m   2186\u001B[0m                 \u001B[1;34m\"indexer (index of the boolean Series and of \"\u001B[0m\u001B[1;33m\u001B[0m\u001B[1;33m\u001B[0m\u001B[0m\n",
      "\u001B[1;31mIndexingError\u001B[0m: Unalignable boolean Series provided as indexer (index of the boolean Series and of the indexed object do not match)."
     ]
    }
   ],
   "source": [
    "section_size_long_6_df = section_size_comparison_combined_df.loc[(section_size_comparison_long_df['sec_size'] == 6)]\n",
    "\n",
    "section_size_long_6_agg_df = section_size_long_6_df.groupby(['size', 'sec_size']).agg(num_gates_mean=('num_gates', 'mean'), num_gates_std=('num_gates', 'std'),\n",
    "                                              process_time_mean=('process_time', 'mean'), process_time_std=('process_time', 'std'),\n",
    "                                              initial_rss_mean=('initial_rss', 'mean'), initial_rss_std=('initial_rss', 'std'),\n",
    "                                              final_rss_mean=('final_rss', 'mean'), final_rss_std=('final_rss', 'std'))\n",
    "\n",
    "section_size_long_6_agg_df.head()"
   ],
   "metadata": {
    "collapsed": false,
    "pycharm": {
     "name": "#%%\n"
    }
   }
  },
  {
   "cell_type": "code",
   "execution_count": 53,
   "outputs": [
    {
     "name": "stdout",
     "output_type": "stream",
     "text": [
      "[10, 20, 30, 40, 50, 60, 70, 80, 90, 100, 110, 120, 130, 140, 150, 160, 170, 180, 190, 200, 210, 220, 230, 240, 250, 260, 270, 280, 290, 300, 310, 320, 330, 340, 350, 360, 370, 380, 390, 400, 410, 420, 430, 440, 450, 460, 470, 480, 490, 500, 510, 520, 530, 540, 550, 560, 570, 580, 590, 600, 610, 620, 630, 640, 650, 660, 670, 680, 690, 700, 710, 720, 730, 740, 750, 760, 770, 780, 790, 800, 810, 820, 830, 840, 850, 860, 870, 880, 890, 900, 910, 920, 930, 940, 950, 960, 970, 980, 990, 1000]\n"
     ]
    }
   ],
   "source": [
    "## data frame 6 does not have the high resolution in the lower part\n",
    "sizes = [size for (size, _) in section_size_long_2_agg_df.index.tolist()]\n",
    "\n",
    "print(sizes)"
   ],
   "metadata": {
    "collapsed": false,
    "pycharm": {
     "name": "#%%\n"
    }
   }
  },
  {
   "cell_type": "code",
   "execution_count": 54,
   "outputs": [
    {
     "data": {
      "application/vnd.plotly.v1+json": {
       "config": {
        "plotlyServerURL": "https://plot.ly"
       },
       "data": [
        {
         "error_y": {
          "array": [
           3.5355339059327378,
           2.1213203435596424,
           14.142135623730951,
           5.656854249492381,
           4.242640687119285,
           24.041630560342615,
           9.899494936611665,
           30.405591591021544,
           36.062445840513924,
           21.920310216782973,
           3.5355339059327378,
           32.526911934581186,
           37.476659402887016,
           9.192388155425117,
           26.16295090390226,
           34.64823227814083,
           37.476659402887016,
           53.033008588991066,
           48.08326112068523,
           130.10764773832474,
           73.53910524340094,
           110.30865786510141,
           9.192388155425117,
           152.73506473629428,
           44.54772721475249,
           29.698484809834994,
           17.67766952966369,
           2.8284271247461903,
           33.23401871576773,
           94.75230867899737,
           123.74368670764582,
           109.60155108391487,
           170.41273426595797,
           96.87362902255701,
           75.66042558696059,
           208.59650045003153,
           68.58935777509511,
           59.39696961966999,
           240.41630560342617,
           115.96551211459379,
           33.94112549695428,
           53.033008588991066,
           97.58073580374356,
           177.48380207782344,
           74.24621202458749,
           188.79751057680818,
           67.17514421272202,
           32.526911934581186,
           89.80256121069154,
           97.58073580374356,
           50.204581464244875,
           55.86143571373726,
           198.69700551341987,
           185.969083452062,
           132.22896808188437,
           197.28279195104676,
           38.890872965260115,
           50.204581464244875,
           200.11121907579295,
           216.37467504308356,
           318.1980515339464,
           155.56349186104046,
           159.80613254815975,
           135.7645019878171,
           229.80970388562795,
           324.5620125646253,
           49.49747468305833,
           284.9640328181787,
           211.4249275747777,
           159.0990257669732,
           243.9518395093589,
           535.986940139403,
           202.2325394193526,
           163.3416664540925,
           102.5304832720494,
           4.242640687119285,
           38.18376618407357,
           129.4005409571382,
           36.76955262170047,
           373.3523804664971,
           111.01576464628796,
           200.11121907579295,
           512.652416360247,
           407.29350596345137,
           122.32947314527271,
           224.8599564173221,
           40.30508652763321,
           182.43354954612926,
           50.204581464244875,
           702.1570337182417,
           58.68986283848344,
           62.932503525602726,
           195.16147160748713,
           368.4026329981913,
           31.81980515339464,
           61.518289963229634,
           173.24116139070415,
           301.22748878546923,
           12.727922061357855,
           89.80256121069154
          ],
          "type": "data",
          "visible": true
         },
         "name": "m=2",
         "type": "scatter",
         "x": [
          10,
          20,
          30,
          40,
          50,
          60,
          70,
          80,
          90,
          100,
          110,
          120,
          130,
          140,
          150,
          160,
          170,
          180,
          190,
          200,
          210,
          220,
          230,
          240,
          250,
          260,
          270,
          280,
          290,
          300,
          310,
          320,
          330,
          340,
          350,
          360,
          370,
          380,
          390,
          400,
          410,
          420,
          430,
          440,
          450,
          460,
          470,
          480,
          490,
          500,
          510,
          520,
          530,
          540,
          550,
          560,
          570,
          580,
          590,
          600,
          610,
          620,
          630,
          640,
          650,
          660,
          670,
          680,
          690,
          700,
          710,
          720,
          730,
          740,
          750,
          760,
          770,
          780,
          790,
          800,
          810,
          820,
          830,
          840,
          850,
          860,
          870,
          880,
          890,
          900,
          910,
          920,
          930,
          940,
          950,
          960,
          970,
          980,
          990,
          1000
         ],
         "y": [
          45.5,
          167.5,
          365.0,
          623.0,
          976.0,
          1399.0,
          1916.0,
          2450.5,
          3154.5,
          3801.5,
          4629.5,
          5529.0,
          6421.5,
          7481.5,
          8576.5,
          9736.5,
          11026.5,
          12281.5,
          13714.0,
          15132.0,
          16673.0,
          18293.0,
          20003.5,
          21886.0,
          23683.5,
          25611.0,
          27572.5,
          29654.0,
          31693.5,
          34024.0,
          36382.5,
          38683.5,
          41151.5,
          43648.5,
          46409.5,
          49114.5,
          51730.5,
          54506.0,
          57490.0,
          60323.0,
          63433.0,
          66582.5,
          69839.0,
          72952.5,
          76332.5,
          79916.5,
          83251.5,
          86963.0,
          90493.5,
          94230.0,
          98192.5,
          101912.5,
          105960.5,
          109595.5,
          113977.5,
          117978.5,
          122257.5,
          126600.5,
          130838.5,
          135562.0,
          140249.0,
          144495.0,
          149459.0,
          153951.0,
          159119.5,
          163768.5,
          168679.0,
          173946.5,
          179283.5,
          184453.5,
          189726.5,
          194885.0,
          200684.0,
          205838.5,
          211631.5,
          217432.0,
          223281.0,
          228693.5,
          234918.0,
          241134.0,
          246585.5,
          253051.5,
          259172.5,
          265459.0,
          272069.5,
          277863.0,
          284504.5,
          291245.0,
          297703.5,
          304536.5,
          311636.5,
          318220.5,
          324830.0,
          331963.5,
          339060.5,
          346303.5,
          353572.5,
          360885.0,
          368396.0,
          375968.5
         ]
        },
        {
         "error_y": {
          "array": [
           3.5355339059327378,
           7.0710678118654755,
           4.242640687119285,
           18.384776310850235,
           7.7781745930520225,
           3.5355339059327378,
           7.0710678118654755,
           14.849242404917497,
           29.698484809834994,
           0.0,
           2.8284271247461903,
           12.727922061357855,
           0.0,
           26.16295090390226,
           16.97056274847714,
           9.899494936611665,
           7.7781745930520225,
           97.58073580374356,
           4.949747468305833,
           27.577164466275352,
           99.7020561473032,
           22.627416997969522,
           15.556349186104045,
           5.656854249492381,
           34.64823227814083,
           43.840620433565945,
           35.35533905932738,
           69.29646455628166,
           70.71067811865476,
           62.22539674441618,
           57.982756057296896,
           30.405591591021544,
           38.890872965260115,
           22.627416997969522,
           8.48528137423857,
           4.242640687119285,
           43.1335136523794,
           75.66042558696059,
           9.899494936611665,
           15.556349186104045,
           30.405591591021544,
           86.2670273047588,
           92.63098833543772,
           188.09040379562165,
           99.7020561473032,
           115.25840533340725,
           118.08683245815344,
           144.2497833620557,
           64.34671708797582,
           15.556349186104045,
           37.476659402887016,
           67.17514421272202,
           84.14570696119915,
           42.42640687119285,
           78.48885271170677,
           152.73506473629428,
           122.32947314527271,
           168.2914139223983,
           140.0071426749364,
           131.52186130069785,
           32.526911934581186,
           45.254833995939045,
           31.11269837220809,
           60.81118318204309,
           96.87362902255701,
           280.0142853498728,
           329.51176003293114,
           103.94469683442249,
           168.99852070358486,
           39.59797974644666,
           57.982756057296896,
           282.842712474619,
           40.30508652763321,
           53.74011537017761,
           105.35891039679558,
           147.78531726798843,
           199.4041122946064,
           100.40916292848975,
           79.19595949289332,
           492.8534264870236,
           89.80256121069154,
           278.6000717874997,
           55.154328932550705,
           86.2670273047588,
           20.506096654409877,
           402.34375849514555,
           307.59144981614816,
           117.37972567696688,
           181.7264427649427,
           182.43354954612926,
           197.9898987322333,
           120.20815280171308,
           245.36605307173198,
           258.0939751330898,
           13.435028842544403,
           193.74725804511402,
           363.4528855298854,
           165.46298679765212,
           21.213203435596427,
           260.92240225783604
          ],
          "type": "data",
          "visible": true
         },
         "name": "m=3",
         "type": "scatter",
         "x": [
          10,
          20,
          30,
          40,
          50,
          60,
          70,
          80,
          90,
          100,
          110,
          120,
          130,
          140,
          150,
          160,
          170,
          180,
          190,
          200,
          210,
          220,
          230,
          240,
          250,
          260,
          270,
          280,
          290,
          300,
          310,
          320,
          330,
          340,
          350,
          360,
          370,
          380,
          390,
          400,
          410,
          420,
          430,
          440,
          450,
          460,
          470,
          480,
          490,
          500,
          510,
          520,
          530,
          540,
          550,
          560,
          570,
          580,
          590,
          600,
          610,
          620,
          630,
          640,
          650,
          660,
          670,
          680,
          690,
          700,
          710,
          720,
          730,
          740,
          750,
          760,
          770,
          780,
          790,
          800,
          810,
          820,
          830,
          840,
          850,
          860,
          870,
          880,
          890,
          900,
          910,
          920,
          930,
          940,
          950,
          960,
          970,
          980,
          990,
          1000
         ],
         "y": [
          46.5,
          152.0,
          329.0,
          577.0,
          872.5,
          1212.5,
          1663.0,
          2092.5,
          2606.0,
          3219.0,
          3877.0,
          4576.0,
          5329.0,
          6089.5,
          6989.0,
          7960.0,
          8927.5,
          9961.0,
          11138.5,
          12319.5,
          13505.5,
          14800.0,
          16167.0,
          17558.0,
          19057.5,
          20557.0,
          22025.0,
          23743.0,
          25422.0,
          27194.0,
          28990.0,
          30812.5,
          32787.5,
          34765.0,
          36921.0,
          38996.0,
          41090.5,
          43262.5,
          45609.0,
          47971.0,
          50263.5,
          52720.0,
          55329.5,
          57789.0,
          60393.5,
          63141.5,
          65921.5,
          68674.0,
          71572.5,
          74456.0,
          77422.5,
          80571.5,
          83537.5,
          86673.0,
          89913.5,
          93345.0,
          96424.5,
          99978.0,
          103440.0,
          106792.0,
          110590.0,
          114030.0,
          117751.0,
          121449.0,
          125260.5,
          129055.0,
          133018.0,
          136900.5,
          141178.5,
          145094.0,
          149018.0,
          153443.0,
          157625.5,
          162033.0,
          166462.5,
          171001.5,
          175384.0,
          179869.0,
          184630.0,
          189102.5,
          194029.5,
          198644.0,
          203607.0,
          208632.0,
          213477.5,
          218406.5,
          223374.5,
          228560.0,
          233872.5,
          239169.0,
          244174.0,
          249495.0,
          255123.5,
          260454.5,
          266423.5,
          271939.0,
          277398.0,
          283170.0,
          288888.0,
          294966.5
         ]
        },
        {
         "error_y": {
          "array": [
           3.5355339059327378,
           11.313708498984761,
           9.192388155425117,
           3.5355339059327378,
           23.33452377915607,
           17.67766952966369,
           15.556349186104045,
           14.142135623730951,
           12.020815280171307,
           9.192388155425117,
           17.67766952966369,
           8.48528137423857,
           4.242640687119285,
           4.242640687119285,
           15.556349186104045,
           12.727922061357855,
           2.8284271247461903,
           32.526911934581186,
           2.1213203435596424,
           23.33452377915607,
           29.698484809834994,
           7.7781745930520225,
           52.32590180780452,
           70.71067811865476,
           19.091883092036785,
           9.192388155425117,
           19.79898987322333,
           63.63961030678928,
           30.405591591021544,
           9.899494936611665,
           59.39696961966999,
           19.79898987322333,
           8.48528137423857,
           0.0,
           35.35533905932738,
           21.920310216782973,
           1.4142135623730951,
           2.8284271247461903,
           43.840620433565945,
           23.33452377915607,
           41.012193308819754,
           22.627416997969522,
           44.54772721475249,
           72.12489168102785,
           69.29646455628166,
           74.24621202458749,
           87.68124086713189,
           44.54772721475249,
           50.204581464244875,
           39.59797974644666,
           53.033008588991066,
           19.79898987322333,
           4.242640687119285,
           108.18733752154178,
           178.89801564019652,
           49.49747468305833,
           119.50104602052653,
           32.526911934581186,
           21.920310216782973,
           48.08326112068523,
           98.2878425849301,
           77.07463914933368,
           45.254833995939045,
           53.74011537017761,
           123.74368670764582,
           79.19595949289332,
           84.14570696119915,
           123.03657992645927,
           67.17514421272202,
           92.63098833543772,
           94.75230867899737,
           76.36753236814714,
           53.74011537017761,
           62.22539674441618,
           55.154328932550705,
           47.37615433949868,
           65.76093065034893,
           50.204581464244875,
           41.012193308819754,
           38.18376618407357,
           81.31727983645297,
           25.45584412271571,
           129.4005409571382,
           8.48528137423857,
           63.63961030678928,
           94.04520189781083,
           88.38834764831844,
           97.58073580374356,
           4.242640687119285,
           24.748737341529164,
           144.2497833620557,
           60.81118318204309,
           101.1162697096763,
           195.16147160748713,
           170.41273426595797,
           57.27564927611035,
           89.09545442950498,
           30.405591591021544,
           33.94112549695428,
           0.7071067811865476
          ],
          "type": "data",
          "visible": true
         },
         "name": "m=4",
         "type": "scatter",
         "x": [
          10,
          20,
          30,
          40,
          50,
          60,
          70,
          80,
          90,
          100,
          110,
          120,
          130,
          140,
          150,
          160,
          170,
          180,
          190,
          200,
          210,
          220,
          230,
          240,
          250,
          260,
          270,
          280,
          290,
          300,
          310,
          320,
          330,
          340,
          350,
          360,
          370,
          380,
          390,
          400,
          410,
          420,
          430,
          440,
          450,
          460,
          470,
          480,
          490,
          500,
          510,
          520,
          530,
          540,
          550,
          560,
          570,
          580,
          590,
          600,
          610,
          620,
          630,
          640,
          650,
          660,
          670,
          680,
          690,
          700,
          710,
          720,
          730,
          740,
          750,
          760,
          770,
          780,
          790,
          800,
          810,
          820,
          830,
          840,
          850,
          860,
          870,
          880,
          890,
          900,
          910,
          920,
          930,
          940,
          950,
          960,
          970,
          980,
          990,
          1000
         ],
         "y": [
          48.5,
          169.0,
          344.5,
          577.5,
          878.5,
          1207.5,
          1615.0,
          2025.0,
          2494.5,
          3026.5,
          3607.5,
          4244.0,
          4895.0,
          5629.0,
          6374.0,
          7179.0,
          8047.0,
          8943.0,
          9899.5,
          10888.5,
          11914.0,
          13011.5,
          14204.0,
          15361.0,
          16572.5,
          17891.5,
          19188.0,
          20579.0,
          22014.5,
          23418.0,
          24943.0,
          26496.0,
          28100.0,
          29742.0,
          31429.0,
          33229.5,
          34986.0,
          36823.0,
          38766.0,
          40683.5,
          42645.0,
          44677.0,
          46815.5,
          48920.0,
          51052.0,
          53237.5,
          55565.0,
          57842.5,
          60206.5,
          62526.0,
          65115.5,
          67525.0,
          70075.0,
          72676.5,
          75295.5,
          78005.0,
          80789.5,
          83447.0,
          86369.5,
          89244.0,
          92184.5,
          95114.5,
          98038.0,
          101101.0,
          104276.5,
          107447.0,
          110477.5,
          113849.0,
          117135.5,
          120432.5,
          123907.0,
          127372.0,
          130832.0,
          134324.0,
          137858.0,
          141395.5,
          145201.5,
          148882.5,
          152647.0,
          156429.0,
          160337.5,
          164344.0,
          168175.5,
          172287.0,
          176243.0,
          180233.5,
          184452.5,
          188638.0,
          192766.0,
          197039.5,
          201419.0,
          205881.0,
          210225.5,
          214669.0,
          219257.5,
          223772.5,
          228489.0,
          233036.5,
          237683.0,
          242564.5
         ]
        },
        {
         "error_y": {
          "array": [
           8.48528137423857,
           1.4142135623730951,
           20.506096654409877,
           2.8284271247461903,
           14.142135623730951,
           4.949747468305833,
           11.313708498984761,
           4.242640687119285,
           4.949747468305833,
           2.8284271247461903,
           8.48528137423857,
           20.506096654409877,
           16.263455967290593,
           53.74011537017761,
           9.192388155425117,
           7.7781745930520225,
           41.012193308819754,
           45.254833995939045,
           13.435028842544403,
           14.142135623730951,
           58.68986283848344,
           18.384776310850235,
           44.54772721475249,
           4.242640687119285,
           65.76093065034893,
           10.606601717798213,
           10.606601717798213,
           24.748737341529164,
           38.890872965260115,
           17.67766952966369,
           28.991378028648448,
           40.30508652763321,
           9.192388155425117,
           71.4177848998413,
           33.94112549695428,
           31.11269837220809,
           2.1213203435596424,
           29.698484809834994,
           54.44722215136416,
           13.435028842544403,
           32.526911934581186,
           32.526911934581186,
           38.890872965260115,
           31.81980515339464,
           48.08326112068523,
           74.24621202458749,
           1.4142135623730951,
           0.0,
           21.213203435596427,
           55.154328932550705,
           2.8284271247461903,
           63.63961030678928,
           15.556349186104045,
           57.27564927611035,
           11.313708498984761,
           19.091883092036785,
           31.11269837220809,
           65.76093065034893,
           74.95331880577403,
           72.8319984622144,
           41.71930009000631,
           123.03657992645927,
           113.13708498984761,
           118.08683245815344,
           31.81980515339464,
           2.8284271247461903,
           19.091883092036785,
           44.54772721475249,
           5.656854249492381,
           31.81980515339464,
           27.577164466275352,
           113.13708498984761,
           119.50104602052653,
           67.88225099390856,
           76.36753236814714,
           38.18376618407357,
           57.27564927611035,
           79.90306627407988,
           25.45584412271571,
           1.4142135623730951,
           96.16652224137046,
           68.58935777509511,
           41.012193308819754,
           56.568542494923804,
           150.61374439273462,
           36.062445840513924,
           68.58935777509511,
           79.19595949289332,
           17.67766952966369,
           23.33452377915607,
           36.062445840513924,
           118.79393923933998,
           82.73149339882606,
           24.041630560342615,
           2.8284271247461903,
           61.518289963229634,
           9.192388155425117,
           135.0573952066306,
           39.59797974644666,
           45.96194077712559
          ],
          "type": "data",
          "visible": true
         },
         "name": "m=5",
         "type": "scatter",
         "x": [
          10,
          20,
          30,
          40,
          50,
          60,
          70,
          80,
          90,
          100,
          110,
          120,
          130,
          140,
          150,
          160,
          170,
          180,
          190,
          200,
          210,
          220,
          230,
          240,
          250,
          260,
          270,
          280,
          290,
          300,
          310,
          320,
          330,
          340,
          350,
          360,
          370,
          380,
          390,
          400,
          410,
          420,
          430,
          440,
          450,
          460,
          470,
          480,
          490,
          500,
          510,
          520,
          530,
          540,
          550,
          560,
          570,
          580,
          590,
          600,
          610,
          620,
          630,
          640,
          650,
          660,
          670,
          680,
          690,
          700,
          710,
          720,
          730,
          740,
          750,
          760,
          770,
          780,
          790,
          800,
          810,
          820,
          830,
          840,
          850,
          860,
          870,
          880,
          890,
          900,
          910,
          920,
          930,
          940,
          950,
          960,
          970,
          980,
          990,
          1000
         ],
         "y": [
          50.0,
          176.0,
          381.5,
          656.0,
          960.0,
          1343.5,
          1743.0,
          2240.0,
          2711.5,
          3258.0,
          3859.0,
          4509.5,
          5154.5,
          5892.0,
          6654.5,
          7419.5,
          8253.0,
          9119.0,
          10053.5,
          10975.0,
          11995.5,
          13027.0,
          14042.5,
          15187.0,
          16332.5,
          17504.5,
          18676.5,
          19976.5,
          21264.5,
          22592.5,
          23967.5,
          25378.5,
          26875.5,
          28293.5,
          29880.0,
          31437.0,
          33016.5,
          34676.0,
          36453.5,
          38142.5,
          39804.0,
          41651.0,
          43445.5,
          45392.5,
          47299.0,
          49238.5,
          51260.0,
          53218.0,
          55391.0,
          57447.0,
          59597.0,
          61821.0,
          64046.0,
          66344.5,
          68600.0,
          70943.5,
          73322.0,
          75730.5,
          78170.0,
          80658.5,
          83271.5,
          85832.0,
          88366.0,
          91062.5,
          93754.5,
          96449.0,
          99212.5,
          102020.5,
          104814.0,
          107834.5,
          110699.5,
          113697.0,
          116661.5,
          119676.0,
          122878.0,
          125895.0,
          129131.5,
          132280.5,
          135495.0,
          138852.0,
          142096.0,
          145434.5,
          148891.0,
          152266.0,
          155767.5,
          159228.5,
          162924.5,
          166385.0,
          170009.5,
          173617.5,
          177333.5,
          181118.0,
          184815.5,
          188743.0,
          192508.0,
          196473.5,
          200412.5,
          204388.5,
          208252.0,
          212400.5
         ]
        },
        {
         "error_y": {
          "array": [
           9.899494936611665,
           9.899494936611665,
           2.8284271247461903,
           9.899494936611665,
           45.254833995939045,
           16.97056274847714,
           19.091883092036785,
           43.840620433565945,
           19.091883092036785,
           6.363961030678928,
           43.1335136523794,
           63.63961030678928,
           1.4142135623730951,
           77.78174593052023,
           4.242640687119285,
           37.476659402887016,
           55.86143571373726,
           0.7071067811865476,
           16.263455967290593,
           28.284271247461902,
           84.8528137423857,
           1.4142135623730951,
           12.020815280171307,
           3.5355339059327378,
           27.577164466275352,
           23.33452377915607,
           21.213203435596427,
           78.48885271170677,
           4.242640687119285,
           51.61879502661797,
           23.33452377915607,
           25.45584412271571,
           29.698484809834994,
           53.033008588991066,
           0.7071067811865476,
           4.949747468305833,
           57.982756057296896,
           67.17514421272202,
           93.33809511662427,
           72.12489168102785,
           38.18376618407357,
           82.02438661763951,
           74.24621202458749,
           45.96194077712559,
           43.1335136523794,
           44.54772721475249,
           2.8284271247461903,
           57.982756057296896,
           0.0,
           93.33809511662427,
           41.71930009000631,
           21.920310216782973,
           3.5355339059327378,
           108.18733752154178,
           20.506096654409877,
           55.86143571373726,
           57.982756057296896,
           36.062445840513924,
           84.14570696119915,
           39.59797974644666,
           24.748737341529164,
           11.313708498984761,
           50.204581464244875,
           32.526911934581186,
           21.213203435596427,
           21.213203435596427,
           4.949747468305833,
           23.33452377915607,
           32.526911934581186,
           10.606601717798213,
           94.75230867899737,
           6.363961030678928,
           140.0071426749364,
           137.17871555019022,
           106.77312395916867,
           36.062445840513924,
           34.64823227814083,
           66.46803743153546,
           86.97413408594535,
           17.67766952966369,
           21.213203435596427,
           12.727922061357855,
           28.284271247461902,
           28.991378028648448,
           77.07463914933368,
           37.476659402887016,
           38.18376618407357,
           55.86143571373726,
           91.92388155425118,
           125.15790027001891,
           33.94112549695428,
           20.506096654409877,
           113.84419177103415,
           48.08326112068523,
           48.79036790187178,
           84.14570696119915,
           198.69700551341987,
           59.39696961966999,
           75.66042558696059,
           18.384776310850235
          ],
          "type": "data",
          "visible": true
         },
         "name": "m=6",
         "type": "scatter",
         "x": [
          10,
          20,
          30,
          40,
          50,
          60,
          70,
          80,
          90,
          100,
          110,
          120,
          130,
          140,
          150,
          160,
          170,
          180,
          190,
          200,
          210,
          220,
          230,
          240,
          250,
          260,
          270,
          280,
          290,
          300,
          310,
          320,
          330,
          340,
          350,
          360,
          370,
          380,
          390,
          400,
          410,
          420,
          430,
          440,
          450,
          460,
          470,
          480,
          490,
          500,
          510,
          520,
          530,
          540,
          550,
          560,
          570,
          580,
          590,
          600,
          610,
          620,
          630,
          640,
          650,
          660,
          670,
          680,
          690,
          700,
          710,
          720,
          730,
          740,
          750,
          760,
          770,
          780,
          790,
          800,
          810,
          820,
          830,
          840,
          850,
          860,
          870,
          880,
          890,
          900,
          910,
          920,
          930,
          940,
          950,
          960,
          970,
          980,
          990,
          1000
         ],
         "y": [
          51.0,
          196.0,
          407.0,
          700.0,
          1076.0,
          1539.0,
          2020.5,
          2525.0,
          3080.5,
          3745.5,
          4424.5,
          5226.0,
          5959.0,
          6817.0,
          7625.0,
          8481.5,
          9431.5,
          10442.5,
          11449.5,
          12534.0,
          13593.0,
          14675.0,
          15864.5,
          17003.5,
          18274.5,
          19528.5,
          20784.0,
          22087.5,
          23433.0,
          24936.5,
          26257.5,
          27769.0,
          29241.0,
          30674.5,
          32289.5,
          33909.5,
          35484.0,
          37120.5,
          38840.0,
          40520.0,
          42300.0,
          44114.0,
          45939.5,
          47804.5,
          49714.5,
          51611.5,
          53530.0,
          55591.0,
          57522.0,
          59698.0,
          61703.5,
          63752.5,
          65901.5,
          68158.5,
          70421.5,
          72619.5,
          74918.0,
          77115.5,
          79548.5,
          81921.0,
          84332.5,
          86733.0,
          89220.5,
          91717.0,
          94361.0,
          96876.0,
          99487.5,
          102088.5,
          104867.0,
          107490.5,
          110186.0,
          112991.5,
          115895.0,
          118683.0,
          121536.5,
          124375.5,
          127332.5,
          130300.0,
          133407.5,
          136395.5,
          139476.0,
          142528.0,
          145644.0,
          148768.5,
          152022.5,
          155215.5,
          158488.0,
          161933.5,
          165195.0,
          168420.5,
          171837.0,
          175339.5,
          178730.5,
          182261.0,
          185788.5,
          189330.5,
          193020.5,
          196596.0,
          200269.5,
          203846.0
         ]
        }
       ],
       "layout": {
        "template": {
         "data": {
          "bar": [
           {
            "error_x": {
             "color": "#2a3f5f"
            },
            "error_y": {
             "color": "#2a3f5f"
            },
            "marker": {
             "line": {
              "color": "#E5ECF6",
              "width": 0.5
             }
            },
            "type": "bar"
           }
          ],
          "barpolar": [
           {
            "marker": {
             "line": {
              "color": "#E5ECF6",
              "width": 0.5
             }
            },
            "type": "barpolar"
           }
          ],
          "carpet": [
           {
            "aaxis": {
             "endlinecolor": "#2a3f5f",
             "gridcolor": "white",
             "linecolor": "white",
             "minorgridcolor": "white",
             "startlinecolor": "#2a3f5f"
            },
            "baxis": {
             "endlinecolor": "#2a3f5f",
             "gridcolor": "white",
             "linecolor": "white",
             "minorgridcolor": "white",
             "startlinecolor": "#2a3f5f"
            },
            "type": "carpet"
           }
          ],
          "choropleth": [
           {
            "colorbar": {
             "outlinewidth": 0,
             "ticks": ""
            },
            "type": "choropleth"
           }
          ],
          "contour": [
           {
            "colorbar": {
             "outlinewidth": 0,
             "ticks": ""
            },
            "colorscale": [
             [
              0.0,
              "#0d0887"
             ],
             [
              0.1111111111111111,
              "#46039f"
             ],
             [
              0.2222222222222222,
              "#7201a8"
             ],
             [
              0.3333333333333333,
              "#9c179e"
             ],
             [
              0.4444444444444444,
              "#bd3786"
             ],
             [
              0.5555555555555556,
              "#d8576b"
             ],
             [
              0.6666666666666666,
              "#ed7953"
             ],
             [
              0.7777777777777778,
              "#fb9f3a"
             ],
             [
              0.8888888888888888,
              "#fdca26"
             ],
             [
              1.0,
              "#f0f921"
             ]
            ],
            "type": "contour"
           }
          ],
          "contourcarpet": [
           {
            "colorbar": {
             "outlinewidth": 0,
             "ticks": ""
            },
            "type": "contourcarpet"
           }
          ],
          "heatmap": [
           {
            "colorbar": {
             "outlinewidth": 0,
             "ticks": ""
            },
            "colorscale": [
             [
              0.0,
              "#0d0887"
             ],
             [
              0.1111111111111111,
              "#46039f"
             ],
             [
              0.2222222222222222,
              "#7201a8"
             ],
             [
              0.3333333333333333,
              "#9c179e"
             ],
             [
              0.4444444444444444,
              "#bd3786"
             ],
             [
              0.5555555555555556,
              "#d8576b"
             ],
             [
              0.6666666666666666,
              "#ed7953"
             ],
             [
              0.7777777777777778,
              "#fb9f3a"
             ],
             [
              0.8888888888888888,
              "#fdca26"
             ],
             [
              1.0,
              "#f0f921"
             ]
            ],
            "type": "heatmap"
           }
          ],
          "heatmapgl": [
           {
            "colorbar": {
             "outlinewidth": 0,
             "ticks": ""
            },
            "colorscale": [
             [
              0.0,
              "#0d0887"
             ],
             [
              0.1111111111111111,
              "#46039f"
             ],
             [
              0.2222222222222222,
              "#7201a8"
             ],
             [
              0.3333333333333333,
              "#9c179e"
             ],
             [
              0.4444444444444444,
              "#bd3786"
             ],
             [
              0.5555555555555556,
              "#d8576b"
             ],
             [
              0.6666666666666666,
              "#ed7953"
             ],
             [
              0.7777777777777778,
              "#fb9f3a"
             ],
             [
              0.8888888888888888,
              "#fdca26"
             ],
             [
              1.0,
              "#f0f921"
             ]
            ],
            "type": "heatmapgl"
           }
          ],
          "histogram": [
           {
            "marker": {
             "colorbar": {
              "outlinewidth": 0,
              "ticks": ""
             }
            },
            "type": "histogram"
           }
          ],
          "histogram2d": [
           {
            "colorbar": {
             "outlinewidth": 0,
             "ticks": ""
            },
            "colorscale": [
             [
              0.0,
              "#0d0887"
             ],
             [
              0.1111111111111111,
              "#46039f"
             ],
             [
              0.2222222222222222,
              "#7201a8"
             ],
             [
              0.3333333333333333,
              "#9c179e"
             ],
             [
              0.4444444444444444,
              "#bd3786"
             ],
             [
              0.5555555555555556,
              "#d8576b"
             ],
             [
              0.6666666666666666,
              "#ed7953"
             ],
             [
              0.7777777777777778,
              "#fb9f3a"
             ],
             [
              0.8888888888888888,
              "#fdca26"
             ],
             [
              1.0,
              "#f0f921"
             ]
            ],
            "type": "histogram2d"
           }
          ],
          "histogram2dcontour": [
           {
            "colorbar": {
             "outlinewidth": 0,
             "ticks": ""
            },
            "colorscale": [
             [
              0.0,
              "#0d0887"
             ],
             [
              0.1111111111111111,
              "#46039f"
             ],
             [
              0.2222222222222222,
              "#7201a8"
             ],
             [
              0.3333333333333333,
              "#9c179e"
             ],
             [
              0.4444444444444444,
              "#bd3786"
             ],
             [
              0.5555555555555556,
              "#d8576b"
             ],
             [
              0.6666666666666666,
              "#ed7953"
             ],
             [
              0.7777777777777778,
              "#fb9f3a"
             ],
             [
              0.8888888888888888,
              "#fdca26"
             ],
             [
              1.0,
              "#f0f921"
             ]
            ],
            "type": "histogram2dcontour"
           }
          ],
          "mesh3d": [
           {
            "colorbar": {
             "outlinewidth": 0,
             "ticks": ""
            },
            "type": "mesh3d"
           }
          ],
          "parcoords": [
           {
            "line": {
             "colorbar": {
              "outlinewidth": 0,
              "ticks": ""
             }
            },
            "type": "parcoords"
           }
          ],
          "pie": [
           {
            "automargin": true,
            "type": "pie"
           }
          ],
          "scatter": [
           {
            "marker": {
             "colorbar": {
              "outlinewidth": 0,
              "ticks": ""
             }
            },
            "type": "scatter"
           }
          ],
          "scatter3d": [
           {
            "line": {
             "colorbar": {
              "outlinewidth": 0,
              "ticks": ""
             }
            },
            "marker": {
             "colorbar": {
              "outlinewidth": 0,
              "ticks": ""
             }
            },
            "type": "scatter3d"
           }
          ],
          "scattercarpet": [
           {
            "marker": {
             "colorbar": {
              "outlinewidth": 0,
              "ticks": ""
             }
            },
            "type": "scattercarpet"
           }
          ],
          "scattergeo": [
           {
            "marker": {
             "colorbar": {
              "outlinewidth": 0,
              "ticks": ""
             }
            },
            "type": "scattergeo"
           }
          ],
          "scattergl": [
           {
            "marker": {
             "colorbar": {
              "outlinewidth": 0,
              "ticks": ""
             }
            },
            "type": "scattergl"
           }
          ],
          "scattermapbox": [
           {
            "marker": {
             "colorbar": {
              "outlinewidth": 0,
              "ticks": ""
             }
            },
            "type": "scattermapbox"
           }
          ],
          "scatterpolar": [
           {
            "marker": {
             "colorbar": {
              "outlinewidth": 0,
              "ticks": ""
             }
            },
            "type": "scatterpolar"
           }
          ],
          "scatterpolargl": [
           {
            "marker": {
             "colorbar": {
              "outlinewidth": 0,
              "ticks": ""
             }
            },
            "type": "scatterpolargl"
           }
          ],
          "scatterternary": [
           {
            "marker": {
             "colorbar": {
              "outlinewidth": 0,
              "ticks": ""
             }
            },
            "type": "scatterternary"
           }
          ],
          "surface": [
           {
            "colorbar": {
             "outlinewidth": 0,
             "ticks": ""
            },
            "colorscale": [
             [
              0.0,
              "#0d0887"
             ],
             [
              0.1111111111111111,
              "#46039f"
             ],
             [
              0.2222222222222222,
              "#7201a8"
             ],
             [
              0.3333333333333333,
              "#9c179e"
             ],
             [
              0.4444444444444444,
              "#bd3786"
             ],
             [
              0.5555555555555556,
              "#d8576b"
             ],
             [
              0.6666666666666666,
              "#ed7953"
             ],
             [
              0.7777777777777778,
              "#fb9f3a"
             ],
             [
              0.8888888888888888,
              "#fdca26"
             ],
             [
              1.0,
              "#f0f921"
             ]
            ],
            "type": "surface"
           }
          ],
          "table": [
           {
            "cells": {
             "fill": {
              "color": "#EBF0F8"
             },
             "line": {
              "color": "white"
             }
            },
            "header": {
             "fill": {
              "color": "#C8D4E3"
             },
             "line": {
              "color": "white"
             }
            },
            "type": "table"
           }
          ]
         },
         "layout": {
          "annotationdefaults": {
           "arrowcolor": "#2a3f5f",
           "arrowhead": 0,
           "arrowwidth": 1
          },
          "coloraxis": {
           "colorbar": {
            "outlinewidth": 0,
            "ticks": ""
           }
          },
          "colorscale": {
           "diverging": [
            [
             0,
             "#8e0152"
            ],
            [
             0.1,
             "#c51b7d"
            ],
            [
             0.2,
             "#de77ae"
            ],
            [
             0.3,
             "#f1b6da"
            ],
            [
             0.4,
             "#fde0ef"
            ],
            [
             0.5,
             "#f7f7f7"
            ],
            [
             0.6,
             "#e6f5d0"
            ],
            [
             0.7,
             "#b8e186"
            ],
            [
             0.8,
             "#7fbc41"
            ],
            [
             0.9,
             "#4d9221"
            ],
            [
             1,
             "#276419"
            ]
           ],
           "sequential": [
            [
             0.0,
             "#0d0887"
            ],
            [
             0.1111111111111111,
             "#46039f"
            ],
            [
             0.2222222222222222,
             "#7201a8"
            ],
            [
             0.3333333333333333,
             "#9c179e"
            ],
            [
             0.4444444444444444,
             "#bd3786"
            ],
            [
             0.5555555555555556,
             "#d8576b"
            ],
            [
             0.6666666666666666,
             "#ed7953"
            ],
            [
             0.7777777777777778,
             "#fb9f3a"
            ],
            [
             0.8888888888888888,
             "#fdca26"
            ],
            [
             1.0,
             "#f0f921"
            ]
           ],
           "sequentialminus": [
            [
             0.0,
             "#0d0887"
            ],
            [
             0.1111111111111111,
             "#46039f"
            ],
            [
             0.2222222222222222,
             "#7201a8"
            ],
            [
             0.3333333333333333,
             "#9c179e"
            ],
            [
             0.4444444444444444,
             "#bd3786"
            ],
            [
             0.5555555555555556,
             "#d8576b"
            ],
            [
             0.6666666666666666,
             "#ed7953"
            ],
            [
             0.7777777777777778,
             "#fb9f3a"
            ],
            [
             0.8888888888888888,
             "#fdca26"
            ],
            [
             1.0,
             "#f0f921"
            ]
           ]
          },
          "colorway": [
           "#636efa",
           "#EF553B",
           "#00cc96",
           "#ab63fa",
           "#FFA15A",
           "#19d3f3",
           "#FF6692",
           "#B6E880",
           "#FF97FF",
           "#FECB52"
          ],
          "font": {
           "color": "#2a3f5f"
          },
          "geo": {
           "bgcolor": "white",
           "lakecolor": "white",
           "landcolor": "#E5ECF6",
           "showlakes": true,
           "showland": true,
           "subunitcolor": "white"
          },
          "hoverlabel": {
           "align": "left"
          },
          "hovermode": "closest",
          "mapbox": {
           "style": "light"
          },
          "paper_bgcolor": "white",
          "plot_bgcolor": "#E5ECF6",
          "polar": {
           "angularaxis": {
            "gridcolor": "white",
            "linecolor": "white",
            "ticks": ""
           },
           "bgcolor": "#E5ECF6",
           "radialaxis": {
            "gridcolor": "white",
            "linecolor": "white",
            "ticks": ""
           }
          },
          "scene": {
           "xaxis": {
            "backgroundcolor": "#E5ECF6",
            "gridcolor": "white",
            "gridwidth": 2,
            "linecolor": "white",
            "showbackground": true,
            "ticks": "",
            "zerolinecolor": "white"
           },
           "yaxis": {
            "backgroundcolor": "#E5ECF6",
            "gridcolor": "white",
            "gridwidth": 2,
            "linecolor": "white",
            "showbackground": true,
            "ticks": "",
            "zerolinecolor": "white"
           },
           "zaxis": {
            "backgroundcolor": "#E5ECF6",
            "gridcolor": "white",
            "gridwidth": 2,
            "linecolor": "white",
            "showbackground": true,
            "ticks": "",
            "zerolinecolor": "white"
           }
          },
          "shapedefaults": {
           "line": {
            "color": "#2a3f5f"
           }
          },
          "ternary": {
           "aaxis": {
            "gridcolor": "white",
            "linecolor": "white",
            "ticks": ""
           },
           "baxis": {
            "gridcolor": "white",
            "linecolor": "white",
            "ticks": ""
           },
           "bgcolor": "#E5ECF6",
           "caxis": {
            "gridcolor": "white",
            "linecolor": "white",
            "ticks": ""
           }
          },
          "title": {
           "x": 0.05
          },
          "xaxis": {
           "automargin": true,
           "gridcolor": "white",
           "linecolor": "white",
           "ticks": "",
           "title": {
            "standoff": 15
           },
           "zerolinecolor": "white",
           "zerolinewidth": 2
          },
          "yaxis": {
           "automargin": true,
           "gridcolor": "white",
           "linecolor": "white",
           "ticks": "",
           "title": {
            "standoff": 15
           },
           "zerolinecolor": "white",
           "zerolinewidth": 2
          }
         }
        },
        "title": {
         "text": "Section size comparison in the range 10 to 2100"
        },
        "xaxis": {
         "title": {
          "text": "circuit size n"
         }
        },
        "yaxis": {
         "title": {
          "text": "circuit length"
         }
        }
       }
      },
      "text/html": "<div>                            <div id=\"a6c4195a-c7b2-4abd-ac32-57026a6187b2\" class=\"plotly-graph-div\" style=\"height:525px; width:100%;\"></div>            <script type=\"text/javascript\">                require([\"plotly\"], function(Plotly) {                    window.PLOTLYENV=window.PLOTLYENV || {};                                    if (document.getElementById(\"a6c4195a-c7b2-4abd-ac32-57026a6187b2\")) {                    Plotly.newPlot(                        \"a6c4195a-c7b2-4abd-ac32-57026a6187b2\",                        [{\"error_y\": {\"array\": [3.5355339059327378, 2.1213203435596424, 14.142135623730951, 5.656854249492381, 4.242640687119285, 24.041630560342615, 9.899494936611665, 30.405591591021544, 36.062445840513924, 21.920310216782973, 3.5355339059327378, 32.526911934581186, 37.476659402887016, 9.192388155425117, 26.16295090390226, 34.64823227814083, 37.476659402887016, 53.033008588991066, 48.08326112068523, 130.10764773832474, 73.53910524340094, 110.30865786510141, 9.192388155425117, 152.73506473629428, 44.54772721475249, 29.698484809834994, 17.67766952966369, 2.8284271247461903, 33.23401871576773, 94.75230867899737, 123.74368670764582, 109.60155108391487, 170.41273426595797, 96.87362902255701, 75.66042558696059, 208.59650045003153, 68.58935777509511, 59.39696961966999, 240.41630560342617, 115.96551211459379, 33.94112549695428, 53.033008588991066, 97.58073580374356, 177.48380207782344, 74.24621202458749, 188.79751057680818, 67.17514421272202, 32.526911934581186, 89.80256121069154, 97.58073580374356, 50.204581464244875, 55.86143571373726, 198.69700551341987, 185.969083452062, 132.22896808188437, 197.28279195104676, 38.890872965260115, 50.204581464244875, 200.11121907579295, 216.37467504308356, 318.1980515339464, 155.56349186104046, 159.80613254815975, 135.7645019878171, 229.80970388562795, 324.5620125646253, 49.49747468305833, 284.9640328181787, 211.4249275747777, 159.0990257669732, 243.9518395093589, 535.986940139403, 202.2325394193526, 163.3416664540925, 102.5304832720494, 4.242640687119285, 38.18376618407357, 129.4005409571382, 36.76955262170047, 373.3523804664971, 111.01576464628796, 200.11121907579295, 512.652416360247, 407.29350596345137, 122.32947314527271, 224.8599564173221, 40.30508652763321, 182.43354954612926, 50.204581464244875, 702.1570337182417, 58.68986283848344, 62.932503525602726, 195.16147160748713, 368.4026329981913, 31.81980515339464, 61.518289963229634, 173.24116139070415, 301.22748878546923, 12.727922061357855, 89.80256121069154], \"type\": \"data\", \"visible\": true}, \"name\": \"m=2\", \"type\": \"scatter\", \"x\": [10, 20, 30, 40, 50, 60, 70, 80, 90, 100, 110, 120, 130, 140, 150, 160, 170, 180, 190, 200, 210, 220, 230, 240, 250, 260, 270, 280, 290, 300, 310, 320, 330, 340, 350, 360, 370, 380, 390, 400, 410, 420, 430, 440, 450, 460, 470, 480, 490, 500, 510, 520, 530, 540, 550, 560, 570, 580, 590, 600, 610, 620, 630, 640, 650, 660, 670, 680, 690, 700, 710, 720, 730, 740, 750, 760, 770, 780, 790, 800, 810, 820, 830, 840, 850, 860, 870, 880, 890, 900, 910, 920, 930, 940, 950, 960, 970, 980, 990, 1000], \"y\": [45.5, 167.5, 365.0, 623.0, 976.0, 1399.0, 1916.0, 2450.5, 3154.5, 3801.5, 4629.5, 5529.0, 6421.5, 7481.5, 8576.5, 9736.5, 11026.5, 12281.5, 13714.0, 15132.0, 16673.0, 18293.0, 20003.5, 21886.0, 23683.5, 25611.0, 27572.5, 29654.0, 31693.5, 34024.0, 36382.5, 38683.5, 41151.5, 43648.5, 46409.5, 49114.5, 51730.5, 54506.0, 57490.0, 60323.0, 63433.0, 66582.5, 69839.0, 72952.5, 76332.5, 79916.5, 83251.5, 86963.0, 90493.5, 94230.0, 98192.5, 101912.5, 105960.5, 109595.5, 113977.5, 117978.5, 122257.5, 126600.5, 130838.5, 135562.0, 140249.0, 144495.0, 149459.0, 153951.0, 159119.5, 163768.5, 168679.0, 173946.5, 179283.5, 184453.5, 189726.5, 194885.0, 200684.0, 205838.5, 211631.5, 217432.0, 223281.0, 228693.5, 234918.0, 241134.0, 246585.5, 253051.5, 259172.5, 265459.0, 272069.5, 277863.0, 284504.5, 291245.0, 297703.5, 304536.5, 311636.5, 318220.5, 324830.0, 331963.5, 339060.5, 346303.5, 353572.5, 360885.0, 368396.0, 375968.5]}, {\"error_y\": {\"array\": [3.5355339059327378, 7.0710678118654755, 4.242640687119285, 18.384776310850235, 7.7781745930520225, 3.5355339059327378, 7.0710678118654755, 14.849242404917497, 29.698484809834994, 0.0, 2.8284271247461903, 12.727922061357855, 0.0, 26.16295090390226, 16.97056274847714, 9.899494936611665, 7.7781745930520225, 97.58073580374356, 4.949747468305833, 27.577164466275352, 99.7020561473032, 22.627416997969522, 15.556349186104045, 5.656854249492381, 34.64823227814083, 43.840620433565945, 35.35533905932738, 69.29646455628166, 70.71067811865476, 62.22539674441618, 57.982756057296896, 30.405591591021544, 38.890872965260115, 22.627416997969522, 8.48528137423857, 4.242640687119285, 43.1335136523794, 75.66042558696059, 9.899494936611665, 15.556349186104045, 30.405591591021544, 86.2670273047588, 92.63098833543772, 188.09040379562165, 99.7020561473032, 115.25840533340725, 118.08683245815344, 144.2497833620557, 64.34671708797582, 15.556349186104045, 37.476659402887016, 67.17514421272202, 84.14570696119915, 42.42640687119285, 78.48885271170677, 152.73506473629428, 122.32947314527271, 168.2914139223983, 140.0071426749364, 131.52186130069785, 32.526911934581186, 45.254833995939045, 31.11269837220809, 60.81118318204309, 96.87362902255701, 280.0142853498728, 329.51176003293114, 103.94469683442249, 168.99852070358486, 39.59797974644666, 57.982756057296896, 282.842712474619, 40.30508652763321, 53.74011537017761, 105.35891039679558, 147.78531726798843, 199.4041122946064, 100.40916292848975, 79.19595949289332, 492.8534264870236, 89.80256121069154, 278.6000717874997, 55.154328932550705, 86.2670273047588, 20.506096654409877, 402.34375849514555, 307.59144981614816, 117.37972567696688, 181.7264427649427, 182.43354954612926, 197.9898987322333, 120.20815280171308, 245.36605307173198, 258.0939751330898, 13.435028842544403, 193.74725804511402, 363.4528855298854, 165.46298679765212, 21.213203435596427, 260.92240225783604], \"type\": \"data\", \"visible\": true}, \"name\": \"m=3\", \"type\": \"scatter\", \"x\": [10, 20, 30, 40, 50, 60, 70, 80, 90, 100, 110, 120, 130, 140, 150, 160, 170, 180, 190, 200, 210, 220, 230, 240, 250, 260, 270, 280, 290, 300, 310, 320, 330, 340, 350, 360, 370, 380, 390, 400, 410, 420, 430, 440, 450, 460, 470, 480, 490, 500, 510, 520, 530, 540, 550, 560, 570, 580, 590, 600, 610, 620, 630, 640, 650, 660, 670, 680, 690, 700, 710, 720, 730, 740, 750, 760, 770, 780, 790, 800, 810, 820, 830, 840, 850, 860, 870, 880, 890, 900, 910, 920, 930, 940, 950, 960, 970, 980, 990, 1000], \"y\": [46.5, 152.0, 329.0, 577.0, 872.5, 1212.5, 1663.0, 2092.5, 2606.0, 3219.0, 3877.0, 4576.0, 5329.0, 6089.5, 6989.0, 7960.0, 8927.5, 9961.0, 11138.5, 12319.5, 13505.5, 14800.0, 16167.0, 17558.0, 19057.5, 20557.0, 22025.0, 23743.0, 25422.0, 27194.0, 28990.0, 30812.5, 32787.5, 34765.0, 36921.0, 38996.0, 41090.5, 43262.5, 45609.0, 47971.0, 50263.5, 52720.0, 55329.5, 57789.0, 60393.5, 63141.5, 65921.5, 68674.0, 71572.5, 74456.0, 77422.5, 80571.5, 83537.5, 86673.0, 89913.5, 93345.0, 96424.5, 99978.0, 103440.0, 106792.0, 110590.0, 114030.0, 117751.0, 121449.0, 125260.5, 129055.0, 133018.0, 136900.5, 141178.5, 145094.0, 149018.0, 153443.0, 157625.5, 162033.0, 166462.5, 171001.5, 175384.0, 179869.0, 184630.0, 189102.5, 194029.5, 198644.0, 203607.0, 208632.0, 213477.5, 218406.5, 223374.5, 228560.0, 233872.5, 239169.0, 244174.0, 249495.0, 255123.5, 260454.5, 266423.5, 271939.0, 277398.0, 283170.0, 288888.0, 294966.5]}, {\"error_y\": {\"array\": [3.5355339059327378, 11.313708498984761, 9.192388155425117, 3.5355339059327378, 23.33452377915607, 17.67766952966369, 15.556349186104045, 14.142135623730951, 12.020815280171307, 9.192388155425117, 17.67766952966369, 8.48528137423857, 4.242640687119285, 4.242640687119285, 15.556349186104045, 12.727922061357855, 2.8284271247461903, 32.526911934581186, 2.1213203435596424, 23.33452377915607, 29.698484809834994, 7.7781745930520225, 52.32590180780452, 70.71067811865476, 19.091883092036785, 9.192388155425117, 19.79898987322333, 63.63961030678928, 30.405591591021544, 9.899494936611665, 59.39696961966999, 19.79898987322333, 8.48528137423857, 0.0, 35.35533905932738, 21.920310216782973, 1.4142135623730951, 2.8284271247461903, 43.840620433565945, 23.33452377915607, 41.012193308819754, 22.627416997969522, 44.54772721475249, 72.12489168102785, 69.29646455628166, 74.24621202458749, 87.68124086713189, 44.54772721475249, 50.204581464244875, 39.59797974644666, 53.033008588991066, 19.79898987322333, 4.242640687119285, 108.18733752154178, 178.89801564019652, 49.49747468305833, 119.50104602052653, 32.526911934581186, 21.920310216782973, 48.08326112068523, 98.2878425849301, 77.07463914933368, 45.254833995939045, 53.74011537017761, 123.74368670764582, 79.19595949289332, 84.14570696119915, 123.03657992645927, 67.17514421272202, 92.63098833543772, 94.75230867899737, 76.36753236814714, 53.74011537017761, 62.22539674441618, 55.154328932550705, 47.37615433949868, 65.76093065034893, 50.204581464244875, 41.012193308819754, 38.18376618407357, 81.31727983645297, 25.45584412271571, 129.4005409571382, 8.48528137423857, 63.63961030678928, 94.04520189781083, 88.38834764831844, 97.58073580374356, 4.242640687119285, 24.748737341529164, 144.2497833620557, 60.81118318204309, 101.1162697096763, 195.16147160748713, 170.41273426595797, 57.27564927611035, 89.09545442950498, 30.405591591021544, 33.94112549695428, 0.7071067811865476], \"type\": \"data\", \"visible\": true}, \"name\": \"m=4\", \"type\": \"scatter\", \"x\": [10, 20, 30, 40, 50, 60, 70, 80, 90, 100, 110, 120, 130, 140, 150, 160, 170, 180, 190, 200, 210, 220, 230, 240, 250, 260, 270, 280, 290, 300, 310, 320, 330, 340, 350, 360, 370, 380, 390, 400, 410, 420, 430, 440, 450, 460, 470, 480, 490, 500, 510, 520, 530, 540, 550, 560, 570, 580, 590, 600, 610, 620, 630, 640, 650, 660, 670, 680, 690, 700, 710, 720, 730, 740, 750, 760, 770, 780, 790, 800, 810, 820, 830, 840, 850, 860, 870, 880, 890, 900, 910, 920, 930, 940, 950, 960, 970, 980, 990, 1000], \"y\": [48.5, 169.0, 344.5, 577.5, 878.5, 1207.5, 1615.0, 2025.0, 2494.5, 3026.5, 3607.5, 4244.0, 4895.0, 5629.0, 6374.0, 7179.0, 8047.0, 8943.0, 9899.5, 10888.5, 11914.0, 13011.5, 14204.0, 15361.0, 16572.5, 17891.5, 19188.0, 20579.0, 22014.5, 23418.0, 24943.0, 26496.0, 28100.0, 29742.0, 31429.0, 33229.5, 34986.0, 36823.0, 38766.0, 40683.5, 42645.0, 44677.0, 46815.5, 48920.0, 51052.0, 53237.5, 55565.0, 57842.5, 60206.5, 62526.0, 65115.5, 67525.0, 70075.0, 72676.5, 75295.5, 78005.0, 80789.5, 83447.0, 86369.5, 89244.0, 92184.5, 95114.5, 98038.0, 101101.0, 104276.5, 107447.0, 110477.5, 113849.0, 117135.5, 120432.5, 123907.0, 127372.0, 130832.0, 134324.0, 137858.0, 141395.5, 145201.5, 148882.5, 152647.0, 156429.0, 160337.5, 164344.0, 168175.5, 172287.0, 176243.0, 180233.5, 184452.5, 188638.0, 192766.0, 197039.5, 201419.0, 205881.0, 210225.5, 214669.0, 219257.5, 223772.5, 228489.0, 233036.5, 237683.0, 242564.5]}, {\"error_y\": {\"array\": [8.48528137423857, 1.4142135623730951, 20.506096654409877, 2.8284271247461903, 14.142135623730951, 4.949747468305833, 11.313708498984761, 4.242640687119285, 4.949747468305833, 2.8284271247461903, 8.48528137423857, 20.506096654409877, 16.263455967290593, 53.74011537017761, 9.192388155425117, 7.7781745930520225, 41.012193308819754, 45.254833995939045, 13.435028842544403, 14.142135623730951, 58.68986283848344, 18.384776310850235, 44.54772721475249, 4.242640687119285, 65.76093065034893, 10.606601717798213, 10.606601717798213, 24.748737341529164, 38.890872965260115, 17.67766952966369, 28.991378028648448, 40.30508652763321, 9.192388155425117, 71.4177848998413, 33.94112549695428, 31.11269837220809, 2.1213203435596424, 29.698484809834994, 54.44722215136416, 13.435028842544403, 32.526911934581186, 32.526911934581186, 38.890872965260115, 31.81980515339464, 48.08326112068523, 74.24621202458749, 1.4142135623730951, 0.0, 21.213203435596427, 55.154328932550705, 2.8284271247461903, 63.63961030678928, 15.556349186104045, 57.27564927611035, 11.313708498984761, 19.091883092036785, 31.11269837220809, 65.76093065034893, 74.95331880577403, 72.8319984622144, 41.71930009000631, 123.03657992645927, 113.13708498984761, 118.08683245815344, 31.81980515339464, 2.8284271247461903, 19.091883092036785, 44.54772721475249, 5.656854249492381, 31.81980515339464, 27.577164466275352, 113.13708498984761, 119.50104602052653, 67.88225099390856, 76.36753236814714, 38.18376618407357, 57.27564927611035, 79.90306627407988, 25.45584412271571, 1.4142135623730951, 96.16652224137046, 68.58935777509511, 41.012193308819754, 56.568542494923804, 150.61374439273462, 36.062445840513924, 68.58935777509511, 79.19595949289332, 17.67766952966369, 23.33452377915607, 36.062445840513924, 118.79393923933998, 82.73149339882606, 24.041630560342615, 2.8284271247461903, 61.518289963229634, 9.192388155425117, 135.0573952066306, 39.59797974644666, 45.96194077712559], \"type\": \"data\", \"visible\": true}, \"name\": \"m=5\", \"type\": \"scatter\", \"x\": [10, 20, 30, 40, 50, 60, 70, 80, 90, 100, 110, 120, 130, 140, 150, 160, 170, 180, 190, 200, 210, 220, 230, 240, 250, 260, 270, 280, 290, 300, 310, 320, 330, 340, 350, 360, 370, 380, 390, 400, 410, 420, 430, 440, 450, 460, 470, 480, 490, 500, 510, 520, 530, 540, 550, 560, 570, 580, 590, 600, 610, 620, 630, 640, 650, 660, 670, 680, 690, 700, 710, 720, 730, 740, 750, 760, 770, 780, 790, 800, 810, 820, 830, 840, 850, 860, 870, 880, 890, 900, 910, 920, 930, 940, 950, 960, 970, 980, 990, 1000], \"y\": [50.0, 176.0, 381.5, 656.0, 960.0, 1343.5, 1743.0, 2240.0, 2711.5, 3258.0, 3859.0, 4509.5, 5154.5, 5892.0, 6654.5, 7419.5, 8253.0, 9119.0, 10053.5, 10975.0, 11995.5, 13027.0, 14042.5, 15187.0, 16332.5, 17504.5, 18676.5, 19976.5, 21264.5, 22592.5, 23967.5, 25378.5, 26875.5, 28293.5, 29880.0, 31437.0, 33016.5, 34676.0, 36453.5, 38142.5, 39804.0, 41651.0, 43445.5, 45392.5, 47299.0, 49238.5, 51260.0, 53218.0, 55391.0, 57447.0, 59597.0, 61821.0, 64046.0, 66344.5, 68600.0, 70943.5, 73322.0, 75730.5, 78170.0, 80658.5, 83271.5, 85832.0, 88366.0, 91062.5, 93754.5, 96449.0, 99212.5, 102020.5, 104814.0, 107834.5, 110699.5, 113697.0, 116661.5, 119676.0, 122878.0, 125895.0, 129131.5, 132280.5, 135495.0, 138852.0, 142096.0, 145434.5, 148891.0, 152266.0, 155767.5, 159228.5, 162924.5, 166385.0, 170009.5, 173617.5, 177333.5, 181118.0, 184815.5, 188743.0, 192508.0, 196473.5, 200412.5, 204388.5, 208252.0, 212400.5]}, {\"error_y\": {\"array\": [9.899494936611665, 9.899494936611665, 2.8284271247461903, 9.899494936611665, 45.254833995939045, 16.97056274847714, 19.091883092036785, 43.840620433565945, 19.091883092036785, 6.363961030678928, 43.1335136523794, 63.63961030678928, 1.4142135623730951, 77.78174593052023, 4.242640687119285, 37.476659402887016, 55.86143571373726, 0.7071067811865476, 16.263455967290593, 28.284271247461902, 84.8528137423857, 1.4142135623730951, 12.020815280171307, 3.5355339059327378, 27.577164466275352, 23.33452377915607, 21.213203435596427, 78.48885271170677, 4.242640687119285, 51.61879502661797, 23.33452377915607, 25.45584412271571, 29.698484809834994, 53.033008588991066, 0.7071067811865476, 4.949747468305833, 57.982756057296896, 67.17514421272202, 93.33809511662427, 72.12489168102785, 38.18376618407357, 82.02438661763951, 74.24621202458749, 45.96194077712559, 43.1335136523794, 44.54772721475249, 2.8284271247461903, 57.982756057296896, 0.0, 93.33809511662427, 41.71930009000631, 21.920310216782973, 3.5355339059327378, 108.18733752154178, 20.506096654409877, 55.86143571373726, 57.982756057296896, 36.062445840513924, 84.14570696119915, 39.59797974644666, 24.748737341529164, 11.313708498984761, 50.204581464244875, 32.526911934581186, 21.213203435596427, 21.213203435596427, 4.949747468305833, 23.33452377915607, 32.526911934581186, 10.606601717798213, 94.75230867899737, 6.363961030678928, 140.0071426749364, 137.17871555019022, 106.77312395916867, 36.062445840513924, 34.64823227814083, 66.46803743153546, 86.97413408594535, 17.67766952966369, 21.213203435596427, 12.727922061357855, 28.284271247461902, 28.991378028648448, 77.07463914933368, 37.476659402887016, 38.18376618407357, 55.86143571373726, 91.92388155425118, 125.15790027001891, 33.94112549695428, 20.506096654409877, 113.84419177103415, 48.08326112068523, 48.79036790187178, 84.14570696119915, 198.69700551341987, 59.39696961966999, 75.66042558696059, 18.384776310850235], \"type\": \"data\", \"visible\": true}, \"name\": \"m=6\", \"type\": \"scatter\", \"x\": [10, 20, 30, 40, 50, 60, 70, 80, 90, 100, 110, 120, 130, 140, 150, 160, 170, 180, 190, 200, 210, 220, 230, 240, 250, 260, 270, 280, 290, 300, 310, 320, 330, 340, 350, 360, 370, 380, 390, 400, 410, 420, 430, 440, 450, 460, 470, 480, 490, 500, 510, 520, 530, 540, 550, 560, 570, 580, 590, 600, 610, 620, 630, 640, 650, 660, 670, 680, 690, 700, 710, 720, 730, 740, 750, 760, 770, 780, 790, 800, 810, 820, 830, 840, 850, 860, 870, 880, 890, 900, 910, 920, 930, 940, 950, 960, 970, 980, 990, 1000], \"y\": [51.0, 196.0, 407.0, 700.0, 1076.0, 1539.0, 2020.5, 2525.0, 3080.5, 3745.5, 4424.5, 5226.0, 5959.0, 6817.0, 7625.0, 8481.5, 9431.5, 10442.5, 11449.5, 12534.0, 13593.0, 14675.0, 15864.5, 17003.5, 18274.5, 19528.5, 20784.0, 22087.5, 23433.0, 24936.5, 26257.5, 27769.0, 29241.0, 30674.5, 32289.5, 33909.5, 35484.0, 37120.5, 38840.0, 40520.0, 42300.0, 44114.0, 45939.5, 47804.5, 49714.5, 51611.5, 53530.0, 55591.0, 57522.0, 59698.0, 61703.5, 63752.5, 65901.5, 68158.5, 70421.5, 72619.5, 74918.0, 77115.5, 79548.5, 81921.0, 84332.5, 86733.0, 89220.5, 91717.0, 94361.0, 96876.0, 99487.5, 102088.5, 104867.0, 107490.5, 110186.0, 112991.5, 115895.0, 118683.0, 121536.5, 124375.5, 127332.5, 130300.0, 133407.5, 136395.5, 139476.0, 142528.0, 145644.0, 148768.5, 152022.5, 155215.5, 158488.0, 161933.5, 165195.0, 168420.5, 171837.0, 175339.5, 178730.5, 182261.0, 185788.5, 189330.5, 193020.5, 196596.0, 200269.5, 203846.0]}],                        {\"template\": {\"data\": {\"bar\": [{\"error_x\": {\"color\": \"#2a3f5f\"}, \"error_y\": {\"color\": \"#2a3f5f\"}, \"marker\": {\"line\": {\"color\": \"#E5ECF6\", \"width\": 0.5}}, \"type\": \"bar\"}], \"barpolar\": [{\"marker\": {\"line\": {\"color\": \"#E5ECF6\", \"width\": 0.5}}, \"type\": \"barpolar\"}], \"carpet\": [{\"aaxis\": {\"endlinecolor\": \"#2a3f5f\", \"gridcolor\": \"white\", \"linecolor\": \"white\", \"minorgridcolor\": \"white\", \"startlinecolor\": \"#2a3f5f\"}, \"baxis\": {\"endlinecolor\": \"#2a3f5f\", \"gridcolor\": \"white\", \"linecolor\": \"white\", \"minorgridcolor\": \"white\", \"startlinecolor\": \"#2a3f5f\"}, \"type\": \"carpet\"}], \"choropleth\": [{\"colorbar\": {\"outlinewidth\": 0, \"ticks\": \"\"}, \"type\": \"choropleth\"}], \"contour\": [{\"colorbar\": {\"outlinewidth\": 0, \"ticks\": \"\"}, \"colorscale\": [[0.0, \"#0d0887\"], [0.1111111111111111, \"#46039f\"], [0.2222222222222222, \"#7201a8\"], [0.3333333333333333, \"#9c179e\"], [0.4444444444444444, \"#bd3786\"], [0.5555555555555556, \"#d8576b\"], [0.6666666666666666, \"#ed7953\"], [0.7777777777777778, \"#fb9f3a\"], [0.8888888888888888, \"#fdca26\"], [1.0, \"#f0f921\"]], \"type\": \"contour\"}], \"contourcarpet\": [{\"colorbar\": {\"outlinewidth\": 0, \"ticks\": \"\"}, \"type\": \"contourcarpet\"}], \"heatmap\": [{\"colorbar\": {\"outlinewidth\": 0, \"ticks\": \"\"}, \"colorscale\": [[0.0, \"#0d0887\"], [0.1111111111111111, \"#46039f\"], [0.2222222222222222, \"#7201a8\"], [0.3333333333333333, \"#9c179e\"], [0.4444444444444444, \"#bd3786\"], [0.5555555555555556, \"#d8576b\"], [0.6666666666666666, \"#ed7953\"], [0.7777777777777778, \"#fb9f3a\"], [0.8888888888888888, \"#fdca26\"], [1.0, \"#f0f921\"]], \"type\": \"heatmap\"}], \"heatmapgl\": [{\"colorbar\": {\"outlinewidth\": 0, \"ticks\": \"\"}, \"colorscale\": [[0.0, \"#0d0887\"], [0.1111111111111111, \"#46039f\"], [0.2222222222222222, \"#7201a8\"], [0.3333333333333333, \"#9c179e\"], [0.4444444444444444, \"#bd3786\"], [0.5555555555555556, \"#d8576b\"], [0.6666666666666666, \"#ed7953\"], [0.7777777777777778, \"#fb9f3a\"], [0.8888888888888888, \"#fdca26\"], [1.0, \"#f0f921\"]], \"type\": \"heatmapgl\"}], \"histogram\": [{\"marker\": {\"colorbar\": {\"outlinewidth\": 0, \"ticks\": \"\"}}, \"type\": \"histogram\"}], \"histogram2d\": [{\"colorbar\": {\"outlinewidth\": 0, \"ticks\": \"\"}, \"colorscale\": [[0.0, \"#0d0887\"], [0.1111111111111111, \"#46039f\"], [0.2222222222222222, \"#7201a8\"], [0.3333333333333333, \"#9c179e\"], [0.4444444444444444, \"#bd3786\"], [0.5555555555555556, \"#d8576b\"], [0.6666666666666666, \"#ed7953\"], [0.7777777777777778, \"#fb9f3a\"], [0.8888888888888888, \"#fdca26\"], [1.0, \"#f0f921\"]], \"type\": \"histogram2d\"}], \"histogram2dcontour\": [{\"colorbar\": {\"outlinewidth\": 0, \"ticks\": \"\"}, \"colorscale\": [[0.0, \"#0d0887\"], [0.1111111111111111, \"#46039f\"], [0.2222222222222222, \"#7201a8\"], [0.3333333333333333, \"#9c179e\"], [0.4444444444444444, \"#bd3786\"], [0.5555555555555556, \"#d8576b\"], [0.6666666666666666, \"#ed7953\"], [0.7777777777777778, \"#fb9f3a\"], [0.8888888888888888, \"#fdca26\"], [1.0, \"#f0f921\"]], \"type\": \"histogram2dcontour\"}], \"mesh3d\": [{\"colorbar\": {\"outlinewidth\": 0, \"ticks\": \"\"}, \"type\": \"mesh3d\"}], \"parcoords\": [{\"line\": {\"colorbar\": {\"outlinewidth\": 0, \"ticks\": \"\"}}, \"type\": \"parcoords\"}], \"pie\": [{\"automargin\": true, \"type\": \"pie\"}], \"scatter\": [{\"marker\": {\"colorbar\": {\"outlinewidth\": 0, \"ticks\": \"\"}}, \"type\": \"scatter\"}], \"scatter3d\": [{\"line\": {\"colorbar\": {\"outlinewidth\": 0, \"ticks\": \"\"}}, \"marker\": {\"colorbar\": {\"outlinewidth\": 0, \"ticks\": \"\"}}, \"type\": \"scatter3d\"}], \"scattercarpet\": [{\"marker\": {\"colorbar\": {\"outlinewidth\": 0, \"ticks\": \"\"}}, \"type\": \"scattercarpet\"}], \"scattergeo\": [{\"marker\": {\"colorbar\": {\"outlinewidth\": 0, \"ticks\": \"\"}}, \"type\": \"scattergeo\"}], \"scattergl\": [{\"marker\": {\"colorbar\": {\"outlinewidth\": 0, \"ticks\": \"\"}}, \"type\": \"scattergl\"}], \"scattermapbox\": [{\"marker\": {\"colorbar\": {\"outlinewidth\": 0, \"ticks\": \"\"}}, \"type\": \"scattermapbox\"}], \"scatterpolar\": [{\"marker\": {\"colorbar\": {\"outlinewidth\": 0, \"ticks\": \"\"}}, \"type\": \"scatterpolar\"}], \"scatterpolargl\": [{\"marker\": {\"colorbar\": {\"outlinewidth\": 0, \"ticks\": \"\"}}, \"type\": \"scatterpolargl\"}], \"scatterternary\": [{\"marker\": {\"colorbar\": {\"outlinewidth\": 0, \"ticks\": \"\"}}, \"type\": \"scatterternary\"}], \"surface\": [{\"colorbar\": {\"outlinewidth\": 0, \"ticks\": \"\"}, \"colorscale\": [[0.0, \"#0d0887\"], [0.1111111111111111, \"#46039f\"], [0.2222222222222222, \"#7201a8\"], [0.3333333333333333, \"#9c179e\"], [0.4444444444444444, \"#bd3786\"], [0.5555555555555556, \"#d8576b\"], [0.6666666666666666, \"#ed7953\"], [0.7777777777777778, \"#fb9f3a\"], [0.8888888888888888, \"#fdca26\"], [1.0, \"#f0f921\"]], \"type\": \"surface\"}], \"table\": [{\"cells\": {\"fill\": {\"color\": \"#EBF0F8\"}, \"line\": {\"color\": \"white\"}}, \"header\": {\"fill\": {\"color\": \"#C8D4E3\"}, \"line\": {\"color\": \"white\"}}, \"type\": \"table\"}]}, \"layout\": {\"annotationdefaults\": {\"arrowcolor\": \"#2a3f5f\", \"arrowhead\": 0, \"arrowwidth\": 1}, \"coloraxis\": {\"colorbar\": {\"outlinewidth\": 0, \"ticks\": \"\"}}, \"colorscale\": {\"diverging\": [[0, \"#8e0152\"], [0.1, \"#c51b7d\"], [0.2, \"#de77ae\"], [0.3, \"#f1b6da\"], [0.4, \"#fde0ef\"], [0.5, \"#f7f7f7\"], [0.6, \"#e6f5d0\"], [0.7, \"#b8e186\"], [0.8, \"#7fbc41\"], [0.9, \"#4d9221\"], [1, \"#276419\"]], \"sequential\": [[0.0, \"#0d0887\"], [0.1111111111111111, \"#46039f\"], [0.2222222222222222, \"#7201a8\"], [0.3333333333333333, \"#9c179e\"], [0.4444444444444444, \"#bd3786\"], [0.5555555555555556, \"#d8576b\"], [0.6666666666666666, \"#ed7953\"], [0.7777777777777778, \"#fb9f3a\"], [0.8888888888888888, \"#fdca26\"], [1.0, \"#f0f921\"]], \"sequentialminus\": [[0.0, \"#0d0887\"], [0.1111111111111111, \"#46039f\"], [0.2222222222222222, \"#7201a8\"], [0.3333333333333333, \"#9c179e\"], [0.4444444444444444, \"#bd3786\"], [0.5555555555555556, \"#d8576b\"], [0.6666666666666666, \"#ed7953\"], [0.7777777777777778, \"#fb9f3a\"], [0.8888888888888888, \"#fdca26\"], [1.0, \"#f0f921\"]]}, \"colorway\": [\"#636efa\", \"#EF553B\", \"#00cc96\", \"#ab63fa\", \"#FFA15A\", \"#19d3f3\", \"#FF6692\", \"#B6E880\", \"#FF97FF\", \"#FECB52\"], \"font\": {\"color\": \"#2a3f5f\"}, \"geo\": {\"bgcolor\": \"white\", \"lakecolor\": \"white\", \"landcolor\": \"#E5ECF6\", \"showlakes\": true, \"showland\": true, \"subunitcolor\": \"white\"}, \"hoverlabel\": {\"align\": \"left\"}, \"hovermode\": \"closest\", \"mapbox\": {\"style\": \"light\"}, \"paper_bgcolor\": \"white\", \"plot_bgcolor\": \"#E5ECF6\", \"polar\": {\"angularaxis\": {\"gridcolor\": \"white\", \"linecolor\": \"white\", \"ticks\": \"\"}, \"bgcolor\": \"#E5ECF6\", \"radialaxis\": {\"gridcolor\": \"white\", \"linecolor\": \"white\", \"ticks\": \"\"}}, \"scene\": {\"xaxis\": {\"backgroundcolor\": \"#E5ECF6\", \"gridcolor\": \"white\", \"gridwidth\": 2, \"linecolor\": \"white\", \"showbackground\": true, \"ticks\": \"\", \"zerolinecolor\": \"white\"}, \"yaxis\": {\"backgroundcolor\": \"#E5ECF6\", \"gridcolor\": \"white\", \"gridwidth\": 2, \"linecolor\": \"white\", \"showbackground\": true, \"ticks\": \"\", \"zerolinecolor\": \"white\"}, \"zaxis\": {\"backgroundcolor\": \"#E5ECF6\", \"gridcolor\": \"white\", \"gridwidth\": 2, \"linecolor\": \"white\", \"showbackground\": true, \"ticks\": \"\", \"zerolinecolor\": \"white\"}}, \"shapedefaults\": {\"line\": {\"color\": \"#2a3f5f\"}}, \"ternary\": {\"aaxis\": {\"gridcolor\": \"white\", \"linecolor\": \"white\", \"ticks\": \"\"}, \"baxis\": {\"gridcolor\": \"white\", \"linecolor\": \"white\", \"ticks\": \"\"}, \"bgcolor\": \"#E5ECF6\", \"caxis\": {\"gridcolor\": \"white\", \"linecolor\": \"white\", \"ticks\": \"\"}}, \"title\": {\"x\": 0.05}, \"xaxis\": {\"automargin\": true, \"gridcolor\": \"white\", \"linecolor\": \"white\", \"ticks\": \"\", \"title\": {\"standoff\": 15}, \"zerolinecolor\": \"white\", \"zerolinewidth\": 2}, \"yaxis\": {\"automargin\": true, \"gridcolor\": \"white\", \"linecolor\": \"white\", \"ticks\": \"\", \"title\": {\"standoff\": 15}, \"zerolinecolor\": \"white\", \"zerolinewidth\": 2}}}, \"title\": {\"text\": \"Section size comparison in the range 10 to 2100\"}, \"xaxis\": {\"title\": {\"text\": \"circuit size n\"}}, \"yaxis\": {\"title\": {\"text\": \"circuit length\"}}},                        {\"responsive\": true}                    ).then(function(){\n                            \nvar gd = document.getElementById('a6c4195a-c7b2-4abd-ac32-57026a6187b2');\nvar x = new MutationObserver(function (mutations, observer) {{\n        var display = window.getComputedStyle(gd).display;\n        if (!display || display === 'none') {{\n            console.log([gd, 'removed!']);\n            Plotly.purge(gd);\n            observer.disconnect();\n        }}\n}});\n\n// Listen for the removal of the full notebook cells\nvar notebookContainer = gd.closest('#notebook-container');\nif (notebookContainer) {{\n    x.observe(notebookContainer, {childList: true});\n}}\n\n// Listen for the clearing of the current output cell\nvar outputEl = gd.closest('.output');\nif (outputEl) {{\n    x.observe(outputEl, {childList: true});\n}}\n\n                        })                };                });            </script>        </div>"
     },
     "metadata": {},
     "output_type": "display_data"
    }
   ],
   "source": [
    "import plotly.graph_objects as go\n",
    "\n",
    "fig = go.Figure(data=go.Scatter(\n",
    "        x=sizes,\n",
    "        y=section_size_long_2_agg_df['num_gates_mean'].tolist(),\n",
    "        name= 'm=2',\n",
    "        error_y=dict(\n",
    "            type='data', # value of error bar given in data coordinates\n",
    "            array=section_size_long_2_agg_df['num_gates_std'].tolist(),\n",
    "            visible=True)\n",
    "    ))\n",
    "\n",
    "fig.add_trace(go.Scatter(\n",
    "        x=sizes,\n",
    "        y=section_size_long_3_agg_df['num_gates_mean'].tolist(),\n",
    "        name= 'm=3',\n",
    "        error_y=dict(\n",
    "            type='data', # value of error bar given in data coordinates\n",
    "            array=section_size_long_3_agg_df['num_gates_std'].tolist(),\n",
    "            visible=True)\n",
    "    ))\n",
    "\n",
    "fig.add_trace(go.Scatter(\n",
    "        x=sizes,\n",
    "        y=section_size_long_4_agg_df['num_gates_mean'].tolist(),\n",
    "        name= 'm=4',\n",
    "        error_y=dict(\n",
    "            type='data', # value of error bar given in data coordinates\n",
    "            array=section_size_long_4_agg_df['num_gates_std'].tolist(),\n",
    "            visible=True)\n",
    "    ))\n",
    "\n",
    "fig.add_trace(go.Scatter(\n",
    "        x=sizes,\n",
    "        y=section_size_long_5_agg_df['num_gates_mean'].tolist(),\n",
    "        name= 'm=5',\n",
    "        error_y=dict(\n",
    "            type='data', # value of error bar given in data coordinates\n",
    "            array=section_size_long_5_agg_df['num_gates_std'].tolist(),\n",
    "            visible=True)\n",
    "    ))\n",
    "\n",
    "fig.add_trace(go.Scatter(\n",
    "        x=sizes,\n",
    "        y=section_size_long_6_agg_df['num_gates_mean'].tolist(),\n",
    "        name= 'm=6',\n",
    "        error_y=dict(\n",
    "            type='data', # value of error bar given in data coordinates\n",
    "            array=section_size_long_6_agg_df['num_gates_std'].tolist(),\n",
    "            visible=True)\n",
    "    ))\n",
    "\n",
    "fig.update_layout(title_text='Section size comparison in the range 10 to 2100')\n",
    "fig.update_yaxes(title_text='circuit length')\n",
    "fig.update_xaxes(title_text='circuit size n')\n",
    "\n",
    "fig.show()"
   ],
   "metadata": {
    "collapsed": false,
    "pycharm": {
     "name": "#%%\n"
    }
   }
  }
 ],
 "metadata": {
  "kernelspec": {
   "display_name": "Python 3",
   "language": "python",
   "name": "python3"
  },
  "language_info": {
   "codemirror_mode": {
    "name": "ipython",
    "version": 2
   },
   "file_extension": ".py",
   "mimetype": "text/x-python",
   "name": "python",
   "nbconvert_exporter": "python",
   "pygments_lexer": "ipython2",
   "version": "2.7.6"
  }
 },
 "nbformat": 4,
 "nbformat_minor": 0
}
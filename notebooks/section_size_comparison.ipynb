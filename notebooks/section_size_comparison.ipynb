{
 "cells": [
  {
   "cell_type": "code",
   "execution_count": 1,
   "outputs": [
    {
     "name": "stdout",
     "output_type": "stream",
     "text": [
      "There are 12 threads available on this machine.\n"
     ]
    }
   ],
   "source": [
    "import pandas as pd\n",
    "from multiprocessing import Pool, cpu_count\n",
    "import numpy as np\n",
    "from src.input.write_files import write_circuit_file\n",
    "from src.input.read_files import find_files, numbers_from_file_name, normal_sec_size_int_from_file_name, number_from_text\n",
    "from datetime import datetime\n",
    "from src.algorithm.circuit_synthesis_vanilla import synthesise_circuit\n",
    "from src.algorithm.execution import load_circuit_and_benchmark\n",
    "import csv\n",
    "\n",
    "print(f'There are {cpu_count()} threads available on this machine.')"
   ],
   "metadata": {
    "collapsed": false,
    "pycharm": {
     "name": "#%%\n"
    }
   }
  },
  {
   "cell_type": "code",
   "execution_count": 2,
   "outputs": [],
   "source": [
    "sample_size = 2\n",
    "lower_size = 1958\n",
    "upper_size = 2048\n",
    "step_size = 15\n",
    "\n",
    "sizes = np.arange(lower_size, upper_size + step_size, step_size)\n",
    "samples = np.arange(1, sample_size + 1, 1)\n",
    "\n",
    "input_gen_processors = 10\n",
    "\n",
    "input_dir = r'resources\\section_size_comparison\\input_matrices'\n",
    "input_file_prefix = 'SingMat'\n",
    "\n",
    "benchmark_processors = 5\n",
    "\n",
    "output_dir = r'resources\\section_size_comparison'\n",
    "output_file_prefix = 'SectionSizeComparison'\n",
    "\n",
    "output_file_fieldnames = ['size', 'run', 'sec_size', 'num_gates', 'process_time', 'initial_rss', 'final_rss']"
   ],
   "metadata": {
    "collapsed": false,
    "pycharm": {
     "name": "#%%\n"
    }
   }
  },
  {
   "cell_type": "code",
   "execution_count": 3,
   "outputs": [
    {
     "name": "stdout",
     "output_type": "stream",
     "text": [
      "(1958, 3833764, '..\\\\resources\\\\section_size_comparison\\\\input_matrices\\\\SingMat_1958_1.txt')\n",
      "(1958, 3833764, '..\\\\resources\\\\section_size_comparison\\\\input_matrices\\\\SingMat_1958_2.txt')\n",
      "(1973, 3892729, '..\\\\resources\\\\section_size_comparison\\\\input_matrices\\\\SingMat_1973_1.txt')\n",
      "(1973, 3892729, '..\\\\resources\\\\section_size_comparison\\\\input_matrices\\\\SingMat_1973_2.txt')\n",
      "(1988, 3952144, '..\\\\resources\\\\section_size_comparison\\\\input_matrices\\\\SingMat_1988_1.txt')\n",
      "(1988, 3952144, '..\\\\resources\\\\section_size_comparison\\\\input_matrices\\\\SingMat_1988_2.txt')\n",
      "(2003, 4012009, '..\\\\resources\\\\section_size_comparison\\\\input_matrices\\\\SingMat_2003_1.txt')\n",
      "(2003, 4012009, '..\\\\resources\\\\section_size_comparison\\\\input_matrices\\\\SingMat_2003_2.txt')\n",
      "(2018, 4072324, '..\\\\resources\\\\section_size_comparison\\\\input_matrices\\\\SingMat_2018_1.txt')\n",
      "(2018, 4072324, '..\\\\resources\\\\section_size_comparison\\\\input_matrices\\\\SingMat_2018_2.txt')\n"
     ]
    },
    {
     "data": {
      "text/plain": "[None, None, None, None, None, None, None, None, None, None]"
     },
     "execution_count": 3,
     "metadata": {},
     "output_type": "execute_result"
    }
   ],
   "source": [
    "input_gen_argument_tuples = ([(size, size * size, rf'..\\{input_dir}\\{input_file_prefix}_{size}_{sample}.txt') for size in sizes for sample in samples])\n",
    "\n",
    "[print(argument_tuple) for argument_tuple in input_gen_argument_tuples[:min(10, len(input_gen_argument_tuples))]]"
   ],
   "metadata": {
    "collapsed": false,
    "pycharm": {
     "name": "#%%\n"
    }
   }
  },
  {
   "cell_type": "code",
   "execution_count": 4,
   "outputs": [
    {
     "name": "stdout",
     "output_type": "stream",
     "text": [
      "Generating 14 circuits in size range from 1958 to 2048 ...\n",
      "Saved circuits to resources\\section_size_comparison\\input_matrices ...\n"
     ]
    }
   ],
   "source": [
    "print(f'Generating {len(input_gen_argument_tuples)} circuits in size range from {lower_size} to {upper_size} ...')\n",
    "\n",
    "if __name__ ==  '__main__':\n",
    "    with Pool(processes = input_gen_processors) as pool:\n",
    "        pool.starmap(write_circuit_file, input_gen_argument_tuples)\n",
    "\n",
    "print(f'Saved circuits to {input_dir} ...')"
   ],
   "metadata": {
    "collapsed": false,
    "pycharm": {
     "name": "#%%\n"
    }
   }
  },
  {
   "cell_type": "code",
   "execution_count": 4,
   "outputs": [
    {
     "name": "stdout",
     "output_type": "stream",
     "text": [
      "SingMat_1958_1.txt\n",
      "SingMat_1958_2.txt\n",
      "SingMat_1973_1.txt\n",
      "SingMat_1973_2.txt\n",
      "SingMat_1988_1.txt\n",
      "SingMat_1988_2.txt\n",
      "SingMat_2003_1.txt\n",
      "SingMat_2003_2.txt\n",
      "SingMat_2018_1.txt\n",
      "SingMat_2018_2.txt\n"
     ]
    },
    {
     "data": {
      "text/plain": "[None, None, None, None, None, None, None, None, None, None]"
     },
     "execution_count": 4,
     "metadata": {},
     "output_type": "execute_result"
    }
   ],
   "source": [
    "file_regex = rf'({input_file_prefix}).*\\.txt'\n",
    "size_regex = r'_\\d+_'\n",
    "sample_regex = r'_\\d+\\.'\n",
    "\n",
    "input_file_names = find_files(rf'..\\{input_dir}', file_regex)\n",
    "input_file_names.sort(key = lambda input_file_name: numbers_from_file_name(input_file_name, size_regex, sample_regex))\n",
    "\n",
    "[print(input_file_name) for input_file_name in input_file_names[:min(10, len(input_file_names))]]"
   ],
   "metadata": {
    "collapsed": false,
    "pycharm": {
     "name": "#%%\n"
    }
   }
  },
  {
   "cell_type": "code",
   "execution_count": 5,
   "outputs": [
    {
     "data": {
      "text/plain": "      size  norm_sec_size  opt_sec_size\n1956  1958              5             5\n1957  1959              5             6\n1958  1960              5             6\n1959  1961              5             6\n1960  1962              5             6",
      "text/html": "<div>\n<style scoped>\n    .dataframe tbody tr th:only-of-type {\n        vertical-align: middle;\n    }\n\n    .dataframe tbody tr th {\n        vertical-align: top;\n    }\n\n    .dataframe thead th {\n        text-align: right;\n    }\n</style>\n<table border=\"1\" class=\"dataframe\">\n  <thead>\n    <tr style=\"text-align: right;\">\n      <th></th>\n      <th>size</th>\n      <th>norm_sec_size</th>\n      <th>opt_sec_size</th>\n    </tr>\n  </thead>\n  <tbody>\n    <tr>\n      <th>1956</th>\n      <td>1958</td>\n      <td>5</td>\n      <td>5</td>\n    </tr>\n    <tr>\n      <th>1957</th>\n      <td>1959</td>\n      <td>5</td>\n      <td>6</td>\n    </tr>\n    <tr>\n      <th>1958</th>\n      <td>1960</td>\n      <td>5</td>\n      <td>6</td>\n    </tr>\n    <tr>\n      <th>1959</th>\n      <td>1961</td>\n      <td>5</td>\n      <td>6</td>\n    </tr>\n    <tr>\n      <th>1960</th>\n      <td>1962</td>\n      <td>5</td>\n      <td>6</td>\n    </tr>\n  </tbody>\n</table>\n</div>"
     },
     "execution_count": 5,
     "metadata": {},
     "output_type": "execute_result"
    }
   ],
   "source": [
    "section_sizes_df = pd.read_csv(rf'..\\resources\\optimization\\SecSizes_2_5000.csv')\n",
    "section_sizes_df = section_sizes_df.loc[(section_sizes_df['size'] >= lower_size) & (section_sizes_df['size'] <= upper_size)]\n",
    "section_sizes_df.head()"
   ],
   "metadata": {
    "collapsed": false,
    "pycharm": {
     "name": "#%%\n"
    }
   }
  },
  {
   "cell_type": "code",
   "execution_count": 6,
   "outputs": [
    {
     "data": {
      "text/plain": "   size  sec_size_type  sec_size\n0  1958  norm_sec_size         5\n1  1958   opt_sec_size         5\n2  1959  norm_sec_size         5\n3  1959   opt_sec_size         6\n4  1960  norm_sec_size         5",
      "text/html": "<div>\n<style scoped>\n    .dataframe tbody tr th:only-of-type {\n        vertical-align: middle;\n    }\n\n    .dataframe tbody tr th {\n        vertical-align: top;\n    }\n\n    .dataframe thead th {\n        text-align: right;\n    }\n</style>\n<table border=\"1\" class=\"dataframe\">\n  <thead>\n    <tr style=\"text-align: right;\">\n      <th></th>\n      <th>size</th>\n      <th>sec_size_type</th>\n      <th>sec_size</th>\n    </tr>\n  </thead>\n  <tbody>\n    <tr>\n      <th>0</th>\n      <td>1958</td>\n      <td>norm_sec_size</td>\n      <td>5</td>\n    </tr>\n    <tr>\n      <th>1</th>\n      <td>1958</td>\n      <td>opt_sec_size</td>\n      <td>5</td>\n    </tr>\n    <tr>\n      <th>2</th>\n      <td>1959</td>\n      <td>norm_sec_size</td>\n      <td>5</td>\n    </tr>\n    <tr>\n      <th>3</th>\n      <td>1959</td>\n      <td>opt_sec_size</td>\n      <td>6</td>\n    </tr>\n    <tr>\n      <th>4</th>\n      <td>1960</td>\n      <td>norm_sec_size</td>\n      <td>5</td>\n    </tr>\n  </tbody>\n</table>\n</div>"
     },
     "execution_count": 6,
     "metadata": {},
     "output_type": "execute_result"
    }
   ],
   "source": [
    "section_sizes_pivot_df = section_sizes_df.set_index('size').stack().reset_index(name='sec_size').rename(columns={'level_1':'sec_size_type'})\n",
    "section_sizes_pivot_df.head()"
   ],
   "metadata": {
    "collapsed": false,
    "pycharm": {
     "name": "#%%\n"
    }
   }
  },
  {
   "cell_type": "code",
   "execution_count": 7,
   "outputs": [
    {
     "data": {
      "text/plain": "   size  sample                path\n0  1958       1  SingMat_1958_1.txt\n1  1958       2  SingMat_1958_2.txt\n2  1973       1  SingMat_1973_1.txt\n3  1973       2  SingMat_1973_2.txt\n4  1988       1  SingMat_1988_1.txt",
      "text/html": "<div>\n<style scoped>\n    .dataframe tbody tr th:only-of-type {\n        vertical-align: middle;\n    }\n\n    .dataframe tbody tr th {\n        vertical-align: top;\n    }\n\n    .dataframe thead th {\n        text-align: right;\n    }\n</style>\n<table border=\"1\" class=\"dataframe\">\n  <thead>\n    <tr style=\"text-align: right;\">\n      <th></th>\n      <th>size</th>\n      <th>sample</th>\n      <th>path</th>\n    </tr>\n  </thead>\n  <tbody>\n    <tr>\n      <th>0</th>\n      <td>1958</td>\n      <td>1</td>\n      <td>SingMat_1958_1.txt</td>\n    </tr>\n    <tr>\n      <th>1</th>\n      <td>1958</td>\n      <td>2</td>\n      <td>SingMat_1958_2.txt</td>\n    </tr>\n    <tr>\n      <th>2</th>\n      <td>1973</td>\n      <td>1</td>\n      <td>SingMat_1973_1.txt</td>\n    </tr>\n    <tr>\n      <th>3</th>\n      <td>1973</td>\n      <td>2</td>\n      <td>SingMat_1973_2.txt</td>\n    </tr>\n    <tr>\n      <th>4</th>\n      <td>1988</td>\n      <td>1</td>\n      <td>SingMat_1988_1.txt</td>\n    </tr>\n  </tbody>\n</table>\n</div>"
     },
     "execution_count": 7,
     "metadata": {},
     "output_type": "execute_result"
    }
   ],
   "source": [
    "file_name_arguments = [(number_from_text(input_file_name, size_regex),\n",
    "                        number_from_text(input_file_name, sample_regex),\n",
    "                        input_file_name)\n",
    "                       for input_file_name in input_file_names]\n",
    "file_name_arguments_df = pd.DataFrame(file_name_arguments, columns =['size', 'sample', 'path'])\n",
    "file_name_arguments_df.head()"
   ],
   "metadata": {
    "collapsed": false,
    "pycharm": {
     "name": "#%%\n"
    }
   }
  },
  {
   "cell_type": "code",
   "execution_count": 8,
   "outputs": [
    {
     "data": {
      "text/plain": "   size  sec_size  sample                path\n0  1958         5       1  SingMat_1958_1.txt\n1  1958         5       2  SingMat_1958_2.txt\n2  1958         5       1  SingMat_1958_1.txt\n3  1958         5       2  SingMat_1958_2.txt\n4  1973         5       1  SingMat_1973_1.txt",
      "text/html": "<div>\n<style scoped>\n    .dataframe tbody tr th:only-of-type {\n        vertical-align: middle;\n    }\n\n    .dataframe tbody tr th {\n        vertical-align: top;\n    }\n\n    .dataframe thead th {\n        text-align: right;\n    }\n</style>\n<table border=\"1\" class=\"dataframe\">\n  <thead>\n    <tr style=\"text-align: right;\">\n      <th></th>\n      <th>size</th>\n      <th>sec_size</th>\n      <th>sample</th>\n      <th>path</th>\n    </tr>\n  </thead>\n  <tbody>\n    <tr>\n      <th>0</th>\n      <td>1958</td>\n      <td>5</td>\n      <td>1</td>\n      <td>SingMat_1958_1.txt</td>\n    </tr>\n    <tr>\n      <th>1</th>\n      <td>1958</td>\n      <td>5</td>\n      <td>2</td>\n      <td>SingMat_1958_2.txt</td>\n    </tr>\n    <tr>\n      <th>2</th>\n      <td>1958</td>\n      <td>5</td>\n      <td>1</td>\n      <td>SingMat_1958_1.txt</td>\n    </tr>\n    <tr>\n      <th>3</th>\n      <td>1958</td>\n      <td>5</td>\n      <td>2</td>\n      <td>SingMat_1958_2.txt</td>\n    </tr>\n    <tr>\n      <th>4</th>\n      <td>1973</td>\n      <td>5</td>\n      <td>1</td>\n      <td>SingMat_1973_1.txt</td>\n    </tr>\n  </tbody>\n</table>\n</div>"
     },
     "execution_count": 8,
     "metadata": {},
     "output_type": "execute_result"
    }
   ],
   "source": [
    "benchmark_tuples_df = pd.merge(section_sizes_pivot_df, file_name_arguments_df, on='size', how='inner')[['size', 'sec_size', 'sample', 'path']]\n",
    "benchmark_tuples_df.head()"
   ],
   "metadata": {
    "collapsed": false,
    "pycharm": {
     "name": "#%%\n"
    }
   }
  },
  {
   "cell_type": "code",
   "execution_count": 9,
   "outputs": [
    {
     "name": "stdout",
     "output_type": "stream",
     "text": [
      "(<function synthesise_circuit at 0x000002740EA1BF70>, 1958, 5, 1, '..\\\\resources\\\\section_size_comparison\\\\input_matrices\\\\SingMat_1958_1.txt')\n",
      "(<function synthesise_circuit at 0x000002740EA1BF70>, 1958, 5, 2, '..\\\\resources\\\\section_size_comparison\\\\input_matrices\\\\SingMat_1958_2.txt')\n",
      "(<function synthesise_circuit at 0x000002740EA1BF70>, 1958, 5, 1, '..\\\\resources\\\\section_size_comparison\\\\input_matrices\\\\SingMat_1958_1.txt')\n",
      "(<function synthesise_circuit at 0x000002740EA1BF70>, 1958, 5, 2, '..\\\\resources\\\\section_size_comparison\\\\input_matrices\\\\SingMat_1958_2.txt')\n",
      "(<function synthesise_circuit at 0x000002740EA1BF70>, 1973, 5, 1, '..\\\\resources\\\\section_size_comparison\\\\input_matrices\\\\SingMat_1973_1.txt')\n",
      "(<function synthesise_circuit at 0x000002740EA1BF70>, 1973, 5, 2, '..\\\\resources\\\\section_size_comparison\\\\input_matrices\\\\SingMat_1973_2.txt')\n",
      "(<function synthesise_circuit at 0x000002740EA1BF70>, 1973, 6, 1, '..\\\\resources\\\\section_size_comparison\\\\input_matrices\\\\SingMat_1973_1.txt')\n",
      "(<function synthesise_circuit at 0x000002740EA1BF70>, 1973, 6, 2, '..\\\\resources\\\\section_size_comparison\\\\input_matrices\\\\SingMat_1973_2.txt')\n",
      "(<function synthesise_circuit at 0x000002740EA1BF70>, 1988, 5, 1, '..\\\\resources\\\\section_size_comparison\\\\input_matrices\\\\SingMat_1988_1.txt')\n",
      "(<function synthesise_circuit at 0x000002740EA1BF70>, 1988, 5, 2, '..\\\\resources\\\\section_size_comparison\\\\input_matrices\\\\SingMat_1988_2.txt')\n"
     ]
    },
    {
     "data": {
      "text/plain": "[None, None, None, None, None, None, None, None, None, None]"
     },
     "execution_count": 9,
     "metadata": {},
     "output_type": "execute_result"
    }
   ],
   "source": [
    "benchmark_tuples_list = [tuple(benchmark_tuple) for benchmark_tuple in benchmark_tuples_df.values.tolist()]\n",
    "\n",
    "benchmark_argument_tuples = [(synthesise_circuit,\n",
    "                              size,\n",
    "                              sec_size,\n",
    "                              sample,\n",
    "                              rf'..\\{input_dir}\\{input_file_name}')\n",
    "                             for (size, sec_size, sample, input_file_name) in benchmark_tuples_list]\n",
    "\n",
    "[print(argument_tuple) for argument_tuple in benchmark_argument_tuples[:min(10, len(benchmark_argument_tuples))]]"
   ],
   "metadata": {
    "collapsed": false,
    "pycharm": {
     "name": "#%%\n"
    }
   }
  },
  {
   "cell_type": "code",
   "execution_count": null,
   "outputs": [
    {
     "name": "stdout",
     "output_type": "stream",
     "text": [
      "Benchmarking runtime performance in size range from 1958 to 2048 in 10 threads ...\n"
     ]
    }
   ],
   "source": [
    "output_file_timestamp = datetime.now().strftime(\"%d%m%y_%H%M\")\n",
    "\n",
    "print(f'Benchmarking runtime performance in size range from {lower_size} to {upper_size} in {benchmark_processors} threads ...')\n",
    "\n",
    "if __name__ ==  '__main__':\n",
    "    with Pool(processes = benchmark_processors) as pool:\n",
    "        result_tuples = pool.starmap(load_circuit_and_benchmark, benchmark_argument_tuples)\n",
    "\n",
    "print(f\"Saving results to '{output_dir} ...\")\n",
    "\n",
    "with open(rf'..\\{output_dir}\\{output_file_prefix}_{output_file_timestamp}.csv', mode='w', newline='') as output_file:\n",
    "    writer = csv.DictWriter(output_file, fieldnames=output_file_fieldnames)\n",
    "    writer.writeheader()\n",
    "\n",
    "    for (size, run, sec_size, num_gates, process_time, initial_rss, final_rss) in result_tuples:\n",
    "\n",
    "        writer.writerow({'size': size, 'run': run, 'sec_size': sec_size, 'num_gates': num_gates, 'process_time': process_time, 'initial_rss': initial_rss, 'final_rss': final_rss})\n",
    "\n",
    "print('Done.')\n"
   ],
   "metadata": {
    "collapsed": false,
    "pycharm": {
     "name": "#%%\n",
     "is_executing": true
    }
   }
  }
 ],
 "metadata": {
  "kernelspec": {
   "display_name": "Python 3",
   "language": "python",
   "name": "python3"
  },
  "language_info": {
   "codemirror_mode": {
    "name": "ipython",
    "version": 2
   },
   "file_extension": ".py",
   "mimetype": "text/x-python",
   "name": "python",
   "nbconvert_exporter": "python",
   "pygments_lexer": "ipython2",
   "version": "2.7.6"
  }
 },
 "nbformat": 4,
 "nbformat_minor": 0
}
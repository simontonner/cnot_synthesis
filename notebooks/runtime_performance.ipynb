{
 "cells": [
  {
   "cell_type": "code",
   "execution_count": 24,
   "metadata": {
    "collapsed": true
   },
   "outputs": [
    {
     "name": "stdout",
     "output_type": "stream",
     "text": [
      "There are 12 threads available on this machine.\n"
     ]
    }
   ],
   "source": [
    "from multiprocessing import Pool, cpu_count\n",
    "import numpy as np\n",
    "from src.input.write_files import write_circuit_file\n",
    "from src.input.read_files import find_files, numbers_from_file_name, normal_sec_size_int_from_file_name, number_from_text\n",
    "from datetime import datetime\n",
    "from src.algorithm.circuit_synthesis_vanilla import synthesise_circuit\n",
    "from src.algorithm.execution import load_circuit_and_benchmark\n",
    "import csv\n",
    "\n",
    "print(f'There are {cpu_count()} threads available on this machine.')"
   ]
  },
  {
   "cell_type": "code",
   "execution_count": 25,
   "outputs": [],
   "source": [
    "sample_size = 5\n",
    "lower_size = 8\n",
    "upper_size = 100\n",
    "step_size = 1\n",
    "\n",
    "sizes = np.arange(lower_size, upper_size + step_size, step_size)\n",
    "samples = np.arange(1, sample_size + 1, 1)\n",
    "\n",
    "input_gen_processors = 10\n",
    "\n",
    "input_dir = r'resources\\runtime_performance\\input_circuits'\n",
    "input_file_prefix = 'Circuit'\n",
    "\n",
    "benchmark_processors = 10\n",
    "\n",
    "output_dir = r'resources\\runtime_performance'\n",
    "output_file_prefix = 'RuntimePerformance'\n",
    "\n",
    "output_file_fieldnames = ['size', 'run', 'sec_size', 'num_gates', 'process_time', 'initial_rss', 'final_rss']"
   ],
   "metadata": {
    "collapsed": false,
    "pycharm": {
     "name": "#%%\n"
    }
   }
  },
  {
   "cell_type": "code",
   "execution_count": 26,
   "outputs": [
    {
     "name": "stdout",
     "output_type": "stream",
     "text": [
      "(8, 64, '..\\\\resources\\\\runtime_performance\\\\input_circuits\\\\Circuit_8_1.txt')\n",
      "(8, 64, '..\\\\resources\\\\runtime_performance\\\\input_circuits\\\\Circuit_8_2.txt')\n",
      "(8, 64, '..\\\\resources\\\\runtime_performance\\\\input_circuits\\\\Circuit_8_3.txt')\n",
      "(8, 64, '..\\\\resources\\\\runtime_performance\\\\input_circuits\\\\Circuit_8_4.txt')\n",
      "(8, 64, '..\\\\resources\\\\runtime_performance\\\\input_circuits\\\\Circuit_8_5.txt')\n",
      "(9, 81, '..\\\\resources\\\\runtime_performance\\\\input_circuits\\\\Circuit_9_1.txt')\n",
      "(9, 81, '..\\\\resources\\\\runtime_performance\\\\input_circuits\\\\Circuit_9_2.txt')\n",
      "(9, 81, '..\\\\resources\\\\runtime_performance\\\\input_circuits\\\\Circuit_9_3.txt')\n",
      "(9, 81, '..\\\\resources\\\\runtime_performance\\\\input_circuits\\\\Circuit_9_4.txt')\n",
      "(9, 81, '..\\\\resources\\\\runtime_performance\\\\input_circuits\\\\Circuit_9_5.txt')\n"
     ]
    },
    {
     "data": {
      "text/plain": "[None, None, None, None, None, None, None, None, None, None]"
     },
     "execution_count": 26,
     "metadata": {},
     "output_type": "execute_result"
    }
   ],
   "source": [
    "input_gen_argument_tuples = ([(size, size * size, rf'..\\{input_dir}\\{input_file_prefix}_{size}_{sample}.txt') for size in sizes for sample in samples])\n",
    "\n",
    "[print(argument_tuple) for argument_tuple in input_gen_argument_tuples[:min(10, len(input_gen_argument_tuples))]]"
   ],
   "metadata": {
    "collapsed": false,
    "pycharm": {
     "name": "#%%\n"
    }
   }
  },
  {
   "cell_type": "code",
   "execution_count": 27,
   "outputs": [
    {
     "name": "stdout",
     "output_type": "stream",
     "text": [
      "Generating 465 circuits in size range from 8 to 100 ...\n",
      "Saved circuits to resources\\runtime_performance\\input_circuits ...\n"
     ]
    }
   ],
   "source": [
    "print(f'Generating {len(input_gen_argument_tuples)} circuits in size range from {lower_size} to {upper_size} ...')\n",
    "\n",
    "if __name__ ==  '__main__':\n",
    "    with Pool(processes = input_gen_processors) as pool:\n",
    "        pool.starmap(write_circuit_file, input_gen_argument_tuples)\n",
    "\n",
    "print(f'Saved circuits to {input_dir} ...')"
   ],
   "metadata": {
    "collapsed": false,
    "pycharm": {
     "name": "#%%\n"
    }
   }
  },
  {
   "cell_type": "code",
   "execution_count": 28,
   "outputs": [
    {
     "name": "stdout",
     "output_type": "stream",
     "text": [
      "Circuit_8_1.txt\n",
      "Circuit_8_2.txt\n",
      "Circuit_8_3.txt\n",
      "Circuit_8_4.txt\n",
      "Circuit_8_5.txt\n",
      "Circuit_9_1.txt\n",
      "Circuit_9_2.txt\n",
      "Circuit_9_3.txt\n",
      "Circuit_9_4.txt\n",
      "Circuit_9_5.txt\n"
     ]
    },
    {
     "data": {
      "text/plain": "[None, None, None, None, None, None, None, None, None, None]"
     },
     "execution_count": 28,
     "metadata": {},
     "output_type": "execute_result"
    }
   ],
   "source": [
    "file_regex = rf'({input_file_prefix}).*\\.txt'\n",
    "size_regex = r'_\\d+_'\n",
    "sample_regex = r'_\\d+\\.'\n",
    "\n",
    "input_file_names = find_files(rf'..\\{input_dir}', file_regex)\n",
    "input_file_names.sort(key = lambda input_file_name: numbers_from_file_name(input_file_name, size_regex, sample_regex))\n",
    "\n",
    "[print(input_file_name) for input_file_name in input_file_names[:min(10, len(input_file_names))]]"
   ],
   "metadata": {
    "collapsed": false,
    "pycharm": {
     "name": "#%%\n"
    }
   }
  },
  {
   "cell_type": "code",
   "execution_count": 29,
   "outputs": [
    {
     "name": "stdout",
     "output_type": "stream",
     "text": [
      "(<function synthesise_circuit at 0x000001F9B9A06A60>, 8, 2, 1, '..\\\\resources\\\\runtime_performance\\\\input_circuits\\\\Circuit_8_1.txt')\n",
      "(<function synthesise_circuit at 0x000001F9B9A06A60>, 8, 2, 2, '..\\\\resources\\\\runtime_performance\\\\input_circuits\\\\Circuit_8_2.txt')\n",
      "(<function synthesise_circuit at 0x000001F9B9A06A60>, 8, 2, 3, '..\\\\resources\\\\runtime_performance\\\\input_circuits\\\\Circuit_8_3.txt')\n",
      "(<function synthesise_circuit at 0x000001F9B9A06A60>, 8, 2, 4, '..\\\\resources\\\\runtime_performance\\\\input_circuits\\\\Circuit_8_4.txt')\n",
      "(<function synthesise_circuit at 0x000001F9B9A06A60>, 8, 2, 5, '..\\\\resources\\\\runtime_performance\\\\input_circuits\\\\Circuit_8_5.txt')\n",
      "(<function synthesise_circuit at 0x000001F9B9A06A60>, 9, 2, 1, '..\\\\resources\\\\runtime_performance\\\\input_circuits\\\\Circuit_9_1.txt')\n",
      "(<function synthesise_circuit at 0x000001F9B9A06A60>, 9, 2, 2, '..\\\\resources\\\\runtime_performance\\\\input_circuits\\\\Circuit_9_2.txt')\n",
      "(<function synthesise_circuit at 0x000001F9B9A06A60>, 9, 2, 3, '..\\\\resources\\\\runtime_performance\\\\input_circuits\\\\Circuit_9_3.txt')\n",
      "(<function synthesise_circuit at 0x000001F9B9A06A60>, 9, 2, 4, '..\\\\resources\\\\runtime_performance\\\\input_circuits\\\\Circuit_9_4.txt')\n",
      "(<function synthesise_circuit at 0x000001F9B9A06A60>, 9, 2, 5, '..\\\\resources\\\\runtime_performance\\\\input_circuits\\\\Circuit_9_5.txt')\n"
     ]
    },
    {
     "data": {
      "text/plain": "[None, None, None, None, None, None, None, None, None, None]"
     },
     "execution_count": 29,
     "metadata": {},
     "output_type": "execute_result"
    }
   ],
   "source": [
    "file_name_arguments = [(number_from_text(input_file_name, size_regex),\n",
    "                        normal_sec_size_int_from_file_name(input_file_name, size_regex),\n",
    "                        number_from_text(input_file_name, sample_regex),\n",
    "                        input_file_name)\n",
    "                       for input_file_name in input_file_names]\n",
    "benchmark_argument_tuples = [(synthesise_circuit,\n",
    "                              size,\n",
    "                              sec_size,\n",
    "                              sample,\n",
    "                              rf'..\\{input_dir}\\{input_file_name}')\n",
    "                             for (size, sec_size, sample, input_file_name ) in file_name_arguments]\n",
    "\n",
    "[print(argument_tuple) for argument_tuple in benchmark_argument_tuples[:min(10, len(benchmark_argument_tuples))]]"
   ],
   "metadata": {
    "collapsed": false,
    "pycharm": {
     "name": "#%%\n"
    }
   }
  },
  {
   "cell_type": "code",
   "execution_count": 30,
   "outputs": [
    {
     "name": "stdout",
     "output_type": "stream",
     "text": [
      "Benchmarking runtime performance in size range from 8 to 100 in 10 threads ...\n",
      "Saving results to 'resources\\runtime_performance ...\n",
      "Done.\n"
     ]
    }
   ],
   "source": [
    "output_file_timestamp = datetime.now().strftime('%d%m%y_%H%M')\n",
    "\n",
    "print(f'Benchmarking runtime performance in size range from {lower_size} to {upper_size} in {benchmark_processors} threads ...')\n",
    "\n",
    "if __name__ ==  '__main__':\n",
    "    with Pool(processes = benchmark_processors) as pool:\n",
    "        result_tuples = pool.starmap(load_circuit_and_benchmark, benchmark_argument_tuples)\n",
    "\n",
    "print(f'Saving results to {output_dir} ...')\n",
    "\n",
    "with open(rf'..\\{output_dir}\\{output_file_prefix}_{output_file_timestamp}.csv', mode='w', newline='') as output_file:\n",
    "    writer = csv.DictWriter(output_file, fieldnames=output_file_fieldnames)\n",
    "    writer.writeheader()\n",
    "\n",
    "    for (size, run, sec_size, num_gates, process_time, initial_rss, final_rss) in result_tuples:\n",
    "\n",
    "        writer.writerow({'size': size, 'run': run, 'sec_size': sec_size, 'num_gates': num_gates, 'process_time': process_time, 'initial_rss': initial_rss, 'final_rss': final_rss})\n",
    "\n",
    "print('Done.')\n"
   ],
   "metadata": {
    "collapsed": false,
    "pycharm": {
     "name": "#%%\n"
    }
   }
  }
 ],
 "metadata": {
  "kernelspec": {
   "display_name": "Python 3",
   "language": "python",
   "name": "python3"
  },
  "language_info": {
   "codemirror_mode": {
    "name": "ipython",
    "version": 2
   },
   "file_extension": ".py",
   "mimetype": "text/x-python",
   "name": "python",
   "nbconvert_exporter": "python",
   "pygments_lexer": "ipython2",
   "version": "2.7.6"
  }
 },
 "nbformat": 4,
 "nbformat_minor": 0
}
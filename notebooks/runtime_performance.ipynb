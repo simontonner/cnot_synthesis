{
 "cells": [
  {
   "cell_type": "code",
   "execution_count": 19,
   "metadata": {
    "collapsed": true
   },
   "outputs": [],
   "source": [
    "from multiprocessing import Pool, cpu_count\n",
    "import numpy as np\n",
    "from src.input.write_files import write_circuit_file"
   ]
  },
  {
   "cell_type": "code",
   "execution_count": 20,
   "outputs": [
    {
     "name": "stdout",
     "output_type": "stream",
     "text": [
      "There are 12 threads available on this machine.\n"
     ]
    }
   ],
   "source": [
    "sample_size = 2\n",
    "lower_size = 5\n",
    "upper_size = 10\n",
    "step_size = 5\n",
    "\n",
    "input_gen_processors = 1\n",
    "\n",
    "input_directory = file_directory = r'resources\\runtime_performance\\input_circuits'\n",
    "input_file_prefix = 'Circuit'\n",
    "\n",
    "print(f'There are {cpu_count()} threads available on this machine.')"
   ],
   "metadata": {
    "collapsed": false,
    "pycharm": {
     "name": "#%%\n"
    }
   }
  },
  {
   "cell_type": "code",
   "execution_count": 36,
   "outputs": [
    {
     "name": "stdout",
     "output_type": "stream",
     "text": [
      "(5, 25, '..\\\\resources\\\\runtime_performance\\\\input_circuits\\\\Circuit_5_1.txt')\n",
      "(5, 25, '..\\\\resources\\\\runtime_performance\\\\input_circuits\\\\Circuit_5_2.txt')\n",
      "(10, 100, '..\\\\resources\\\\runtime_performance\\\\input_circuits\\\\Circuit_10_1.txt')\n",
      "(10, 100, '..\\\\resources\\\\runtime_performance\\\\input_circuits\\\\Circuit_10_2.txt')\n"
     ]
    },
    {
     "data": {
      "text/plain": "[None, None, None, None]"
     },
     "execution_count": 36,
     "metadata": {},
     "output_type": "execute_result"
    }
   ],
   "source": [
    "sizes = np.arange(lower_size, upper_size + step_size, step_size)\n",
    "samples = np.arange(1, sample_size + 1, 1)\n",
    "\n",
    "argument_tuples = ([(size, size * size, rf'..\\{input_directory}\\{input_file_prefix}_{size}_{sample}.txt') for size in sizes for sample in samples])\n",
    "\n",
    "[print(tuple) for tuple in argument_tuples[:min(10, len(argument_tuples))]]"
   ],
   "metadata": {
    "collapsed": false,
    "pycharm": {
     "name": "#%%\n"
    }
   }
  },
  {
   "cell_type": "code",
   "execution_count": 22,
   "outputs": [
    {
     "name": "stdout",
     "output_type": "stream",
     "text": [
      "Generating circuits in size range from 5 to 10 ...\n",
      "Saved circuits to resources\\runtime_performance\\input_circuits ...\n"
     ]
    }
   ],
   "source": [
    "print(f'Generating circuits in size range from {lower_size} to {upper_size} ...')\n",
    "\n",
    "if __name__ ==  '__main__':\n",
    "    with Pool(processes = input_gen_processors) as pool:\n",
    "        pool.starmap(write_circuit_file, argument_tuples)\n",
    "\n",
    "print(f'Saved circuits to {input_directory} ...')"
   ],
   "metadata": {
    "collapsed": false,
    "pycharm": {
     "name": "#%%\n"
    }
   }
  },
  {
   "cell_type": "code",
   "execution_count": 40,
   "outputs": [
    {
     "name": "stdout",
     "output_type": "stream",
     "text": [
      "Circuit_5_1.txt\n",
      "Circuit_5_2.txt\n",
      "Circuit_10_1.txt\n",
      "Circuit_10_2.txt\n"
     ]
    },
    {
     "data": {
      "text/plain": "[None, None, None, None]"
     },
     "execution_count": 40,
     "metadata": {},
     "output_type": "execute_result"
    }
   ],
   "source": [
    "from src.input.read_files import find_files, numbers_from_file_name\n",
    "\n",
    "file_regex = rf'({input_file_prefix}).*\\.txt'\n",
    "size_regex = r'_\\d+_'\n",
    "sample_regex = r'_\\d+\\.'\n",
    "\n",
    "input_file_names = find_files(rf'..\\{input_directory}', file_regex)\n",
    "input_file_names.sort(key = lambda input_file_name: numbers_from_file_name(input_file_name, size_regex, sample_regex))\n",
    "\n",
    "#import src.input_old.input_files as imp\n",
    "\n",
    "#input_file_names = imp.get_txt_files(f\"..\\{input_directory}\", f\"{input_file_prefix}_\")\n",
    "#input_file_names.sort(key = lambda file_name: imp.extract_numbers(file_name, r'_\\d+_', r'_\\d+\\.'))\n",
    "\n",
    "[print(input_file_name) for input_file_name in input_file_names[:min(10, len(input_file_names))]]"
   ],
   "metadata": {
    "collapsed": false,
    "pycharm": {
     "name": "#%%\n"
    }
   }
  }
 ],
 "metadata": {
  "kernelspec": {
   "display_name": "Python 3",
   "language": "python",
   "name": "python3"
  },
  "language_info": {
   "codemirror_mode": {
    "name": "ipython",
    "version": 2
   },
   "file_extension": ".py",
   "mimetype": "text/x-python",
   "name": "python",
   "nbconvert_exporter": "python",
   "pygments_lexer": "ipython2",
   "version": "2.7.6"
  }
 },
 "nbformat": 4,
 "nbformat_minor": 0
}
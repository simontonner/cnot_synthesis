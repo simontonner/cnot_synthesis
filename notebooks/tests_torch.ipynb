{
 "cells": [
  {
   "cell_type": "code",
   "execution_count": null,
   "metadata": {
    "collapsed": true,
    "pycharm": {
     "is_executing": true
    }
   },
   "outputs": [
    {
     "name": "stdout",
     "output_type": "stream",
     "text": [
      "Using device: cuda\n",
      "\n",
      "416\n",
      "Using device: cpu\n",
      "\n",
      "416\n",
      "tensor([[ True, False, False, False, False, False, False, False, False, False],\n",
      "        [False,  True, False, False, False, False, False, False, False, False],\n",
      "        [False, False,  True, False, False, False, False, False, False, False],\n",
      "        [False, False, False,  True, False, False, False, False, False, False],\n",
      "        [False, False, False, False,  True, False, False, False, False, False],\n",
      "        [False, False, False, False, False,  True, False, False, False, False],\n",
      "        [False, False, False, False, False, False,  True, False, False, False],\n",
      "        [False, False, False, False, False, False, False,  True, False, False],\n",
      "        [False, False, False, False, False, False, False, False,  True, False],\n",
      "        [False, False, False, False, False, False, False, False, False,  True]])\n",
      "tensor([4., 3., 2., 1.])\n",
      "tensor([[ 2.3604, -2.6431,  0.5367],\n",
      "        [-0.7409,  0.0693,  0.2405],\n",
      "        [-2.0363, -1.0388,  0.9153]])\n",
      "tensor([[ 2.3604, -0.7409, -2.0363],\n",
      "        [-2.6431,  0.0693, -1.0388],\n",
      "        [ 0.5367,  0.2405,  0.9153]])\n"
     ]
    }
   ],
   "source": [
    "import torch\n",
    "\n",
    "# setting device on GPU if available, else CPU\n",
    "device = torch.device('cuda' if torch.cuda.is_available() else 'cpu')\n",
    "print('Using device:', device)\n",
    "print()\n",
    "\n",
    "import sys\n",
    "print(sys.getsizeof(int))\n",
    "\n",
    "device = torch.device(\"cpu\")\n",
    "\n",
    "print('Using device:', device)\n",
    "print()\n",
    "\n",
    "\n",
    "import sys\n",
    "print(sys.getsizeof(int))\n",
    "\n",
    "\n",
    "mat = torch.eye(10,dtype=bool)\n",
    "print(mat)\n",
    "\n",
    "\n",
    "x = torch.Tensor([1,2,3,4])\n",
    "\n",
    "print(x.flip([0]))\n",
    "\n",
    "\n",
    "ran = torch.randn(3, 3)\n",
    "print(ran)\n",
    "ran = ran.transpose(0,1)\n",
    "\n",
    "print(ran)\n",
    "\n",
    "a_full = torch.randn(102400, 102400, dtype=torch.float)\n",
    "a_full.cuda()\n",
    "b_full = torch.randn(102400, 102400, dtype=torch.float)\n",
    "b_full.cuda()\n",
    "ab_full = a_full @ b_full"
   ]
  },
  {
   "cell_type": "code",
   "execution_count": null,
   "outputs": [],
   "source": [
    "from src.benchmarking.vanilla.benchmark_vanilla import check_and_benchmark\n",
    "import sys\n",
    "\n",
    "# RANDOM BIG MAT\n",
    "\n",
    "import numpy as np\n",
    "\n",
    "\n",
    "size = 100\n",
    "sec_size = 5\n",
    "\n",
    "mat = np.random.randint(2, size=(size, size)).tolist()\n",
    "\n",
    "print(f\"{mat[0][1]} {sys.getsizeof(mat[0][1])}\")\n",
    "print(sys.getsizeof(mat))\n",
    "\n",
    "sum = 0\n",
    "for i in range(0, size):\n",
    "    for j in range(0, size):\n",
    "        sum += sys.getsizeof(mat[i][j])\n",
    "\n",
    "print(sum)\n",
    "\n",
    "opt_mat, circuit, _, process_time, initial_rss, final_rss = check_and_benchmark(mat, sec_size)\n",
    "\n",
    "print(sum)\n",
    "\n",
    "\n",
    "print(f\"process time: {process_time} seconds\")\n",
    "print(f\"initial memory: {initial_rss / 1048576} mb\")\n",
    "print(f\"final memory: {final_rss / 1048576} mb\")\n",
    "\n",
    "import os\n",
    "import psutil\n",
    "from src.algorithm.vanilla.cnot_synthesis import cnot_synthesis\n",
    "\n",
    "pid = os.getpid()\n",
    "ps = psutil.Process(pid)\n",
    "\n",
    "print(ps.num_threads())"
   ],
   "metadata": {
    "collapsed": false,
    "pycharm": {
     "name": "#%%\n"
    }
   }
  }
 ],
 "metadata": {
  "kernelspec": {
   "display_name": "Python 3",
   "language": "python",
   "name": "python3"
  },
  "language_info": {
   "codemirror_mode": {
    "name": "ipython",
    "version": 2
   },
   "file_extension": ".py",
   "mimetype": "text/x-python",
   "name": "python",
   "nbconvert_exporter": "python",
   "pygments_lexer": "ipython2",
   "version": "2.7.6"
  }
 },
 "nbformat": 4,
 "nbformat_minor": 0
}
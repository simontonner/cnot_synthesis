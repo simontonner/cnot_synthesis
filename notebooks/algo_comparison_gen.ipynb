{
 "cells": [
  {
   "cell_type": "markdown",
   "metadata": {
    "collapsed": true,
    "pycharm": {
     "name": "#%% md\n"
    }
   },
   "source": [
    "# COMPARE DIFFERENT IMPLEMENTATIONS"
   ]
  },
  {
   "cell_type": "markdown",
   "source": [
    "### IMPORTS\n",
    "\n",
    "Perform imports and check environment."
   ],
   "metadata": {
    "collapsed": false
   }
  },
  {
   "cell_type": "code",
   "execution_count": 1,
   "outputs": [
    {
     "name": "stdout",
     "output_type": "stream",
     "text": [
      "There are 12 threads available on this machine.\n",
      "CUDA is available on this machine.\n"
     ]
    }
   ],
   "source": [
    "import pandas as pd\n",
    "import torch\n",
    "from multiprocessing import Pool, cpu_count\n",
    "import numpy as np\n",
    "from src.input.write_files import write_int_matrix_file\n",
    "from src.input.read_files import find_files, numbers_from_file_name, normal_sec_size_int_from_file_name, number_from_text\n",
    "from datetime import datetime\n",
    "from src.algorithm.vanilla.circuit_synthesis import synthesise_circuit as synthesise_circuit_vanilla\n",
    "from src.algorithm.torch.circuit_synthesis import synthesise_circuit as synthesise_circuit_torch\n",
    "from src.algorithm.vanilla.execution import load_matrix_and_benchmark\n",
    "from src.algorithm.torch.execution import load_tensor_and_benchmark\n",
    "import csv\n",
    "\n",
    "print(f'There are {cpu_count()} threads available on this machine.')\n",
    "print(f'CUDA is{\" \" if torch.cuda.is_available() else \" not \"}available on this machine.')"
   ],
   "metadata": {
    "collapsed": false,
    "pycharm": {
     "name": "#%%\n"
    }
   }
  },
  {
   "cell_type": "markdown",
   "source": [
    "### DEFINING PARAMETERS\n",
    "\n",
    "Defining the parameters for the input generation and the shared parameters for the benchmarks."
   ],
   "metadata": {
    "collapsed": false,
    "pycharm": {
     "name": "#%% md\n"
    }
   }
  },
  {
   "cell_type": "code",
   "execution_count": 2,
   "outputs": [],
   "source": [
    "sample_size = 2\n",
    "lower_size = 10\n",
    "upper_size = 100\n",
    "step_size = 5\n",
    "\n",
    "sizes = np.arange(lower_size, upper_size + step_size, step_size)\n",
    "samples = np.arange(1, sample_size + 1, 1)\n",
    "\n",
    "input_gen_processors = 10\n",
    "\n",
    "input_dir = r'resources\\comparison\\input_matrices'\n",
    "input_file_prefix = 'SingMat'\n",
    "\n",
    "output_dir = r'resources\\comparison'\n",
    "output_file_prefix = 'AlgorithmComparison'\n",
    "\n",
    "output_file_fieldnames = ['size', 'run', 'sec_size', 'num_gates', 'process_time', 'initial_rss', 'final_rss']"
   ],
   "metadata": {
    "collapsed": false,
    "pycharm": {
     "name": "#%%\n"
    }
   }
  },
  {
   "cell_type": "markdown",
   "source": [
    "### INPUT GENERATION\n",
    "\n",
    "Generate the matrices and save them to files."
   ],
   "metadata": {
    "collapsed": false
   }
  },
  {
   "cell_type": "code",
   "execution_count": 3,
   "outputs": [
    {
     "name": "stdout",
     "output_type": "stream",
     "text": [
      "(10, 100, '..\\\\resources\\\\comparison\\\\input_matrices\\\\SingMat_10_1.txt')\n",
      "(10, 100, '..\\\\resources\\\\comparison\\\\input_matrices\\\\SingMat_10_2.txt')\n",
      "(15, 225, '..\\\\resources\\\\comparison\\\\input_matrices\\\\SingMat_15_1.txt')\n",
      "(15, 225, '..\\\\resources\\\\comparison\\\\input_matrices\\\\SingMat_15_2.txt')\n",
      "(20, 400, '..\\\\resources\\\\comparison\\\\input_matrices\\\\SingMat_20_1.txt')\n",
      "(20, 400, '..\\\\resources\\\\comparison\\\\input_matrices\\\\SingMat_20_2.txt')\n",
      "(25, 625, '..\\\\resources\\\\comparison\\\\input_matrices\\\\SingMat_25_1.txt')\n",
      "(25, 625, '..\\\\resources\\\\comparison\\\\input_matrices\\\\SingMat_25_2.txt')\n",
      "(30, 900, '..\\\\resources\\\\comparison\\\\input_matrices\\\\SingMat_30_1.txt')\n",
      "(30, 900, '..\\\\resources\\\\comparison\\\\input_matrices\\\\SingMat_30_2.txt')\n"
     ]
    },
    {
     "data": {
      "text/plain": "[None, None, None, None, None, None, None, None, None, None]"
     },
     "execution_count": 3,
     "metadata": {},
     "output_type": "execute_result"
    }
   ],
   "source": [
    "input_gen_argument_tuples = ([(size, size * size, rf'..\\{input_dir}\\{input_file_prefix}_{size}_{sample}.txt') for size in sizes for sample in samples])\n",
    "\n",
    "[print(argument_tuple) for argument_tuple in input_gen_argument_tuples[:min(10, len(input_gen_argument_tuples))]]"
   ],
   "metadata": {
    "collapsed": false,
    "pycharm": {
     "name": "#%%\n"
    }
   }
  },
  {
   "cell_type": "code",
   "execution_count": 4,
   "outputs": [
    {
     "name": "stdout",
     "output_type": "stream",
     "text": [
      "Generating 38 matrices in size range from 10 to 100 ...\n",
      "Saved matrices to resources\\comparison\\input_matrices ...\n"
     ]
    }
   ],
   "source": [
    "print(f'Generating {len(input_gen_argument_tuples)} matrices in size range from {lower_size} to {upper_size} ...')\n",
    "\n",
    "if __name__ ==  '__main__':\n",
    "    with Pool(processes = input_gen_processors) as pool:\n",
    "        pool.starmap(write_int_matrix_file, input_gen_argument_tuples)\n",
    "\n",
    "print(f'Saved matrices to {input_dir} ...')"
   ],
   "metadata": {
    "collapsed": false,
    "pycharm": {
     "name": "#%%\n"
    }
   }
  },
  {
   "cell_type": "markdown",
   "source": [
    "### GET FILES TO BENCHMARK\n",
    "\n",
    "Find relevant files and sort them."
   ],
   "metadata": {
    "collapsed": false
   }
  },
  {
   "cell_type": "code",
   "execution_count": 5,
   "outputs": [
    {
     "name": "stdout",
     "output_type": "stream",
     "text": [
      "SingMat_10_1.txt\n",
      "SingMat_10_2.txt\n",
      "SingMat_15_1.txt\n",
      "SingMat_15_2.txt\n",
      "SingMat_20_1.txt\n",
      "SingMat_20_2.txt\n",
      "SingMat_25_1.txt\n",
      "SingMat_25_2.txt\n",
      "SingMat_30_1.txt\n",
      "SingMat_30_2.txt\n"
     ]
    },
    {
     "data": {
      "text/plain": "[None, None, None, None, None, None, None, None, None, None]"
     },
     "execution_count": 5,
     "metadata": {},
     "output_type": "execute_result"
    }
   ],
   "source": [
    "file_regex = rf'({input_file_prefix}).*\\.txt'\n",
    "size_regex = r'_\\d+_'\n",
    "sample_regex = r'_\\d+\\.'\n",
    "\n",
    "input_file_names = find_files(rf'..\\{input_dir}', file_regex)\n",
    "input_file_names.sort(key = lambda input_file_name: numbers_from_file_name(input_file_name, size_regex, sample_regex))\n",
    "\n",
    "[print(input_file_name) for input_file_name in input_file_names[:min(10, len(input_file_names))]]"
   ],
   "metadata": {
    "collapsed": false,
    "pycharm": {
     "name": "#%%\n"
    }
   }
  },
  {
   "cell_type": "markdown",
   "source": [
    "### GET DIFFERENT SECTION SIZES\n",
    "\n",
    "Get the normal section sizes and produce input tuples together with the files."
   ],
   "metadata": {
    "collapsed": false
   }
  },
  {
   "cell_type": "code",
   "execution_count": 6,
   "outputs": [
    {
     "data": {
      "text/plain": "    size  norm_sec_size\n8     10              2\n9     11              2\n10    12              2\n11    13              2\n12    14              2",
      "text/html": "<div>\n<style scoped>\n    .dataframe tbody tr th:only-of-type {\n        vertical-align: middle;\n    }\n\n    .dataframe tbody tr th {\n        vertical-align: top;\n    }\n\n    .dataframe thead th {\n        text-align: right;\n    }\n</style>\n<table border=\"1\" class=\"dataframe\">\n  <thead>\n    <tr style=\"text-align: right;\">\n      <th></th>\n      <th>size</th>\n      <th>norm_sec_size</th>\n    </tr>\n  </thead>\n  <tbody>\n    <tr>\n      <th>8</th>\n      <td>10</td>\n      <td>2</td>\n    </tr>\n    <tr>\n      <th>9</th>\n      <td>11</td>\n      <td>2</td>\n    </tr>\n    <tr>\n      <th>10</th>\n      <td>12</td>\n      <td>2</td>\n    </tr>\n    <tr>\n      <th>11</th>\n      <td>13</td>\n      <td>2</td>\n    </tr>\n    <tr>\n      <th>12</th>\n      <td>14</td>\n      <td>2</td>\n    </tr>\n  </tbody>\n</table>\n</div>"
     },
     "execution_count": 6,
     "metadata": {},
     "output_type": "execute_result"
    }
   ],
   "source": [
    "section_sizes_df = pd.read_csv(rf'..\\resources\\optimization\\SecSizes_2_5000.csv')\n",
    "section_sizes_df = section_sizes_df.loc[(section_sizes_df['size'] >= lower_size) & (section_sizes_df['size'] <= upper_size)][['size', 'norm_sec_size']]\n",
    "section_sizes_df.head()"
   ],
   "metadata": {
    "collapsed": false,
    "pycharm": {
     "name": "#%%\n"
    }
   }
  },
  {
   "cell_type": "code",
   "execution_count": 7,
   "outputs": [
    {
     "data": {
      "text/plain": "   size  sec_size_type  sec_size\n0    10  norm_sec_size         2\n1    11  norm_sec_size         2\n2    12  norm_sec_size         2\n3    13  norm_sec_size         2\n4    14  norm_sec_size         2",
      "text/html": "<div>\n<style scoped>\n    .dataframe tbody tr th:only-of-type {\n        vertical-align: middle;\n    }\n\n    .dataframe tbody tr th {\n        vertical-align: top;\n    }\n\n    .dataframe thead th {\n        text-align: right;\n    }\n</style>\n<table border=\"1\" class=\"dataframe\">\n  <thead>\n    <tr style=\"text-align: right;\">\n      <th></th>\n      <th>size</th>\n      <th>sec_size_type</th>\n      <th>sec_size</th>\n    </tr>\n  </thead>\n  <tbody>\n    <tr>\n      <th>0</th>\n      <td>10</td>\n      <td>norm_sec_size</td>\n      <td>2</td>\n    </tr>\n    <tr>\n      <th>1</th>\n      <td>11</td>\n      <td>norm_sec_size</td>\n      <td>2</td>\n    </tr>\n    <tr>\n      <th>2</th>\n      <td>12</td>\n      <td>norm_sec_size</td>\n      <td>2</td>\n    </tr>\n    <tr>\n      <th>3</th>\n      <td>13</td>\n      <td>norm_sec_size</td>\n      <td>2</td>\n    </tr>\n    <tr>\n      <th>4</th>\n      <td>14</td>\n      <td>norm_sec_size</td>\n      <td>2</td>\n    </tr>\n  </tbody>\n</table>\n</div>"
     },
     "execution_count": 7,
     "metadata": {},
     "output_type": "execute_result"
    }
   ],
   "source": [
    "section_sizes_pivot_df = section_sizes_df.set_index('size').stack().reset_index(name='sec_size').rename(columns={'level_1':'sec_size_type'})\n",
    "section_sizes_pivot_df.head()"
   ],
   "metadata": {
    "collapsed": false,
    "pycharm": {
     "name": "#%%\n"
    }
   }
  },
  {
   "cell_type": "code",
   "execution_count": 8,
   "outputs": [
    {
     "data": {
      "text/plain": "   size  sample              path\n0    10       1  SingMat_10_1.txt\n1    10       2  SingMat_10_2.txt\n2    15       1  SingMat_15_1.txt\n3    15       2  SingMat_15_2.txt\n4    20       1  SingMat_20_1.txt",
      "text/html": "<div>\n<style scoped>\n    .dataframe tbody tr th:only-of-type {\n        vertical-align: middle;\n    }\n\n    .dataframe tbody tr th {\n        vertical-align: top;\n    }\n\n    .dataframe thead th {\n        text-align: right;\n    }\n</style>\n<table border=\"1\" class=\"dataframe\">\n  <thead>\n    <tr style=\"text-align: right;\">\n      <th></th>\n      <th>size</th>\n      <th>sample</th>\n      <th>path</th>\n    </tr>\n  </thead>\n  <tbody>\n    <tr>\n      <th>0</th>\n      <td>10</td>\n      <td>1</td>\n      <td>SingMat_10_1.txt</td>\n    </tr>\n    <tr>\n      <th>1</th>\n      <td>10</td>\n      <td>2</td>\n      <td>SingMat_10_2.txt</td>\n    </tr>\n    <tr>\n      <th>2</th>\n      <td>15</td>\n      <td>1</td>\n      <td>SingMat_15_1.txt</td>\n    </tr>\n    <tr>\n      <th>3</th>\n      <td>15</td>\n      <td>2</td>\n      <td>SingMat_15_2.txt</td>\n    </tr>\n    <tr>\n      <th>4</th>\n      <td>20</td>\n      <td>1</td>\n      <td>SingMat_20_1.txt</td>\n    </tr>\n  </tbody>\n</table>\n</div>"
     },
     "execution_count": 8,
     "metadata": {},
     "output_type": "execute_result"
    }
   ],
   "source": [
    "file_name_arguments = [(number_from_text(input_file_name, size_regex),\n",
    "                        number_from_text(input_file_name, sample_regex),\n",
    "                        input_file_name)\n",
    "                       for input_file_name in input_file_names]\n",
    "file_name_arguments_df = pd.DataFrame(file_name_arguments, columns =['size', 'sample', 'path'])\n",
    "file_name_arguments_df.head()"
   ],
   "metadata": {
    "collapsed": false,
    "pycharm": {
     "name": "#%%\n"
    }
   }
  },
  {
   "cell_type": "code",
   "execution_count": 9,
   "outputs": [
    {
     "data": {
      "text/plain": "   size  sec_size  sample              path\n0    10         2       1  SingMat_10_1.txt\n1    10         2       2  SingMat_10_2.txt\n2    15         2       1  SingMat_15_1.txt\n3    15         2       2  SingMat_15_2.txt\n4    20         2       1  SingMat_20_1.txt",
      "text/html": "<div>\n<style scoped>\n    .dataframe tbody tr th:only-of-type {\n        vertical-align: middle;\n    }\n\n    .dataframe tbody tr th {\n        vertical-align: top;\n    }\n\n    .dataframe thead th {\n        text-align: right;\n    }\n</style>\n<table border=\"1\" class=\"dataframe\">\n  <thead>\n    <tr style=\"text-align: right;\">\n      <th></th>\n      <th>size</th>\n      <th>sec_size</th>\n      <th>sample</th>\n      <th>path</th>\n    </tr>\n  </thead>\n  <tbody>\n    <tr>\n      <th>0</th>\n      <td>10</td>\n      <td>2</td>\n      <td>1</td>\n      <td>SingMat_10_1.txt</td>\n    </tr>\n    <tr>\n      <th>1</th>\n      <td>10</td>\n      <td>2</td>\n      <td>2</td>\n      <td>SingMat_10_2.txt</td>\n    </tr>\n    <tr>\n      <th>2</th>\n      <td>15</td>\n      <td>2</td>\n      <td>1</td>\n      <td>SingMat_15_1.txt</td>\n    </tr>\n    <tr>\n      <th>3</th>\n      <td>15</td>\n      <td>2</td>\n      <td>2</td>\n      <td>SingMat_15_2.txt</td>\n    </tr>\n    <tr>\n      <th>4</th>\n      <td>20</td>\n      <td>2</td>\n      <td>1</td>\n      <td>SingMat_20_1.txt</td>\n    </tr>\n  </tbody>\n</table>\n</div>"
     },
     "execution_count": 9,
     "metadata": {},
     "output_type": "execute_result"
    }
   ],
   "source": [
    "benchmark_tuples_df = pd.merge(section_sizes_pivot_df, file_name_arguments_df, on='size', how='inner')[['size', 'sec_size', 'sample', 'path']]\n",
    "benchmark_tuples_df.head()"
   ],
   "metadata": {
    "collapsed": false,
    "pycharm": {
     "name": "#%%\n"
    }
   }
  },
  {
   "cell_type": "code",
   "execution_count": 10,
   "outputs": [
    {
     "name": "stdout",
     "output_type": "stream",
     "text": [
      "(10, 2, 1, 'SingMat_10_1.txt')\n",
      "(10, 2, 2, 'SingMat_10_2.txt')\n",
      "(15, 2, 1, 'SingMat_15_1.txt')\n",
      "(15, 2, 2, 'SingMat_15_2.txt')\n",
      "(20, 2, 1, 'SingMat_20_1.txt')\n",
      "(20, 2, 2, 'SingMat_20_2.txt')\n",
      "(25, 2, 1, 'SingMat_25_1.txt')\n",
      "(25, 2, 2, 'SingMat_25_2.txt')\n",
      "(30, 2, 1, 'SingMat_30_1.txt')\n",
      "(30, 2, 2, 'SingMat_30_2.txt')\n"
     ]
    },
    {
     "data": {
      "text/plain": "[None, None, None, None, None, None, None, None, None, None]"
     },
     "execution_count": 10,
     "metadata": {},
     "output_type": "execute_result"
    }
   ],
   "source": [
    "benchmark_tuples_list = [tuple(benchmark_tuple) for benchmark_tuple in benchmark_tuples_df.values.tolist()]\n",
    "\n",
    "[print(benchmark_tuple) for benchmark_tuple in benchmark_tuples_list[:min(10, len(benchmark_tuples_list))]]"
   ],
   "metadata": {
    "collapsed": false,
    "pycharm": {
     "name": "#%%\n"
    }
   }
  },
  {
   "cell_type": "markdown",
   "source": [
    "### BENCHMARK VANILLA\n",
    "\n",
    "Prepare the arguments.\n",
    "\n",
    "Read each file into a matrix, perform a benchmark and save the results in a file."
   ],
   "metadata": {
    "collapsed": false
   }
  },
  {
   "cell_type": "code",
   "execution_count": 11,
   "outputs": [],
   "source": [
    "vanilla_output_file_postfix = 'Vanilla'\n",
    "\n",
    "vanilla_benchmark_argument_tuples = [(synthesise_circuit_vanilla,\n",
    "                                    size,\n",
    "                                    sec_size,\n",
    "                                    sample,\n",
    "                                    rf'..\\{input_dir}\\{input_file_name}')\n",
    "                                   for (size, sec_size, sample, input_file_name) in benchmark_tuples_list]"
   ],
   "metadata": {
    "collapsed": false,
    "pycharm": {
     "name": "#%%\n"
    }
   }
  },
  {
   "cell_type": "code",
   "execution_count": 12,
   "outputs": [
    {
     "name": "stdout",
     "output_type": "stream",
     "text": [
      "Loading matrix from ..\\resources\\comparison\\input_matrices\\SingMat_10_1.txt ...\n",
      "Benchmarking sample 1 ... matrix size: 10, section size: 2\n",
      "Loading matrix from ..\\resources\\comparison\\input_matrices\\SingMat_10_2.txt ...\n",
      "Benchmarking sample 2 ... matrix size: 10, section size: 2\n",
      "Loading matrix from ..\\resources\\comparison\\input_matrices\\SingMat_15_1.txt ...\n",
      "Benchmarking sample 1 ... matrix size: 15, section size: 2\n",
      "Loading matrix from ..\\resources\\comparison\\input_matrices\\SingMat_15_2.txt ...\n",
      "Benchmarking sample 2 ... matrix size: 15, section size: 2\n",
      "Loading matrix from ..\\resources\\comparison\\input_matrices\\SingMat_20_1.txt ...\n",
      "Benchmarking sample 1 ... matrix size: 20, section size: 2\n",
      "Loading matrix from ..\\resources\\comparison\\input_matrices\\SingMat_20_2.txt ...\n",
      "Benchmarking sample 2 ... matrix size: 20, section size: 2\n",
      "Loading matrix from ..\\resources\\comparison\\input_matrices\\SingMat_25_1.txt ...\n",
      "Benchmarking sample 1 ... matrix size: 25, section size: 2\n",
      "Loading matrix from ..\\resources\\comparison\\input_matrices\\SingMat_25_2.txt ...\n",
      "Benchmarking sample 2 ... matrix size: 25, section size: 2\n",
      "Loading matrix from ..\\resources\\comparison\\input_matrices\\SingMat_30_1.txt ...\n",
      "Benchmarking sample 1 ... matrix size: 30, section size: 2\n",
      "Loading matrix from ..\\resources\\comparison\\input_matrices\\SingMat_30_2.txt ...\n",
      "Benchmarking sample 2 ... matrix size: 30, section size: 2\n",
      "Loading matrix from ..\\resources\\comparison\\input_matrices\\SingMat_35_1.txt ...\n",
      "Benchmarking sample 1 ... matrix size: 35, section size: 3\n",
      "Loading matrix from ..\\resources\\comparison\\input_matrices\\SingMat_35_2.txt ...\n",
      "Benchmarking sample 2 ... matrix size: 35, section size: 3\n",
      "Loading matrix from ..\\resources\\comparison\\input_matrices\\SingMat_40_1.txt ...\n",
      "Benchmarking sample 1 ... matrix size: 40, section size: 3\n",
      "Loading matrix from ..\\resources\\comparison\\input_matrices\\SingMat_40_2.txt ...\n",
      "Benchmarking sample 2 ... matrix size: 40, section size: 3\n",
      "Loading matrix from ..\\resources\\comparison\\input_matrices\\SingMat_45_1.txt ...\n",
      "Benchmarking sample 1 ... matrix size: 45, section size: 3\n",
      "Loading matrix from ..\\resources\\comparison\\input_matrices\\SingMat_45_2.txt ...\n",
      "Benchmarking sample 2 ... matrix size: 45, section size: 3\n",
      "Loading matrix from ..\\resources\\comparison\\input_matrices\\SingMat_50_1.txt ...\n",
      "Benchmarking sample 1 ... matrix size: 50, section size: 3\n",
      "Loading matrix from ..\\resources\\comparison\\input_matrices\\SingMat_50_2.txt ...\n",
      "Benchmarking sample 2 ... matrix size: 50, section size: 3\n",
      "Loading matrix from ..\\resources\\comparison\\input_matrices\\SingMat_55_1.txt ...\n",
      "Benchmarking sample 1 ... matrix size: 55, section size: 3\n",
      "Loading matrix from ..\\resources\\comparison\\input_matrices\\SingMat_55_2.txt ...\n",
      "Benchmarking sample 2 ... matrix size: 55, section size: 3\n",
      "Loading matrix from ..\\resources\\comparison\\input_matrices\\SingMat_60_1.txt ...\n",
      "Benchmarking sample 1 ... matrix size: 60, section size: 3\n",
      "Loading matrix from ..\\resources\\comparison\\input_matrices\\SingMat_60_2.txt ...\n",
      "Benchmarking sample 2 ... matrix size: 60, section size: 3\n",
      "Loading matrix from ..\\resources\\comparison\\input_matrices\\SingMat_65_1.txt ...\n",
      "Benchmarking sample 1 ... matrix size: 65, section size: 3\n",
      "Loading matrix from ..\\resources\\comparison\\input_matrices\\SingMat_65_2.txt ...\n",
      "Benchmarking sample 2 ... matrix size: 65, section size: 3\n",
      "Loading matrix from ..\\resources\\comparison\\input_matrices\\SingMat_70_1.txt ...\n",
      "Benchmarking sample 1 ... matrix size: 70, section size: 3\n",
      "Loading matrix from ..\\resources\\comparison\\input_matrices\\SingMat_70_2.txt ...\n",
      "Benchmarking sample 2 ... matrix size: 70, section size: 3\n",
      "Loading matrix from ..\\resources\\comparison\\input_matrices\\SingMat_75_1.txt ...\n",
      "Benchmarking sample 1 ... matrix size: 75, section size: 3\n",
      "Loading matrix from ..\\resources\\comparison\\input_matrices\\SingMat_75_2.txt ...\n",
      "Benchmarking sample 2 ... matrix size: 75, section size: 3\n",
      "Loading matrix from ..\\resources\\comparison\\input_matrices\\SingMat_80_1.txt ...\n",
      "Benchmarking sample 1 ... matrix size: 80, section size: 3\n",
      "Loading matrix from ..\\resources\\comparison\\input_matrices\\SingMat_80_2.txt ...\n",
      "Benchmarking sample 2 ... matrix size: 80, section size: 3\n",
      "Loading matrix from ..\\resources\\comparison\\input_matrices\\SingMat_85_1.txt ...\n",
      "Benchmarking sample 1 ... matrix size: 85, section size: 3\n",
      "Loading matrix from ..\\resources\\comparison\\input_matrices\\SingMat_85_2.txt ...\n",
      "Benchmarking sample 2 ... matrix size: 85, section size: 3\n",
      "Loading matrix from ..\\resources\\comparison\\input_matrices\\SingMat_90_1.txt ...\n",
      "Benchmarking sample 1 ... matrix size: 90, section size: 3\n",
      "Loading matrix from ..\\resources\\comparison\\input_matrices\\SingMat_90_2.txt ...\n",
      "Benchmarking sample 2 ... matrix size: 90, section size: 3\n",
      "Loading matrix from ..\\resources\\comparison\\input_matrices\\SingMat_95_1.txt ...\n",
      "Benchmarking sample 1 ... matrix size: 95, section size: 3\n",
      "Loading matrix from ..\\resources\\comparison\\input_matrices\\SingMat_95_2.txt ...\n",
      "Benchmarking sample 2 ... matrix size: 95, section size: 3\n",
      "Loading matrix from ..\\resources\\comparison\\input_matrices\\SingMat_100_1.txt ...\n",
      "Benchmarking sample 1 ... matrix size: 100, section size: 3\n",
      "Loading matrix from ..\\resources\\comparison\\input_matrices\\SingMat_100_2.txt ...\n",
      "Benchmarking sample 2 ... matrix size: 100, section size: 3\n",
      "Saving results to resources\\comparison ...\n",
      "Done.\n"
     ]
    }
   ],
   "source": [
    "output_file_timestamp = datetime.now().strftime('%d%m%y_%H%M')\n",
    "\n",
    "vanilla_result_tuples = []\n",
    "\n",
    "for vanilla_benchmark_argument_tuple in vanilla_benchmark_argument_tuples:\n",
    "\n",
    "    vanilla_result_tuples.append(load_matrix_and_benchmark(*vanilla_benchmark_argument_tuple))\n",
    "\n",
    "print(f'Saving results to {output_dir} ...')\n",
    "\n",
    "with open(rf'..\\{output_dir}\\{output_file_prefix}_{vanilla_output_file_postfix}_{output_file_timestamp}.csv', mode='w', newline='') as output_file:\n",
    "    writer = csv.DictWriter(output_file, fieldnames=output_file_fieldnames)\n",
    "    writer.writeheader()\n",
    "\n",
    "    for (size, run, sec_size, num_gates, process_time, initial_rss, final_rss) in vanilla_result_tuples:\n",
    "\n",
    "        writer.writerow({'size': size, 'run': run, 'sec_size': sec_size, 'num_gates': num_gates, 'process_time': process_time, 'initial_rss': initial_rss, 'final_rss': final_rss})\n",
    "\n",
    "print('Done.')"
   ],
   "metadata": {
    "collapsed": false,
    "pycharm": {
     "name": "#%%\n"
    }
   }
  },
  {
   "cell_type": "markdown",
   "source": [
    "### BENCHMARK TORCH ON CUDA\n",
    "\n",
    "Configure the environment for a PyTorch benchmark on CUDA and prepare the arguments.\n",
    "\n",
    "Read each file into a tensor, perform a benchmark and save the results in a file."
   ],
   "metadata": {
    "collapsed": false,
    "pycharm": {
     "name": "#%% md\n"
    }
   }
  },
  {
   "cell_type": "code",
   "execution_count": 13,
   "outputs": [
    {
     "name": "stdout",
     "output_type": "stream",
     "text": [
      "The PyTorch implementation will be executed on the device cuda.\n"
     ]
    }
   ],
   "source": [
    "torch_device = torch.device('cuda' if torch.cuda.is_available() else 'cpu')\n",
    "print(f'The PyTorch implementation will be executed on the device {torch_device}.')\n",
    "\n",
    "torch_output_file_postfix = 'TorchCUDA'\n",
    "\n",
    "torch_benchmark_argument_tuples = [(synthesise_circuit_torch,\n",
    "                                    size,\n",
    "                                    sec_size,\n",
    "                                    sample,\n",
    "                                    rf'..\\{input_dir}\\{input_file_name}',\n",
    "                                    torch_device)\n",
    "                                   for (size, sec_size, sample, input_file_name) in benchmark_tuples_list]"
   ],
   "metadata": {
    "collapsed": false,
    "pycharm": {
     "name": "#%%\n"
    }
   }
  },
  {
   "cell_type": "code",
   "execution_count": 14,
   "outputs": [
    {
     "name": "stdout",
     "output_type": "stream",
     "text": [
      "Loading matrix from ..\\resources\\comparison\\input_matrices\\SingMat_10_1.txt and allocating tensor ...\n",
      "Tensor allocated on cuda ...\n",
      "Benchmarking sample 1 ... matrix size: 10, section size: 2\n",
      "Loading matrix from ..\\resources\\comparison\\input_matrices\\SingMat_10_2.txt and allocating tensor ...\n",
      "Tensor allocated on cuda ...\n",
      "Benchmarking sample 2 ... matrix size: 10, section size: 2\n",
      "Loading matrix from ..\\resources\\comparison\\input_matrices\\SingMat_15_1.txt and allocating tensor ...\n",
      "Tensor allocated on cuda ...\n",
      "Benchmarking sample 1 ... matrix size: 15, section size: 2\n",
      "Loading matrix from ..\\resources\\comparison\\input_matrices\\SingMat_15_2.txt and allocating tensor ...\n",
      "Tensor allocated on cuda ...\n",
      "Benchmarking sample 2 ... matrix size: 15, section size: 2\n",
      "Loading matrix from ..\\resources\\comparison\\input_matrices\\SingMat_20_1.txt and allocating tensor ...\n",
      "Tensor allocated on cuda ...\n",
      "Benchmarking sample 1 ... matrix size: 20, section size: 2\n",
      "Loading matrix from ..\\resources\\comparison\\input_matrices\\SingMat_20_2.txt and allocating tensor ...\n",
      "Tensor allocated on cuda ...\n",
      "Benchmarking sample 2 ... matrix size: 20, section size: 2\n",
      "Loading matrix from ..\\resources\\comparison\\input_matrices\\SingMat_25_1.txt and allocating tensor ...\n",
      "Tensor allocated on cuda ...\n",
      "Benchmarking sample 1 ... matrix size: 25, section size: 2\n",
      "Loading matrix from ..\\resources\\comparison\\input_matrices\\SingMat_25_2.txt and allocating tensor ...\n",
      "Tensor allocated on cuda ...\n",
      "Benchmarking sample 2 ... matrix size: 25, section size: 2\n",
      "Loading matrix from ..\\resources\\comparison\\input_matrices\\SingMat_30_1.txt and allocating tensor ...\n",
      "Tensor allocated on cuda ...\n",
      "Benchmarking sample 1 ... matrix size: 30, section size: 2\n",
      "Loading matrix from ..\\resources\\comparison\\input_matrices\\SingMat_30_2.txt and allocating tensor ...\n",
      "Tensor allocated on cuda ...\n",
      "Benchmarking sample 2 ... matrix size: 30, section size: 2\n",
      "Loading matrix from ..\\resources\\comparison\\input_matrices\\SingMat_35_1.txt and allocating tensor ...\n",
      "Tensor allocated on cuda ...\n",
      "Benchmarking sample 1 ... matrix size: 35, section size: 3\n",
      "Loading matrix from ..\\resources\\comparison\\input_matrices\\SingMat_35_2.txt and allocating tensor ...\n",
      "Tensor allocated on cuda ...\n",
      "Benchmarking sample 2 ... matrix size: 35, section size: 3\n",
      "Loading matrix from ..\\resources\\comparison\\input_matrices\\SingMat_40_1.txt and allocating tensor ...\n",
      "Tensor allocated on cuda ...\n",
      "Benchmarking sample 1 ... matrix size: 40, section size: 3\n",
      "Loading matrix from ..\\resources\\comparison\\input_matrices\\SingMat_40_2.txt and allocating tensor ...\n",
      "Tensor allocated on cuda ...\n",
      "Benchmarking sample 2 ... matrix size: 40, section size: 3\n",
      "Loading matrix from ..\\resources\\comparison\\input_matrices\\SingMat_45_1.txt and allocating tensor ...\n",
      "Tensor allocated on cuda ...\n",
      "Benchmarking sample 1 ... matrix size: 45, section size: 3\n",
      "Loading matrix from ..\\resources\\comparison\\input_matrices\\SingMat_45_2.txt and allocating tensor ...\n",
      "Tensor allocated on cuda ...\n",
      "Benchmarking sample 2 ... matrix size: 45, section size: 3\n",
      "Loading matrix from ..\\resources\\comparison\\input_matrices\\SingMat_50_1.txt and allocating tensor ...\n",
      "Tensor allocated on cuda ...\n",
      "Benchmarking sample 1 ... matrix size: 50, section size: 3\n",
      "Loading matrix from ..\\resources\\comparison\\input_matrices\\SingMat_50_2.txt and allocating tensor ...\n",
      "Tensor allocated on cuda ...\n",
      "Benchmarking sample 2 ... matrix size: 50, section size: 3\n",
      "Loading matrix from ..\\resources\\comparison\\input_matrices\\SingMat_55_1.txt and allocating tensor ...\n",
      "Tensor allocated on cuda ...\n",
      "Benchmarking sample 1 ... matrix size: 55, section size: 3\n",
      "Loading matrix from ..\\resources\\comparison\\input_matrices\\SingMat_55_2.txt and allocating tensor ...\n",
      "Tensor allocated on cuda ...\n",
      "Benchmarking sample 2 ... matrix size: 55, section size: 3\n",
      "Loading matrix from ..\\resources\\comparison\\input_matrices\\SingMat_60_1.txt and allocating tensor ...\n",
      "Tensor allocated on cuda ...\n",
      "Benchmarking sample 1 ... matrix size: 60, section size: 3\n",
      "Loading matrix from ..\\resources\\comparison\\input_matrices\\SingMat_60_2.txt and allocating tensor ...\n",
      "Tensor allocated on cuda ...\n",
      "Benchmarking sample 2 ... matrix size: 60, section size: 3\n",
      "Loading matrix from ..\\resources\\comparison\\input_matrices\\SingMat_65_1.txt and allocating tensor ...\n",
      "Tensor allocated on cuda ...\n",
      "Benchmarking sample 1 ... matrix size: 65, section size: 3\n",
      "Loading matrix from ..\\resources\\comparison\\input_matrices\\SingMat_65_2.txt and allocating tensor ...\n",
      "Tensor allocated on cuda ...\n",
      "Benchmarking sample 2 ... matrix size: 65, section size: 3\n",
      "Loading matrix from ..\\resources\\comparison\\input_matrices\\SingMat_70_1.txt and allocating tensor ...\n",
      "Tensor allocated on cuda ...\n",
      "Benchmarking sample 1 ... matrix size: 70, section size: 3\n",
      "Loading matrix from ..\\resources\\comparison\\input_matrices\\SingMat_70_2.txt and allocating tensor ...\n",
      "Tensor allocated on cuda ...\n",
      "Benchmarking sample 2 ... matrix size: 70, section size: 3\n",
      "Loading matrix from ..\\resources\\comparison\\input_matrices\\SingMat_75_1.txt and allocating tensor ...\n",
      "Tensor allocated on cuda ...\n",
      "Benchmarking sample 1 ... matrix size: 75, section size: 3\n",
      "Loading matrix from ..\\resources\\comparison\\input_matrices\\SingMat_75_2.txt and allocating tensor ...\n",
      "Tensor allocated on cuda ...\n",
      "Benchmarking sample 2 ... matrix size: 75, section size: 3\n",
      "Loading matrix from ..\\resources\\comparison\\input_matrices\\SingMat_80_1.txt and allocating tensor ...\n",
      "Tensor allocated on cuda ...\n",
      "Benchmarking sample 1 ... matrix size: 80, section size: 3\n",
      "Loading matrix from ..\\resources\\comparison\\input_matrices\\SingMat_80_2.txt and allocating tensor ...\n",
      "Tensor allocated on cuda ...\n",
      "Benchmarking sample 2 ... matrix size: 80, section size: 3\n",
      "Loading matrix from ..\\resources\\comparison\\input_matrices\\SingMat_85_1.txt and allocating tensor ...\n",
      "Tensor allocated on cuda ...\n",
      "Benchmarking sample 1 ... matrix size: 85, section size: 3\n",
      "Loading matrix from ..\\resources\\comparison\\input_matrices\\SingMat_85_2.txt and allocating tensor ...\n",
      "Tensor allocated on cuda ...\n",
      "Benchmarking sample 2 ... matrix size: 85, section size: 3\n",
      "Loading matrix from ..\\resources\\comparison\\input_matrices\\SingMat_90_1.txt and allocating tensor ...\n",
      "Tensor allocated on cuda ...\n",
      "Benchmarking sample 1 ... matrix size: 90, section size: 3\n",
      "Loading matrix from ..\\resources\\comparison\\input_matrices\\SingMat_90_2.txt and allocating tensor ...\n",
      "Tensor allocated on cuda ...\n",
      "Benchmarking sample 2 ... matrix size: 90, section size: 3\n",
      "Loading matrix from ..\\resources\\comparison\\input_matrices\\SingMat_95_1.txt and allocating tensor ...\n",
      "Tensor allocated on cuda ...\n",
      "Benchmarking sample 1 ... matrix size: 95, section size: 3\n",
      "Loading matrix from ..\\resources\\comparison\\input_matrices\\SingMat_95_2.txt and allocating tensor ...\n",
      "Tensor allocated on cuda ...\n",
      "Benchmarking sample 2 ... matrix size: 95, section size: 3\n",
      "Loading matrix from ..\\resources\\comparison\\input_matrices\\SingMat_100_1.txt and allocating tensor ...\n",
      "Tensor allocated on cuda ...\n",
      "Benchmarking sample 1 ... matrix size: 100, section size: 3\n",
      "Loading matrix from ..\\resources\\comparison\\input_matrices\\SingMat_100_2.txt and allocating tensor ...\n",
      "Tensor allocated on cuda ...\n",
      "Benchmarking sample 2 ... matrix size: 100, section size: 3\n",
      "Saving results to resources\\comparison ...\n",
      "Done.\n"
     ]
    }
   ],
   "source": [
    "output_file_timestamp = datetime.now().strftime('%d%m%y_%H%M')\n",
    "\n",
    "torch_result_tuples = []\n",
    "\n",
    "for torch_benchmark_argument_tuple in torch_benchmark_argument_tuples:\n",
    "\n",
    "    torch_result_tuples.append(load_tensor_and_benchmark(*torch_benchmark_argument_tuple))\n",
    "\n",
    "print(f'Saving results to {output_dir} ...')\n",
    "\n",
    "with open(rf'..\\{output_dir}\\{output_file_prefix}_{torch_output_file_postfix}_{output_file_timestamp}.csv', mode='w', newline='') as output_file:\n",
    "    writer = csv.DictWriter(output_file, fieldnames=output_file_fieldnames)\n",
    "    writer.writeheader()\n",
    "\n",
    "    for (size, run, sec_size, num_gates, process_time, initial_rss, final_rss) in torch_result_tuples:\n",
    "\n",
    "        writer.writerow({'size': size, 'run': run, 'sec_size': sec_size, 'num_gates': num_gates, 'process_time': process_time, 'initial_rss': initial_rss, 'final_rss': final_rss})\n",
    "\n",
    "print('Done.')\n"
   ],
   "metadata": {
    "collapsed": false,
    "pycharm": {
     "name": "#%%\n"
    }
   }
  }
 ],
 "metadata": {
  "kernelspec": {
   "display_name": "Python 3",
   "language": "python",
   "name": "python3"
  },
  "language_info": {
   "codemirror_mode": {
    "name": "ipython",
    "version": 2
   },
   "file_extension": ".py",
   "mimetype": "text/x-python",
   "name": "python",
   "nbconvert_exporter": "python",
   "pygments_lexer": "ipython2",
   "version": "2.7.6"
  }
 },
 "nbformat": 4,
 "nbformat_minor": 0
}
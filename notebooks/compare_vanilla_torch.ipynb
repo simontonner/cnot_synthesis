{
 "cells": [
  {
   "cell_type": "markdown",
   "source": [
    "# COMPARE VANILLA AND TORCH IMPLEMENTATION"
   ],
   "metadata": {
    "collapsed": false,
    "pycharm": {
     "name": "#%% md\n"
    }
   }
  },
  {
   "cell_type": "markdown",
   "source": [
    "### PARAMETERS\n",
    "\n",
    "Load modules and define benchmark parameters."
   ],
   "metadata": {
    "collapsed": false,
    "pycharm": {
     "name": "#%% md\n"
    }
   }
  },
  {
   "cell_type": "code",
   "execution_count": 94,
   "outputs": [
    {
     "name": "stdout",
     "output_type": "stream",
     "text": [
      "There are 12 threads available on this machine.\n",
      "PyTorch will be executed on device cuda.\n"
     ]
    }
   ],
   "source": [
    "from datetime import datetime\n",
    "from multiprocessing import Pool, cpu_count\n",
    "import torch\n",
    "from src.input.input_files import generate_input_files, file_to_matrix\n",
    "import csv\n",
    "from src.benchmarking.vanilla.benchmark_vanilla import check_and_benchmark as check_and_benchmark_vanilla\n",
    "from src.benchmarking.torch.benchmark_torch import check_and_benchmark as check_and_benchmark_torch\n",
    "\n",
    "mat_sizes = range(100, 115, 5)\n",
    "input_gen_processors = 10\n",
    "\n",
    "input_directory = r\"resources\\vanilla_torch_comparison\\input_matrices\"\n",
    "input_file_prefix = \"SingMat\"\n",
    "\n",
    "section_size = 5\n",
    "benchmark_file_fieldnames = ['size', 'run', 'type', 'process_time', 'initial_rss', 'final_rss']\n",
    "device = torch.device('cuda' if torch.cuda.is_available() else 'cpu')\n",
    "\n",
    "output_directory = r\"resources\\vanilla_torch_comparison\"\n",
    "benchmark_file_prefix = \"BenchmarkVanillaTorch\"\n",
    "\n",
    "print(f\"There are {cpu_count()} threads available on this machine.\")\n",
    "print(f\"PyTorch will be executed on device {device}.\")"
   ],
   "metadata": {
    "collapsed": false,
    "pycharm": {
     "name": "#%%\n"
    }
   }
  },
  {
   "cell_type": "markdown",
   "source": [
    "### GENERATE INPUT FILES\n",
    "\n",
    "Generate some matrices and save them to files."
   ],
   "metadata": {
    "collapsed": false,
    "pycharm": {
     "name": "#%% md\n"
    }
   }
  },
  {
   "cell_type": "code",
   "execution_count": 95,
   "outputs": [
    {
     "name": "stdout",
     "output_type": "stream",
     "text": [
      "Generating 3 singular matrices ...\n",
      "Saved 3 matrices in 'resources\\vanilla_torch_comparison\\input_matrices'.\n"
     ]
    }
   ],
   "source": [
    "num_mat = len(mat_sizes)\n",
    "\n",
    "argument_pair_list = [(mat_size, f\"..\\{input_directory}\\{input_file_prefix}_{mat_size}_{1}.txt\") for mat_size in mat_sizes]\n",
    "\n",
    "print(f\"Generating {num_mat} singular matrices ...\")\n",
    "\n",
    "if __name__ ==  '__main__':\n",
    "    with Pool(processes = input_gen_processors) as pool:\n",
    "        pool.starmap(generate_input_files, argument_pair_list)\n",
    "\n",
    "print(f\"Saved {num_mat} matrices in '{input_directory}'.\")"
   ],
   "metadata": {
    "collapsed": false,
    "pycharm": {
     "name": "#%%\n"
    }
   }
  },
  {
   "cell_type": "markdown",
   "source": [
    "### GET FILES TO BENCHMARK\n",
    "\n",
    "Find relevant files and sort them."
   ],
   "metadata": {
    "collapsed": false,
    "pycharm": {
     "name": "#%% md\n"
    }
   }
  },
  {
   "cell_type": "code",
   "execution_count": 97,
   "outputs": [
    {
     "name": "stdout",
     "output_type": "stream",
     "text": [
      "['SingMat_100_1.txt', 'SingMat_105_1.txt', 'SingMat_110_1.txt']\n",
      "Number of files to benchmark: 3\n"
     ]
    }
   ],
   "source": [
    "import src.input.input_files as imp\n",
    "\n",
    "input_file_names = imp.get_txt_files(f\"..\\{input_directory}\", f\"{input_file_prefix}_\")\n",
    "input_file_names.sort(key = lambda file_name: imp.extract_numbers(file_name, r'_\\d+_', r'_\\d+\\.'))\n",
    "\n",
    "print(input_file_names)\n",
    "print(f\"Number of files to benchmark: {len(input_file_names)}\")"
   ],
   "metadata": {
    "collapsed": false,
    "pycharm": {
     "name": "#%%\n"
    }
   }
  },
  {
   "cell_type": "markdown",
   "source": [
    "### BENCHMARK\n",
    "\n",
    "Read each file into a matrix or a tensor respectively and save the results to a file."
   ],
   "metadata": {
    "collapsed": false,
    "pycharm": {
     "name": "#%% md\n"
    }
   }
  },
  {
   "cell_type": "code",
   "execution_count": 98,
   "outputs": [
    {
     "name": "stdout",
     "output_type": "stream",
     "text": [
      "Vanilla benchmark run 1 ... matrix size: 100, section size: 5\n",
      "Torch benchmark run 1 ... matrix size: 100, section size: 5\n",
      "Vanilla benchmark run 1 ... matrix size: 105, section size: 5\n",
      "Torch benchmark run 1 ... matrix size: 105, section size: 5\n",
      "Vanilla benchmark run 1 ... matrix size: 110, section size: 5\n",
      "Torch benchmark run 1 ... matrix size: 110, section size: 5\n",
      "Done.\n"
     ]
    }
   ],
   "source": [
    "benchmark_file_timestamp = datetime.now().strftime(\"%d%m%y_%H%M\")\n",
    "\n",
    "with open(rf'..\\{output_directory}\\{benchmark_file_prefix}_{benchmark_file_timestamp}.csv', mode='w', newline='') as benchmark_file:\n",
    "    writer = csv.DictWriter(benchmark_file, fieldnames=benchmark_file_fieldnames)\n",
    "    writer.writeheader()\n",
    "\n",
    "\n",
    "for input_file_name in input_file_names:\n",
    "\n",
    "    matrix, size, run = file_to_matrix(input_directory, input_file_name)\n",
    "\n",
    "    print(f\"Vanilla benchmark run {run} ... matrix size: {size}, section size: {section_size}\")\n",
    "    _, _, _, process_time_vanilla, initial_rss_vanilla, final_rss_vanilla = check_and_benchmark_vanilla(matrix, section_size)\n",
    "\n",
    "    with open(rf'..\\{output_directory}\\{benchmark_file_prefix}_{benchmark_file_timestamp}.csv', mode='a', newline='') as benchmark_file:\n",
    "        writer = csv.DictWriter(benchmark_file, fieldnames=benchmark_file_fieldnames)\n",
    "        writer.writerow({'size': size, 'run': run, 'type': \"vanilla\", 'process_time': process_time_vanilla, 'initial_rss': initial_rss_vanilla, 'final_rss': final_rss_vanilla})\n",
    "\n",
    "\n",
    "    tensor = torch.BoolTensor(matrix)\n",
    "\n",
    "    print(f\"Torch benchmark run {run} ... matrix size: {size}, section size: {section_size}\")\n",
    "    _, _, _, process_time_torch, initial_rss_torch, final_rss_torch = check_and_benchmark_torch(tensor, section_size)\n",
    "\n",
    "    with open(rf'..\\{output_directory}\\{benchmark_file_prefix}_{benchmark_file_timestamp}.csv', mode='a', newline='') as benchmark_file:\n",
    "        writer = csv.DictWriter(benchmark_file, fieldnames=benchmark_file_fieldnames)\n",
    "        writer.writerow({'size': size, 'run': run, 'type': \"torch\", 'process_time': process_time_torch, 'initial_rss': initial_rss_torch, 'final_rss': final_rss_torch})\n",
    "\n",
    "print(\"Done.\")"
   ],
   "metadata": {
    "collapsed": false,
    "pycharm": {
     "name": "#%%\n"
    }
   }
  }
 ],
 "metadata": {
  "kernelspec": {
   "display_name": "Python 3",
   "language": "python",
   "name": "python3"
  },
  "language_info": {
   "codemirror_mode": {
    "name": "ipython",
    "version": 2
   },
   "file_extension": ".py",
   "mimetype": "text/x-python",
   "name": "python",
   "nbconvert_exporter": "python",
   "pygments_lexer": "ipython2",
   "version": "2.7.6"
  }
 },
 "nbformat": 4,
 "nbformat_minor": 0
}
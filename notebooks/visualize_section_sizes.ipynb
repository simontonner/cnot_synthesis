{
 "cells": [
  {
   "cell_type": "code",
   "execution_count": 2,
   "metadata": {
    "collapsed": true
   },
   "outputs": [
    {
     "name": "stdout",
     "output_type": "stream",
     "text": [
      "    size  run  section_size  process_time  initial_rss  final_rss\n",
      "0   2000    1             5    485.062500     51179520  218103808\n",
      "1   2000    1             6    434.703125     51400704  205017088\n",
      "2   2000    2             5    482.546875     51097600  216612864\n",
      "3   2000    2             6    436.671875     50393088  206630912\n",
      "4   2000    3             5    485.953125     50348032  216883200\n",
      "5   2000    3             6    434.375000     51470336  205803520\n",
      "6   2000    4             5    486.375000     50049024  217796608\n",
      "7   2000    4             6    435.125000     50147328  206512128\n",
      "8   2000    5             5    485.421875     51068928  216846336\n",
      "9   2000    5             6    435.593750     51126272  206868480\n",
      "10  2000    6             5    480.984375     68792320  218009600\n",
      "11  2000    6             6    432.796875     69083136  205115392\n",
      "12  2000    7             5    482.593750     69013504  217997312\n",
      "13  2000    7             6    431.796875     69029888  206999552\n",
      "14  2000    8             5    482.234375     69324800  216518656\n",
      "15  2000    8             6    433.953125     68456448  205217792\n",
      "16  2000    9             5    480.953125     67989504  217149440\n",
      "17  2000    9             6    435.062500     68190208  206639104\n",
      "18  2000   10             5    482.046875     68558848  216686592\n",
      "19  2000   10             6    432.765625     67883008  206090240\n",
      "20  2000   11             5    477.828125     68988928  216530944\n",
      "21  2000   11             6    429.968750     69058560  205660160\n",
      "22  2000   12             5    475.046875     67289088  217845760\n",
      "23  2000   12             6    427.843750     69267456  205230080\n",
      "24  2000   13             5    477.812500     67616768  216797184\n",
      "25  2000   13             6    431.671875     67428352  207708160\n",
      "26  2000   14             5    478.156250     69234688  216961024\n",
      "27  2000   14             6    430.890625     69505024  206606336\n",
      "28  2000   15             5    477.093750     68505600  218525696\n",
      "29  2000   15             6    428.765625     68534272  206237696\n",
      "30  2000   16             5    479.156250     68857856  217624576\n",
      "31  2000   16             6    429.125000     69541888  205492224\n",
      "32  2000   17             5    468.218750     68050944  216866816\n",
      "33  2000   17             6    430.265625     69619712  205373440\n",
      "34  2000   18             5    465.843750     69521408  218210304\n",
      "35  2000   18             6    421.265625     67653632  205365248\n",
      "36  2000   19             5    449.203125     68251648  218222592\n",
      "37  2000   19             6    417.796875     69230592  207798272\n",
      "38  2000   20             5    449.656250     68059136  218181632\n",
      "39  2000   20             6    403.859375     67756032  205488128\n",
      "                   process_time_mean  process_time_std  initial_rss_mean  \\\n",
      "size section_size                                                          \n",
      "2000 5                    476.609375         10.712595         61.120898   \n",
      "     6                    429.714844          7.680446         61.262891   \n",
      "\n",
      "                   initial_rss_std  final_rss_mean  final_rss_std  \n",
      "size section_size                                                  \n",
      "2000 5                    7.558755      207.346484       0.655343  \n",
      "     6                    7.560280      196.545312       0.808535  \n"
     ]
    }
   ],
   "source": [
    "\n",
    "import pandas as pd\n",
    "\n",
    "df = pd.read_csv(rf'..\\resources\\section_size_comparison_17_01\\BenchmarkSectionSize_170121_1924.csv')\n",
    "df2 = pd.read_csv(rf'..\\resources\\section_size_comparison_17_01\\BenchmarkSectionSize_170121_1959.csv')\n",
    "df3 = pd.read_csv(rf'..\\resources\\section_size_comparison_17_01\\BenchmarkSectionSize_170121_2032.csv')\n",
    "df4 = pd.read_csv(rf'..\\resources\\section_size_comparison_17_01\\BenchmarkSectionSize_170121_2107.csv')\n",
    "df5 = pd.read_csv(rf'..\\resources\\section_size_comparison_17_01\\BenchmarkSectionSize_170121_2142.csv')\n",
    "\n",
    "df.append(df2).append(df3).append(df4).append(df5)\n",
    "\n",
    "\n",
    "print(df)\n",
    "\n",
    "bytes_in_mb = 1048576\n",
    "\n",
    "df_agg = df.groupby(['size', 'section_size']).agg(process_time_mean=('process_time', 'mean'), process_time_std=('process_time', 'std'),\n",
    "                                                  initial_rss_mean=('initial_rss', 'mean'), initial_rss_std=('initial_rss', 'std'),\n",
    "                                                  final_rss_mean=('final_rss', 'mean'), final_rss_std=('final_rss', 'std'))\n",
    "\n",
    "df_agg['initial_rss_mean'] = df_agg['initial_rss_mean']/bytes_in_mb\n",
    "df_agg['initial_rss_std'] = df_agg['initial_rss_std']/bytes_in_mb\n",
    "df_agg['final_rss_mean'] = df_agg['final_rss_mean']/bytes_in_mb\n",
    "df_agg['final_rss_std'] = df_agg['final_rss_std']/bytes_in_mb\n",
    "\n",
    "#ndf = df.groupby(['size'])['normal_time'].sum()\n",
    "\n",
    "print(df_agg.head())\n",
    "\n"
   ]
  }
 ],
 "metadata": {
  "kernelspec": {
   "display_name": "Python 3",
   "language": "python",
   "name": "python3"
  },
  "language_info": {
   "codemirror_mode": {
    "name": "ipython",
    "version": 2
   },
   "file_extension": ".py",
   "mimetype": "text/x-python",
   "name": "python",
   "nbconvert_exporter": "python",
   "pygments_lexer": "ipython2",
   "version": "2.7.6"
  }
 },
 "nbformat": 4,
 "nbformat_minor": 0
}
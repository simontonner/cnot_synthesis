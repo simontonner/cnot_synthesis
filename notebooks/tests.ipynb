{
 "cells": [
  {
   "cell_type": "code",
   "execution_count": 21,
   "metadata": {
    "collapsed": true
   },
   "outputs": [
    {
     "name": "stdout",
     "output_type": "stream",
     "text": [
      "Using device: cuda\n",
      "\n",
      "416\n",
      "Using device: cpu\n",
      "\n",
      "416\n",
      "tensor([[ True, False, False, False, False, False, False, False, False, False],\n",
      "        [False,  True, False, False, False, False, False, False, False, False],\n",
      "        [False, False,  True, False, False, False, False, False, False, False],\n",
      "        [False, False, False,  True, False, False, False, False, False, False],\n",
      "        [False, False, False, False,  True, False, False, False, False, False],\n",
      "        [False, False, False, False, False,  True, False, False, False, False],\n",
      "        [False, False, False, False, False, False,  True, False, False, False],\n",
      "        [False, False, False, False, False, False, False,  True, False, False],\n",
      "        [False, False, False, False, False, False, False, False,  True, False],\n",
      "        [False, False, False, False, False, False, False, False, False,  True]])\n",
      "tensor([4., 3., 2., 1.])\n",
      "tensor([[-1.0588, -0.4035, -1.0850],\n",
      "        [-0.0031, -0.0404,  0.2441],\n",
      "        [-0.7567, -0.8755,  0.7851]])\n",
      "tensor([[-1.0588, -0.0031, -0.7567],\n",
      "        [-0.4035, -0.0404, -0.8755],\n",
      "        [-1.0850,  0.2441,  0.7851]])\n"
     ]
    },
    {
     "ename": "RuntimeError",
     "evalue": "[enforce fail at ..\\c10\\core\\CPUAllocator.cpp:73] data. DefaultCPUAllocator: not enough memory: you tried to allocate 41943040000 bytes. Buy new RAM!",
     "output_type": "error",
     "traceback": [
      "\u001B[1;31m---------------------------------------------------------------------------\u001B[0m",
      "\u001B[1;31mRuntimeError\u001B[0m                              Traceback (most recent call last)",
      "\u001B[1;32m<ipython-input-21-b0001d9a958c>\u001B[0m in \u001B[0;36m<module>\u001B[1;34m\u001B[0m\n\u001B[0;32m     34\u001B[0m \u001B[0mprint\u001B[0m\u001B[1;33m(\u001B[0m\u001B[0mran\u001B[0m\u001B[1;33m)\u001B[0m\u001B[1;33m\u001B[0m\u001B[1;33m\u001B[0m\u001B[0m\n\u001B[0;32m     35\u001B[0m \u001B[1;33m\u001B[0m\u001B[0m\n\u001B[1;32m---> 36\u001B[1;33m \u001B[0ma_full\u001B[0m \u001B[1;33m=\u001B[0m \u001B[0mtorch\u001B[0m\u001B[1;33m.\u001B[0m\u001B[0mrandn\u001B[0m\u001B[1;33m(\u001B[0m\u001B[1;36m102400\u001B[0m\u001B[1;33m,\u001B[0m \u001B[1;36m102400\u001B[0m\u001B[1;33m,\u001B[0m \u001B[0mdtype\u001B[0m\u001B[1;33m=\u001B[0m\u001B[0mtorch\u001B[0m\u001B[1;33m.\u001B[0m\u001B[0mfloat\u001B[0m\u001B[1;33m)\u001B[0m\u001B[1;33m\u001B[0m\u001B[1;33m\u001B[0m\u001B[0m\n\u001B[0m\u001B[0;32m     37\u001B[0m \u001B[0ma_full\u001B[0m\u001B[1;33m.\u001B[0m\u001B[0mcuda\u001B[0m\u001B[1;33m(\u001B[0m\u001B[1;33m)\u001B[0m\u001B[1;33m\u001B[0m\u001B[1;33m\u001B[0m\u001B[0m\n\u001B[0;32m     38\u001B[0m \u001B[0mb_full\u001B[0m \u001B[1;33m=\u001B[0m \u001B[0mtorch\u001B[0m\u001B[1;33m.\u001B[0m\u001B[0mrandn\u001B[0m\u001B[1;33m(\u001B[0m\u001B[1;36m102400\u001B[0m\u001B[1;33m,\u001B[0m \u001B[1;36m102400\u001B[0m\u001B[1;33m,\u001B[0m \u001B[0mdtype\u001B[0m\u001B[1;33m=\u001B[0m\u001B[0mtorch\u001B[0m\u001B[1;33m.\u001B[0m\u001B[0mfloat\u001B[0m\u001B[1;33m)\u001B[0m\u001B[1;33m\u001B[0m\u001B[1;33m\u001B[0m\u001B[0m\n",
      "\u001B[1;31mRuntimeError\u001B[0m: [enforce fail at ..\\c10\\core\\CPUAllocator.cpp:73] data. DefaultCPUAllocator: not enough memory: you tried to allocate 41943040000 bytes. Buy new RAM!"
     ]
    }
   ],
   "source": [
    "import torch\n",
    "\n",
    "# setting device on GPU if available, else CPU\n",
    "device = torch.device('cuda' if torch.cuda.is_available() else 'cpu')\n",
    "print('Using device:', device)\n",
    "print()\n",
    "\n",
    "import sys\n",
    "print(sys.getsizeof(int))\n",
    "\n",
    "device = torch.device(\"cpu\")\n",
    "\n",
    "print('Using device:', device)\n",
    "print()\n",
    "\n",
    "\n",
    "import sys\n",
    "print(sys.getsizeof(int))\n",
    "\n",
    "\n",
    "mat = torch.eye(10,dtype=bool)\n",
    "print(mat)\n",
    "\n",
    "\n",
    "x = torch.Tensor([1,2,3,4])\n",
    "\n",
    "print(x.flip([0]))\n",
    "\n",
    "\n",
    "ran = torch.randn(3, 3)\n",
    "print(ran)\n",
    "ran = ran.transpose(0,1)\n",
    "\n",
    "print(ran)\n",
    "\n",
    "a_full = torch.randn(102400, 102400, dtype=torch.float)\n",
    "a_full.cuda()\n",
    "b_full = torch.randn(102400, 102400, dtype=torch.float)\n",
    "b_full.cuda()\n",
    "ab_full = a_full @ b_full"
   ]
  }
 ],
 "metadata": {
  "kernelspec": {
   "display_name": "Python 3",
   "language": "python",
   "name": "python3"
  },
  "language_info": {
   "codemirror_mode": {
    "name": "ipython",
    "version": 2
   },
   "file_extension": ".py",
   "mimetype": "text/x-python",
   "name": "python",
   "nbconvert_exporter": "python",
   "pygments_lexer": "ipython2",
   "version": "2.7.6"
  }
 },
 "nbformat": 4,
 "nbformat_minor": 0
}